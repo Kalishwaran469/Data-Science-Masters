{
 "cells": [
  {
   "cell_type": "code",
   "execution_count": null,
   "id": "4e743b12-fedd-4972-bb07-9a678d4ef000",
   "metadata": {},
   "outputs": [],
   "source": [
    "# question 1"
   ]
  },
  {
   "cell_type": "code",
   "execution_count": null,
   "id": "7732232c-2c8a-4ba5-9e0d-823de9aa1772",
   "metadata": {},
   "outputs": [],
   "source": [
    "# ANOVA assumes that the data is normally distributed. The ANOVA also assumes homogeneity of variance, which means that the variance among the groups should be approximately equal. ANOVA also assumes that the observations are independent of each other.\n",
    "# An ANOVA is quite robust against violations of the normality assumption, which means the Type 1 error rate remains close to the alpha level specified in the test. Violations of the homogeneity of variances assumption can be more impactful, especially when sample sizes are unequal between conditions."
   ]
  },
  {
   "cell_type": "code",
   "execution_count": null,
   "id": "2854d4a4-f050-4232-859b-411b636492a0",
   "metadata": {},
   "outputs": [],
   "source": [
    "# question 2"
   ]
  },
  {
   "cell_type": "code",
   "execution_count": null,
   "id": "6da23060-d888-4837-9de5-37e40b6884c2",
   "metadata": {},
   "outputs": [],
   "source": [
    "# ANOVAs are used in three ways: one-way ANOVA, two-way ANOVA, and N-way ANOVA.\n"
   ]
  },
  {
   "cell_type": "code",
   "execution_count": null,
   "id": "ef3f99a1-6fe7-475a-9dfc-7a6ce2557a55",
   "metadata": {},
   "outputs": [],
   "source": [
    "# question 3"
   ]
  },
  {
   "cell_type": "code",
   "execution_count": null,
   "id": "16c42311-38e6-4598-9c0f-d28738904c78",
   "metadata": {},
   "outputs": [],
   "source": [
    "# An ANOVA uses an F-test to evaluate whether the variance among the groups is greater than the variance within a group. Another way to view this problem is that we could partition variance, that is, we could divide the total variance in our data into the various sources of that variatio"
   ]
  },
  {
   "cell_type": "code",
   "execution_count": null,
   "id": "ae03838f-1e91-4987-b5d5-2a55ccaf21ce",
   "metadata": {},
   "outputs": [],
   "source": [
    "# question 4"
   ]
  },
  {
   "cell_type": "code",
   "execution_count": null,
   "id": "e387fc6c-c14a-4479-9343-279ed46ad5f9",
   "metadata": {},
   "outputs": [],
   "source": [
    "# The total sum of squares (TSS) measures how much variation there is in the observed data, while the residual sum of squares measures the variation in the error between the observed data and modeled values."
   ]
  },
  {
   "cell_type": "code",
   "execution_count": null,
   "id": "af6ffa96-943d-413b-8a90-caf7a472561c",
   "metadata": {},
   "outputs": [],
   "source": [
    "# question 7"
   ]
  },
  {
   "cell_type": "code",
   "execution_count": null,
   "id": "f794991f-1ee5-4eb5-8d8b-649d49277197",
   "metadata": {},
   "outputs": [],
   "source": [
    "# One of the most effective ways of dealing with missing data is multiple imputation (MI). Using MI, we can create multiple plausible replacements of the missing data, given what we have observed and a statistical model (the imputation model).\n"
   ]
  },
  {
   "cell_type": "code",
   "execution_count": null,
   "id": "514b04eb-1fd7-4006-93d9-646c58d3910f",
   "metadata": {},
   "outputs": [],
   "source": [
    "# question 8"
   ]
  },
  {
   "cell_type": "code",
   "execution_count": null,
   "id": "8ebf1431-a942-4481-94d1-aff81630f1d3",
   "metadata": {},
   "outputs": [],
   "source": [
    "# he Bonferroni is probably the most commonly used post hoc test, because it is highly flexible, very simple to compute, and can be used with any type of statistical test (e.g., correlations)—not just post hoc tests with ANOVA.\n",
    "# "
   ]
  },
  {
   "cell_type": "code",
   "execution_count": null,
   "id": "40db0f1b-5e16-4c65-bd3e-0f5e01aa1f1f",
   "metadata": {},
   "outputs": [],
   "source": []
  },
  {
   "cell_type": "code",
   "execution_count": null,
   "id": "d8a87a78-8984-45b6-898a-2dcfc28bd6ef",
   "metadata": {},
   "outputs": [],
   "source": []
  },
  {
   "cell_type": "code",
   "execution_count": null,
   "id": "81f3474e-e4d0-445f-b965-11e7e1cb1cff",
   "metadata": {},
   "outputs": [],
   "source": []
  }
 ],
 "metadata": {
  "kernelspec": {
   "display_name": "Python 3 (ipykernel)",
   "language": "python",
   "name": "python3"
  },
  "language_info": {
   "codemirror_mode": {
    "name": "ipython",
    "version": 3
   },
   "file_extension": ".py",
   "mimetype": "text/x-python",
   "name": "python",
   "nbconvert_exporter": "python",
   "pygments_lexer": "ipython3",
   "version": "3.10.8"
  }
 },
 "nbformat": 4,
 "nbformat_minor": 5
}
