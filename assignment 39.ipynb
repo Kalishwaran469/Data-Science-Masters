{
 "cells": [
  {
   "cell_type": "code",
   "execution_count": null,
   "id": "ccf19632-9a19-4f5a-ba8f-9f1e994d28a5",
   "metadata": {},
   "outputs": [],
   "source": [
    "# question 1"
   ]
  },
  {
   "cell_type": "code",
   "execution_count": null,
   "id": "4e8c1c41-e438-42a2-a27c-1ec334f0a715",
   "metadata": {},
   "outputs": [],
   "source": [
    "# AI - special applications that performs its own task without human interaction\n",
    "# ML - it provides statstool to learn,analyze,visualize and develop predictive model from the data\n",
    "# DL -Deep learning is a method in artificial intelligence (AI) that teaches computers to process data in a way that is inspired by the human brain."
   ]
  },
  {
   "cell_type": "code",
   "execution_count": null,
   "id": "e072f46b-974c-4ce6-a818-b8fe36c038c5",
   "metadata": {},
   "outputs": [],
   "source": [
    "# question 2"
   ]
  },
  {
   "cell_type": "code",
   "execution_count": null,
   "id": "25e28964-2ab2-4e85-bba0-bdec85c0abd4",
   "metadata": {},
   "outputs": [],
   "source": [
    "# In Supervised Learning, the machine learns under supervision. It contains a model that is able to predict with the help of a labeled dataset. A labeled dataset is one where you already know the target answer. \n",
    "# Some common examples of supervised learning include spam filters, fraud detection systems, recommendation engines, and image recognition systems."
   ]
  },
  {
   "cell_type": "code",
   "execution_count": null,
   "id": "b564202b-39bb-4f86-88a1-ac3659350cc6",
   "metadata": {},
   "outputs": [],
   "source": [
    "# question 3"
   ]
  },
  {
   "cell_type": "code",
   "execution_count": null,
   "id": "fa37ffc2-ecfc-4b07-8710-f466572e09e1",
   "metadata": {},
   "outputs": [],
   "source": [
    "# In Unsupervised Learning, the machine uses unlabeled data and learns on itself without any supervision. The machine tries to find a pattern in the unlabeled data and gives a response.\n",
    "# There are numerous application of unsupervised learning examples, with some common examples including recommendation systems, products segmentation, data set labeling, customer segmentation, and similarity detection."
   ]
  },
  {
   "cell_type": "code",
   "execution_count": null,
   "id": "7fd437ac-cbcf-4498-be39-01227a9f1e35",
   "metadata": {},
   "outputs": [],
   "source": []
  },
  {
   "cell_type": "code",
   "execution_count": null,
   "id": "88cb4538-e0fa-44d3-9954-824dd37f9410",
   "metadata": {},
   "outputs": [],
   "source": []
  }
 ],
 "metadata": {
  "kernelspec": {
   "display_name": "Python 3 (ipykernel)",
   "language": "python",
   "name": "python3"
  },
  "language_info": {
   "codemirror_mode": {
    "name": "ipython",
    "version": 3
   },
   "file_extension": ".py",
   "mimetype": "text/x-python",
   "name": "python",
   "nbconvert_exporter": "python",
   "pygments_lexer": "ipython3",
   "version": "3.10.8"
  }
 },
 "nbformat": 4,
 "nbformat_minor": 5
}
