{
 "cells": [
  {
   "cell_type": "code",
   "execution_count": null,
   "id": "3f1bae76-4c62-4cf1-999e-8b8b301ade95",
   "metadata": {},
   "outputs": [],
   "source": [
    "# question 1"
   ]
  },
  {
   "cell_type": "code",
   "execution_count": null,
   "id": "bcd65f5c-c7f7-4d13-bef0-6ae0608b68b9",
   "metadata": {},
   "outputs": [],
   "source": [
    "# A method for automatic feature selection in anomaly detection is proposed which determines optimal mixture coefficients for various sets of features. The method generalizes the support vector data description (SVDD) and can be expressed as a semi-infinite linear program that can be solved with standard techniques."
   ]
  },
  {
   "cell_type": "code",
   "execution_count": null,
   "id": "6b7579b1-4717-4e28-912a-3f70bfe8f826",
   "metadata": {},
   "outputs": [],
   "source": [
    "# question 2"
   ]
  },
  {
   "cell_type": "code",
   "execution_count": null,
   "id": "49e17ab2-49ba-4f48-a28e-cf2b2ac10e4e",
   "metadata": {},
   "outputs": [],
   "source": [
    "# The most common metrics for anomaly detection are the classical precision and recall, computed by comparing the predicted and the ground truth outputs for each sample."
   ]
  },
  {
   "cell_type": "code",
   "execution_count": null,
   "id": "2ae6b82d-c6c7-44c2-a90b-5105ed37600e",
   "metadata": {},
   "outputs": [],
   "source": [
    "# question 3"
   ]
  },
  {
   "cell_type": "code",
   "execution_count": null,
   "id": "a2fb4962-c91b-412c-9791-7767e356a8a1",
   "metadata": {},
   "outputs": [],
   "source": [
    "# DBSCAN is a density-based clustering algorithm that works on the assumption that clusters are dense regions in space separated by regions of lower density. It groups 'densely grouped' data points into a single cluster.the main goal of dbscan clustering is find a border point,core point and outliers"
   ]
  },
  {
   "cell_type": "code",
   "execution_count": null,
   "id": "9e1286f7-ddfd-4ed3-b2d0-fa7fa7624d5d",
   "metadata": {},
   "outputs": [],
   "source": [
    "# question 4"
   ]
  },
  {
   "cell_type": "code",
   "execution_count": null,
   "id": "29f4b741-f0a9-4ec4-b388-7a66a4f15478",
   "metadata": {},
   "outputs": [],
   "source": [
    "# The DBSCAN Algorithm is sensitive to the choice of epsilon. When we have clusters with varying densities, then two cases arise i.e., If epsilon is too small: In such cases, we define the sparser clusters as noise i.e, result in the elimination of sparse clusters as outliers."
   ]
  },
  {
   "cell_type": "code",
   "execution_count": null,
   "id": "05b95cd1-0e53-4385-9528-f1600f36bd8a",
   "metadata": {},
   "outputs": [],
   "source": [
    "# question 5"
   ]
  },
  {
   "cell_type": "code",
   "execution_count": null,
   "id": "9d880ef6-e064-46ab-9f57-327d69ce4c74",
   "metadata": {},
   "outputs": [],
   "source": [
    "# Core Point: A point is a core point if it has more than MinPts points within eps. Border Point: A point which has fewer than MinPts within eps but it is in the neighborhood of a core point. Noise or outlier: A point which is not a core point or border point."
   ]
  },
  {
   "cell_type": "code",
   "execution_count": null,
   "id": "476bc826-8190-4031-a942-848305f2ab01",
   "metadata": {},
   "outputs": [],
   "source": [
    "# question 6"
   ]
  },
  {
   "cell_type": "code",
   "execution_count": null,
   "id": "e2a83ee1-5788-4541-8840-b0024899220a",
   "metadata": {},
   "outputs": [],
   "source": [
    "# DBSCAN requires only two parameters: epsilon and minPoints. Epsilon is the radius of the circle to be created around each data point to check the density and minPoints is the minimum number of data points required inside that circle for that data point to be classified as a Core point."
   ]
  },
  {
   "cell_type": "code",
   "execution_count": null,
   "id": "d2b9f0e2-0843-4942-9170-03a833ab2d56",
   "metadata": {},
   "outputs": [],
   "source": [
    "# question 7"
   ]
  },
  {
   "cell_type": "code",
   "execution_count": null,
   "id": "069b51de-1b7a-4bd7-a70a-587992ff403c",
   "metadata": {},
   "outputs": [],
   "source": [
    "# Make a large circle containing a smaller circle in 2d. A simple toy dataset to visualize clustering and classification algorithms."
   ]
  },
  {
   "cell_type": "code",
   "execution_count": null,
   "id": "51db28cd-a899-44e9-9637-83f1e8769f6f",
   "metadata": {},
   "outputs": [],
   "source": [
    "# question 8"
   ]
  },
  {
   "cell_type": "code",
   "execution_count": null,
   "id": "4e4a8536-e49d-4039-bab4-a11505f64375",
   "metadata": {},
   "outputs": [],
   "source": [
    "# There are two general types of outlier detection: global and local. Global outliers fall outside the normal range for an entire dataset, whereas local outliers may fall within the normal range for the entire dataset, but outside the normal range for the surrounding data points."
   ]
  },
  {
   "cell_type": "code",
   "execution_count": null,
   "id": "a7abdcf6-14c1-413b-894d-34adb833df48",
   "metadata": {},
   "outputs": [],
   "source": [
    "# question 9"
   ]
  },
  {
   "cell_type": "code",
   "execution_count": null,
   "id": "741dea37-998f-4c45-8c7d-c6acf7661204",
   "metadata": {},
   "outputs": [],
   "source": [
    "# LOF identifies local outliers by comparing the local density of a point with the local densities of its k neighbors. If the point has a substantially lower density than its k neighbors local density, it is considered an outlier."
   ]
  },
  {
   "cell_type": "code",
   "execution_count": null,
   "id": "8343927f-6ab4-4eb0-82bd-fbdc13dbe0f2",
   "metadata": {},
   "outputs": [],
   "source": [
    "# question 10"
   ]
  },
  {
   "cell_type": "code",
   "execution_count": null,
   "id": "ed386f08-74bb-41fc-97b6-e284b7a3020d",
   "metadata": {},
   "outputs": [],
   "source": [
    "# Isolation Forest is based on the Decision Tree algorithm. It isolates the outliers by randomly selecting a feature from the given set of features and then randomly selecting a split value between the max and min values of that feature."
   ]
  },
  {
   "cell_type": "code",
   "execution_count": null,
   "id": "ffffdc58-fe73-4a1f-a44d-79ce7d968113",
   "metadata": {},
   "outputs": [],
   "source": []
  },
  {
   "cell_type": "code",
   "execution_count": null,
   "id": "94c90c7d-5a80-42f6-a741-4acfedc25a92",
   "metadata": {},
   "outputs": [],
   "source": []
  }
 ],
 "metadata": {
  "kernelspec": {
   "display_name": "Python 3 (ipykernel)",
   "language": "python",
   "name": "python3"
  },
  "language_info": {
   "codemirror_mode": {
    "name": "ipython",
    "version": 3
   },
   "file_extension": ".py",
   "mimetype": "text/x-python",
   "name": "python",
   "nbconvert_exporter": "python",
   "pygments_lexer": "ipython3",
   "version": "3.10.8"
  }
 },
 "nbformat": 4,
 "nbformat_minor": 5
}
