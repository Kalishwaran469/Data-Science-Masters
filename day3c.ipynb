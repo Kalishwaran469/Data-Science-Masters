{
 "cells": [
  {
   "cell_type": "code",
   "execution_count": 6,
   "id": "ecc1491a-745b-4133-a7aa-27f5931b7d71",
   "metadata": {},
   "outputs": [
    {
     "name": "stdout",
     "output_type": "stream",
     "text": [
      "Defined value of START = True \n"
     ]
    }
   ],
   "source": [
    "# Lets define two variables having boolean values True and False-\n",
    "START = True\n",
    "STOP = False\n",
    "\n",
    "# Print the values as it is\n",
    "print(\"Defined value of START = {} \".format(START))\n"
   ]
  },
  {
   "cell_type": "code",
   "execution_count": 7,
   "id": "eb6ad9bf-ad3b-45f2-b050-ad334fb07303",
   "metadata": {},
   "outputs": [
    {
     "name": "stdout",
     "output_type": "stream",
     "text": [
      "Defined value of START = True\n",
      "Defined value of STOP = False \n",
      "\n",
      "Defined value of START = True\n",
      "Value of STOP by negating START= False \n",
      "\n",
      "Value of START by negating STOP = True\n",
      "Defined value of STOP = False \n",
      "\n"
     ]
    }
   ],
   "source": [
    "# Lets define two variables having boolean values True and False-\n",
    "START = True\n",
    "STOP = False\n",
    "\n",
    "# Print the values as it is\n",
    "print(f\"Defined value of START = {START}\")\n",
    "print(f\"Defined value of STOP = {STOP}\n",
    "\")\n",
    "# if can also be written as - \n",
    "print(f\"Defined value of START = {START}\")\n",
    "print(f\"Value of STOP by negating START= {not START} \\n\")\n",
    "\n",
    "# alternatively -\n",
    "print(f\"Value of START by negating STOP = {not STOP}\")\n",
    "print(f\"Defined value of STOP = {STOP} \\n\")"
   ]
  },
  {
   "cell_type": "code",
   "execution_count": 8,
   "id": "04365c8f-afce-408e-9e1b-ee607592a2e9",
   "metadata": {},
   "outputs": [
    {
     "data": {
      "text/plain": [
       "False"
      ]
     },
     "execution_count": 8,
     "metadata": {},
     "output_type": "execute_result"
    }
   ],
   "source": [
    "not True"
   ]
  },
  {
   "cell_type": "code",
   "execution_count": 11,
   "id": "776fb779-c0fa-4c37-8125-f4fa9491c389",
   "metadata": {},
   "outputs": [
    {
     "data": {
      "text/plain": [
       "True"
      ]
     },
     "execution_count": 11,
     "metadata": {},
     "output_type": "execute_result"
    }
   ],
   "source": [
    "not int(bool(0))"
   ]
  },
  {
   "cell_type": "code",
   "execution_count": null,
   "id": "b4b4d837-ac28-426d-bb47-d812bc0dfcd5",
   "metadata": {},
   "outputs": [],
   "source": []
  },
  {
   "cell_type": "code",
   "execution_count": 12,
   "id": "3583e54d-683f-4433-a1e7-e1eff5c2686d",
   "metadata": {},
   "outputs": [
    {
     "data": {
      "text/plain": [
       "False"
      ]
     },
     "execution_count": 12,
     "metadata": {},
     "output_type": "execute_result"
    }
   ],
   "source": [
    "not int(bool(1))"
   ]
  },
  {
   "cell_type": "code",
   "execution_count": 13,
   "id": "984dbbba-6624-49d9-9b0a-e62d140f55a8",
   "metadata": {},
   "outputs": [
    {
     "data": {
      "text/plain": [
       "False"
      ]
     },
     "execution_count": 13,
     "metadata": {},
     "output_type": "execute_result"
    }
   ],
   "source": [
    "not 1"
   ]
  },
  {
   "cell_type": "code",
   "execution_count": 14,
   "id": "104db7a8-4290-453a-8f0b-c0d28e6b3ab0",
   "metadata": {},
   "outputs": [
    {
     "data": {
      "text/plain": [
       "True"
      ]
     },
     "execution_count": 14,
     "metadata": {},
     "output_type": "execute_result"
    }
   ],
   "source": [
    "not 0"
   ]
  },
  {
   "cell_type": "code",
   "execution_count": 15,
   "id": "037573f7-1ded-46a7-afaa-29f018dbd896",
   "metadata": {},
   "outputs": [
    {
     "data": {
      "text/plain": [
       "False"
      ]
     },
     "execution_count": 15,
     "metadata": {},
     "output_type": "execute_result"
    }
   ],
   "source": [
    "not 888"
   ]
  },
  {
   "cell_type": "code",
   "execution_count": 16,
   "id": "5acd4c3c-a8ab-41ab-b190-d231abf52c60",
   "metadata": {},
   "outputs": [
    {
     "name": "stdout",
     "output_type": "stream",
     "text": [
      "Dish contains VEGETABLES: True\n",
      "Dish contains SALT: False\n",
      "Hence dish prepared was good: False\n",
      "\n"
     ]
    }
   ],
   "source": [
    "VEGETABLES = True\n",
    "SALT = False\n",
    "DISH = VEGETABLES and SALT\n",
    "\n",
    "print(f\"Dish contains VEGETABLES: {VEGETABLES}\")\n",
    "print(f\"Dish contains SALT: {SALT}\")\n",
    "print(f\"Hence dish prepared was good: {DISH}\\n\")"
   ]
  },
  {
   "cell_type": "code",
   "execution_count": 19,
   "id": "4b905d9a-974c-4092-90c7-8450ba54b242",
   "metadata": {},
   "outputs": [
    {
     "data": {
      "text/plain": [
       "1"
      ]
     },
     "execution_count": 19,
     "metadata": {},
     "output_type": "execute_result"
    }
   ],
   "source": [
    "(not(False))*True"
   ]
  },
  {
   "cell_type": "code",
   "execution_count": 18,
   "id": "63b51f5f-e92d-4bbd-93ef-d007df4ab01f",
   "metadata": {},
   "outputs": [
    {
     "data": {
      "text/plain": [
       "0"
      ]
     },
     "execution_count": 18,
     "metadata": {},
     "output_type": "execute_result"
    }
   ],
   "source": [
    "False*(not(False))"
   ]
  },
  {
   "cell_type": "code",
   "execution_count": 23,
   "id": "20f1a5a4-c16e-40cd-b1c1-59285e8ccebd",
   "metadata": {},
   "outputs": [
    {
     "data": {
      "text/plain": [
       "True"
      ]
     },
     "execution_count": 23,
     "metadata": {},
     "output_type": "execute_result"
    }
   ],
   "source": [
    "not (True)*False"
   ]
  },
  {
   "cell_type": "code",
   "execution_count": 24,
   "id": "3126e9bc-dfae-4ea6-8cc4-181484e9ad73",
   "metadata": {},
   "outputs": [
    {
     "data": {
      "text/plain": [
       "True"
      ]
     },
     "execution_count": 24,
     "metadata": {},
     "output_type": "execute_result"
    }
   ],
   "source": [
    "not(False)*False"
   ]
  },
  {
   "cell_type": "code",
   "execution_count": 25,
   "id": "cd9f9426-bf34-4a20-9239-068552d7a7e5",
   "metadata": {},
   "outputs": [
    {
     "name": "stdout",
     "output_type": "stream",
     "text": [
      "0\n"
     ]
    }
   ],
   "source": [
    "print((not(False)) * False)"
   ]
  },
  {
   "cell_type": "code",
   "execution_count": 26,
   "id": "bb92f52e-0a73-4c39-96c2-2c2f0527dc33",
   "metadata": {},
   "outputs": [
    {
     "data": {
      "text/plain": [
       "True"
      ]
     },
     "execution_count": 26,
     "metadata": {},
     "output_type": "execute_result"
    }
   ],
   "source": [
    "not(False * True)"
   ]
  },
  {
   "cell_type": "code",
   "execution_count": null,
   "id": "f0ee6dbe-ba8d-4d93-8b65-083781694f9b",
   "metadata": {},
   "outputs": [],
   "source": [
    "print((not(False)) * False)"
   ]
  },
  {
   "cell_type": "code",
   "execution_count": 27,
   "id": "107d40f6-ce81-4926-9281-68b39ad6c7de",
   "metadata": {},
   "outputs": [],
   "source": [
    "lst_a=[1,2,3,4]\n",
    "lst_b=[1,2,3,4]"
   ]
  },
  {
   "cell_type": "code",
   "execution_count": 28,
   "id": "f52fd048-fcc8-4e1d-959a-2802cec69e8f",
   "metadata": {},
   "outputs": [
    {
     "name": "stdout",
     "output_type": "stream",
     "text": [
      "139851031471232\n",
      "139850987659904\n"
     ]
    }
   ],
   "source": [
    "print(id(lst_a))\n",
    "print(id(lst_b))"
   ]
  },
  {
   "cell_type": "code",
   "execution_count": 29,
   "id": "d05f64b9-8cb9-4033-a688-519fcdaabf52",
   "metadata": {},
   "outputs": [
    {
     "data": {
      "text/plain": [
       "False"
      ]
     },
     "execution_count": 29,
     "metadata": {},
     "output_type": "execute_result"
    }
   ],
   "source": [
    "lst_a is lst_b"
   ]
  },
  {
   "cell_type": "code",
   "execution_count": 30,
   "id": "fc1ab4d4-5f21-4cc4-a94b-833e77cc38ef",
   "metadata": {},
   "outputs": [
    {
     "data": {
      "text/plain": [
       "True"
      ]
     },
     "execution_count": 30,
     "metadata": {},
     "output_type": "execute_result"
    }
   ],
   "source": [
    "lst_a is not lst_b"
   ]
  },
  {
   "cell_type": "code",
   "execution_count": 31,
   "id": "9c66be21-22e8-4c1c-b0de-636076b2b0e0",
   "metadata": {},
   "outputs": [
    {
     "data": {
      "text/plain": [
       "True"
      ]
     },
     "execution_count": 31,
     "metadata": {},
     "output_type": "execute_result"
    }
   ],
   "source": [
    "lst_a=[1,2,3,4]\n",
    "lst_b=lst_a\n",
    "lst_a is lst_b"
   ]
  },
  {
   "cell_type": "code",
   "execution_count": 32,
   "id": "67e114a0-1330-4706-9ffc-458721507954",
   "metadata": {},
   "outputs": [
    {
     "name": "stdout",
     "output_type": "stream",
     "text": [
      "139850987716096\n",
      "139850987716096\n"
     ]
    }
   ],
   "source": [
    "print(id(lst_a))\n",
    "print(id(lst_b))"
   ]
  },
  {
   "cell_type": "code",
   "execution_count": 33,
   "id": "8d5bbc1a-b451-406c-a5a9-481d5fdfc493",
   "metadata": {},
   "outputs": [
    {
     "data": {
      "text/plain": [
       "True"
      ]
     },
     "execution_count": 33,
     "metadata": {},
     "output_type": "execute_result"
    }
   ],
   "source": [
    "lst_a == lst_b"
   ]
  },
  {
   "cell_type": "code",
   "execution_count": 34,
   "id": "c5543805-cfbb-46e8-8d96-c8fd5d8c30c1",
   "metadata": {},
   "outputs": [
    {
     "data": {
      "text/plain": [
       "False"
      ]
     },
     "execution_count": 34,
     "metadata": {},
     "output_type": "execute_result"
    }
   ],
   "source": [
    "lst_a != lst_b"
   ]
  },
  {
   "cell_type": "code",
   "execution_count": 35,
   "id": "c64badac-1c86-45ec-966e-de5662075435",
   "metadata": {},
   "outputs": [],
   "source": [
    "a=2,3\n",
    "b=2,3"
   ]
  },
  {
   "cell_type": "code",
   "execution_count": 42,
   "id": "bec34d2a-cc06-4027-b2af-c43c52e4aff4",
   "metadata": {},
   "outputs": [
    {
     "data": {
      "text/plain": [
       "139851080204560"
      ]
     },
     "execution_count": 42,
     "metadata": {},
     "output_type": "execute_result"
    }
   ],
   "source": [
    "id(a)\n"
   ]
  },
  {
   "cell_type": "code",
   "execution_count": 43,
   "id": "38767a9c-4e28-4892-b571-c8d05ad33614",
   "metadata": {},
   "outputs": [
    {
     "data": {
      "text/plain": [
       "139851080204560"
      ]
     },
     "execution_count": 43,
     "metadata": {},
     "output_type": "execute_result"
    }
   ],
   "source": [
    "id(b)"
   ]
  },
  {
   "cell_type": "code",
   "execution_count": 5,
   "id": "3ff5bb7c-f7f0-4915-af50-ade032f0a79c",
   "metadata": {},
   "outputs": [],
   "source": [
    "str1='jack'\n",
    "str2='jack'"
   ]
  },
  {
   "cell_type": "code",
   "execution_count": 6,
   "id": "13a4830f-9b40-4cc2-a6b0-0f45ef08f121",
   "metadata": {},
   "outputs": [
    {
     "data": {
      "text/plain": [
       "139762648806576"
      ]
     },
     "execution_count": 6,
     "metadata": {},
     "output_type": "execute_result"
    }
   ],
   "source": [
    "id(str1)"
   ]
  },
  {
   "cell_type": "code",
   "execution_count": 7,
   "id": "5dee6dd8-f2f5-40ab-9b7a-f181e2b46fc9",
   "metadata": {},
   "outputs": [
    {
     "data": {
      "text/plain": [
       "139762648806576"
      ]
     },
     "execution_count": 7,
     "metadata": {},
     "output_type": "execute_result"
    }
   ],
   "source": [
    "id(str2)"
   ]
  },
  {
   "cell_type": "code",
   "execution_count": 9,
   "id": "70dc0117-9cee-4dec-b70d-90e44e47f51a",
   "metadata": {},
   "outputs": [],
   "source": [
    "lst_a=[2,3,45]"
   ]
  },
  {
   "cell_type": "code",
   "execution_count": 11,
   "id": "55713d7f-c7ad-4e65-9d90-e499e942f4ab",
   "metadata": {},
   "outputs": [
    {
     "data": {
      "text/plain": [
       "[2, 3, 45]"
      ]
     },
     "execution_count": 11,
     "metadata": {},
     "output_type": "execute_result"
    }
   ],
   "source": [
    "lst_a"
   ]
  },
  {
   "cell_type": "code",
   "execution_count": 12,
   "id": "3a1118ca-db1e-4441-87e3-d1265fdc4ee3",
   "metadata": {},
   "outputs": [
    {
     "data": {
      "text/plain": [
       "45"
      ]
     },
     "execution_count": 12,
     "metadata": {},
     "output_type": "execute_result"
    }
   ],
   "source": [
    "lst_a[2]"
   ]
  },
  {
   "cell_type": "code",
   "execution_count": 13,
   "id": "faf4cb03-49a2-4a1c-a872-c229a9155a8d",
   "metadata": {},
   "outputs": [],
   "source": [
    "lst_a[2]=3"
   ]
  },
  {
   "cell_type": "code",
   "execution_count": 14,
   "id": "934cc3ac-5f5b-4b46-83a8-2d3a9adf4d92",
   "metadata": {},
   "outputs": [
    {
     "data": {
      "text/plain": [
       "[2, 3, 3]"
      ]
     },
     "execution_count": 14,
     "metadata": {},
     "output_type": "execute_result"
    }
   ],
   "source": [
    "lst_a"
   ]
  },
  {
   "cell_type": "code",
   "execution_count": 15,
   "id": "92bfa8c6-d08d-42eb-a10d-8862f2a15af7",
   "metadata": {},
   "outputs": [
    {
     "data": {
      "text/plain": [
       "'j'"
      ]
     },
     "execution_count": 15,
     "metadata": {},
     "output_type": "execute_result"
    }
   ],
   "source": [
    "str1[0]"
   ]
  },
  {
   "cell_type": "code",
   "execution_count": 17,
   "id": "b66bf80c-cf62-4ea2-9c5e-c947deb42514",
   "metadata": {},
   "outputs": [],
   "source": [
    "a=34\n",
    "b=3"
   ]
  },
  {
   "cell_type": "code",
   "execution_count": 18,
   "id": "561acba7-2cb8-468d-8a34-bd34a1c1cb42",
   "metadata": {},
   "outputs": [
    {
     "data": {
      "text/plain": [
       "102"
      ]
     },
     "execution_count": 18,
     "metadata": {},
     "output_type": "execute_result"
    }
   ],
   "source": [
    "b*a\n"
   ]
  },
  {
   "cell_type": "code",
   "execution_count": 19,
   "id": "8b46db8f-d4ff-4dc0-9f67-7c157ea1336d",
   "metadata": {},
   "outputs": [
    {
     "data": {
      "text/plain": [
       "102"
      ]
     },
     "execution_count": 19,
     "metadata": {},
     "output_type": "execute_result"
    }
   ],
   "source": [
    "a*b"
   ]
  },
  {
   "cell_type": "code",
   "execution_count": 20,
   "id": "30d0eb2f-2e7a-4128-ace4-3dd09d21bd65",
   "metadata": {},
   "outputs": [
    {
     "data": {
      "text/plain": [
       "37"
      ]
     },
     "execution_count": 20,
     "metadata": {},
     "output_type": "execute_result"
    }
   ],
   "source": [
    "a+b"
   ]
  },
  {
   "cell_type": "code",
   "execution_count": 21,
   "id": "65fc77b2-3a56-4900-bfd4-237a240a8703",
   "metadata": {},
   "outputs": [
    {
     "data": {
      "text/plain": [
       "102"
      ]
     },
     "execution_count": 21,
     "metadata": {},
     "output_type": "execute_result"
    }
   ],
   "source": [
    "a*b"
   ]
  },
  {
   "cell_type": "code",
   "execution_count": 22,
   "id": "ab79bc2e-1e9e-4655-9abb-2b437383330b",
   "metadata": {},
   "outputs": [
    {
     "data": {
      "text/plain": [
       "11.333333333333334"
      ]
     },
     "execution_count": 22,
     "metadata": {},
     "output_type": "execute_result"
    }
   ],
   "source": [
    "a/b"
   ]
  },
  {
   "cell_type": "code",
   "execution_count": 23,
   "id": "2013449a-8017-4c58-9e90-24badc6c8826",
   "metadata": {},
   "outputs": [
    {
     "data": {
      "text/plain": [
       "11"
      ]
     },
     "execution_count": 23,
     "metadata": {},
     "output_type": "execute_result"
    }
   ],
   "source": [
    "a//b"
   ]
  },
  {
   "cell_type": "code",
   "execution_count": 24,
   "id": "88b5c1c1-fcb4-49e5-9665-2e793ffdc60e",
   "metadata": {},
   "outputs": [
    {
     "data": {
      "text/plain": [
       "1"
      ]
     },
     "execution_count": 24,
     "metadata": {},
     "output_type": "execute_result"
    }
   ],
   "source": [
    "a%b"
   ]
  },
  {
   "cell_type": "code",
   "execution_count": 25,
   "id": "7767d270-4ebc-47dc-b660-a389e2475475",
   "metadata": {},
   "outputs": [
    {
     "data": {
      "text/plain": [
       "3"
      ]
     },
     "execution_count": 25,
     "metadata": {},
     "output_type": "execute_result"
    }
   ],
   "source": [
    "b%a"
   ]
  },
  {
   "cell_type": "code",
   "execution_count": 26,
   "id": "7d626b41-2758-4885-b466-2ecf03a532c5",
   "metadata": {},
   "outputs": [],
   "source": [
    "var=5"
   ]
  },
  {
   "cell_type": "code",
   "execution_count": 27,
   "id": "b3b510a5-38f5-4a39-948f-c2e11e9612c2",
   "metadata": {},
   "outputs": [
    {
     "data": {
      "text/plain": [
       "'0b101'"
      ]
     },
     "execution_count": 27,
     "metadata": {},
     "output_type": "execute_result"
    }
   ],
   "source": [
    "bin(var)"
   ]
  },
  {
   "cell_type": "code",
   "execution_count": 28,
   "id": "0cc64c58-30bf-484b-82a2-6bdad153ef5a",
   "metadata": {},
   "outputs": [
    {
     "data": {
      "text/plain": [
       "-6"
      ]
     },
     "execution_count": 28,
     "metadata": {},
     "output_type": "execute_result"
    }
   ],
   "source": [
    "~var"
   ]
  },
  {
   "cell_type": "code",
   "execution_count": 29,
   "id": "dffcf43b-48b4-4d50-aa1c-05fbbe69768e",
   "metadata": {},
   "outputs": [
    {
     "data": {
      "text/plain": [
       "True"
      ]
     },
     "execution_count": 29,
     "metadata": {},
     "output_type": "execute_result"
    }
   ],
   "source": [
    "True | False"
   ]
  },
  {
   "cell_type": "code",
   "execution_count": 30,
   "id": "8292ccf0-f2ef-429a-8481-b26a5c987f25",
   "metadata": {},
   "outputs": [
    {
     "data": {
      "text/plain": [
       "1"
      ]
     },
     "execution_count": 30,
     "metadata": {},
     "output_type": "execute_result"
    }
   ],
   "source": [
    "True + False\n"
   ]
  },
  {
   "cell_type": "code",
   "execution_count": 31,
   "id": "bf14802e-2e11-47e1-b370-47925a929f8f",
   "metadata": {},
   "outputs": [
    {
     "data": {
      "text/plain": [
       "False"
      ]
     },
     "execution_count": 31,
     "metadata": {},
     "output_type": "execute_result"
    }
   ],
   "source": [
    "False & False"
   ]
  },
  {
   "cell_type": "code",
   "execution_count": 33,
   "id": "b78e06e9-3e90-4659-adb8-2bd5738d2aaa",
   "metadata": {},
   "outputs": [
    {
     "data": {
      "text/plain": [
       "True"
      ]
     },
     "execution_count": 33,
     "metadata": {},
     "output_type": "execute_result"
    }
   ],
   "source": [
    "True & True"
   ]
  },
  {
   "cell_type": "code",
   "execution_count": 34,
   "id": "d65ea5a5-ff38-4e84-87cf-f0732c9ab58d",
   "metadata": {},
   "outputs": [
    {
     "data": {
      "text/plain": [
       "2"
      ]
     },
     "execution_count": 34,
     "metadata": {},
     "output_type": "execute_result"
    }
   ],
   "source": [
    "var>>1"
   ]
  },
  {
   "cell_type": "code",
   "execution_count": 35,
   "id": "1a789d1a-8ed8-42b3-9593-13176363c8d1",
   "metadata": {},
   "outputs": [
    {
     "data": {
      "text/plain": [
       "10"
      ]
     },
     "execution_count": 35,
     "metadata": {},
     "output_type": "execute_result"
    }
   ],
   "source": [
    "var<<1\n"
   ]
  },
  {
   "cell_type": "code",
   "execution_count": 3,
   "id": "52382893-aeba-4577-8aa0-f306b6b07ca9",
   "metadata": {},
   "outputs": [],
   "source": [
    "str='jack is back'"
   ]
  },
  {
   "cell_type": "code",
   "execution_count": 4,
   "id": "dee2f386-1468-4faf-b129-41c1efd3c4dd",
   "metadata": {},
   "outputs": [
    {
     "data": {
      "text/plain": [
       "' '"
      ]
     },
     "execution_count": 4,
     "metadata": {},
     "output_type": "execute_result"
    }
   ],
   "source": [
    "str[4]"
   ]
  },
  {
   "cell_type": "code",
   "execution_count": 5,
   "id": "db8fc7ac-4cd7-4b81-b634-efe495d0965a",
   "metadata": {},
   "outputs": [
    {
     "data": {
      "text/plain": [
       "'k is '"
      ]
     },
     "execution_count": 5,
     "metadata": {},
     "output_type": "execute_result"
    }
   ],
   "source": [
    "## slice operation\n",
    "str[3:8]"
   ]
  },
  {
   "cell_type": "code",
   "execution_count": 6,
   "id": "9cb98326-4d28-4baa-9232-64c89e67e6fc",
   "metadata": {},
   "outputs": [
    {
     "data": {
      "text/plain": [
       "'jack is back'"
      ]
     },
     "execution_count": 6,
     "metadata": {},
     "output_type": "execute_result"
    }
   ],
   "source": [
    "str[:]"
   ]
  },
  {
   "cell_type": "code",
   "execution_count": 7,
   "id": "e0e48d26-0617-44d7-9359-73c2415fdf4f",
   "metadata": {},
   "outputs": [
    {
     "data": {
      "text/plain": [
       "'ack'"
      ]
     },
     "execution_count": 7,
     "metadata": {},
     "output_type": "execute_result"
    }
   ],
   "source": [
    "str[9:]"
   ]
  },
  {
   "cell_type": "code",
   "execution_count": 9,
   "id": "cc168c23-c927-494b-a2fd-30406bb2202c",
   "metadata": {},
   "outputs": [
    {
     "data": {
      "text/plain": [
       "'k'"
      ]
     },
     "execution_count": 9,
     "metadata": {},
     "output_type": "execute_result"
    }
   ],
   "source": [
    "str[-1:]\n"
   ]
  },
  {
   "cell_type": "code",
   "execution_count": 10,
   "id": "b803f5da-161f-441e-95c6-4b369d329e89",
   "metadata": {},
   "outputs": [
    {
     "data": {
      "text/plain": [
       "'s back'"
      ]
     },
     "execution_count": 10,
     "metadata": {},
     "output_type": "execute_result"
    }
   ],
   "source": [
    "str[-6:]"
   ]
  },
  {
   "cell_type": "code",
   "execution_count": 12,
   "id": "00f65466-6837-44b2-bbf7-fadd24a68621",
   "metadata": {},
   "outputs": [
    {
     "data": {
      "text/plain": [
       "'s bac'"
      ]
     },
     "execution_count": 12,
     "metadata": {},
     "output_type": "execute_result"
    }
   ],
   "source": [
    "str[-6:-1]\n"
   ]
  },
  {
   "cell_type": "code",
   "execution_count": 13,
   "id": "bc058b05-b7a1-4cab-bf53-46f8cda8a20e",
   "metadata": {},
   "outputs": [
    {
     "data": {
      "text/plain": [
       "'jack is back'"
      ]
     },
     "execution_count": 13,
     "metadata": {},
     "output_type": "execute_result"
    }
   ],
   "source": [
    "str"
   ]
  },
  {
   "cell_type": "code",
   "execution_count": 19,
   "id": "0e71614c-75a4-4d35-a74f-b98dec172c52",
   "metadata": {},
   "outputs": [
    {
     "data": {
      "text/plain": [
       "''"
      ]
     },
     "execution_count": 19,
     "metadata": {},
     "output_type": "execute_result"
    }
   ],
   "source": [
    "str[-4:-7]"
   ]
  },
  {
   "cell_type": "code",
   "execution_count": 20,
   "id": "fcbb5c9f-4417-4a43-b092-988ff8450e58",
   "metadata": {},
   "outputs": [
    {
     "data": {
      "text/plain": [
       "''"
      ]
     },
     "execution_count": 20,
     "metadata": {},
     "output_type": "execute_result"
    }
   ],
   "source": [
    "str[7:5]\n"
   ]
  },
  {
   "cell_type": "code",
   "execution_count": 21,
   "id": "9bb35d71-82f2-42d3-a74b-1768525aa7c0",
   "metadata": {},
   "outputs": [
    {
     "data": {
      "text/plain": [
       "'ck is ba'"
      ]
     },
     "execution_count": 21,
     "metadata": {},
     "output_type": "execute_result"
    }
   ],
   "source": [
    "str[-10:10]"
   ]
  },
  {
   "cell_type": "code",
   "execution_count": 22,
   "id": "1ecac4a6-dbd7-4a30-ba77-17bb3201cfe9",
   "metadata": {},
   "outputs": [
    {
     "data": {
      "text/plain": [
       "''"
      ]
     },
     "execution_count": 22,
     "metadata": {},
     "output_type": "execute_result"
    }
   ],
   "source": [
    "str[10:-10]"
   ]
  },
  {
   "cell_type": "code",
   "execution_count": 23,
   "id": "081f28cd-9267-481e-8933-a56863b38640",
   "metadata": {},
   "outputs": [
    {
     "data": {
      "text/plain": [
       "'jack is bac'"
      ]
     },
     "execution_count": 23,
     "metadata": {},
     "output_type": "execute_result"
    }
   ],
   "source": [
    "str[:-1]\n",
    "\n",
    "\n",
    "\n"
   ]
  },
  {
   "cell_type": "code",
   "execution_count": 24,
   "id": "2cac8469-62e0-487e-beac-abef75be3a3f",
   "metadata": {},
   "outputs": [
    {
     "data": {
      "text/plain": [
       "'jack is '"
      ]
     },
     "execution_count": 24,
     "metadata": {},
     "output_type": "execute_result"
    }
   ],
   "source": [
    "str[:-4]\n"
   ]
  },
  {
   "cell_type": "code",
   "execution_count": 30,
   "id": "e8c1a3eb-30e4-46ac-b708-518ce6fc7002",
   "metadata": {},
   "outputs": [
    {
     "data": {
      "text/plain": [
       "'kcab si kcaj'"
      ]
     },
     "execution_count": 30,
     "metadata": {},
     "output_type": "execute_result"
    }
   ],
   "source": [
    "str[::-1]\n",
    "\n"
   ]
  },
  {
   "cell_type": "code",
   "execution_count": 31,
   "id": "b0ebdee4-9656-41f6-ad2f-7f9055ac4566",
   "metadata": {},
   "outputs": [
    {
     "data": {
      "text/plain": [
       "'kbic'"
      ]
     },
     "execution_count": 31,
     "metadata": {},
     "output_type": "execute_result"
    }
   ],
   "source": [
    "str[::-3]"
   ]
  },
  {
   "cell_type": "code",
   "execution_count": 33,
   "id": "a5c262f4-c69c-4cb8-a41e-7419b46aac59",
   "metadata": {},
   "outputs": [
    {
     "data": {
      "text/plain": [
       "'jic'"
      ]
     },
     "execution_count": 33,
     "metadata": {},
     "output_type": "execute_result"
    }
   ],
   "source": [
    "str[::5]"
   ]
  },
  {
   "cell_type": "code",
   "execution_count": 34,
   "id": "a200da39-76cc-43ab-9347-25659ad003f7",
   "metadata": {},
   "outputs": [
    {
     "data": {
      "text/plain": [
       "'jack is b'"
      ]
     },
     "execution_count": 34,
     "metadata": {},
     "output_type": "execute_result"
    }
   ],
   "source": [
    "str[:-3]"
   ]
  },
  {
   "cell_type": "code",
   "execution_count": 35,
   "id": "b7f180f9-f4dc-4039-b151-0f96638f4f98",
   "metadata": {},
   "outputs": [],
   "source": [
    "name='jack'"
   ]
  },
  {
   "cell_type": "code",
   "execution_count": 36,
   "id": "9d21165d-1bf3-4c61-a416-a90b673db945",
   "metadata": {},
   "outputs": [
    {
     "data": {
      "text/plain": [
       "'ka'"
      ]
     },
     "execution_count": 36,
     "metadata": {},
     "output_type": "execute_result"
    }
   ],
   "source": [
    "name[::-2]"
   ]
  },
  {
   "cell_type": "code",
   "execution_count": 37,
   "id": "fbbeb039-9bac-45ee-9a0d-05ce938b8302",
   "metadata": {},
   "outputs": [
    {
     "data": {
      "text/plain": [
       "'kc'"
      ]
     },
     "execution_count": 37,
     "metadata": {},
     "output_type": "execute_result"
    }
   ],
   "source": [
    "name[3:1:-1]"
   ]
  },
  {
   "cell_type": "code",
   "execution_count": 71,
   "id": "f1f774e1-a064-44d3-a922-250d96f2b66d",
   "metadata": {},
   "outputs": [],
   "source": [
    "cricketer_name='Mahendra singh dhoni'"
   ]
  },
  {
   "cell_type": "code",
   "execution_count": 41,
   "id": "32be7270-bf51-46c2-b2e9-c308e6a5b5af",
   "metadata": {},
   "outputs": [
    {
     "data": {
      "text/plain": [
       "'gnis ard'"
      ]
     },
     "execution_count": 41,
     "metadata": {},
     "output_type": "execute_result"
    }
   ],
   "source": [
    "cricketer_name[12:4:-1]"
   ]
  },
  {
   "cell_type": "code",
   "execution_count": 45,
   "id": "185f233b-2055-4323-afcd-6c7cbaed360e",
   "metadata": {},
   "outputs": [
    {
     "data": {
      "text/plain": [
       "'mahendra singh dhonis a god'"
      ]
     },
     "execution_count": 45,
     "metadata": {},
     "output_type": "execute_result"
    }
   ],
   "source": [
    "## concatenation\n",
    "cricketer_name+'s a god'\n"
   ]
  },
  {
   "cell_type": "code",
   "execution_count": 46,
   "id": "f338c639-08b5-4da3-8031-7719b5c55958",
   "metadata": {},
   "outputs": [
    {
     "name": "stdout",
     "output_type": "stream",
     "text": [
      "cricketername\n"
     ]
    }
   ],
   "source": [
    "print(\"cricketer\"+\"name\")"
   ]
  },
  {
   "cell_type": "code",
   "execution_count": 47,
   "id": "87475fa5-1b05-43b5-842d-a4431becc5df",
   "metadata": {},
   "outputs": [
    {
     "data": {
      "text/plain": [
       "'mahendra singh dhonimahendra singh dhonimahendra singh dhoni'"
      ]
     },
     "execution_count": 47,
     "metadata": {},
     "output_type": "execute_result"
    }
   ],
   "source": [
    "cricketer_name *3"
   ]
  },
  {
   "cell_type": "code",
   "execution_count": 48,
   "id": "7225aa1a-da1d-475b-961c-ed1787ba1b09",
   "metadata": {},
   "outputs": [
    {
     "data": {
      "text/plain": [
       "20"
      ]
     },
     "execution_count": 48,
     "metadata": {},
     "output_type": "execute_result"
    }
   ],
   "source": [
    "len(cricketer_name)"
   ]
  },
  {
   "cell_type": "code",
   "execution_count": 53,
   "id": "2afa8416-1a53-41a6-8c37-7976c90cef4f",
   "metadata": {},
   "outputs": [
    {
     "data": {
      "text/plain": [
       "19"
      ]
     },
     "execution_count": 53,
     "metadata": {},
     "output_type": "execute_result"
    }
   ],
   "source": [
    "cricketer_name.find(a)"
   ]
  },
  {
   "cell_type": "code",
   "execution_count": 51,
   "id": "5659541f-27a1-4599-bad2-f9f734408af9",
   "metadata": {},
   "outputs": [
    {
     "data": {
      "text/plain": [
       "-1"
      ]
     },
     "execution_count": 51,
     "metadata": {},
     "output_type": "execute_result"
    }
   ],
   "source": [
    "cricketer_name.find('q')\n"
   ]
  },
  {
   "cell_type": "code",
   "execution_count": 55,
   "id": "84756c7e-31b3-4589-aab1-6d417d08115f",
   "metadata": {},
   "outputs": [
    {
     "data": {
      "text/plain": [
       "13"
      ]
     },
     "execution_count": 55,
     "metadata": {},
     "output_type": "execute_result"
    }
   ],
   "source": [
    "cricketer_name.find('h',3,19)"
   ]
  },
  {
   "cell_type": "code",
   "execution_count": 57,
   "id": "399f8025-e6c8-40b5-9995-d44bbc3d2ae7",
   "metadata": {},
   "outputs": [
    {
     "data": {
      "text/plain": [
       "3"
      ]
     },
     "execution_count": 57,
     "metadata": {},
     "output_type": "execute_result"
    }
   ],
   "source": [
    "cricketer_name.count('h')\n"
   ]
  },
  {
   "cell_type": "code",
   "execution_count": 60,
   "id": "359decb7-e442-45ff-97e0-2dc1b42399a1",
   "metadata": {},
   "outputs": [
    {
     "data": {
      "text/plain": [
       "2"
      ]
     },
     "execution_count": 60,
     "metadata": {},
     "output_type": "execute_result"
    }
   ],
   "source": [
    "cricketer_name.count(' ')"
   ]
  },
  {
   "cell_type": "code",
   "execution_count": 63,
   "id": "60ca1a81-bba2-4d88-89f4-22ef57127ba9",
   "metadata": {},
   "outputs": [
    {
     "data": {
      "text/plain": [
       "'ard'"
      ]
     },
     "execution_count": 63,
     "metadata": {},
     "output_type": "execute_result"
    }
   ],
   "source": [
    "cricketer_name[7:4:-1]"
   ]
  },
  {
   "cell_type": "code",
   "execution_count": 65,
   "id": "9881e5ba-2331-4a7c-bdc5-a6cb1b1377ae",
   "metadata": {},
   "outputs": [
    {
     "data": {
      "text/plain": [
       "['ma', 'endra sing', ' d', 'oni']"
      ]
     },
     "execution_count": 65,
     "metadata": {},
     "output_type": "execute_result"
    }
   ],
   "source": [
    "#string split function\n",
    "cricketer_name.split('h')\n",
    "\n",
    "\n",
    "\n",
    "\n"
   ]
  },
  {
   "cell_type": "code",
   "execution_count": 66,
   "id": "75146a03-6e24-4b1b-a3ae-52463d8103ad",
   "metadata": {},
   "outputs": [
    {
     "data": {
      "text/plain": [
       "('ma', 'h', 'endra singh dhoni')"
      ]
     },
     "execution_count": 66,
     "metadata": {},
     "output_type": "execute_result"
    }
   ],
   "source": [
    "cricketer_name.partition('h')\n"
   ]
  },
  {
   "cell_type": "code",
   "execution_count": 68,
   "id": "71ac371e-bf98-4223-94a4-657cd7dfb732",
   "metadata": {},
   "outputs": [
    {
     "data": {
      "text/plain": [
       "'MAHENDRA SINGH DHONI'"
      ]
     },
     "execution_count": 68,
     "metadata": {},
     "output_type": "execute_result"
    }
   ],
   "source": [
    "#string upper and lower\n",
    "cricketer_name.upper()"
   ]
  },
  {
   "cell_type": "code",
   "execution_count": 69,
   "id": "fa468a99-c026-4ed8-b90e-c7881bfe8ec8",
   "metadata": {},
   "outputs": [
    {
     "data": {
      "text/plain": [
       "'mahendra singh dhoni'"
      ]
     },
     "execution_count": 69,
     "metadata": {},
     "output_type": "execute_result"
    }
   ],
   "source": [
    "cricketer_name.lower()"
   ]
  },
  {
   "cell_type": "code",
   "execution_count": 72,
   "id": "4bfad256-c002-46dd-87b3-dd6a8ddbe951",
   "metadata": {},
   "outputs": [
    {
     "data": {
      "text/plain": [
       "'mAHENDRA SINGH DHONI'"
      ]
     },
     "execution_count": 72,
     "metadata": {},
     "output_type": "execute_result"
    }
   ],
   "source": [
    "cricketer_name.swapcase()"
   ]
  },
  {
   "cell_type": "code",
   "execution_count": 73,
   "id": "cd05ffdf-d423-4006-94ed-14aab18455fd",
   "metadata": {},
   "outputs": [
    {
     "data": {
      "text/plain": [
       "'Mahendra Singh Dhoni'"
      ]
     },
     "execution_count": 73,
     "metadata": {},
     "output_type": "execute_result"
    }
   ],
   "source": [
    "cricketer_name.title()"
   ]
  },
  {
   "cell_type": "code",
   "execution_count": 74,
   "id": "c546fe51-813c-446c-a369-12fd8b9632f5",
   "metadata": {},
   "outputs": [
    {
     "data": {
      "text/plain": [
       "'-0b10'"
      ]
     },
     "execution_count": 74,
     "metadata": {},
     "output_type": "execute_result"
    }
   ],
   "source": [
    "bin(-2)\n"
   ]
  },
  {
   "cell_type": "code",
   "execution_count": 75,
   "id": "56825c26-1baf-4aea-a1be-70820ac35f48",
   "metadata": {},
   "outputs": [
    {
     "data": {
      "text/plain": [
       "20"
      ]
     },
     "execution_count": 75,
     "metadata": {},
     "output_type": "execute_result"
    }
   ],
   "source": [
    "len(cricketer_name)"
   ]
  },
  {
   "cell_type": "code",
   "execution_count": 76,
   "id": "c710c50d-43b2-4d52-9958-502bbc3898b4",
   "metadata": {},
   "outputs": [
    {
     "data": {
      "text/plain": [
       "21"
      ]
     },
     "execution_count": 76,
     "metadata": {},
     "output_type": "execute_result"
    }
   ],
   "source": [
    "cricketer_name.count('')"
   ]
  },
  {
   "cell_type": "code",
   "execution_count": null,
   "id": "54474810-b151-4ecc-bf8a-24b002b5cc73",
   "metadata": {},
   "outputs": [],
   "source": []
  }
 ],
 "metadata": {
  "kernelspec": {
   "display_name": "Python 3 (ipykernel)",
   "language": "python",
   "name": "python3"
  },
  "language_info": {
   "codemirror_mode": {
    "name": "ipython",
    "version": 3
   },
   "file_extension": ".py",
   "mimetype": "text/x-python",
   "name": "python",
   "nbconvert_exporter": "python",
   "pygments_lexer": "ipython3",
   "version": "3.10.8"
  }
 },
 "nbformat": 4,
 "nbformat_minor": 5
}
