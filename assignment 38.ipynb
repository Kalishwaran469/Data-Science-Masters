{
 "cells": [
  {
   "cell_type": "code",
   "execution_count": null,
   "id": "1516cbfd-3008-48d2-9f67-23606a63848e",
   "metadata": {},
   "outputs": [],
   "source": [
    "# question 1"
   ]
  },
  {
   "cell_type": "code",
   "execution_count": 1,
   "id": "7520fcef-4467-4012-a281-9e975fedac32",
   "metadata": {},
   "outputs": [],
   "source": [
    "dhoni=[33,45,34,56,45]\n",
    "rohit=[23,56,65,43,34]"
   ]
  },
  {
   "cell_type": "code",
   "execution_count": 2,
   "id": "5cf0395f-ee74-4a91-9887-e06835c25a57",
   "metadata": {},
   "outputs": [],
   "source": [
    "import numpy as np\n",
    "import scipy.stats as stat"
   ]
  },
  {
   "cell_type": "code",
   "execution_count": 10,
   "id": "30ec43cb-487e-4287-ad60-00b820d6f1fe",
   "metadata": {},
   "outputs": [],
   "source": [
    "x=np.array(dhoni)\n",
    "y=np.array(rohit)"
   ]
  },
  {
   "cell_type": "code",
   "execution_count": 12,
   "id": "9ab88660-19c8-4096-a08d-20de22daf7a5",
   "metadata": {},
   "outputs": [],
   "source": [
    "def f_test(dhoni, rohit):\n",
    "    f = np.var(dhoni)/np.var(rohit)\n",
    "    df1 = len(dhoni)-1\n",
    "    df2 = len(rohit)-1\n",
    "    p_value = 1-stat.f.cdf(f, df1, df2)\n",
    "    return f, p_value"
   ]
  },
  {
   "cell_type": "code",
   "execution_count": 13,
   "id": "fbf764c7-1773-4020-b336-d50bfdc8fd29",
   "metadata": {},
   "outputs": [
    {
     "data": {
      "text/plain": [
       "(0.31700390486332986, 0.8540802695617535)"
      ]
     },
     "execution_count": 13,
     "metadata": {},
     "output_type": "execute_result"
    }
   ],
   "source": [
    "f_test(x, y)"
   ]
  },
  {
   "cell_type": "code",
   "execution_count": null,
   "id": "6d6f7016-efd2-4cb8-887c-78b36c955287",
   "metadata": {},
   "outputs": [],
   "source": [
    "# question2"
   ]
  },
  {
   "cell_type": "code",
   "execution_count": 15,
   "id": "ac2d261c-e441-4700-b4c6-c313a903fa9a",
   "metadata": {},
   "outputs": [],
   "source": [
    "dhoni=[33,45,34,56,45]\n",
    "rohit=[23,56,65,43,34]"
   ]
  },
  {
   "cell_type": "code",
   "execution_count": 16,
   "id": "9a8e1de4-2e61-4d64-9f58-d548d77690e0",
   "metadata": {},
   "outputs": [],
   "source": [
    "f_test=np.var(dhoni)/np.var(rohit)"
   ]
  },
  {
   "cell_type": "code",
   "execution_count": 17,
   "id": "f0507209-c4eb-4244-9be6-7a1e516b8aab",
   "metadata": {},
   "outputs": [
    {
     "data": {
      "text/plain": [
       "0.31700390486332986"
      ]
     },
     "execution_count": 17,
     "metadata": {},
     "output_type": "execute_result"
    }
   ],
   "source": [
    "f_test"
   ]
  },
  {
   "cell_type": "code",
   "execution_count": 18,
   "id": "b9671695-9664-4ebe-983a-f4c70e75e619",
   "metadata": {},
   "outputs": [],
   "source": [
    "significance_value=0.05\n",
    "dof1=len(dhoni)-1\n",
    "dof2=len(rohit)-1"
   ]
  },
  {
   "cell_type": "code",
   "execution_count": 19,
   "id": "02b4f2d0-e2f3-4c0a-8b00-25680866e560",
   "metadata": {},
   "outputs": [],
   "source": [
    "critical_value=stat.f.ppf(q=1-significance_value,dfn=dof1,dfd=dof2)"
   ]
  },
  {
   "cell_type": "code",
   "execution_count": 20,
   "id": "75a57378-2811-4572-9c34-f585ddf8c17e",
   "metadata": {},
   "outputs": [
    {
     "data": {
      "text/plain": [
       "6.388232908695868"
      ]
     },
     "execution_count": 20,
     "metadata": {},
     "output_type": "execute_result"
    }
   ],
   "source": [
    "critical_value"
   ]
  },
  {
   "cell_type": "code",
   "execution_count": null,
   "id": "3defc12c-d43b-446b-876f-8860652d33c3",
   "metadata": {},
   "outputs": [],
   "source": [
    "# question 4"
   ]
  },
  {
   "cell_type": "code",
   "execution_count": 24,
   "id": "26efaaf9-d556-424c-8bc2-71f067175001",
   "metadata": {},
   "outputs": [],
   "source": [
    "var1=10\n",
    "var2=15\n",
    "n=12\n",
    "significance_value=0.05\n",
    "dof1=n-1\n",
    "dof2=n-1"
   ]
  },
  {
   "cell_type": "code",
   "execution_count": 22,
   "id": "b1fdca91-2d64-41fa-b037-19cce845c408",
   "metadata": {},
   "outputs": [],
   "source": [
    "f_test=var1/var2"
   ]
  },
  {
   "cell_type": "code",
   "execution_count": 23,
   "id": "5faf726d-b91f-4c28-8373-ee76db588138",
   "metadata": {},
   "outputs": [
    {
     "data": {
      "text/plain": [
       "0.6666666666666666"
      ]
     },
     "execution_count": 23,
     "metadata": {},
     "output_type": "execute_result"
    }
   ],
   "source": [
    "f_test"
   ]
  },
  {
   "cell_type": "code",
   "execution_count": 25,
   "id": "0c8b7f2b-7b77-4049-9caf-b4e6941b5911",
   "metadata": {},
   "outputs": [],
   "source": [
    "critical_value=stat.f.ppf(q=1-significance_value,dfn=dof1,dfd=dof2)"
   ]
  },
  {
   "cell_type": "code",
   "execution_count": 26,
   "id": "df958deb-8987-425d-af5a-ba5002a89c0a",
   "metadata": {},
   "outputs": [
    {
     "data": {
      "text/plain": [
       "2.8179304699530863"
      ]
     },
     "execution_count": 26,
     "metadata": {},
     "output_type": "execute_result"
    }
   ],
   "source": [
    "critical_value"
   ]
  },
  {
   "cell_type": "code",
   "execution_count": 27,
   "id": "408f4173-4255-4784-b382-8e31c258366e",
   "metadata": {},
   "outputs": [
    {
     "name": "stdout",
     "output_type": "stream",
     "text": [
      "accept the null hypothesis\n"
     ]
    }
   ],
   "source": [
    "if f_test > critical_value:\n",
    "    print(\"reject the null hypothesis\")\n",
    "else:\n",
    "    print(\"accept the null hypothesis\")"
   ]
  },
  {
   "cell_type": "code",
   "execution_count": null,
   "id": "ca0647a7-39c7-4976-abe0-03c2890d26d0",
   "metadata": {},
   "outputs": [],
   "source": [
    "## therefore variances are not significantly different"
   ]
  },
  {
   "cell_type": "code",
   "execution_count": null,
   "id": "96b24bbd-a6d3-4850-825e-589a572126ca",
   "metadata": {},
   "outputs": [],
   "source": [
    "# question 5"
   ]
  },
  {
   "cell_type": "code",
   "execution_count": 36,
   "id": "ddc88cb0-d922-4724-934f-e9cc07097491",
   "metadata": {},
   "outputs": [],
   "source": [
    "var1=0.005\n",
    "var2=0.006\n",
    "n=25\n",
    "df1=n=1\n",
    "df2=n-1\n",
    "significancevalue=0.01"
   ]
  },
  {
   "cell_type": "code",
   "execution_count": 37,
   "id": "90390306-6fa5-4e9f-8a92-5d6e67ef4e1b",
   "metadata": {},
   "outputs": [],
   "source": [
    "f_test=var1/var2"
   ]
  },
  {
   "cell_type": "code",
   "execution_count": 38,
   "id": "7de2faf4-11ce-4dcb-9edd-4496258ee6d8",
   "metadata": {},
   "outputs": [
    {
     "data": {
      "text/plain": [
       "0.8333333333333334"
      ]
     },
     "execution_count": 38,
     "metadata": {},
     "output_type": "execute_result"
    }
   ],
   "source": [
    "f_test"
   ]
  },
  {
   "cell_type": "code",
   "execution_count": 39,
   "id": "ac80cc8e-678f-4f1f-966a-3f021a0e8eec",
   "metadata": {},
   "outputs": [],
   "source": [
    "critical_value=stat.f.ppf(q=1-significancevalue,dfn=df1,dfd=df2)"
   ]
  },
  {
   "cell_type": "code",
   "execution_count": 40,
   "id": "5e29aeb3-9663-48d2-afef-71ebac73d775",
   "metadata": {},
   "outputs": [
    {
     "data": {
      "text/plain": [
       "nan"
      ]
     },
     "execution_count": 40,
     "metadata": {},
     "output_type": "execute_result"
    }
   ],
   "source": [
    "critical_value"
   ]
  },
  {
   "cell_type": "code",
   "execution_count": null,
   "id": "7a4de14b-b05b-4bab-b31a-0cbe17ec107d",
   "metadata": {},
   "outputs": [],
   "source": [
    "# question 8"
   ]
  },
  {
   "cell_type": "code",
   "execution_count": 42,
   "id": "5665d620-c509-4e57-927c-19175a89afed",
   "metadata": {},
   "outputs": [],
   "source": [
    "Restaurant_A=[ 24, 25, 28, 23, 22, 20, 27]\n",
    "Restaurant_B=[ 31, 33, 35, 30, 32, 36]"
   ]
  },
  {
   "cell_type": "code",
   "execution_count": 43,
   "id": "dc3541ba-5c7b-45c4-bf0b-c56a8ef9a0a1",
   "metadata": {},
   "outputs": [],
   "source": [
    "f_test=np.var(Restaurant_A)/np.var(Restaurant_B)"
   ]
  },
  {
   "cell_type": "code",
   "execution_count": 44,
   "id": "5c2fd58a-dd3d-47f0-83be-25e86a74f736",
   "metadata": {},
   "outputs": [
    {
     "data": {
      "text/plain": [
       "1.496767651159843"
      ]
     },
     "execution_count": 44,
     "metadata": {},
     "output_type": "execute_result"
    }
   ],
   "source": [
    "f_test"
   ]
  },
  {
   "cell_type": "code",
   "execution_count": 45,
   "id": "35a0678b-fc81-4a1e-9dc7-5a35fecc43db",
   "metadata": {},
   "outputs": [],
   "source": [
    "significance_value=0.05\n",
    "dof1=len(Restaurant_A)-1\n",
    "dof2=len(Restaurant_B)-1"
   ]
  },
  {
   "cell_type": "code",
   "execution_count": 46,
   "id": "93f8bac6-fc9d-472b-b64c-601437878496",
   "metadata": {},
   "outputs": [],
   "source": [
    "critical_value=stat.f.ppf(q=1-significance_value,dfn=dof1,dfd=dof2)"
   ]
  },
  {
   "cell_type": "code",
   "execution_count": 47,
   "id": "59d5aa00-8fd1-4269-b0a1-a60e3ca864db",
   "metadata": {},
   "outputs": [
    {
     "data": {
      "text/plain": [
       "4.950288068694318"
      ]
     },
     "execution_count": 47,
     "metadata": {},
     "output_type": "execute_result"
    }
   ],
   "source": [
    "critical_value"
   ]
  },
  {
   "cell_type": "code",
   "execution_count": 48,
   "id": "e01a485a-a885-4f11-8e7c-587113ee728b",
   "metadata": {},
   "outputs": [
    {
     "name": "stdout",
     "output_type": "stream",
     "text": [
      "accept the null hypothesis\n"
     ]
    }
   ],
   "source": [
    "if f_test > critical_value:\n",
    "    print(\"reject the null hypothesis\")\n",
    "else:\n",
    "    print(\"accept the null hypothesis\")"
   ]
  },
  {
   "cell_type": "code",
   "execution_count": null,
   "id": "4421c137-da2a-405d-938e-b5d10faf80cf",
   "metadata": {},
   "outputs": [],
   "source": [
    "# therefore variances are not significantly different"
   ]
  },
  {
   "cell_type": "code",
   "execution_count": null,
   "id": "57c84647-7e4c-43f1-8156-9158148e7074",
   "metadata": {},
   "outputs": [],
   "source": [
    "# question 9"
   ]
  },
  {
   "cell_type": "code",
   "execution_count": 53,
   "id": "e29a4594-f14b-4316-bd31-549cb15a1305",
   "metadata": {},
   "outputs": [],
   "source": [
    "Group_A=[ 80, 85, 90, 92, 87, 83]\n",
    "Group_B=[ 75, 78, 82, 79, 81, 84]"
   ]
  },
  {
   "cell_type": "code",
   "execution_count": 54,
   "id": "4d2ab65b-b82e-4a4d-bef8-e8e24ae7c7b9",
   "metadata": {},
   "outputs": [],
   "source": [
    "f_test=np.var(Group_A)/np.var(Group_B)"
   ]
  },
  {
   "cell_type": "code",
   "execution_count": 55,
   "id": "76e87cdc-a32d-4891-ae3e-da0b84ce4e31",
   "metadata": {},
   "outputs": [
    {
     "data": {
      "text/plain": [
       "1.9442622950819677"
      ]
     },
     "execution_count": 55,
     "metadata": {},
     "output_type": "execute_result"
    }
   ],
   "source": [
    "f_test"
   ]
  },
  {
   "cell_type": "code",
   "execution_count": 56,
   "id": "f2f329f7-00fb-4be3-a884-bf6628b1a740",
   "metadata": {},
   "outputs": [],
   "source": [
    "significance_value=0.05\n",
    "dof1=len(Group_A)-1\n",
    "dof2=len(Group_B)-1"
   ]
  },
  {
   "cell_type": "code",
   "execution_count": 57,
   "id": "4c0d4b62-a008-4cdb-9725-402bbe45b06c",
   "metadata": {},
   "outputs": [],
   "source": [
    "critical_value=stat.f.ppf(q=1-significance_value,dfn=dof1,dfd=dof2)"
   ]
  },
  {
   "cell_type": "code",
   "execution_count": 58,
   "id": "ed748020-19b5-4a4d-abe4-bba902105fcb",
   "metadata": {},
   "outputs": [
    {
     "data": {
      "text/plain": [
       "5.050329057632646"
      ]
     },
     "execution_count": 58,
     "metadata": {},
     "output_type": "execute_result"
    }
   ],
   "source": [
    "critical_value"
   ]
  },
  {
   "cell_type": "code",
   "execution_count": 59,
   "id": "54be40d6-d76d-439c-bcd7-52e472db18ff",
   "metadata": {},
   "outputs": [
    {
     "name": "stdout",
     "output_type": "stream",
     "text": [
      "accept the null hypothesis\n"
     ]
    }
   ],
   "source": [
    "if f_test > critical_value:\n",
    "    print(\"reject the null hypothesis\")\n",
    "else:\n",
    "    print(\"accept the null hypothesis\")"
   ]
  },
  {
   "cell_type": "code",
   "execution_count": null,
   "id": "153b9be2-052b-4cea-808b-e20c610c71a4",
   "metadata": {},
   "outputs": [],
   "source": [
    "# therefore variances are not significantly different"
   ]
  }
 ],
 "metadata": {
  "kernelspec": {
   "display_name": "Python 3 (ipykernel)",
   "language": "python",
   "name": "python3"
  },
  "language_info": {
   "codemirror_mode": {
    "name": "ipython",
    "version": 3
   },
   "file_extension": ".py",
   "mimetype": "text/x-python",
   "name": "python",
   "nbconvert_exporter": "python",
   "pygments_lexer": "ipython3",
   "version": "3.10.8"
  }
 },
 "nbformat": 4,
 "nbformat_minor": 5
}
