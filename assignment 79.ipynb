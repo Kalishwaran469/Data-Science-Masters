{
 "cells": [
  {
   "cell_type": "code",
   "execution_count": null,
   "id": "88e4c68f-18c6-4bed-b5c0-18e7f8846d5b",
   "metadata": {},
   "outputs": [],
   "source": [
    "# question 1"
   ]
  },
  {
   "cell_type": "code",
   "execution_count": null,
   "id": "3ef7b92c-b155-4254-870d-ab2e34a3a4cf",
   "metadata": {},
   "outputs": [],
   "source": [
    "# there are 4 types of clustering algorithms are there, 1)k means clustering 2)hierarchical clustering 3)silhouette clustering 4)dbscan clustering \n",
    "# k means clustering only works based on predefining k values also k means clustering only works for numerical data\n",
    "# hierarchical clustering is very useful numeric and non numeric types also in this type we use two types like agglomerative clustering and divisive clustering\n",
    "# silhouette clustering is a different clustering method first we need to calculate the difference between the specified point and nearest point to form a cluster then we need to form a new cluster of datapoints then we need to calculate the difference between the specified point and newly formed cluster group\n",
    "# dbscan clustering is work to find a core point,border point,outliers in this type we initially pre defined a parameters like min_samples and epsilon here min_samples is defined as the atleast minimum points presented in this particular cluster also epsilon defined as the radius for a specified points only we can calculate the minimum points present in the cluster within the radius "
   ]
  },
  {
   "cell_type": "code",
   "execution_count": null,
   "id": "3663e3ce-06b7-4120-8e83-d7e7c12f106b",
   "metadata": {},
   "outputs": [],
   "source": [
    "# question 2"
   ]
  },
  {
   "cell_type": "code",
   "execution_count": null,
   "id": "db4470da-0f3a-48e7-a0b1-c8e040b3e873",
   "metadata": {},
   "outputs": [],
   "source": [
    "# k means clustering is a mostly used clustering technique it's mostly suitable for larger datasets but in this clustering technique we need to predefine a k value that means how many centroids we need to create in the dataset by putting a value to centroids.every points which near to particular centroid to form a clusters. "
   ]
  },
  {
   "cell_type": "code",
   "execution_count": null,
   "id": "8017222e-66af-470b-81d5-77ea74887105",
   "metadata": {},
   "outputs": [],
   "source": [
    "# question 3"
   ]
  },
  {
   "cell_type": "code",
   "execution_count": null,
   "id": "62bb15c3-3dd7-4d23-9d88-2426b27f09d0",
   "metadata": {},
   "outputs": [],
   "source": [
    "# advantages\n",
    "\n",
    "# Relatively simple to implement.\n",
    "# Scales to large data sets.\n",
    "# Guarantees convergence.\n",
    "# Can warm-start the positions of centroids.\n",
    "# Easily adapts to new examples.\n",
    "# Generalize clusters of different shapes and sizes, such as elliptical clusters.\n",
    "\n",
    "# disadvantages\n",
    "\n",
    "# It requires to specify the number of clusters (k) in advance.\n",
    "# It can not handle noisy data and outliers.\n",
    "# It is not suitable to identify clusters with non-convex shapes.\n",
    "\n",
    "\n",
    "\n",
    "\n"
   ]
  },
  {
   "cell_type": "code",
   "execution_count": null,
   "id": "be42e916-258c-41b8-98ef-5d301be3b9df",
   "metadata": {},
   "outputs": [],
   "source": [
    "# question 4"
   ]
  },
  {
   "cell_type": "code",
   "execution_count": null,
   "id": "eda51bb0-8fa1-4748-a304-a355ea88ddc8",
   "metadata": {},
   "outputs": [],
   "source": [
    "# The silhouette coefficient may provide a more objective means to determine the optimal number of clusters. This is done by simply calculating the silhouette coefficient over a range of k, & identifying the peak as optimum K."
   ]
  },
  {
   "cell_type": "code",
   "execution_count": null,
   "id": "7289aa6b-9433-4a5d-a3c5-46f6da290109",
   "metadata": {},
   "outputs": [],
   "source": [
    "# question 5"
   ]
  },
  {
   "cell_type": "code",
   "execution_count": null,
   "id": "05a98eab-0a2f-404c-af91-2da514eb7090",
   "metadata": {},
   "outputs": [],
   "source": [
    "# kmeans algorithm is very popular and used in a variety of applications such as market segmentation, document clustering, image segmentation and image compression, etc."
   ]
  },
  {
   "cell_type": "code",
   "execution_count": null,
   "id": "abe747e6-f0cf-4314-94e4-76fe1b585967",
   "metadata": {},
   "outputs": [],
   "source": [
    "# question 6"
   ]
  },
  {
   "cell_type": "code",
   "execution_count": null,
   "id": "caadc674-7a4f-410b-8a20-e848f2c64031",
   "metadata": {},
   "outputs": [],
   "source": [
    "# Interpreting the meaning of k-means clusters boils down to characterizing the clusters. A Parallel Coordinates Plot allows us to see how individual data points sit across all variables. By looking at how the values for each variable compare across clusters, we can get a sense of what each cluster represents."
   ]
  },
  {
   "cell_type": "code",
   "execution_count": null,
   "id": "26669215-b35e-4300-a1b3-80919a9a2c4b",
   "metadata": {},
   "outputs": [],
   "source": [
    "# question 7"
   ]
  },
  {
   "cell_type": "code",
   "execution_count": null,
   "id": "35639a84-21e6-46c4-bfbf-3b912bd10383",
   "metadata": {},
   "outputs": [],
   "source": [
    "# There are two challenges that need to handled wisely in order to get the most out of the k-means clustering algorithm: Defining the number of clusters. Determining the initial centroids."
   ]
  },
  {
   "cell_type": "code",
   "execution_count": null,
   "id": "1414b284-0f1d-4ad3-a6d8-e09eb2c02d08",
   "metadata": {},
   "outputs": [],
   "source": []
  },
  {
   "cell_type": "code",
   "execution_count": null,
   "id": "12b19a42-4a50-4352-a443-a9c12e05443c",
   "metadata": {},
   "outputs": [],
   "source": []
  }
 ],
 "metadata": {
  "kernelspec": {
   "display_name": "Python 3 (ipykernel)",
   "language": "python",
   "name": "python3"
  },
  "language_info": {
   "codemirror_mode": {
    "name": "ipython",
    "version": 3
   },
   "file_extension": ".py",
   "mimetype": "text/x-python",
   "name": "python",
   "nbconvert_exporter": "python",
   "pygments_lexer": "ipython3",
   "version": "3.10.8"
  }
 },
 "nbformat": 4,
 "nbformat_minor": 5
}
