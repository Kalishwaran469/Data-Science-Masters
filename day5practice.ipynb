{
 "cells": [
  {
   "cell_type": "markdown",
   "id": "cfcaaee7-10f6-4863-a0c3-7425478188e9",
   "metadata": {},
   "source": [
    "# tuples"
   ]
  },
  {
   "cell_type": "code",
   "execution_count": 1,
   "id": "1ca151e1-1452-4360-bcce-67d163aa32be",
   "metadata": {},
   "outputs": [],
   "source": [
    "t=()"
   ]
  },
  {
   "cell_type": "code",
   "execution_count": 2,
   "id": "0188b72c-103e-487e-a309-a24dd8f50d60",
   "metadata": {},
   "outputs": [
    {
     "data": {
      "text/plain": [
       "tuple"
      ]
     },
     "execution_count": 2,
     "metadata": {},
     "output_type": "execute_result"
    }
   ],
   "source": [
    "type(t)"
   ]
  },
  {
   "cell_type": "code",
   "execution_count": 3,
   "id": "bd99609d-57ed-4dd4-9747-b012590bb1c8",
   "metadata": {},
   "outputs": [],
   "source": [
    "t1=(1,22,3,4.5,'ghj',True,56+6j)"
   ]
  },
  {
   "cell_type": "code",
   "execution_count": 4,
   "id": "4f7455bf-5ac4-435c-8921-7ab1a023865b",
   "metadata": {},
   "outputs": [
    {
     "data": {
      "text/plain": [
       "tuple"
      ]
     },
     "execution_count": 4,
     "metadata": {},
     "output_type": "execute_result"
    }
   ],
   "source": [
    "type(t1)"
   ]
  },
  {
   "cell_type": "code",
   "execution_count": 5,
   "id": "4afe4a06-4cfb-4fc4-a17d-93e4cc9f6d22",
   "metadata": {},
   "outputs": [
    {
     "data": {
      "text/plain": [
       "'ghj'"
      ]
     },
     "execution_count": 5,
     "metadata": {},
     "output_type": "execute_result"
    }
   ],
   "source": [
    "t1[4]"
   ]
  },
  {
   "cell_type": "code",
   "execution_count": 6,
   "id": "6f833615-61ba-45cf-97dc-84559f39ab4c",
   "metadata": {},
   "outputs": [
    {
     "data": {
      "text/plain": [
       "((56+6j), True, 'ghj', 4.5, 3, 22, 1)"
      ]
     },
     "execution_count": 6,
     "metadata": {},
     "output_type": "execute_result"
    }
   ],
   "source": [
    "t1[::-1]"
   ]
  },
  {
   "cell_type": "code",
   "execution_count": 7,
   "id": "97f6e398-72c6-42bb-850f-54846fd6e5ab",
   "metadata": {},
   "outputs": [
    {
     "data": {
      "text/plain": [
       "(22, 3, 4.5, 'ghj', True, (56+6j))"
      ]
     },
     "execution_count": 7,
     "metadata": {},
     "output_type": "execute_result"
    }
   ],
   "source": [
    "t1[1:]"
   ]
  },
  {
   "cell_type": "code",
   "execution_count": 8,
   "id": "1ffc4c87-2cce-4905-b685-31a4b68d2d63",
   "metadata": {},
   "outputs": [
    {
     "data": {
      "text/plain": [
       "(1, 22, 3, 4.5, 'ghj', True, (56+6j))"
      ]
     },
     "execution_count": 8,
     "metadata": {},
     "output_type": "execute_result"
    }
   ],
   "source": [
    "t1"
   ]
  },
  {
   "cell_type": "code",
   "execution_count": 9,
   "id": "df3e688a-f740-4c30-8d01-b93eb88839ec",
   "metadata": {},
   "outputs": [
    {
     "data": {
      "text/plain": [
       "2"
      ]
     },
     "execution_count": 9,
     "metadata": {},
     "output_type": "execute_result"
    }
   ],
   "source": [
    "t1.count(1)"
   ]
  },
  {
   "cell_type": "code",
   "execution_count": 10,
   "id": "7cf76550-daeb-4763-9bd5-edc81649fca0",
   "metadata": {},
   "outputs": [
    {
     "data": {
      "text/plain": [
       "2"
      ]
     },
     "execution_count": 10,
     "metadata": {},
     "output_type": "execute_result"
    }
   ],
   "source": [
    "t1.count(True)"
   ]
  },
  {
   "cell_type": "code",
   "execution_count": 11,
   "id": "bd0e4459-38fd-4cbb-94fb-676c6c4015cd",
   "metadata": {},
   "outputs": [
    {
     "data": {
      "text/plain": [
       "2"
      ]
     },
     "execution_count": 11,
     "metadata": {},
     "output_type": "execute_result"
    }
   ],
   "source": [
    "t1.index(3)"
   ]
  },
  {
   "cell_type": "code",
   "execution_count": 12,
   "id": "7c1c8ff7-780b-4e11-a845-2a078a422864",
   "metadata": {},
   "outputs": [
    {
     "data": {
      "text/plain": [
       "22"
      ]
     },
     "execution_count": 12,
     "metadata": {},
     "output_type": "execute_result"
    }
   ],
   "source": [
    "t1[1]"
   ]
  },
  {
   "cell_type": "code",
   "execution_count": 13,
   "id": "8d1acede-acbf-46c3-b2ec-3d5ac964d17f",
   "metadata": {},
   "outputs": [
    {
     "ename": "TypeError",
     "evalue": "'tuple' object does not support item assignment",
     "output_type": "error",
     "traceback": [
      "\u001b[0;31m---------------------------------------------------------------------------\u001b[0m",
      "\u001b[0;31mTypeError\u001b[0m                                 Traceback (most recent call last)",
      "Cell \u001b[0;32mIn[13], line 1\u001b[0m\n\u001b[0;32m----> 1\u001b[0m \u001b[43mt1\u001b[49m\u001b[43m[\u001b[49m\u001b[38;5;241;43m1\u001b[39;49m\u001b[43m]\u001b[49m\u001b[38;5;241m=\u001b[39m\u001b[38;5;241m4\u001b[39m\n",
      "\u001b[0;31mTypeError\u001b[0m: 'tuple' object does not support item assignment"
     ]
    }
   ],
   "source": [
    "t1[1]=4"
   ]
  },
  {
   "cell_type": "code",
   "execution_count": 15,
   "id": "37f6a1a0-570f-4c34-81a7-a23ed94ac70f",
   "metadata": {},
   "outputs": [
    {
     "name": "stdout",
     "output_type": "stream",
     "text": [
      "1 <class 'int'>\n",
      "22 <class 'int'>\n",
      "3 <class 'int'>\n",
      "4.5 <class 'float'>\n",
      "ghj <class 'str'>\n",
      "True <class 'bool'>\n",
      "(56+6j) <class 'complex'>\n"
     ]
    }
   ],
   "source": [
    "for r in t1:\n",
    "    print(r,type(r))"
   ]
  },
  {
   "cell_type": "code",
   "execution_count": 16,
   "id": "5548c4cd-964c-4638-9ec3-27a1db1e4b1b",
   "metadata": {},
   "outputs": [],
   "source": [
    "t2=(1,2,3,4,5,1,2,3,4,5)"
   ]
  },
  {
   "cell_type": "code",
   "execution_count": 17,
   "id": "f99fc274-9d0c-42ee-b275-370a719f3e2f",
   "metadata": {},
   "outputs": [
    {
     "data": {
      "text/plain": [
       "(1, 2, 3, 4, 5, 1, 2, 3, 4, 5, 1, 2, 3, 4, 5, 1, 2, 3, 4, 5)"
      ]
     },
     "execution_count": 17,
     "metadata": {},
     "output_type": "execute_result"
    }
   ],
   "source": [
    "t2*2"
   ]
  },
  {
   "cell_type": "code",
   "execution_count": 20,
   "id": "f1af60c8-2e9d-45a3-aa10-21c03659b564",
   "metadata": {},
   "outputs": [
    {
     "data": {
      "text/plain": [
       "5"
      ]
     },
     "execution_count": 20,
     "metadata": {},
     "output_type": "execute_result"
    }
   ],
   "source": [
    "max(t2)"
   ]
  },
  {
   "cell_type": "code",
   "execution_count": 21,
   "id": "f759a094-f772-45c3-be8d-2c8916b088df",
   "metadata": {},
   "outputs": [
    {
     "data": {
      "text/plain": [
       "1"
      ]
     },
     "execution_count": 21,
     "metadata": {},
     "output_type": "execute_result"
    }
   ],
   "source": [
    "min(t2)"
   ]
  },
  {
   "cell_type": "code",
   "execution_count": 22,
   "id": "7b030041-c5db-46e3-8475-da613c7d150e",
   "metadata": {},
   "outputs": [],
   "source": [
    "t3=(5,6,7,8)\n",
    "t4=(1,2,3,4)"
   ]
  },
  {
   "cell_type": "code",
   "execution_count": 23,
   "id": "5b86b8de-cd7a-49f1-8446-073211f51641",
   "metadata": {},
   "outputs": [],
   "source": [
    "t5=(t3,t4)"
   ]
  },
  {
   "cell_type": "code",
   "execution_count": 24,
   "id": "0db7808f-2561-4bb8-a4e7-9ef774a78cae",
   "metadata": {},
   "outputs": [
    {
     "data": {
      "text/plain": [
       "((5, 6, 7, 8), (1, 2, 3, 4))"
      ]
     },
     "execution_count": 24,
     "metadata": {},
     "output_type": "execute_result"
    }
   ],
   "source": [
    "t5"
   ]
  },
  {
   "cell_type": "code",
   "execution_count": 25,
   "id": "e627af93-b91b-416b-8cbd-22ae02ff41b7",
   "metadata": {},
   "outputs": [],
   "source": [
    "del t5"
   ]
  },
  {
   "cell_type": "code",
   "execution_count": 26,
   "id": "98e1ef51-cce0-415c-bdca-1e696ec90dcc",
   "metadata": {},
   "outputs": [
    {
     "ename": "NameError",
     "evalue": "name 't5' is not defined",
     "output_type": "error",
     "traceback": [
      "\u001b[0;31m---------------------------------------------------------------------------\u001b[0m",
      "\u001b[0;31mNameError\u001b[0m                                 Traceback (most recent call last)",
      "Cell \u001b[0;32mIn[26], line 1\u001b[0m\n\u001b[0;32m----> 1\u001b[0m \u001b[43mt5\u001b[49m\n",
      "\u001b[0;31mNameError\u001b[0m: name 't5' is not defined"
     ]
    }
   ],
   "source": [
    "t5"
   ]
  },
  {
   "cell_type": "code",
   "execution_count": 28,
   "id": "63810c75-1515-4d0b-abd0-83c93fffb2f9",
   "metadata": {},
   "outputs": [],
   "source": [
    "t6=(3,4,5)"
   ]
  },
  {
   "cell_type": "code",
   "execution_count": 29,
   "id": "14ee7cfa-7f74-4873-ae0e-2dfb6342c414",
   "metadata": {},
   "outputs": [
    {
     "data": {
      "text/plain": [
       "3"
      ]
     },
     "execution_count": 29,
     "metadata": {},
     "output_type": "execute_result"
    }
   ],
   "source": [
    "len(t6)"
   ]
  },
  {
   "cell_type": "code",
   "execution_count": 30,
   "id": "5b31a943-69c2-4d12-9fab-7e42cc19bf6e",
   "metadata": {},
   "outputs": [
    {
     "data": {
      "text/plain": [
       "True"
      ]
     },
     "execution_count": 30,
     "metadata": {},
     "output_type": "execute_result"
    }
   ],
   "source": [
    "3 in t6"
   ]
  },
  {
   "cell_type": "code",
   "execution_count": 47,
   "id": "09cf728f-0e20-41b4-a547-fb2eb5acc932",
   "metadata": {},
   "outputs": [],
   "source": [
    "t=(1,2,3,4,[1,2,3])"
   ]
  },
  {
   "cell_type": "code",
   "execution_count": 48,
   "id": "7d406941-7457-487a-b59d-25deb4a6b057",
   "metadata": {},
   "outputs": [
    {
     "data": {
      "text/plain": [
       "(1, 2, 3, 4, [1, 2, 3])"
      ]
     },
     "execution_count": 48,
     "metadata": {},
     "output_type": "execute_result"
    }
   ],
   "source": [
    "t"
   ]
  },
  {
   "cell_type": "code",
   "execution_count": null,
   "id": "df635368-9e00-4077-b4d5-92c535fee751",
   "metadata": {},
   "outputs": [],
   "source": []
  },
  {
   "cell_type": "code",
   "execution_count": null,
   "id": "9135ccf4-7edd-4aee-a1c8-d30f0eda2e52",
   "metadata": {},
   "outputs": [],
   "source": []
  },
  {
   "cell_type": "markdown",
   "id": "3780909a-757e-4346-9c5d-f809354253e6",
   "metadata": {},
   "source": [
    "# sets"
   ]
  },
  {
   "cell_type": "code",
   "execution_count": 31,
   "id": "3961c1f7-9766-4204-a1b8-80b702015508",
   "metadata": {},
   "outputs": [],
   "source": [
    "s={}"
   ]
  },
  {
   "cell_type": "code",
   "execution_count": 32,
   "id": "e7a134d8-ab75-4d28-b5f4-b727f25f0dd6",
   "metadata": {},
   "outputs": [
    {
     "data": {
      "text/plain": [
       "dict"
      ]
     },
     "execution_count": 32,
     "metadata": {},
     "output_type": "execute_result"
    }
   ],
   "source": [
    "type(s)"
   ]
  },
  {
   "cell_type": "code",
   "execution_count": 34,
   "id": "8293c965-1be9-45e1-91b1-d5f2112d1868",
   "metadata": {},
   "outputs": [],
   "source": [
    "s1={4,5,6}"
   ]
  },
  {
   "cell_type": "code",
   "execution_count": 35,
   "id": "4348e6a4-c373-4d07-85eb-c7fad642184c",
   "metadata": {},
   "outputs": [
    {
     "data": {
      "text/plain": [
       "set"
      ]
     },
     "execution_count": 35,
     "metadata": {},
     "output_type": "execute_result"
    }
   ],
   "source": [
    "type(s1)"
   ]
  },
  {
   "cell_type": "code",
   "execution_count": 36,
   "id": "6e00c9f1-bd80-4e2b-8601-d302b7d2a4e3",
   "metadata": {},
   "outputs": [],
   "source": [
    "s2={1,1,2,2,3,3,4,4,5,5}"
   ]
  },
  {
   "cell_type": "code",
   "execution_count": 37,
   "id": "ccf9b874-4271-4b10-8298-ce0fb6e7ee95",
   "metadata": {},
   "outputs": [
    {
     "data": {
      "text/plain": [
       "{1, 2, 3, 4, 5}"
      ]
     },
     "execution_count": 37,
     "metadata": {},
     "output_type": "execute_result"
    }
   ],
   "source": [
    "s2"
   ]
  },
  {
   "cell_type": "code",
   "execution_count": 40,
   "id": "eda30c5a-39c7-4a96-bbfa-38f2af0d38e7",
   "metadata": {},
   "outputs": [],
   "source": [
    "lst=list(s2)"
   ]
  },
  {
   "cell_type": "code",
   "execution_count": 41,
   "id": "c6cf052b-a54f-4d39-8796-ce2350db835a",
   "metadata": {},
   "outputs": [
    {
     "data": {
      "text/plain": [
       "[1, 2, 3, 4, 5]"
      ]
     },
     "execution_count": 41,
     "metadata": {},
     "output_type": "execute_result"
    }
   ],
   "source": [
    "lst"
   ]
  },
  {
   "cell_type": "code",
   "execution_count": 42,
   "id": "0ac19f5d-998c-44d0-ba91-0547c76cef29",
   "metadata": {},
   "outputs": [],
   "source": [
    "t=tuple(s2)"
   ]
  },
  {
   "cell_type": "code",
   "execution_count": 43,
   "id": "1a577426-7f36-4f50-9e0a-e2fc14c0d744",
   "metadata": {},
   "outputs": [
    {
     "data": {
      "text/plain": [
       "(1, 2, 3, 4, 5)"
      ]
     },
     "execution_count": 43,
     "metadata": {},
     "output_type": "execute_result"
    }
   ],
   "source": [
    "t"
   ]
  },
  {
   "cell_type": "code",
   "execution_count": 44,
   "id": "9a1963a5-488c-4164-8995-cdfae3803c8d",
   "metadata": {},
   "outputs": [
    {
     "data": {
      "text/plain": [
       "{1, 2, 3, 4, 5}"
      ]
     },
     "execution_count": 44,
     "metadata": {},
     "output_type": "execute_result"
    }
   ],
   "source": [
    "set(lst)"
   ]
  },
  {
   "cell_type": "code",
   "execution_count": 45,
   "id": "fa205c81-463d-46a9-9e04-5088f6151021",
   "metadata": {},
   "outputs": [
    {
     "data": {
      "text/plain": [
       "{1, 2, 3, 4, 5}"
      ]
     },
     "execution_count": 45,
     "metadata": {},
     "output_type": "execute_result"
    }
   ],
   "source": [
    "set(t)"
   ]
  },
  {
   "cell_type": "code",
   "execution_count": 46,
   "id": "34da47d1-d423-49ec-9f44-ce192841501a",
   "metadata": {},
   "outputs": [
    {
     "ename": "TypeError",
     "evalue": "unhashable type: 'list'",
     "output_type": "error",
     "traceback": [
      "\u001b[0;31m---------------------------------------------------------------------------\u001b[0m",
      "\u001b[0;31mTypeError\u001b[0m                                 Traceback (most recent call last)",
      "Cell \u001b[0;32mIn[46], line 1\u001b[0m\n\u001b[0;32m----> 1\u001b[0m s3\u001b[38;5;241m=\u001b[39m{\u001b[38;5;241m1\u001b[39m,\u001b[38;5;241m2\u001b[39m,\u001b[38;5;241m3\u001b[39m,\u001b[38;5;241m4\u001b[39m,[\u001b[38;5;241m1\u001b[39m,\u001b[38;5;241m2\u001b[39m,\u001b[38;5;241m3\u001b[39m]}\n",
      "\u001b[0;31mTypeError\u001b[0m: unhashable type: 'list'"
     ]
    }
   ],
   "source": [
    "s3={1,2,3,4,[1,2,3]}"
   ]
  },
  {
   "cell_type": "code",
   "execution_count": 49,
   "id": "f06379c0-5614-46c8-a872-aec84b92300f",
   "metadata": {},
   "outputs": [],
   "source": [
    "s4={1,2,3,4,(1,2,3)}"
   ]
  },
  {
   "cell_type": "code",
   "execution_count": 50,
   "id": "9819ed2f-a506-470f-ad97-de8d5eaf1962",
   "metadata": {},
   "outputs": [
    {
     "data": {
      "text/plain": [
       "{(1, 2, 3), 1, 2, 3, 4}"
      ]
     },
     "execution_count": 50,
     "metadata": {},
     "output_type": "execute_result"
    }
   ],
   "source": [
    "s4"
   ]
  },
  {
   "cell_type": "code",
   "execution_count": 51,
   "id": "c99a2921-b7d3-4cc5-adb0-b4582238e8a9",
   "metadata": {},
   "outputs": [],
   "source": [
    "s5={'Boy','boy'}"
   ]
  },
  {
   "cell_type": "code",
   "execution_count": 52,
   "id": "13bd732b-04b8-4f73-8a2f-c9a5e99ce3fd",
   "metadata": {},
   "outputs": [
    {
     "data": {
      "text/plain": [
       "{'Boy', 'boy'}"
      ]
     },
     "execution_count": 52,
     "metadata": {},
     "output_type": "execute_result"
    }
   ],
   "source": [
    "s5"
   ]
  },
  {
   "cell_type": "code",
   "execution_count": 53,
   "id": "17fce21d-1335-4f00-aae7-2ccc05b3d651",
   "metadata": {},
   "outputs": [],
   "source": [
    "s6={'boy','boy'}"
   ]
  },
  {
   "cell_type": "code",
   "execution_count": 54,
   "id": "ba45b36c-b06e-4858-b9e5-a5cbb8b19dc3",
   "metadata": {},
   "outputs": [
    {
     "data": {
      "text/plain": [
       "{'boy'}"
      ]
     },
     "execution_count": 54,
     "metadata": {},
     "output_type": "execute_result"
    }
   ],
   "source": [
    "s6"
   ]
  },
  {
   "cell_type": "code",
   "execution_count": 55,
   "id": "31847ca9-b6c5-4a91-90de-3a090d949a72",
   "metadata": {},
   "outputs": [
    {
     "data": {
      "text/plain": [
       "True"
      ]
     },
     "execution_count": 55,
     "metadata": {},
     "output_type": "execute_result"
    }
   ],
   "source": [
    "'boy' in s6"
   ]
  },
  {
   "cell_type": "code",
   "execution_count": 56,
   "id": "8a98b4cf-8006-4c7d-80c2-e0f1b5045b40",
   "metadata": {},
   "outputs": [
    {
     "ename": "TypeError",
     "evalue": "'set' object is not subscriptable",
     "output_type": "error",
     "traceback": [
      "\u001b[0;31m---------------------------------------------------------------------------\u001b[0m",
      "\u001b[0;31mTypeError\u001b[0m                                 Traceback (most recent call last)",
      "Cell \u001b[0;32mIn[56], line 1\u001b[0m\n\u001b[0;32m----> 1\u001b[0m \u001b[43ms6\u001b[49m\u001b[43m[\u001b[49m\u001b[38;5;241;43m0\u001b[39;49m\u001b[43m]\u001b[49m\n",
      "\u001b[0;31mTypeError\u001b[0m: 'set' object is not subscriptable"
     ]
    }
   ],
   "source": [
    "s6[0]"
   ]
  },
  {
   "cell_type": "code",
   "execution_count": 57,
   "id": "6b7f0c58-6bb6-4ec4-ab53-dfdeb34dedd7",
   "metadata": {},
   "outputs": [
    {
     "ename": "TypeError",
     "evalue": "'set' object is not subscriptable",
     "output_type": "error",
     "traceback": [
      "\u001b[0;31m---------------------------------------------------------------------------\u001b[0m",
      "\u001b[0;31mTypeError\u001b[0m                                 Traceback (most recent call last)",
      "Cell \u001b[0;32mIn[57], line 1\u001b[0m\n\u001b[0;32m----> 1\u001b[0m \u001b[43ms6\u001b[49m\u001b[43m[\u001b[49m\u001b[43m:\u001b[49m\u001b[43m:\u001b[49m\u001b[38;5;241;43m-\u001b[39;49m\u001b[38;5;241;43m1\u001b[39;49m\u001b[43m]\u001b[49m\n",
      "\u001b[0;31mTypeError\u001b[0m: 'set' object is not subscriptable"
     ]
    }
   ],
   "source": [
    "s6[::-1]"
   ]
  },
  {
   "cell_type": "code",
   "execution_count": 58,
   "id": "679381eb-bfef-4c33-bbc4-644a1acb3717",
   "metadata": {},
   "outputs": [],
   "source": [
    "s7={4,5,'sdf'}"
   ]
  },
  {
   "cell_type": "code",
   "execution_count": 59,
   "id": "0c579711-e267-401c-a249-f37fddedc47f",
   "metadata": {},
   "outputs": [
    {
     "name": "stdout",
     "output_type": "stream",
     "text": [
      "sdf\n",
      "4\n",
      "5\n"
     ]
    }
   ],
   "source": [
    "for i in s7:\n",
    "    print(i)"
   ]
  },
  {
   "cell_type": "code",
   "execution_count": 60,
   "id": "9d27c286-33db-4c12-8174-c00a74702761",
   "metadata": {},
   "outputs": [],
   "source": [
    "s7.add(1)"
   ]
  },
  {
   "cell_type": "code",
   "execution_count": 61,
   "id": "1cf03719-b99c-461c-8070-2e346de61a8c",
   "metadata": {},
   "outputs": [
    {
     "data": {
      "text/plain": [
       "{1, 4, 5, 'sdf'}"
      ]
     },
     "execution_count": 61,
     "metadata": {},
     "output_type": "execute_result"
    }
   ],
   "source": [
    "s7"
   ]
  },
  {
   "cell_type": "code",
   "execution_count": 62,
   "id": "6c6147d6-1b08-4f94-afa1-08d5361f5bdd",
   "metadata": {},
   "outputs": [
    {
     "data": {
      "text/plain": [
       "4"
      ]
     },
     "execution_count": 62,
     "metadata": {},
     "output_type": "execute_result"
    }
   ],
   "source": [
    "len(s7)"
   ]
  },
  {
   "cell_type": "code",
   "execution_count": 63,
   "id": "4073c669-3269-4dd3-82b0-e770952fa4be",
   "metadata": {},
   "outputs": [],
   "source": [
    "lst=[1,2,4]"
   ]
  },
  {
   "cell_type": "code",
   "execution_count": 64,
   "id": "2fc01ef7-a3c5-43ca-ad8b-eb1e78033c14",
   "metadata": {},
   "outputs": [
    {
     "data": {
      "text/plain": [
       "4"
      ]
     },
     "execution_count": 64,
     "metadata": {},
     "output_type": "execute_result"
    }
   ],
   "source": [
    "lst.pop()"
   ]
  },
  {
   "cell_type": "code",
   "execution_count": 66,
   "id": "edaeb7c6-bea1-491b-9970-94a50ef7a984",
   "metadata": {},
   "outputs": [
    {
     "data": {
      "text/plain": [
       "2"
      ]
     },
     "execution_count": 66,
     "metadata": {},
     "output_type": "execute_result"
    }
   ],
   "source": [
    "lst.pop()"
   ]
  },
  {
   "cell_type": "code",
   "execution_count": 67,
   "id": "0f4ad59c-d04b-4275-97eb-d4c79bd3a5b2",
   "metadata": {},
   "outputs": [
    {
     "data": {
      "text/plain": [
       "[1]"
      ]
     },
     "execution_count": 67,
     "metadata": {},
     "output_type": "execute_result"
    }
   ],
   "source": [
    "lst"
   ]
  },
  {
   "cell_type": "code",
   "execution_count": 68,
   "id": "103f1574-1b5f-47f2-b8e0-54efdfcfa3ce",
   "metadata": {},
   "outputs": [
    {
     "data": {
      "text/plain": [
       "'sdf'"
      ]
     },
     "execution_count": 68,
     "metadata": {},
     "output_type": "execute_result"
    }
   ],
   "source": [
    "s7.pop()"
   ]
  },
  {
   "cell_type": "code",
   "execution_count": 69,
   "id": "1508117c-a637-46b9-9be9-abcc51b37efa",
   "metadata": {},
   "outputs": [
    {
     "data": {
      "text/plain": [
       "{1, 4, 5}"
      ]
     },
     "execution_count": 69,
     "metadata": {},
     "output_type": "execute_result"
    }
   ],
   "source": [
    "s7"
   ]
  },
  {
   "cell_type": "code",
   "execution_count": 70,
   "id": "1b7bab8b-32c6-4342-bd9a-d048b0c42035",
   "metadata": {},
   "outputs": [],
   "source": [
    "s7.clear()"
   ]
  },
  {
   "cell_type": "code",
   "execution_count": 71,
   "id": "b0b75463-061e-48ca-96c9-bb454f5db967",
   "metadata": {},
   "outputs": [
    {
     "data": {
      "text/plain": [
       "set()"
      ]
     },
     "execution_count": 71,
     "metadata": {},
     "output_type": "execute_result"
    }
   ],
   "source": [
    "s7"
   ]
  },
  {
   "cell_type": "code",
   "execution_count": 72,
   "id": "e93d0fb9-7392-4112-8751-3e1fd518fb13",
   "metadata": {},
   "outputs": [],
   "source": [
    "s8={1,2,4}\n",
    "s9={1,2,67,7}"
   ]
  },
  {
   "cell_type": "code",
   "execution_count": 73,
   "id": "a90f4d6a-6fb8-479d-b83c-3f78ac8da2b6",
   "metadata": {},
   "outputs": [
    {
     "data": {
      "text/plain": [
       "{4}"
      ]
     },
     "execution_count": 73,
     "metadata": {},
     "output_type": "execute_result"
    }
   ],
   "source": [
    "s8.difference(s9)"
   ]
  },
  {
   "cell_type": "code",
   "execution_count": 77,
   "id": "3b7693d9-b78f-4331-ae7b-adf85af6f2f8",
   "metadata": {},
   "outputs": [
    {
     "data": {
      "text/plain": [
       "{7, 67}"
      ]
     },
     "execution_count": 77,
     "metadata": {},
     "output_type": "execute_result"
    }
   ],
   "source": [
    "s9.difference(s8)"
   ]
  },
  {
   "cell_type": "code",
   "execution_count": 75,
   "id": "0ab1c278-80cf-4878-9cc8-11d38c40a527",
   "metadata": {},
   "outputs": [
    {
     "ename": "AttributeError",
     "evalue": "'set' object has no attribute 'count'",
     "output_type": "error",
     "traceback": [
      "\u001b[0;31m---------------------------------------------------------------------------\u001b[0m",
      "\u001b[0;31mAttributeError\u001b[0m                            Traceback (most recent call last)",
      "Cell \u001b[0;32mIn[75], line 1\u001b[0m\n\u001b[0;32m----> 1\u001b[0m \u001b[43ms8\u001b[49m\u001b[38;5;241;43m.\u001b[39;49m\u001b[43mcount\u001b[49m(\u001b[38;5;241m1\u001b[39m)\n",
      "\u001b[0;31mAttributeError\u001b[0m: 'set' object has no attribute 'count'"
     ]
    }
   ],
   "source": [
    "s8.count(1)"
   ]
  },
  {
   "cell_type": "code",
   "execution_count": 76,
   "id": "905d7672-520d-4d0e-b2be-7ea52bb34889",
   "metadata": {},
   "outputs": [
    {
     "ename": "AttributeError",
     "evalue": "'set' object has no attribute 'index'",
     "output_type": "error",
     "traceback": [
      "\u001b[0;31m---------------------------------------------------------------------------\u001b[0m",
      "\u001b[0;31mAttributeError\u001b[0m                            Traceback (most recent call last)",
      "Cell \u001b[0;32mIn[76], line 1\u001b[0m\n\u001b[0;32m----> 1\u001b[0m \u001b[43ms8\u001b[49m\u001b[38;5;241;43m.\u001b[39;49m\u001b[43mindex\u001b[49m(\u001b[38;5;241m1\u001b[39m)\n",
      "\u001b[0;31mAttributeError\u001b[0m: 'set' object has no attribute 'index'"
     ]
    }
   ],
   "source": [
    "s8.index(1)"
   ]
  },
  {
   "cell_type": "markdown",
   "id": "d5c41421-e6ac-4be9-8647-15e18150fa73",
   "metadata": {},
   "source": [
    "# dictionary"
   ]
  },
  {
   "cell_type": "code",
   "execution_count": 78,
   "id": "e63a8de6-5ccd-4370-af0d-fca3da8d0732",
   "metadata": {},
   "outputs": [],
   "source": [
    "d={}"
   ]
  },
  {
   "cell_type": "code",
   "execution_count": 79,
   "id": "9a042b3c-0cc2-419d-8708-07e4ca5e30eb",
   "metadata": {},
   "outputs": [
    {
     "data": {
      "text/plain": [
       "dict"
      ]
     },
     "execution_count": 79,
     "metadata": {},
     "output_type": "execute_result"
    }
   ],
   "source": [
    "type(d)"
   ]
  },
  {
   "cell_type": "code",
   "execution_count": 80,
   "id": "ac8a5f16-077c-49e9-9d1a-46f3dfa7b0dd",
   "metadata": {},
   "outputs": [],
   "source": [
    "d1={123:'abd','adf':45,4.5:True,45+6j:'hfhhd'}"
   ]
  },
  {
   "cell_type": "code",
   "execution_count": 81,
   "id": "ef02b63c-89a4-49d9-894d-90f1fa8b5f27",
   "metadata": {},
   "outputs": [
    {
     "data": {
      "text/plain": [
       "{123: 'abd', 'adf': 45, 4.5: True, (45+6j): 'hfhhd'}"
      ]
     },
     "execution_count": 81,
     "metadata": {},
     "output_type": "execute_result"
    }
   ],
   "source": [
    "d1"
   ]
  },
  {
   "cell_type": "code",
   "execution_count": 82,
   "id": "467ec659-8bd6-41f4-9c12-c5a0a8532149",
   "metadata": {},
   "outputs": [],
   "source": [
    "d2={'name':'jack','name':'jackkallis'}"
   ]
  },
  {
   "cell_type": "code",
   "execution_count": 83,
   "id": "5cbc326f-d772-4694-beaa-12352dbe4dd7",
   "metadata": {},
   "outputs": [
    {
     "data": {
      "text/plain": [
       "{'name': 'jackkallis'}"
      ]
     },
     "execution_count": 83,
     "metadata": {},
     "output_type": "execute_result"
    }
   ],
   "source": [
    "d2"
   ]
  },
  {
   "cell_type": "code",
   "execution_count": 86,
   "id": "3d700b7e-b042-4f1c-8f03-5c9842f57234",
   "metadata": {},
   "outputs": [],
   "source": [
    "d3={'name':'jack','name':'jackk'}"
   ]
  },
  {
   "cell_type": "code",
   "execution_count": 87,
   "id": "b6c387b6-e6e2-489a-870d-9347cffbd8f5",
   "metadata": {},
   "outputs": [
    {
     "data": {
      "text/plain": [
       "{'name': 'jackk'}"
      ]
     },
     "execution_count": 87,
     "metadata": {},
     "output_type": "execute_result"
    }
   ],
   "source": [
    "d3"
   ]
  },
  {
   "cell_type": "code",
   "execution_count": 88,
   "id": "68b2babb-64f5-457d-89c9-74293349866e",
   "metadata": {},
   "outputs": [],
   "source": [
    "d4={123:'abc'}"
   ]
  },
  {
   "cell_type": "code",
   "execution_count": 89,
   "id": "d1d494e1-fdd7-4b9d-9345-d6e4e0b82e74",
   "metadata": {},
   "outputs": [
    {
     "data": {
      "text/plain": [
       "{123: 'abc'}"
      ]
     },
     "execution_count": 89,
     "metadata": {},
     "output_type": "execute_result"
    }
   ],
   "source": [
    "d4"
   ]
  },
  {
   "cell_type": "code",
   "execution_count": 90,
   "id": "7ae6c9e2-7737-4487-ba91-f4a67d32f13f",
   "metadata": {},
   "outputs": [],
   "source": [
    "d5={'abc':'abc'}"
   ]
  },
  {
   "cell_type": "code",
   "execution_count": 91,
   "id": "85966889-2677-4c16-9604-4f4851d58060",
   "metadata": {},
   "outputs": [
    {
     "data": {
      "text/plain": [
       "{'abc': 'abc'}"
      ]
     },
     "execution_count": 91,
     "metadata": {},
     "output_type": "execute_result"
    }
   ],
   "source": [
    "d5"
   ]
  },
  {
   "cell_type": "code",
   "execution_count": 92,
   "id": "06cde6d8-83e9-4ccd-9978-5d47170ec85f",
   "metadata": {},
   "outputs": [],
   "source": [
    "d6={4.5:'abc'}"
   ]
  },
  {
   "cell_type": "code",
   "execution_count": 93,
   "id": "02daa453-d970-488b-98d1-9bf25ee7e033",
   "metadata": {},
   "outputs": [
    {
     "data": {
      "text/plain": [
       "{4.5: 'abc'}"
      ]
     },
     "execution_count": 93,
     "metadata": {},
     "output_type": "execute_result"
    }
   ],
   "source": [
    "d6"
   ]
  },
  {
   "cell_type": "code",
   "execution_count": 94,
   "id": "85631214-8fc7-43ad-9bd7-25ece5a2444b",
   "metadata": {},
   "outputs": [],
   "source": [
    "d7={True:'abc'}"
   ]
  },
  {
   "cell_type": "code",
   "execution_count": 95,
   "id": "5f2572f5-4e92-4b20-a15a-4669bde1e32b",
   "metadata": {},
   "outputs": [
    {
     "data": {
      "text/plain": [
       "{True: 'abc'}"
      ]
     },
     "execution_count": 95,
     "metadata": {},
     "output_type": "execute_result"
    }
   ],
   "source": [
    "d7"
   ]
  },
  {
   "cell_type": "code",
   "execution_count": 96,
   "id": "8db139c2-0914-4b63-87a4-27031276cff6",
   "metadata": {},
   "outputs": [],
   "source": [
    "d8={45+5j:'abc'}"
   ]
  },
  {
   "cell_type": "code",
   "execution_count": 97,
   "id": "41987f63-24d1-4338-a968-a01d43dc48eb",
   "metadata": {},
   "outputs": [
    {
     "data": {
      "text/plain": [
       "{(45+5j): 'abc'}"
      ]
     },
     "execution_count": 97,
     "metadata": {},
     "output_type": "execute_result"
    }
   ],
   "source": [
    "d8"
   ]
  },
  {
   "cell_type": "code",
   "execution_count": 98,
   "id": "907d4c7e-8927-474f-bb28-a12e99fa2dcd",
   "metadata": {},
   "outputs": [
    {
     "ename": "TypeError",
     "evalue": "unhashable type: 'list'",
     "output_type": "error",
     "traceback": [
      "\u001b[0;31m---------------------------------------------------------------------------\u001b[0m",
      "\u001b[0;31mTypeError\u001b[0m                                 Traceback (most recent call last)",
      "Cell \u001b[0;32mIn[98], line 1\u001b[0m\n\u001b[0;32m----> 1\u001b[0m d9\u001b[38;5;241m=\u001b[39m{[\u001b[38;5;241m1\u001b[39m,\u001b[38;5;241m2\u001b[39m]:\u001b[38;5;124m'\u001b[39m\u001b[38;5;124mabc\u001b[39m\u001b[38;5;124m'\u001b[39m}\n",
      "\u001b[0;31mTypeError\u001b[0m: unhashable type: 'list'"
     ]
    }
   ],
   "source": [
    "d9={[1,2]:'abc'}"
   ]
  },
  {
   "cell_type": "code",
   "execution_count": 99,
   "id": "24af1cb5-e560-45ef-92d7-375adedb6db3",
   "metadata": {},
   "outputs": [
    {
     "ename": "SyntaxError",
     "evalue": "incomplete input (1070332780.py, line 1)",
     "output_type": "error",
     "traceback": [
      "\u001b[0;36m  Cell \u001b[0;32mIn[99], line 1\u001b[0;36m\u001b[0m\n\u001b[0;31m    d10={'abc':#}\u001b[0m\n\u001b[0m                 ^\u001b[0m\n\u001b[0;31mSyntaxError\u001b[0m\u001b[0;31m:\u001b[0m incomplete input\n"
     ]
    }
   ],
   "source": [
    "d10={'abc':#}"
   ]
  },
  {
   "cell_type": "code",
   "execution_count": 100,
   "id": "e365e353-810b-44dc-9749-7ad5a3677185",
   "metadata": {},
   "outputs": [],
   "source": [
    "d11={(12,3):'abc'}"
   ]
  },
  {
   "cell_type": "code",
   "execution_count": 101,
   "id": "be6e0a3b-4819-43bc-8538-7619333ab872",
   "metadata": {},
   "outputs": [
    {
     "data": {
      "text/plain": [
       "{(12, 3): 'abc'}"
      ]
     },
     "execution_count": 101,
     "metadata": {},
     "output_type": "execute_result"
    }
   ],
   "source": [
    "d11"
   ]
  },
  {
   "cell_type": "code",
   "execution_count": 102,
   "id": "2989ab40-ab45-4e1e-a96b-be6386c7f8da",
   "metadata": {},
   "outputs": [
    {
     "ename": "TypeError",
     "evalue": "unhashable type: 'set'",
     "output_type": "error",
     "traceback": [
      "\u001b[0;31m---------------------------------------------------------------------------\u001b[0m",
      "\u001b[0;31mTypeError\u001b[0m                                 Traceback (most recent call last)",
      "Cell \u001b[0;32mIn[102], line 1\u001b[0m\n\u001b[0;32m----> 1\u001b[0m d12\u001b[38;5;241m=\u001b[39m{{\u001b[38;5;241m3\u001b[39m,\u001b[38;5;241m4\u001b[39m,\u001b[38;5;241m5\u001b[39m}:\u001b[38;5;124m'\u001b[39m\u001b[38;5;124mabc\u001b[39m\u001b[38;5;124m'\u001b[39m}\n",
      "\u001b[0;31mTypeError\u001b[0m: unhashable type: 'set'"
     ]
    }
   ],
   "source": [
    "d12={{3,4,5}:'abc'}"
   ]
  },
  {
   "cell_type": "code",
   "execution_count": 103,
   "id": "08b0c3ff-991d-45d1-9720-abec2f30ee2f",
   "metadata": {},
   "outputs": [
    {
     "ename": "TypeError",
     "evalue": "unhashable type: 'dict'",
     "output_type": "error",
     "traceback": [
      "\u001b[0;31m---------------------------------------------------------------------------\u001b[0m",
      "\u001b[0;31mTypeError\u001b[0m                                 Traceback (most recent call last)",
      "Cell \u001b[0;32mIn[103], line 1\u001b[0m\n\u001b[0;32m----> 1\u001b[0m d13\u001b[38;5;241m=\u001b[39m{{\u001b[38;5;124m'\u001b[39m\u001b[38;5;124mabc\u001b[39m\u001b[38;5;124m'\u001b[39m:\u001b[38;5;241m23\u001b[39m}:\u001b[38;5;241m123\u001b[39m}\n",
      "\u001b[0;31mTypeError\u001b[0m: unhashable type: 'dict'"
     ]
    }
   ],
   "source": [
    "d13={{'abc':23}:123}"
   ]
  },
  {
   "cell_type": "code",
   "execution_count": 104,
   "id": "2a397c60-45a4-407b-b0ae-e6564df6c6d4",
   "metadata": {},
   "outputs": [],
   "source": [
    "d14={'runs':[324,4,5]}"
   ]
  },
  {
   "cell_type": "code",
   "execution_count": 105,
   "id": "27a38d37-2952-4f21-8c89-816516589abb",
   "metadata": {},
   "outputs": [
    {
     "data": {
      "text/plain": [
       "{'runs': [324, 4, 5]}"
      ]
     },
     "execution_count": 105,
     "metadata": {},
     "output_type": "execute_result"
    }
   ],
   "source": [
    "d14"
   ]
  },
  {
   "cell_type": "code",
   "execution_count": 106,
   "id": "2f3a428c-a90e-4160-9094-24ba3da29faf",
   "metadata": {},
   "outputs": [],
   "source": [
    "d15={'runs':(449874,479794,84774)}"
   ]
  },
  {
   "cell_type": "code",
   "execution_count": 107,
   "id": "8b995372-2b1d-465d-9120-9cbd36fadc56",
   "metadata": {},
   "outputs": [
    {
     "data": {
      "text/plain": [
       "{'runs': (449874, 479794, 84774)}"
      ]
     },
     "execution_count": 107,
     "metadata": {},
     "output_type": "execute_result"
    }
   ],
   "source": [
    "d15"
   ]
  },
  {
   "cell_type": "code",
   "execution_count": 108,
   "id": "c2570051-8d42-403a-8288-a77f9d7bf724",
   "metadata": {},
   "outputs": [],
   "source": [
    "d16={'runs':{4579,4875974,4547979}}"
   ]
  },
  {
   "cell_type": "code",
   "execution_count": 109,
   "id": "a2eab046-951f-4f8b-9edc-b7db8bd0f2f1",
   "metadata": {},
   "outputs": [
    {
     "data": {
      "text/plain": [
       "{'runs': {4579, 4547979, 4875974}}"
      ]
     },
     "execution_count": 109,
     "metadata": {},
     "output_type": "execute_result"
    }
   ],
   "source": [
    "d16"
   ]
  },
  {
   "cell_type": "code",
   "execution_count": 110,
   "id": "399ff16e-dec3-4b19-a4b0-7f3c72f09805",
   "metadata": {},
   "outputs": [],
   "source": [
    "d17={'runs':{'name':'jack'}}"
   ]
  },
  {
   "cell_type": "code",
   "execution_count": 111,
   "id": "495659b4-8971-4fad-b8d0-0d9b9669a804",
   "metadata": {},
   "outputs": [
    {
     "data": {
      "text/plain": [
       "{'runs': {'name': 'jack'}}"
      ]
     },
     "execution_count": 111,
     "metadata": {},
     "output_type": "execute_result"
    }
   ],
   "source": [
    "d17"
   ]
  },
  {
   "cell_type": "code",
   "execution_count": 112,
   "id": "f2e21ec5-a048-41bf-a302-84c12c6a2c5f",
   "metadata": {},
   "outputs": [],
   "source": [
    "d18={'legends':['msd','tate','vijay'],'fields':('cricket','matrix','movie'),'money':{489797948974879987,8934798758798,8347987938798794}}"
   ]
  },
  {
   "cell_type": "code",
   "execution_count": 113,
   "id": "75bb6b07-dc23-49c3-bca9-6e4839079773",
   "metadata": {},
   "outputs": [
    {
     "data": {
      "text/plain": [
       "{'legends': ['msd', 'tate', 'vijay'],\n",
       " 'fields': ('cricket', 'matrix', 'movie'),\n",
       " 'money': {8934798758798, 8347987938798794, 489797948974879987}}"
      ]
     },
     "execution_count": 113,
     "metadata": {},
     "output_type": "execute_result"
    }
   ],
   "source": [
    "d18"
   ]
  },
  {
   "cell_type": "code",
   "execution_count": 114,
   "id": "4633095c-2140-4775-98c2-5032a3b80557",
   "metadata": {},
   "outputs": [
    {
     "data": {
      "text/plain": [
       "['msd', 'tate', 'vijay']"
      ]
     },
     "execution_count": 114,
     "metadata": {},
     "output_type": "execute_result"
    }
   ],
   "source": [
    "d18['legends']"
   ]
  },
  {
   "cell_type": "code",
   "execution_count": 115,
   "id": "576cdec4-4140-4fd3-b340-55ef98077251",
   "metadata": {},
   "outputs": [
    {
     "ename": "SyntaxError",
     "evalue": "incomplete input (2713137344.py, line 1)",
     "output_type": "error",
     "traceback": [
      "\u001b[0;36m  Cell \u001b[0;32mIn[115], line 1\u001b[0;36m\u001b[0m\n\u001b[0;31m    d18[[ ['msd', 'tate', 'vijay']]\u001b[0m\n\u001b[0m                                   ^\u001b[0m\n\u001b[0;31mSyntaxError\u001b[0m\u001b[0;31m:\u001b[0m incomplete input\n"
     ]
    }
   ],
   "source": [
    "d18[[ ['msd', 'tate', 'vijay']]"
   ]
  },
  {
   "cell_type": "code",
   "execution_count": 117,
   "id": "a60f6900-0f0d-4dd7-8deb-c489fc3a87e3",
   "metadata": {},
   "outputs": [],
   "source": [
    "d18['personal']={'age':(41,35,48)}"
   ]
  },
  {
   "cell_type": "code",
   "execution_count": 118,
   "id": "ce4ebb14-c083-4e62-89d3-4249f3ba5ed6",
   "metadata": {},
   "outputs": [
    {
     "data": {
      "text/plain": [
       "{'legends': ['msd', 'tate', 'vijay'],\n",
       " 'fields': ('cricket', 'matrix', 'movie'),\n",
       " 'money': {8934798758798, 8347987938798794, 489797948974879987},\n",
       " 'personal': {'age': (41, 35, 48)}}"
      ]
     },
     "execution_count": 118,
     "metadata": {},
     "output_type": "execute_result"
    }
   ],
   "source": [
    "d18"
   ]
  },
  {
   "cell_type": "code",
   "execution_count": 120,
   "id": "607a5a5a-22a3-4cfd-916d-d0add9923e22",
   "metadata": {},
   "outputs": [
    {
     "data": {
      "text/plain": [
       "list"
      ]
     },
     "execution_count": 120,
     "metadata": {},
     "output_type": "execute_result"
    }
   ],
   "source": [
    "type(d18['legends'])"
   ]
  },
  {
   "cell_type": "code",
   "execution_count": 123,
   "id": "b2864a3b-4b8b-4865-be0b-6d681b088144",
   "metadata": {},
   "outputs": [],
   "source": [
    "d18['name']='jack'"
   ]
  },
  {
   "cell_type": "code",
   "execution_count": 124,
   "id": "b5a6c1b7-04c1-4162-b82d-64ecb7cd0f56",
   "metadata": {},
   "outputs": [
    {
     "data": {
      "text/plain": [
       "{'legends': ['msd', 'tate', 'vijay'],\n",
       " 'fields': ('cricket', 'matrix', 'movie'),\n",
       " 'money': {8934798758798, 8347987938798794, 489797948974879987},\n",
       " 'personal': {'age': (41, 35, 48)},\n",
       " 'name': 'jack'}"
      ]
     },
     "execution_count": 124,
     "metadata": {},
     "output_type": "execute_result"
    }
   ],
   "source": [
    "d18"
   ]
  },
  {
   "cell_type": "code",
   "execution_count": 125,
   "id": "38d88133-2f6e-4278-8a13-a675dde552bd",
   "metadata": {},
   "outputs": [
    {
     "data": {
      "text/plain": [
       "'JACK'"
      ]
     },
     "execution_count": 125,
     "metadata": {},
     "output_type": "execute_result"
    }
   ],
   "source": [
    "d18['name'].upper()"
   ]
  },
  {
   "cell_type": "code",
   "execution_count": 126,
   "id": "70d9680f-a152-428b-884b-90e031459032",
   "metadata": {},
   "outputs": [],
   "source": [
    "d19={'key':{'value1':11,\"value2\":77}}"
   ]
  },
  {
   "cell_type": "code",
   "execution_count": 127,
   "id": "30b3011b-d286-4e6a-b879-22fe92fce3c1",
   "metadata": {},
   "outputs": [
    {
     "data": {
      "text/plain": [
       "{'key': {'value1': 11, 'value2': 77}}"
      ]
     },
     "execution_count": 127,
     "metadata": {},
     "output_type": "execute_result"
    }
   ],
   "source": [
    "d19"
   ]
  },
  {
   "cell_type": "code",
   "execution_count": 129,
   "id": "586fdd5b-0267-4d2d-9a6d-a34823141ec8",
   "metadata": {},
   "outputs": [
    {
     "data": {
      "text/plain": [
       "77"
      ]
     },
     "execution_count": 129,
     "metadata": {},
     "output_type": "execute_result"
    }
   ],
   "source": [
    "d19['key']['value2']"
   ]
  },
  {
   "cell_type": "code",
   "execution_count": 130,
   "id": "6f2b5e65-ce1a-43f8-9cd2-bf130e46d825",
   "metadata": {},
   "outputs": [],
   "source": [
    "d18.clear()"
   ]
  },
  {
   "cell_type": "code",
   "execution_count": 131,
   "id": "f151a711-34c1-4c18-a0c2-0bce16ac0e32",
   "metadata": {},
   "outputs": [
    {
     "data": {
      "text/plain": [
       "{}"
      ]
     },
     "execution_count": 131,
     "metadata": {},
     "output_type": "execute_result"
    }
   ],
   "source": [
    "d18"
   ]
  },
  {
   "cell_type": "code",
   "execution_count": 132,
   "id": "0d93aeb3-9532-4d8a-94f8-e458ac7f8047",
   "metadata": {},
   "outputs": [
    {
     "data": {
      "text/plain": [
       "1"
      ]
     },
     "execution_count": 132,
     "metadata": {},
     "output_type": "execute_result"
    }
   ],
   "source": [
    "len(d19)"
   ]
  },
  {
   "cell_type": "code",
   "execution_count": 133,
   "id": "5f24ce19-878f-4d1e-92c2-6148b117fd2b",
   "metadata": {},
   "outputs": [],
   "source": [
    "d18={'legends':['msd','tate','vijay'],'fields':('cricket','matrix','movie'),'money':{489797948974879987,8934798758798,8347987938798794}}"
   ]
  },
  {
   "cell_type": "code",
   "execution_count": 149,
   "id": "bdf334b2-ed91-4931-9c03-75ab3c0e3d30",
   "metadata": {},
   "outputs": [
    {
     "data": {
      "text/plain": [
       "{'legends': ['msd', 'tate', 'vijay'], 'fields': ('cricket', 'matrix', 'movie')}"
      ]
     },
     "execution_count": 149,
     "metadata": {},
     "output_type": "execute_result"
    }
   ],
   "source": [
    "d18"
   ]
  },
  {
   "cell_type": "code",
   "execution_count": 135,
   "id": "81d4b08e-e589-41d3-af62-402ce9ad18f8",
   "metadata": {},
   "outputs": [
    {
     "data": {
      "text/plain": [
       "dict_keys(['legends', 'fields', 'money'])"
      ]
     },
     "execution_count": 135,
     "metadata": {},
     "output_type": "execute_result"
    }
   ],
   "source": [
    "d18.keys()"
   ]
  },
  {
   "cell_type": "code",
   "execution_count": 136,
   "id": "e5518375-271e-4fc4-80a8-0e8a12218a6a",
   "metadata": {},
   "outputs": [
    {
     "data": {
      "text/plain": [
       "dict_values([['msd', 'tate', 'vijay'], ('cricket', 'matrix', 'movie'), {8347987938798794, 489797948974879987, 8934798758798}])"
      ]
     },
     "execution_count": 136,
     "metadata": {},
     "output_type": "execute_result"
    }
   ],
   "source": [
    "d18.values()"
   ]
  },
  {
   "cell_type": "code",
   "execution_count": 137,
   "id": "73f06021-2ea0-40bd-9942-8101923bb36f",
   "metadata": {},
   "outputs": [
    {
     "data": {
      "text/plain": [
       "dict_items([('legends', ['msd', 'tate', 'vijay']), ('fields', ('cricket', 'matrix', 'movie')), ('money', {8347987938798794, 489797948974879987, 8934798758798})])"
      ]
     },
     "execution_count": 137,
     "metadata": {},
     "output_type": "execute_result"
    }
   ],
   "source": [
    "d18.items()"
   ]
  },
  {
   "cell_type": "code",
   "execution_count": 138,
   "id": "0b906297-708d-443e-8042-2b610a9de78a",
   "metadata": {},
   "outputs": [
    {
     "data": {
      "text/plain": [
       "[('legends', ['msd', 'tate', 'vijay']),\n",
       " ('fields', ('cricket', 'matrix', 'movie')),\n",
       " ('money', {8934798758798, 8347987938798794, 489797948974879987})]"
      ]
     },
     "execution_count": 138,
     "metadata": {},
     "output_type": "execute_result"
    }
   ],
   "source": [
    "list(d18.items())"
   ]
  },
  {
   "cell_type": "code",
   "execution_count": 147,
   "id": "072cd4c8-b888-4f3d-9f27-bec9f21880f1",
   "metadata": {},
   "outputs": [],
   "source": [
    "d20=d18.copy()"
   ]
  },
  {
   "cell_type": "code",
   "execution_count": 148,
   "id": "2f71c4c0-62f5-4a64-83b7-7f3e5ab06608",
   "metadata": {},
   "outputs": [
    {
     "data": {
      "text/plain": [
       "{'legends': ['msd', 'tate', 'vijay'], 'fields': ('cricket', 'matrix', 'movie')}"
      ]
     },
     "execution_count": 148,
     "metadata": {},
     "output_type": "execute_result"
    }
   ],
   "source": [
    "d20"
   ]
  },
  {
   "cell_type": "code",
   "execution_count": 144,
   "id": "9652a771-f875-4c70-8f69-c755930e8410",
   "metadata": {},
   "outputs": [],
   "source": [
    "del d18['money']"
   ]
  },
  {
   "cell_type": "code",
   "execution_count": 145,
   "id": "3182a107-fb92-4e35-87b3-148f8d1df9a2",
   "metadata": {},
   "outputs": [
    {
     "data": {
      "text/plain": [
       "{'legends': ['msd', 'tate', 'vijay'], 'fields': ('cricket', 'matrix', 'movie')}"
      ]
     },
     "execution_count": 145,
     "metadata": {},
     "output_type": "execute_result"
    }
   ],
   "source": [
    "d18"
   ]
  },
  {
   "cell_type": "code",
   "execution_count": 146,
   "id": "4e9a3504-5658-4106-9e24-9ff694b0c13d",
   "metadata": {},
   "outputs": [
    {
     "data": {
      "text/plain": [
       "{'legends': ['msd', 'tate', 'vijay'], 'fields': ('cricket', 'matrix', 'movie')}"
      ]
     },
     "execution_count": 146,
     "metadata": {},
     "output_type": "execute_result"
    }
   ],
   "source": [
    "d20\n"
   ]
  },
  {
   "cell_type": "code",
   "execution_count": 155,
   "id": "dc83f80d-02e0-4acb-992a-5ead591b9783",
   "metadata": {},
   "outputs": [
    {
     "data": {
      "text/plain": [
       "{'fields': ('cricket', 'matrix', 'movie')}"
      ]
     },
     "execution_count": 155,
     "metadata": {},
     "output_type": "execute_result"
    }
   ],
   "source": [
    "d18"
   ]
  },
  {
   "cell_type": "code",
   "execution_count": 151,
   "id": "00b836b3-03b2-4b81-afc5-629e45f26ebc",
   "metadata": {},
   "outputs": [
    {
     "data": {
      "text/plain": [
       "{'legends': ['msd', 'tate', 'vijay'], 'fields': ('cricket', 'matrix', 'movie')}"
      ]
     },
     "execution_count": 151,
     "metadata": {},
     "output_type": "execute_result"
    }
   ],
   "source": [
    "d20"
   ]
  },
  {
   "cell_type": "code",
   "execution_count": 153,
   "id": "144ddb30-432b-4b6d-9556-c806d55942ad",
   "metadata": {},
   "outputs": [
    {
     "data": {
      "text/plain": [
       "{'fields': ('cricket', 'matrix', 'movie')}"
      ]
     },
     "execution_count": 153,
     "metadata": {},
     "output_type": "execute_result"
    }
   ],
   "source": [
    "d18"
   ]
  },
  {
   "cell_type": "code",
   "execution_count": 154,
   "id": "04bb9af4-89f5-4e2c-a62b-d8923488c86c",
   "metadata": {},
   "outputs": [
    {
     "data": {
      "text/plain": [
       "{'legends': ['msd', 'tate', 'vijay'], 'fields': ('cricket', 'matrix', 'movie')}"
      ]
     },
     "execution_count": 154,
     "metadata": {},
     "output_type": "execute_result"
    }
   ],
   "source": [
    "d20"
   ]
  },
  {
   "cell_type": "code",
   "execution_count": 156,
   "id": "cb2c91c9-75d8-492a-b5f1-262c800b6cf3",
   "metadata": {},
   "outputs": [],
   "source": [
    "d19=d20"
   ]
  },
  {
   "cell_type": "code",
   "execution_count": 157,
   "id": "1b04712e-dd77-4272-bac8-c29852b82e06",
   "metadata": {},
   "outputs": [
    {
     "data": {
      "text/plain": [
       "{'legends': ['msd', 'tate', 'vijay'], 'fields': ('cricket', 'matrix', 'movie')}"
      ]
     },
     "execution_count": 157,
     "metadata": {},
     "output_type": "execute_result"
    }
   ],
   "source": [
    "d19"
   ]
  },
  {
   "cell_type": "code",
   "execution_count": 158,
   "id": "cc2a60b9-dd4e-45b3-bc3d-c065607a6d5a",
   "metadata": {},
   "outputs": [],
   "source": [
    "del d20['fields']"
   ]
  },
  {
   "cell_type": "code",
   "execution_count": 159,
   "id": "1369b9e7-dc1e-4de9-a8b4-2ea347b566d4",
   "metadata": {},
   "outputs": [
    {
     "data": {
      "text/plain": [
       "{'legends': ['msd', 'tate', 'vijay']}"
      ]
     },
     "execution_count": 159,
     "metadata": {},
     "output_type": "execute_result"
    }
   ],
   "source": [
    "d20"
   ]
  },
  {
   "cell_type": "code",
   "execution_count": 160,
   "id": "601f1f72-fadb-4851-87bd-b2581d463028",
   "metadata": {},
   "outputs": [
    {
     "data": {
      "text/plain": [
       "{'legends': ['msd', 'tate', 'vijay']}"
      ]
     },
     "execution_count": 160,
     "metadata": {},
     "output_type": "execute_result"
    }
   ],
   "source": [
    "d19"
   ]
  },
  {
   "cell_type": "code",
   "execution_count": null,
   "id": "e5cc768e-b991-441b-ab6a-eeb29a25f99d",
   "metadata": {},
   "outputs": [],
   "source": []
  },
  {
   "cell_type": "code",
   "execution_count": 165,
   "id": "844aa9c0-7790-4a27-bf33-498a602732ab",
   "metadata": {},
   "outputs": [],
   "source": [
    "d18={'legends':['msd','tate','vijay'],'fields':('cricket','matrix','movie'),'money':{489797948974879987,8934798758798,8347987938798794}}"
   ]
  },
  {
   "cell_type": "code",
   "execution_count": 167,
   "id": "0fd17d71-de0e-40cd-a806-73152aafffca",
   "metadata": {},
   "outputs": [
    {
     "data": {
      "text/plain": [
       "('cricket', 'matrix', 'movie')"
      ]
     },
     "execution_count": 167,
     "metadata": {},
     "output_type": "execute_result"
    }
   ],
   "source": [
    "d18.pop('fields')"
   ]
  },
  {
   "cell_type": "code",
   "execution_count": 168,
   "id": "4ac8056b-ff22-4dd6-8908-063dc4158d70",
   "metadata": {},
   "outputs": [
    {
     "data": {
      "text/plain": [
       "{'legends': ['msd', 'tate', 'vijay'],\n",
       " 'money': {8934798758798, 8347987938798794, 489797948974879987}}"
      ]
     },
     "execution_count": 168,
     "metadata": {},
     "output_type": "execute_result"
    }
   ],
   "source": [
    "d18"
   ]
  },
  {
   "cell_type": "code",
   "execution_count": 176,
   "id": "749da5bf-c74b-4f07-b2b5-40aa915b6c3b",
   "metadata": {},
   "outputs": [
    {
     "data": {
      "text/plain": [
       "{1: ('a', 'b', 'c'), 2: ('a', 'b', 'c'), 3: ('a', 'b', 'c')}"
      ]
     },
     "execution_count": 176,
     "metadata": {},
     "output_type": "execute_result"
    }
   ],
   "source": [
    "d18.fromkeys((1,2,3) , ('a','b','c'))"
   ]
  },
  {
   "cell_type": "code",
   "execution_count": 177,
   "id": "56fd98f0-f63a-421c-8462-72b12bf0a5d1",
   "metadata": {},
   "outputs": [
    {
     "data": {
      "text/plain": [
       "{'legends': ['msd', 'tate', 'vijay'],\n",
       " 'money': {8934798758798, 8347987938798794, 489797948974879987}}"
      ]
     },
     "execution_count": 177,
     "metadata": {},
     "output_type": "execute_result"
    }
   ],
   "source": [
    "d18"
   ]
  },
  {
   "cell_type": "code",
   "execution_count": 178,
   "id": "74855c14-db14-450f-a185-61ccfd8e8226",
   "metadata": {},
   "outputs": [],
   "source": [
    "d22={'csk':'msd','mi':'rohit'}\n",
    "d23={'rcb':'kohli','kkr':'iyer'}"
   ]
  },
  {
   "cell_type": "code",
   "execution_count": 179,
   "id": "22df94c0-745f-41f2-884d-ea04782f931b",
   "metadata": {},
   "outputs": [],
   "source": [
    "d22.update(d23)"
   ]
  },
  {
   "cell_type": "code",
   "execution_count": 180,
   "id": "2d334aed-8fef-4d5a-a7e9-0491fea82a2b",
   "metadata": {},
   "outputs": [
    {
     "data": {
      "text/plain": [
       "{'csk': 'msd', 'mi': 'rohit', 'rcb': 'kohli', 'kkr': 'iyer'}"
      ]
     },
     "execution_count": 180,
     "metadata": {},
     "output_type": "execute_result"
    }
   ],
   "source": [
    "d22"
   ]
  },
  {
   "cell_type": "code",
   "execution_count": 181,
   "id": "6a1e0bb4-4bbd-4ab3-ba58-63fb25e87c47",
   "metadata": {},
   "outputs": [],
   "source": [
    "d23.update(d22)"
   ]
  },
  {
   "cell_type": "code",
   "execution_count": 182,
   "id": "60eb15c1-e6eb-4fa1-9781-f1f4d8c898ef",
   "metadata": {},
   "outputs": [
    {
     "data": {
      "text/plain": [
       "{'rcb': 'kohli', 'kkr': 'iyer', 'csk': 'msd', 'mi': 'rohit'}"
      ]
     },
     "execution_count": 182,
     "metadata": {},
     "output_type": "execute_result"
    }
   ],
   "source": [
    "d23"
   ]
  },
  {
   "cell_type": "code",
   "execution_count": 184,
   "id": "4b9797d8-0bce-42c1-ae55-c69aa00f938a",
   "metadata": {},
   "outputs": [],
   "source": [
    "d23.get('rr')"
   ]
  },
  {
   "cell_type": "code",
   "execution_count": 185,
   "id": "ee246a47-27d4-4047-8052-7932f74d2903",
   "metadata": {},
   "outputs": [
    {
     "data": {
      "text/plain": [
       "'kohli'"
      ]
     },
     "execution_count": 185,
     "metadata": {},
     "output_type": "execute_result"
    }
   ],
   "source": [
    "d23.get('rcb')"
   ]
  },
  {
   "cell_type": "markdown",
   "id": "b063466d-4162-478e-93cf-33374b3dfdde",
   "metadata": {},
   "source": [
    "# dictionary comprenensions"
   ]
  },
  {
   "cell_type": "code",
   "execution_count": 190,
   "id": "93e45938-0315-419b-af78-e3ef263afd9b",
   "metadata": {},
   "outputs": [
    {
     "data": {
      "text/plain": [
       "{1: 3, 2: 4, 3: 5, 4: 6, 5: 7, 6: 8}"
      ]
     },
     "execution_count": 190,
     "metadata": {},
     "output_type": "execute_result"
    }
   ],
   "source": [
    "{i:i+2 for i in range(1,7)}"
   ]
  },
  {
   "cell_type": "code",
   "execution_count": 194,
   "id": "121aea06-c7c4-4195-ae0f-ed2b3b5d7d5c",
   "metadata": {},
   "outputs": [
    {
     "data": {
      "text/plain": [
       "{0: 0, 1: 10, 2: 20, 3: 30, 4: 40, 5: 50, 6: 60, 7: 70, 8: 80, 9: 90, 10: 100}"
      ]
     },
     "execution_count": 194,
     "metadata": {},
     "output_type": "execute_result"
    }
   ],
   "source": [
    "{i:i*10 for i in range(0,11)}"
   ]
  },
  {
   "cell_type": "code",
   "execution_count": 202,
   "id": "122ca3be-af88-4183-91b6-0fbde3f76d53",
   "metadata": {},
   "outputs": [],
   "source": [
    "import math\n",
    "d21={i :math.log10(i) for i in range(1,11)}"
   ]
  },
  {
   "cell_type": "code",
   "execution_count": 199,
   "id": "712568b7-2b9b-4c2b-9059-b81c6bfc6537",
   "metadata": {},
   "outputs": [
    {
     "data": {
      "text/plain": [
       "{1: 0.0,\n",
       " 2: 0.3010299956639812,\n",
       " 3: 0.47712125471966244,\n",
       " 4: 0.6020599913279624,\n",
       " 5: 0.6989700043360189,\n",
       " 6: 0.7781512503836436,\n",
       " 7: 0.8450980400142568,\n",
       " 8: 0.9030899869919435,\n",
       " 9: 0.9542425094393249,\n",
       " 10: 1.0}"
      ]
     },
     "execution_count": 199,
     "metadata": {},
     "output_type": "execute_result"
    }
   ],
   "source": [
    "d21"
   ]
  },
  {
   "cell_type": "code",
   "execution_count": 204,
   "id": "6c4b8164-bce4-4f8d-a2a7-71371a62b2af",
   "metadata": {},
   "outputs": [
    {
     "data": {
      "text/plain": [
       "{'name': 'jackk'}"
      ]
     },
     "execution_count": 204,
     "metadata": {},
     "output_type": "execute_result"
    }
   ],
   "source": [
    "d3"
   ]
  },
  {
   "cell_type": "code",
   "execution_count": 205,
   "id": "708d2ac6-ddcf-418f-bbf2-a61e29675d49",
   "metadata": {},
   "outputs": [
    {
     "data": {
      "text/plain": [
       "True"
      ]
     },
     "execution_count": 205,
     "metadata": {},
     "output_type": "execute_result"
    }
   ],
   "source": [
    "'name' in d3"
   ]
  },
  {
   "cell_type": "code",
   "execution_count": 206,
   "id": "95279224-34e3-4a3b-909c-21fdd1fe8906",
   "metadata": {},
   "outputs": [
    {
     "data": {
      "text/plain": [
       "dict_keys([1, 2, 3, 4, 5, 6, 7, 8, 9, 10])"
      ]
     },
     "execution_count": 206,
     "metadata": {},
     "output_type": "execute_result"
    }
   ],
   "source": [
    "d21.keys()"
   ]
  },
  {
   "cell_type": "code",
   "execution_count": 207,
   "id": "0422de54-9415-41db-b87e-55611e26bf2f",
   "metadata": {},
   "outputs": [
    {
     "name": "stdout",
     "output_type": "stream",
     "text": [
      "0.0\n",
      "0.47712125471966244\n",
      "0.6989700043360189\n",
      "0.8450980400142568\n",
      "0.9542425094393249\n"
     ]
    }
   ],
   "source": [
    "for i in d21.keys():\n",
    "    if i%2!=0:\n",
    "        print(d21[i])"
   ]
  },
  {
   "cell_type": "code",
   "execution_count": 208,
   "id": "35ba50c3-695b-4827-8269-48bc42ccc098",
   "metadata": {},
   "outputs": [
    {
     "data": {
      "text/plain": [
       "{1: 0.0,\n",
       " 2: 0.3010299956639812,\n",
       " 3: 0.47712125471966244,\n",
       " 4: 0.6020599913279624,\n",
       " 5: 0.6989700043360189,\n",
       " 6: 0.7781512503836436,\n",
       " 7: 0.8450980400142568,\n",
       " 8: 0.9030899869919435,\n",
       " 9: 0.9542425094393249,\n",
       " 10: 1.0}"
      ]
     },
     "execution_count": 208,
     "metadata": {},
     "output_type": "execute_result"
    }
   ],
   "source": [
    "d21"
   ]
  }
 ],
 "metadata": {
  "kernelspec": {
   "display_name": "Python 3 (ipykernel)",
   "language": "python",
   "name": "python3"
  },
  "language_info": {
   "codemirror_mode": {
    "name": "ipython",
    "version": 3
   },
   "file_extension": ".py",
   "mimetype": "text/x-python",
   "name": "python",
   "nbconvert_exporter": "python",
   "pygments_lexer": "ipython3",
   "version": "3.10.8"
  }
 },
 "nbformat": 4,
 "nbformat_minor": 5
}
