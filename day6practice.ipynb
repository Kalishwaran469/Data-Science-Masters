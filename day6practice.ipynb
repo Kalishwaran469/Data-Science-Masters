{
 "cells": [
  {
   "cell_type": "markdown",
   "id": "fb28eb41-1df3-447c-8f6a-c246d1c9a36b",
   "metadata": {},
   "source": [
    "# functions"
   ]
  },
  {
   "cell_type": "code",
   "execution_count": 2,
   "id": "6f7b661c-2120-4013-ae59-3f45e0ff954c",
   "metadata": {},
   "outputs": [],
   "source": [
    "def test():\n",
    "    pass"
   ]
  },
  {
   "cell_type": "code",
   "execution_count": 3,
   "id": "df11c9c4-0b2c-4d21-9800-b1915dd8c1b5",
   "metadata": {},
   "outputs": [],
   "source": [
    "def test1():\n",
    "    print('this is my game')"
   ]
  },
  {
   "cell_type": "code",
   "execution_count": 4,
   "id": "8194f9c3-4c0b-47c7-beba-9fa49b463229",
   "metadata": {},
   "outputs": [
    {
     "name": "stdout",
     "output_type": "stream",
     "text": [
      "this is my game\n"
     ]
    }
   ],
   "source": [
    "test1()"
   ]
  },
  {
   "cell_type": "code",
   "execution_count": 5,
   "id": "6d8e1d99-f3b1-4d64-b61f-c64f90ddae59",
   "metadata": {},
   "outputs": [
    {
     "name": "stdout",
     "output_type": "stream",
     "text": [
      "this is my game\n"
     ]
    },
    {
     "ename": "TypeError",
     "evalue": "unsupported operand type(s) for +: 'NoneType' and 'str'",
     "output_type": "error",
     "traceback": [
      "\u001b[0;31m---------------------------------------------------------------------------\u001b[0m",
      "\u001b[0;31mTypeError\u001b[0m                                 Traceback (most recent call last)",
      "Cell \u001b[0;32mIn[5], line 1\u001b[0m\n\u001b[0;32m----> 1\u001b[0m \u001b[43mtest1\u001b[49m\u001b[43m(\u001b[49m\u001b[43m)\u001b[49m\u001b[38;5;241;43m+\u001b[39;49m\u001b[38;5;124;43m'\u001b[39;49m\u001b[38;5;124;43mknfvj\u001b[39;49m\u001b[38;5;124;43m'\u001b[39;49m\n",
      "\u001b[0;31mTypeError\u001b[0m: unsupported operand type(s) for +: 'NoneType' and 'str'"
     ]
    }
   ],
   "source": [
    "test1()+'knfvj'"
   ]
  },
  {
   "cell_type": "code",
   "execution_count": 8,
   "id": "eb4fa970-f023-411d-9556-bd5be24f1248",
   "metadata": {},
   "outputs": [],
   "source": [
    "def test1():\n",
    "    return 'this is my game'"
   ]
  },
  {
   "cell_type": "code",
   "execution_count": 9,
   "id": "2d7e4712-fc00-4307-a009-9605e9e32565",
   "metadata": {},
   "outputs": [
    {
     "data": {
      "text/plain": [
       "'this is my game'"
      ]
     },
     "execution_count": 9,
     "metadata": {},
     "output_type": "execute_result"
    }
   ],
   "source": [
    "test1()"
   ]
  },
  {
   "cell_type": "code",
   "execution_count": 12,
   "id": "0c9bbc3f-dc8a-4d96-8a9e-bc271e480f61",
   "metadata": {},
   "outputs": [
    {
     "data": {
      "text/plain": [
       "'this is my game kefwh'"
      ]
     },
     "execution_count": 12,
     "metadata": {},
     "output_type": "execute_result"
    }
   ],
   "source": [
    "test1()+ ' kefwh'"
   ]
  },
  {
   "cell_type": "code",
   "execution_count": 13,
   "id": "d4213b15-4f65-4a68-b76f-80f28254308b",
   "metadata": {},
   "outputs": [],
   "source": [
    "def test2():\n",
    "    return 1,2,4.,'fg',True"
   ]
  },
  {
   "cell_type": "code",
   "execution_count": 14,
   "id": "e594d841-513b-4c6e-932c-078ec0df3aa7",
   "metadata": {},
   "outputs": [
    {
     "data": {
      "text/plain": [
       "(1, 2, 4.0, 'fg', True)"
      ]
     },
     "execution_count": 14,
     "metadata": {},
     "output_type": "execute_result"
    }
   ],
   "source": [
    "test2()"
   ]
  },
  {
   "cell_type": "code",
   "execution_count": 15,
   "id": "832ec7e8-9b46-47ec-b594-7d80dd21789f",
   "metadata": {},
   "outputs": [],
   "source": [
    "j=2,4,5,5,"
   ]
  },
  {
   "cell_type": "code",
   "execution_count": 16,
   "id": "33484858-f48d-4dec-b755-96d973760f2a",
   "metadata": {},
   "outputs": [
    {
     "data": {
      "text/plain": [
       "(2, 4, 5, 5)"
      ]
     },
     "execution_count": 16,
     "metadata": {},
     "output_type": "execute_result"
    }
   ],
   "source": [
    "j"
   ]
  },
  {
   "cell_type": "code",
   "execution_count": 17,
   "id": "7a8c85b8-03e6-463b-9d07-ce3bfa413153",
   "metadata": {},
   "outputs": [],
   "source": [
    "a,c,f,f=1,2,34,5"
   ]
  },
  {
   "cell_type": "code",
   "execution_count": 18,
   "id": "070362de-4f72-4397-a2d3-814d231791e2",
   "metadata": {},
   "outputs": [
    {
     "data": {
      "text/plain": [
       "5"
      ]
     },
     "execution_count": 18,
     "metadata": {},
     "output_type": "execute_result"
    }
   ],
   "source": [
    "f"
   ]
  },
  {
   "cell_type": "code",
   "execution_count": 19,
   "id": "adfbe70c-2038-4665-9cc8-91dbd388ae14",
   "metadata": {},
   "outputs": [
    {
     "data": {
      "text/plain": [
       "1"
      ]
     },
     "execution_count": 19,
     "metadata": {},
     "output_type": "execute_result"
    }
   ],
   "source": [
    "a"
   ]
  },
  {
   "cell_type": "code",
   "execution_count": 20,
   "id": "b8750dc6-ed2d-48ea-82c0-aff907e920a7",
   "metadata": {},
   "outputs": [
    {
     "data": {
      "text/plain": [
       "2"
      ]
     },
     "execution_count": 20,
     "metadata": {},
     "output_type": "execute_result"
    }
   ],
   "source": [
    "c"
   ]
  },
  {
   "cell_type": "code",
   "execution_count": 21,
   "id": "698bd202-0b5b-431b-8105-c0ff46e8b5a1",
   "metadata": {},
   "outputs": [
    {
     "data": {
      "text/plain": [
       "(1, 2, 4.0, 'fg', True)"
      ]
     },
     "execution_count": 21,
     "metadata": {},
     "output_type": "execute_result"
    }
   ],
   "source": [
    "test2()"
   ]
  },
  {
   "cell_type": "code",
   "execution_count": 22,
   "id": "968ef0eb-d230-4201-94d6-7df397825525",
   "metadata": {},
   "outputs": [
    {
     "data": {
      "text/plain": [
       "4.0"
      ]
     },
     "execution_count": 22,
     "metadata": {},
     "output_type": "execute_result"
    }
   ],
   "source": [
    "test2()[2]"
   ]
  },
  {
   "cell_type": "code",
   "execution_count": 25,
   "id": "44570b35-9b97-40bd-ab13-9e1a036f103e",
   "metadata": {},
   "outputs": [],
   "source": [
    "a,b,c,d,e=test2()"
   ]
  },
  {
   "cell_type": "code",
   "execution_count": 26,
   "id": "2946e1ec-a283-4117-a0a0-478061bbb936",
   "metadata": {},
   "outputs": [
    {
     "data": {
      "text/plain": [
       "4.0"
      ]
     },
     "execution_count": 26,
     "metadata": {},
     "output_type": "execute_result"
    }
   ],
   "source": [
    "c"
   ]
  },
  {
   "cell_type": "code",
   "execution_count": 27,
   "id": "fe6c243d-6db7-480a-8562-68cca29ce60d",
   "metadata": {},
   "outputs": [
    {
     "data": {
      "text/plain": [
       "True"
      ]
     },
     "execution_count": 27,
     "metadata": {},
     "output_type": "execute_result"
    }
   ],
   "source": [
    "e"
   ]
  },
  {
   "cell_type": "code",
   "execution_count": 28,
   "id": "20634f3c-5770-4c39-ab08-97cf338707be",
   "metadata": {},
   "outputs": [],
   "source": [
    "def test3():\n",
    "    a=4*3*7\n",
    "    return a"
   ]
  },
  {
   "cell_type": "code",
   "execution_count": 29,
   "id": "d81d3f14-8cb7-41f2-be6d-2506800d2db4",
   "metadata": {},
   "outputs": [
    {
     "data": {
      "text/plain": [
       "84"
      ]
     },
     "execution_count": 29,
     "metadata": {},
     "output_type": "execute_result"
    }
   ],
   "source": [
    "test3()"
   ]
  },
  {
   "cell_type": "code",
   "execution_count": 33,
   "id": "84e207de-495d-409f-b32c-34d7f7911d37",
   "metadata": {},
   "outputs": [],
   "source": [
    "def test3(a,b):\n",
    "    c=a+b\n",
    "    return c"
   ]
  },
  {
   "cell_type": "code",
   "execution_count": 34,
   "id": "e67001a8-7b10-4e56-8b47-bc45c383d5d7",
   "metadata": {},
   "outputs": [
    {
     "data": {
      "text/plain": [
       "8"
      ]
     },
     "execution_count": 34,
     "metadata": {},
     "output_type": "execute_result"
    }
   ],
   "source": [
    "test3(3,5)"
   ]
  },
  {
   "cell_type": "code",
   "execution_count": 35,
   "id": "1e5ba483-21e9-47d6-8200-69d65766295d",
   "metadata": {},
   "outputs": [
    {
     "data": {
      "text/plain": [
       "'fhvkf'"
      ]
     },
     "execution_count": 35,
     "metadata": {},
     "output_type": "execute_result"
    }
   ],
   "source": [
    "test3('fhv','kf')"
   ]
  },
  {
   "cell_type": "code",
   "execution_count": 37,
   "id": "aababe5d-58fc-46ff-b6c4-fa9a76e52e99",
   "metadata": {},
   "outputs": [
    {
     "data": {
      "text/plain": [
       "[1, 2, 4, 1, 2, 3]"
      ]
     },
     "execution_count": 37,
     "metadata": {},
     "output_type": "execute_result"
    }
   ],
   "source": [
    "test3([1,2,4],[1,2,3])"
   ]
  },
  {
   "cell_type": "code",
   "execution_count": 38,
   "id": "ca6bae17-3c28-4b73-832a-eae17985d524",
   "metadata": {},
   "outputs": [
    {
     "data": {
      "text/plain": [
       "'kalllisjack'"
      ]
     },
     "execution_count": 38,
     "metadata": {},
     "output_type": "execute_result"
    }
   ],
   "source": [
    "test3(b='jack',a='kalllis')"
   ]
  },
  {
   "cell_type": "code",
   "execution_count": 43,
   "id": "498ea486-68d0-4704-aea4-288d1b187f6f",
   "metadata": {},
   "outputs": [],
   "source": [
    "l = [1,2,3,4,5,\"sudh\" , \"pwskills\" , [1,2,3,34,45]]"
   ]
  },
  {
   "cell_type": "code",
   "execution_count": 44,
   "id": "4d1f3fce-79a5-429f-8a32-3ed1661b0e28",
   "metadata": {},
   "outputs": [],
   "source": [
    "def test4(a):\n",
    "    n=[]\n",
    "    for i in a:\n",
    "        if type(i)== int:\n",
    "            n.append(i)\n",
    "    return n"
   ]
  },
  {
   "cell_type": "code",
   "execution_count": 45,
   "id": "33c18c86-5608-4ecd-b4bf-25572464dc89",
   "metadata": {},
   "outputs": [
    {
     "data": {
      "text/plain": [
       "[1, 2, 3, 4, 5]"
      ]
     },
     "execution_count": 45,
     "metadata": {},
     "output_type": "execute_result"
    }
   ],
   "source": [
    "test4(l)"
   ]
  },
  {
   "cell_type": "code",
   "execution_count": 54,
   "id": "30d95c0f-f262-4126-88ad-07ca12640f8d",
   "metadata": {},
   "outputs": [],
   "source": [
    "def test4(a):\n",
    "    n=[]\n",
    "    for i in a:\n",
    "        if type(i)== list:\n",
    "            for j in i:\n",
    "                n.append(j)\n",
    "        else:\n",
    "            if type(i)==int:\n",
    "                     n.append(i)\n",
    "    return n"
   ]
  },
  {
   "cell_type": "code",
   "execution_count": 55,
   "id": "225cf2a3-056e-4b56-8adb-85253773ab5a",
   "metadata": {},
   "outputs": [
    {
     "data": {
      "text/plain": [
       "[1, 2, 3, 4, 5, 1, 2, 3, 34, 45]"
      ]
     },
     "execution_count": 55,
     "metadata": {},
     "output_type": "execute_result"
    }
   ],
   "source": [
    "test4(l)"
   ]
  },
  {
   "cell_type": "code",
   "execution_count": 59,
   "id": "e712bb1e-1bf7-4b00-a763-ce04dff95b24",
   "metadata": {},
   "outputs": [],
   "source": [
    "def test(a,b,c,d):\n",
    "    pass"
   ]
  },
  {
   "cell_type": "code",
   "execution_count": 62,
   "id": "08b3a0cf-b73b-40c5-9067-cfd18061b8dd",
   "metadata": {},
   "outputs": [
    {
     "ename": "TypeError",
     "evalue": "test() takes 4 positional arguments but 5 were given",
     "output_type": "error",
     "traceback": [
      "\u001b[0;31m---------------------------------------------------------------------------\u001b[0m",
      "\u001b[0;31mTypeError\u001b[0m                                 Traceback (most recent call last)",
      "Cell \u001b[0;32mIn[62], line 1\u001b[0m\n\u001b[0;32m----> 1\u001b[0m \u001b[43mtest\u001b[49m\u001b[43m(\u001b[49m\u001b[38;5;241;43m1\u001b[39;49m\u001b[43m,\u001b[49m\u001b[38;5;241;43m2\u001b[39;49m\u001b[43m,\u001b[49m\u001b[38;5;241;43m3\u001b[39;49m\u001b[43m,\u001b[49m\u001b[38;5;241;43m4\u001b[39;49m\u001b[43m,\u001b[49m\u001b[38;5;241;43m5\u001b[39;49m\u001b[43m)\u001b[49m\n",
      "\u001b[0;31mTypeError\u001b[0m: test() takes 4 positional arguments but 5 were given"
     ]
    }
   ],
   "source": [
    "test(1,2,3,4,5)"
   ]
  },
  {
   "cell_type": "code",
   "execution_count": 63,
   "id": "aff92d40-67e6-4423-a5ff-d86dadcd2a5f",
   "metadata": {},
   "outputs": [],
   "source": [
    "def test5(*args):\n",
    "    return args"
   ]
  },
  {
   "cell_type": "code",
   "execution_count": 64,
   "id": "b2634eb1-e9cd-4cfa-8b02-0a166673f1c1",
   "metadata": {},
   "outputs": [
    {
     "data": {
      "text/plain": [
       "(1, 2, 3, 'hgf')"
      ]
     },
     "execution_count": 64,
     "metadata": {},
     "output_type": "execute_result"
    }
   ],
   "source": [
    "test5(1,2,3,'hgf')"
   ]
  },
  {
   "cell_type": "code",
   "execution_count": 66,
   "id": "3e9f49ca-2447-4191-8bfc-0b1a4e4abc2a",
   "metadata": {},
   "outputs": [
    {
     "data": {
      "text/plain": [
       "([1, 2, 3, 5], (2, 34, 5), {2, 3, 5})"
      ]
     },
     "execution_count": 66,
     "metadata": {},
     "output_type": "execute_result"
    }
   ],
   "source": [
    "test5([1,2,3,5],(2,34,5),{2,3,5})"
   ]
  },
  {
   "cell_type": "code",
   "execution_count": 67,
   "id": "d8133861-e0b2-4967-8b2c-7e158b9e4b69",
   "metadata": {},
   "outputs": [],
   "source": [
    "def test6(*jack,a):\n",
    "    return jack,a"
   ]
  },
  {
   "cell_type": "code",
   "execution_count": 69,
   "id": "e5b6de4a-8cdb-4562-8114-c4fd8d354aaf",
   "metadata": {},
   "outputs": [
    {
     "data": {
      "text/plain": [
       "((1, 3, 4, 'fkj'), 4)"
      ]
     },
     "execution_count": 69,
     "metadata": {},
     "output_type": "execute_result"
    }
   ],
   "source": [
    "test6(1,3,4,'fkj',a=4)"
   ]
  },
  {
   "cell_type": "code",
   "execution_count": 70,
   "id": "dd490a74-cb65-439a-b1fc-e065cd0d3760",
   "metadata": {},
   "outputs": [],
   "source": [
    "matrix=(1,3,4,'feg',5.0,True,[32,4,5,5],(22,4,5))"
   ]
  },
  {
   "cell_type": "code",
   "execution_count": 71,
   "id": "8e795fbc-cb82-4a37-8b14-363c02116029",
   "metadata": {},
   "outputs": [],
   "source": [
    "def test6(*kfh):\n",
    "    t=[]\n",
    "    for g in kfh:\n",
    "        if type(g)==list:\n",
    "            t.append(g)\n",
    "            return t"
   ]
  },
  {
   "cell_type": "code",
   "execution_count": 73,
   "id": "f6c750d1-72a6-401d-a30f-ce45159eb9cc",
   "metadata": {},
   "outputs": [
    {
     "data": {
      "text/plain": [
       "[[32, 4, 5, 5]]"
      ]
     },
     "execution_count": 73,
     "metadata": {},
     "output_type": "execute_result"
    }
   ],
   "source": [
    "test6(1,3,4,'feg',5.0,True,[32,4,5,5],(22,4,5))"
   ]
  },
  {
   "cell_type": "code",
   "execution_count": 74,
   "id": "248d953a-eee1-460f-a674-a0d183a0cec5",
   "metadata": {},
   "outputs": [],
   "source": [
    "def test7(**dhoni):\n",
    "    return dhoni"
   ]
  },
  {
   "cell_type": "code",
   "execution_count": 75,
   "id": "43f81ce5-f6a1-4bb7-8376-0c579784a9cb",
   "metadata": {},
   "outputs": [
    {
     "data": {
      "text/plain": [
       "{}"
      ]
     },
     "execution_count": 75,
     "metadata": {},
     "output_type": "execute_result"
    }
   ],
   "source": [
    "test7()"
   ]
  },
  {
   "cell_type": "raw",
   "id": "37303250-31ba-4d53-88fb-d55b60a555c7",
   "metadata": {},
   "source": [
    "type(test7())"
   ]
  },
  {
   "cell_type": "code",
   "execution_count": 77,
   "id": "8f3f60cc-96a3-46bd-badb-e110c7b2ccc0",
   "metadata": {},
   "outputs": [
    {
     "data": {
      "text/plain": [
       "{'a': 1, 'b': 4, 'c': 'ibhg', 'd': True}"
      ]
     },
     "execution_count": 77,
     "metadata": {},
     "output_type": "execute_result"
    }
   ],
   "source": [
    "test7(a=1,b=4,c='ibhg',d=True)"
   ]
  },
  {
   "cell_type": "code",
   "execution_count": 78,
   "id": "3828ac56-cee1-4861-af4b-804fbf861c90",
   "metadata": {},
   "outputs": [],
   "source": [
    "def test7(**msd):\n",
    "    for i in msd.keys():\n",
    "        if type(msd[i])==bool:\n",
    "            return i,msd[i] \n",
    "    \n",
    "    "
   ]
  },
  {
   "cell_type": "code",
   "execution_count": 79,
   "id": "135448dc-7fae-4555-80d4-946115078e38",
   "metadata": {},
   "outputs": [
    {
     "data": {
      "text/plain": [
       "('d', True)"
      ]
     },
     "execution_count": 79,
     "metadata": {},
     "output_type": "execute_result"
    }
   ],
   "source": [
    "test7(a=1,b=4,c='ibhg',d=True)"
   ]
  },
  {
   "cell_type": "code",
   "execution_count": 81,
   "id": "3b3b3aa9-f008-4bee-8170-f5f135858d1f",
   "metadata": {},
   "outputs": [
    {
     "data": {
      "text/plain": [
       "range(1, 5)"
      ]
     },
     "execution_count": 81,
     "metadata": {},
     "output_type": "execute_result"
    }
   ],
   "source": [
    "range(1,5)"
   ]
  },
  {
   "cell_type": "code",
   "execution_count": 82,
   "id": "40250e1f-8e53-49c8-ab1d-abc03cb35da7",
   "metadata": {},
   "outputs": [
    {
     "name": "stdout",
     "output_type": "stream",
     "text": [
      "1\n",
      "2\n",
      "3\n",
      "4\n"
     ]
    }
   ],
   "source": [
    "for i in range (1,5):\n",
    "    print(i)\n",
    "                "
   ]
  },
  {
   "cell_type": "markdown",
   "id": "6ab50ac9-1d1d-46a6-adbf-b81900f3a253",
   "metadata": {},
   "source": [
    "# generator functions"
   ]
  },
  {
   "cell_type": "code",
   "execution_count": 89,
   "id": "8df58936-4dd8-41b4-8a9d-f8c3c9e607d8",
   "metadata": {},
   "outputs": [],
   "source": [
    "def test_fib(n):\n",
    "    a,b=5,10\n",
    "    for i in range(n):\n",
    "        yield a\n",
    "        a,b=b,a+b"
   ]
  },
  {
   "cell_type": "code",
   "execution_count": 90,
   "id": "439cd2ee-0b56-4ff6-aea8-770acdd66daf",
   "metadata": {},
   "outputs": [
    {
     "name": "stdout",
     "output_type": "stream",
     "text": [
      "5\n",
      "10\n",
      "15\n",
      "25\n",
      "40\n",
      "65\n",
      "105\n",
      "170\n",
      "275\n",
      "445\n"
     ]
    }
   ],
   "source": [
    "for i in test_fib(10):\n",
    "    print(i)"
   ]
  },
  {
   "cell_type": "code",
   "execution_count": 86,
   "id": "c533388a-a312-4513-b41c-93fa4b256b95",
   "metadata": {},
   "outputs": [
    {
     "data": {
      "text/plain": [
       "range(0, 10)"
      ]
     },
     "execution_count": 86,
     "metadata": {},
     "output_type": "execute_result"
    }
   ],
   "source": [
    "range(10)"
   ]
  },
  {
   "cell_type": "code",
   "execution_count": null,
   "id": "3c75876e-7317-4bf0-9113-a8ec53b41a93",
   "metadata": {},
   "outputs": [],
   "source": []
  }
 ],
 "metadata": {
  "kernelspec": {
   "display_name": "Python 3 (ipykernel)",
   "language": "python",
   "name": "python3"
  },
  "language_info": {
   "codemirror_mode": {
    "name": "ipython",
    "version": 3
   },
   "file_extension": ".py",
   "mimetype": "text/x-python",
   "name": "python",
   "nbconvert_exporter": "python",
   "pygments_lexer": "ipython3",
   "version": "3.10.8"
  }
 },
 "nbformat": 4,
 "nbformat_minor": 5
}
