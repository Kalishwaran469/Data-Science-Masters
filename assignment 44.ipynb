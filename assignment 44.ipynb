{
 "cells": [
  {
   "cell_type": "code",
   "execution_count": null,
   "id": "0bf60d46-2736-410e-9a0d-0bafa38c38cb",
   "metadata": {},
   "outputs": [],
   "source": [
    "# question 1"
   ]
  },
  {
   "cell_type": "code",
   "execution_count": null,
   "id": "8cb2e2e0-b4ba-479e-be2d-3da2bb24478a",
   "metadata": {},
   "outputs": [],
   "source": [
    "# Encoding categorical data is a process of converting categorical data into integer format so that the data with converted categorical values can be provided to the models to give and improve the predictions."
   ]
  },
  {
   "cell_type": "code",
   "execution_count": null,
   "id": "ff25106d-cfd4-474c-b5ed-ae69a5d01e4f",
   "metadata": {},
   "outputs": [],
   "source": [
    "# question2"
   ]
  },
  {
   "cell_type": "code",
   "execution_count": null,
   "id": "bedfbd96-f015-4458-a761-11c03752d0a7",
   "metadata": {},
   "outputs": [],
   "source": [
    "# One hot encoding, also known as nominal encoding, is a technique used to represent categorical data as numerical data, which is more suitable for machine learning algorithms. In this technique, each category is represented as a binary vector where each bit corresponds to a unique category.When we have a feature where variables are just names and there is no order or rank to this variable's feature. For example: City of person lives in, Gender of person, Marital Status, etc… In the above example, We do not have any order or rank, or sequence.so we need to use nominal encoding to represent categorical data in the form of numerical data."
   ]
  },
  {
   "cell_type": "code",
   "execution_count": null,
   "id": "2986e7aa-3cf5-471f-873b-855c5d98cc47",
   "metadata": {},
   "outputs": [],
   "source": [
    "# question 4"
   ]
  },
  {
   "cell_type": "code",
   "execution_count": null,
   "id": "afce8802-8bec-4a42-ad30-f698ec432f8e",
   "metadata": {},
   "outputs": [],
   "source": [
    "# in this question i must use one hot encoding because only 5 unique values are there so i use o e hot encoding to represent the data in a binary format"
   ]
  },
  {
   "cell_type": "code",
   "execution_count": null,
   "id": "a100a4fc-c9a2-4303-b9cf-007d7a29ad21",
   "metadata": {},
   "outputs": [],
   "source": [
    "# question 5"
   ]
  },
  {
   "cell_type": "code",
   "execution_count": null,
   "id": "a62d46fa-6fb9-4bc4-ac65-9ff6e7abb438",
   "metadata": {},
   "outputs": [],
   "source": [
    "# in this question i am using the nominal encoding to transform the categorical data into numerical value ,the question is how many new colums will be created? it's completely depends upon how many unique values are there in particular 2 columns."
   ]
  },
  {
   "cell_type": "code",
   "execution_count": null,
   "id": "b059b1c5-2dfd-4991-96e9-3c6ae71be59f",
   "metadata": {},
   "outputs": [],
   "source": [
    "# question 7"
   ]
  },
  {
   "cell_type": "code",
   "execution_count": null,
   "id": "309585cf-51d1-4d16-b1b6-bf52f68d92a2",
   "metadata": {},
   "outputs": [],
   "source": [
    "# in this question we must use \"target guided ordinal encoding\" technique why because there are 5 features available in this question like gender,age,contract type,price charges,tenure our motive is to predict customer's churn.The main principle of target guided ordinal encoding is encode the categorical variable based on their relationship with the targeted variable.here we first take 'gender' feature to predict the predict the outcome why because we all know in gender category only two unique values are there male and female then we take target variable as 'monthly charges' category because only from this category we calculated the mean price to conclude whether male/female mostly paid monthly charges? then only we can conclude which gender type is mostly want to stop services based on the mean price. finally we get a mean of 'monthly charges' paid by both male and female category .we saw both male/female to consider which category paid lowest mean price then only we can conclude whether male/female category want to stop the services.finally to create a encode column to map the mean price for male/female category with the gender column "
   ]
  },
  {
   "cell_type": "code",
   "execution_count": null,
   "id": "a02ca9d7-0dbf-4fb6-ab1f-9e073776c325",
   "metadata": {},
   "outputs": [],
   "source": []
  },
  {
   "cell_type": "code",
   "execution_count": null,
   "id": "4f113995-7131-4cfd-8d55-3e517b63e87b",
   "metadata": {},
   "outputs": [],
   "source": []
  },
  {
   "cell_type": "code",
   "execution_count": null,
   "id": "5b02c9a4-a7a8-4bae-9f16-392800bccf4d",
   "metadata": {},
   "outputs": [],
   "source": []
  },
  {
   "cell_type": "code",
   "execution_count": null,
   "id": "8e3ce2fe-490d-4ec5-9998-80e5470584a2",
   "metadata": {},
   "outputs": [],
   "source": []
  }
 ],
 "metadata": {
  "kernelspec": {
   "display_name": "Python 3 (ipykernel)",
   "language": "python",
   "name": "python3"
  },
  "language_info": {
   "codemirror_mode": {
    "name": "ipython",
    "version": 3
   },
   "file_extension": ".py",
   "mimetype": "text/x-python",
   "name": "python",
   "nbconvert_exporter": "python",
   "pygments_lexer": "ipython3",
   "version": "3.10.8"
  }
 },
 "nbformat": 4,
 "nbformat_minor": 5
}
