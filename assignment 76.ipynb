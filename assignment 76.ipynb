{
 "cells": [
  {
   "cell_type": "code",
   "execution_count": null,
   "id": "51b47bd3-f93f-4227-af7e-41e6d0ae2960",
   "metadata": {},
   "outputs": [],
   "source": [
    "# question 1"
   ]
  },
  {
   "cell_type": "code",
   "execution_count": null,
   "id": "466b2b02-5c39-4812-9dda-75f411efc28c",
   "metadata": {},
   "outputs": [],
   "source": [
    "# The last step of PCA is we need to multiply Q tranpose of Q with the original data matrix in order to get the projection matrix. It can be thought of as a projection method where data with m-columns (features) is projected into a subspace with m or fewer columns, whilst retaining the essence of the original data."
   ]
  },
  {
   "cell_type": "code",
   "execution_count": null,
   "id": "c19a5a41-4d9d-444a-896f-f796e7d9c36d",
   "metadata": {},
   "outputs": [],
   "source": [
    "# question 2"
   ]
  },
  {
   "cell_type": "code",
   "execution_count": null,
   "id": "980831a6-21a7-420e-822e-9c95e811f7f4",
   "metadata": {},
   "outputs": [],
   "source": [
    "#  A computational problem in which the object is to find the best of all possible solutions. More formally, find a solution in the feasible region which has the minimum (or maximum) value of the objective function."
   ]
  },
  {
   "cell_type": "code",
   "execution_count": null,
   "id": "9f9a672d-6508-4786-83fc-ecf85870a60e",
   "metadata": {},
   "outputs": [],
   "source": [
    "# question 3"
   ]
  },
  {
   "cell_type": "code",
   "execution_count": null,
   "id": "eabc1dce-97dd-4151-b812-969d8c992bfe",
   "metadata": {},
   "outputs": [],
   "source": [
    "# the covariance matrix will explain the relationship between any two features in the data. This process is used in collinear variables. A positive covariance value shows a direct relationship (both variables increase or decrease)."
   ]
  },
  {
   "cell_type": "code",
   "execution_count": null,
   "id": "0f519da0-2ef0-4d38-9630-b1becd1a9f74",
   "metadata": {},
   "outputs": [],
   "source": [
    "# question 5"
   ]
  },
  {
   "cell_type": "code",
   "execution_count": null,
   "id": "c42005d8-9e36-4545-a973-32d682075cea",
   "metadata": {},
   "outputs": [],
   "source": [
    "# the main aim of pca is reducing the dimensions in the case of feature selection it's only select most important features so unimportant features are neglected in this feature selection technique"
   ]
  },
  {
   "cell_type": "code",
   "execution_count": null,
   "id": "c4d1d676-356f-45ee-a189-a61706e8b30b",
   "metadata": {},
   "outputs": [],
   "source": [
    "# question 6"
   ]
  },
  {
   "cell_type": "code",
   "execution_count": null,
   "id": "22205d15-a2dd-4a22-a8e7-3ed7ced18843",
   "metadata": {},
   "outputs": [],
   "source": [
    "# PCA is used to visualize multidimensional data.\n",
    "# It is used to reduce the number of dimensions in healthcare data.\n",
    "# PCA can help resize an image.\n",
    "# It can be used in finance to analyze stock data and forecast returns.\n",
    "# PCA helps to find patterns in the high-dimensional datasets."
   ]
  },
  {
   "cell_type": "code",
   "execution_count": null,
   "id": "0afe52b6-7a4c-4028-bbfb-a8a5db19dab2",
   "metadata": {},
   "outputs": [],
   "source": [
    "# question 7"
   ]
  },
  {
   "cell_type": "code",
   "execution_count": null,
   "id": "6bd27257-edf6-4406-a788-7e64ab04c79b",
   "metadata": {},
   "outputs": [],
   "source": [
    "# spread is a distance between first datapoint and last datapoint on the other hand variance is how many points covered under spread because the main motive of pca is to cover the maximum variance."
   ]
  },
  {
   "cell_type": "code",
   "execution_count": null,
   "id": "57f39d8e-3a5a-4d2f-8b7b-4ac505af9bed",
   "metadata": {},
   "outputs": [],
   "source": [
    "# question 8"
   ]
  },
  {
   "cell_type": "code",
   "execution_count": null,
   "id": "c4c4189f-2dba-48b6-92f9-08129c59fcfc",
   "metadata": {},
   "outputs": [],
   "source": [
    "# suppose we have multiple pca and our aim is to select the best pca .for this purpose we use spread and variance normally spread define the distance between first datapoint and last datapoint also variance is most important for selecting best pca because whichever pca mostly covers the maximum variance is the best pca."
   ]
  },
  {
   "cell_type": "code",
   "execution_count": null,
   "id": "cca30639-48f5-4751-ad27-47ff91bdef31",
   "metadata": {},
   "outputs": [],
   "source": [
    "# question 9"
   ]
  },
  {
   "cell_type": "code",
   "execution_count": null,
   "id": "533eb17a-31b1-4e8e-a881-3d65417ad447",
   "metadata": {},
   "outputs": [],
   "source": [
    "# PCA generally tries to find the lower-dimensional surface to project the high-dimensional data. PCA works by considering the variance of each attribute because the high attribute shows the good split between the classes, and hence it reduces the dimensionality.\n"
   ]
  }
 ],
 "metadata": {
  "kernelspec": {
   "display_name": "Python 3 (ipykernel)",
   "language": "python",
   "name": "python3"
  },
  "language_info": {
   "codemirror_mode": {
    "name": "ipython",
    "version": 3
   },
   "file_extension": ".py",
   "mimetype": "text/x-python",
   "name": "python",
   "nbconvert_exporter": "python",
   "pygments_lexer": "ipython3",
   "version": "3.10.8"
  }
 },
 "nbformat": 4,
 "nbformat_minor": 5
}
