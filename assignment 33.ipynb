{
 "cells": [
  {
   "cell_type": "code",
   "execution_count": null,
   "id": "c24aa2bd-8dbd-42bd-a8d6-bbd230df8b28",
   "metadata": {},
   "outputs": [],
   "source": [
    "# question 1"
   ]
  },
  {
   "cell_type": "code",
   "execution_count": null,
   "id": "d8f73fbd-1f5c-40b2-96a2-a34144c1f85e",
   "metadata": {},
   "outputs": [],
   "source": [
    "# Probability mass functions (pmf) are used to describe discrete probability distributions. While probability density functions (pdf) are used to describe continuous probability distributions.\n",
    "# pdf example:height of students\n",
    "# pmf example:rolling a dice"
   ]
  },
  {
   "cell_type": "code",
   "execution_count": null,
   "id": "db0a1cc3-16a2-4c92-b1bc-b9ab13ad973e",
   "metadata": {},
   "outputs": [],
   "source": [
    "# question 2"
   ]
  },
  {
   "cell_type": "code",
   "execution_count": null,
   "id": "cfb7d604-d327-4a8a-83d4-67469302c6ec",
   "metadata": {},
   "outputs": [],
   "source": [
    "# The cumulative distribution function (cdf) gives the probability that the random variable X is less than or equal to x and is usually denoted F(x) . The cumulative distribution function of a random variable X is the function given by F(x)=P[X≤x].\n",
    "# The cumulative distribution function is used to describe the probability distribution of random variables. It can be used to describe the probability for a discrete, continuous or mixed variable. It is obtained by summing up the probability density function and getting the cumulative probability for a random variable.\n",
    "# The size of the jump at each point is equal to the probability at that point. For, example, at point x=1, the CDF jumps from 14 to 34. The size of the jump here is 34−14=10 which is equal to PX(1)."
   ]
  },
  {
   "cell_type": "code",
   "execution_count": null,
   "id": "682e6ef0-e6bc-4f90-a9d8-67c84e939924",
   "metadata": {},
   "outputs": [],
   "source": [
    "# question 3"
   ]
  },
  {
   "cell_type": "code",
   "execution_count": null,
   "id": "3e2482db-a680-4b52-b29a-1a5c497ab70a",
   "metadata": {},
   "outputs": [],
   "source": [
    "# The height of people is an example of normal distribution. Most of the people in a specific population are of average height. The number of people taller and shorter than the average height people is almost equal, and a very small number of people are either extremely tall or extremely short.\n"
   ]
  },
  {
   "cell_type": "code",
   "execution_count": null,
   "id": "31d38776-90b4-4b97-aadb-0cdade7b47fe",
   "metadata": {},
   "outputs": [],
   "source": [
    "# question 4"
   ]
  },
  {
   "cell_type": "code",
   "execution_count": null,
   "id": "a7a34a03-9c86-46e5-9e04-fdd8d6042209",
   "metadata": {},
   "outputs": [],
   "source": [
    "# The normal distribution is widely used in understanding distributions of factors in the population. Because the normal distribution approximates many natural phenomena so well, it has developed into a standard of reference for many probability problems.\n",
    "# few examples: height of the peoples,rolling a dice,flipping a coin"
   ]
  },
  {
   "cell_type": "code",
   "execution_count": null,
   "id": "38858404-bb3b-4864-8df9-72358873cf6a",
   "metadata": {},
   "outputs": [],
   "source": [
    "# question 5"
   ]
  },
  {
   "cell_type": "code",
   "execution_count": null,
   "id": "fbd09d70-f8ba-4816-91dd-c7965ec0f9b0",
   "metadata": {},
   "outputs": [],
   "source": [
    "# The Bernoulli distribution represents the success or failure of a single Bernoulli trial. The Binomial Distribution represents the number of successes and failures in n independent Bernoulli trials for some given value of n.\n",
    "# example for bernoulli distribution is \"whether the particular person in the group is male/female\"\n",
    "# example for binomial distribution is slightly different from the above one \"conduct a survey for all persons in the group.whether the person is male/female\""
   ]
  },
  {
   "cell_type": "code",
   "execution_count": null,
   "id": "72585ce1-9181-4907-b85e-859c88f5b75a",
   "metadata": {},
   "outputs": [],
   "source": [
    "# question 7"
   ]
  },
  {
   "cell_type": "code",
   "execution_count": null,
   "id": "e9beeab3-89a6-4764-bcca-854448c66384",
   "metadata": {},
   "outputs": [],
   "source": [
    "# uniform distribution refers to a type of probability distribution in which all outcomes are equally likely. A deck of cards has within it uniform distributions because the likelihood of drawing a heart, a club, a diamond, or a spade is equally likely."
   ]
  },
  {
   "cell_type": "code",
   "execution_count": null,
   "id": "78e8efdd-1515-4869-942d-9b7712a3ff1a",
   "metadata": {},
   "outputs": [],
   "source": [
    "# question 8"
   ]
  },
  {
   "cell_type": "code",
   "execution_count": null,
   "id": "96db92dc-d5d1-4d84-b233-9c809a9f9659",
   "metadata": {},
   "outputs": [],
   "source": [
    "# The value of the z-score tells you how many standard deviations you are away from the mean. If a z-score is equal to 0, it is on the mean. A positive z-score indicates the raw score is higher than the mean average. For example, if a z-score is equal to +1, it is 1 standard deviation above the mean."
   ]
  },
  {
   "cell_type": "code",
   "execution_count": null,
   "id": "dde1cf88-12bd-4cd1-b6dd-fd8a49cc3128",
   "metadata": {},
   "outputs": [],
   "source": [
    "# question 9"
   ]
  },
  {
   "cell_type": "code",
   "execution_count": null,
   "id": "38ad01ad-5890-4838-aa5a-facdfb44a808",
   "metadata": {},
   "outputs": [],
   "source": [
    "# The central limit theorem says that the sampling distribution of the mean will always be normally distributed, as long as the sample size is large enough. Regardless of whether the population has a normal, Poisson, binomial, or any other distribution, the sampling distribution of the mean will be normal.\n"
   ]
  },
  {
   "cell_type": "code",
   "execution_count": null,
   "id": "4075a0fc-e25c-4998-ad2f-b279ecdc46b5",
   "metadata": {},
   "outputs": [],
   "source": [
    "# question 10"
   ]
  },
  {
   "cell_type": "code",
   "execution_count": null,
   "id": "51185b40-1379-4f36-8868-1c9db8c22e3d",
   "metadata": {},
   "outputs": [],
   "source": [
    "# It needs to be sampled at random. The samples should be unrelated to one another. One sample should not impact the others. When taking samples without replacement, the sample size should not exceed 10% of the population."
   ]
  },
  {
   "cell_type": "code",
   "execution_count": null,
   "id": "ed0b22a2-35a9-4860-8690-e0f7710888ea",
   "metadata": {},
   "outputs": [],
   "source": []
  }
 ],
 "metadata": {
  "kernelspec": {
   "display_name": "Python 3 (ipykernel)",
   "language": "python",
   "name": "python3"
  },
  "language_info": {
   "codemirror_mode": {
    "name": "ipython",
    "version": 3
   },
   "file_extension": ".py",
   "mimetype": "text/x-python",
   "name": "python",
   "nbconvert_exporter": "python",
   "pygments_lexer": "ipython3",
   "version": "3.10.8"
  }
 },
 "nbformat": 4,
 "nbformat_minor": 5
}
