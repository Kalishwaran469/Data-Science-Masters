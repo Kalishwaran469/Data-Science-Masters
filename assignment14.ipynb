{
 "cells": [
  {
   "cell_type": "code",
   "execution_count": null,
   "id": "d37eb622-99bb-4334-b818-37f6848e2801",
   "metadata": {},
   "outputs": [],
   "source": [
    "# question1"
   ]
  },
  {
   "cell_type": "code",
   "execution_count": null,
   "id": "4cf2751a-88c3-40a5-9d77-dc888580d362",
   "metadata": {},
   "outputs": [],
   "source": [
    "# Multiprocessing in Python is a built-in package that allows the system to run multiple processes simultaneously. \n",
    "# It will enable the breaking of applications into smaller threads that can run independently."
   ]
  },
  {
   "cell_type": "code",
   "execution_count": null,
   "id": "420f9412-a7c3-4c57-95fa-e08dfe9d1b44",
   "metadata": {},
   "outputs": [],
   "source": [
    "# question2"
   ]
  },
  {
   "cell_type": "code",
   "execution_count": null,
   "id": "bf9b4b31-050d-44bc-b020-38e8991b5e56",
   "metadata": {},
   "outputs": [],
   "source": [
    "# In Multiprocessing, CPUs are added for increasing computing power -\tWhile In Multithreading, many threads are created of a single process for increasing computing power.\n",
    "# In Multiprocessing, Many processes are executed simultaneously.\tWhile in multithreading, many threads of a process are executed simultaneously.\n",
    "# Multiprocessing are classified into Symmetric and Asymmetric.\tWhile Multithreading is not classified in any categories."
   ]
  },
  {
   "cell_type": "code",
   "execution_count": null,
   "id": "aec1c9ce-ca44-4d05-b721-f659dcf24646",
   "metadata": {},
   "outputs": [],
   "source": [
    "# question3"
   ]
  },
  {
   "cell_type": "code",
   "execution_count": 3,
   "id": "f182446e-15b2-40ce-84a8-559fdb2ea2e5",
   "metadata": {},
   "outputs": [
    {
     "name": "stdout",
     "output_type": "stream",
     "text": [
      "this is my process and main program\n",
      "this is my multiprocessing program\n"
     ]
    }
   ],
   "source": [
    "import multiprocessing\n",
    "\n",
    "def test():\n",
    "    print('this is my multiprocessing program')\n",
    "    \n",
    "if __name__ =='__main__':\n",
    "    k=multiprocessing.Process(target=test)\n",
    "    print('this is my process and main program')\n",
    "    k.start()\n",
    "    k.join()\n"
   ]
  },
  {
   "cell_type": "code",
   "execution_count": null,
   "id": "eaaaf1c9-4bde-42a6-981b-aa7667ae2c85",
   "metadata": {},
   "outputs": [],
   "source": [
    "# question4"
   ]
  },
  {
   "cell_type": "code",
   "execution_count": null,
   "id": "c9fbf035-ff9d-4171-85b4-d2e9d4055287",
   "metadata": {},
   "outputs": [],
   "source": [
    "# Python multiprocessing Pool can be used for parallel execution of a function across multiple input values, distributing the input data across processes"
   ]
  },
  {
   "cell_type": "code",
   "execution_count": null,
   "id": "f06b2d0a-3b3f-4331-a024-9307fe69c327",
   "metadata": {},
   "outputs": [],
   "source": [
    "# question6"
   ]
  },
  {
   "cell_type": "code",
   "execution_count": null,
   "id": "ec149d2a-3259-4058-b472-bd6133d15a79",
   "metadata": {},
   "outputs": [],
   "source": [
    "# "
   ]
  },
  {
   "cell_type": "code",
   "execution_count": null,
   "id": "49c57ce9-918a-4fec-9920-0d5aeded54d5",
   "metadata": {},
   "outputs": [],
   "source": []
  },
  {
   "cell_type": "code",
   "execution_count": null,
   "id": "d49000af-bc0c-4461-8b9e-8ba3de7c6784",
   "metadata": {},
   "outputs": [],
   "source": []
  }
 ],
 "metadata": {
  "kernelspec": {
   "display_name": "Python 3 (ipykernel)",
   "language": "python",
   "name": "python3"
  },
  "language_info": {
   "codemirror_mode": {
    "name": "ipython",
    "version": 3
   },
   "file_extension": ".py",
   "mimetype": "text/x-python",
   "name": "python",
   "nbconvert_exporter": "python",
   "pygments_lexer": "ipython3",
   "version": "3.10.8"
  }
 },
 "nbformat": 4,
 "nbformat_minor": 5
}
