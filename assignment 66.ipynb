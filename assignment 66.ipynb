{
 "cells": [
  {
   "cell_type": "code",
   "execution_count": null,
   "id": "c56815e7-95e2-4e90-8bc6-fc392b9dd1a4",
   "metadata": {},
   "outputs": [],
   "source": [
    "# question 1"
   ]
  },
  {
   "cell_type": "code",
   "execution_count": null,
   "id": "3141a3d7-70a0-4d0b-ab1b-eb808c8c3ef2",
   "metadata": {},
   "outputs": [],
   "source": [
    "# Bagging attempts to reduce the chance of overfitting complex models. It trains a large number of “strong” learners in parallel. A strong learner is a model that's relatively unconstrained. Bagging then combines all the strong learners together in order to “smooth out” their predictions."
   ]
  },
  {
   "cell_type": "code",
   "execution_count": null,
   "id": "13068b89-13da-4a5c-a594-c40e7324b54b",
   "metadata": {},
   "outputs": [],
   "source": [
    "# question 2"
   ]
  },
  {
   "cell_type": "code",
   "execution_count": null,
   "id": "84273872-c45f-4f9a-9220-aba176bbe042",
   "metadata": {},
   "outputs": [],
   "source": [
    "# Bagging offers the advantage of allowing many weak learners to combine efforts to outdo a single strong learner. It also helps in the reduction of variance, hence eliminating the overfitting of models in the procedure. One disadvantage of bagging is that it introduces a loss of interpretability of a model."
   ]
  },
  {
   "cell_type": "code",
   "execution_count": null,
   "id": "f02e3c1d-13d1-4b9d-b152-13ca81d75958",
   "metadata": {},
   "outputs": [],
   "source": [
    "# question 3"
   ]
  },
  {
   "cell_type": "code",
   "execution_count": null,
   "id": "7d3ee261-be23-4768-88af-8c5726d3a14e",
   "metadata": {},
   "outputs": [],
   "source": [
    "# Bagging decreases variance, not bias"
   ]
  },
  {
   "cell_type": "code",
   "execution_count": null,
   "id": "5a0e4ac2-1bf5-474f-b70b-267690afcf27",
   "metadata": {},
   "outputs": [],
   "source": [
    "# question 4"
   ]
  },
  {
   "cell_type": "code",
   "execution_count": null,
   "id": "be29105e-2ae5-4219-97ae-b945c6116014",
   "metadata": {},
   "outputs": [],
   "source": [
    "# yes bagging is used for both classification and regression tasks.in classification tasks output is predicted is using maximum voting classifier but in regression tasks output is average of the base learner models"
   ]
  },
  {
   "cell_type": "code",
   "execution_count": null,
   "id": "1c30b5ec-0285-4a60-b7a1-2ee5d68a61e0",
   "metadata": {},
   "outputs": [],
   "source": [
    "# question 5"
   ]
  },
  {
   "cell_type": "code",
   "execution_count": null,
   "id": "0d0cdbc8-3188-4256-92c5-1edd635ed94e",
   "metadata": {},
   "outputs": [],
   "source": [
    "# The three main classes of ensemble learning methods are bagging, stacking, and boosting, and it is important to both have a detailed understanding of each method and to consider them on your predictive modeling project."
   ]
  },
  {
   "cell_type": "code",
   "execution_count": null,
   "id": "d15f49d8-66f5-403f-a9f4-7a8540d42731",
   "metadata": {},
   "outputs": [],
   "source": [
    "# question 6"
   ]
  },
  {
   "cell_type": "code",
   "execution_count": null,
   "id": "9a01689f-2dea-4282-beb2-6f55b009898a",
   "metadata": {},
   "outputs": [],
   "source": [
    "# Technology:- Bagging improves upon the precision and accuracy of IT systems, such as the ones in network intrusion detection systems. Finance:- This process helps with fraud detection, credit risk evaluations, and option pricing problems by leveraging deep learning models and improving accuracy."
   ]
  },
  {
   "cell_type": "code",
   "execution_count": null,
   "id": "57ca29d3-5789-4a64-af6c-5355bb1e6c3f",
   "metadata": {},
   "outputs": [],
   "source": []
  },
  {
   "cell_type": "code",
   "execution_count": null,
   "id": "1da756be-c2c5-4fdb-bcda-aef20cf0886c",
   "metadata": {},
   "outputs": [],
   "source": []
  }
 ],
 "metadata": {
  "kernelspec": {
   "display_name": "Python 3 (ipykernel)",
   "language": "python",
   "name": "python3"
  },
  "language_info": {
   "codemirror_mode": {
    "name": "ipython",
    "version": 3
   },
   "file_extension": ".py",
   "mimetype": "text/x-python",
   "name": "python",
   "nbconvert_exporter": "python",
   "pygments_lexer": "ipython3",
   "version": "3.10.8"
  }
 },
 "nbformat": 4,
 "nbformat_minor": 5
}
