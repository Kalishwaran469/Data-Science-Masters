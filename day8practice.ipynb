{
 "cells": [
  {
   "cell_type": "code",
   "execution_count": 2,
   "id": "6d7711fd-786a-4fc5-951f-90a4e0d9bd7c",
   "metadata": {},
   "outputs": [],
   "source": [
    "class test:\n",
    "    pass"
   ]
  },
  {
   "cell_type": "code",
   "execution_count": 3,
   "id": "c6e055b6-e2b7-45e8-bdfe-7a9647f6b201",
   "metadata": {},
   "outputs": [],
   "source": [
    "jj=test()"
   ]
  },
  {
   "cell_type": "code",
   "execution_count": 4,
   "id": "b72a8f45-df2c-46e7-8e88-cb95ab6eb6c9",
   "metadata": {},
   "outputs": [
    {
     "name": "stdout",
     "output_type": "stream",
     "text": [
      "<class '__main__.test'>\n"
     ]
    }
   ],
   "source": [
    "print(type(jj))"
   ]
  },
  {
   "cell_type": "code",
   "execution_count": 5,
   "id": "d39662c8-5178-4dc7-b9d7-e2556c1e8885",
   "metadata": {},
   "outputs": [],
   "source": [
    "class cinema:\n",
    "    def come_on_everyone(jack):\n",
    "        print('you feel real happiness')"
   ]
  },
  {
   "cell_type": "code",
   "execution_count": 6,
   "id": "75ee847f-9719-4c11-9527-a0e1f8e1cef1",
   "metadata": {},
   "outputs": [],
   "source": [
    "me=cinema()"
   ]
  },
  {
   "cell_type": "code",
   "execution_count": 7,
   "id": "acacf43a-976f-4348-9586-085238081391",
   "metadata": {},
   "outputs": [
    {
     "name": "stdout",
     "output_type": "stream",
     "text": [
      "you feel real happiness\n"
     ]
    }
   ],
   "source": [
    "me.come_on_everyone()"
   ]
  },
  {
   "cell_type": "code",
   "execution_count": 8,
   "id": "fcbc44c9-55c5-482c-9743-68ff2b463cf1",
   "metadata": {},
   "outputs": [],
   "source": [
    "he=cinema()"
   ]
  },
  {
   "cell_type": "code",
   "execution_count": 9,
   "id": "090a063d-8b37-4a8c-8f11-a266f651438b",
   "metadata": {},
   "outputs": [
    {
     "name": "stdout",
     "output_type": "stream",
     "text": [
      "you feel real happiness\n"
     ]
    }
   ],
   "source": [
    "he.come_on_everyone()"
   ]
  },
  {
   "cell_type": "code",
   "execution_count": 20,
   "id": "d19b0a8e-33b9-4810-8c4c-a9092623a0d1",
   "metadata": {},
   "outputs": [],
   "source": [
    "class world:\n",
    "    def __init__(jack,country,ratings,lifestyle):\n",
    "        jack.country=country\n",
    "        jack.ratings=ratings\n",
    "        jack.lifestyle=lifestyle\n",
    "        \n",
    "    def return_all_details(jack):\n",
    "            return jack.country,jack.ratings,jack.lifestyle"
   ]
  },
  {
   "cell_type": "code",
   "execution_count": 21,
   "id": "b54a5325-c02b-46f7-bc98-33f3b3709c1f",
   "metadata": {},
   "outputs": [],
   "source": [
    "un=world('usa','7','good')"
   ]
  },
  {
   "cell_type": "code",
   "execution_count": 22,
   "id": "a7e79dff-5c48-4cb8-8ab3-26dbb2f78112",
   "metadata": {},
   "outputs": [
    {
     "data": {
      "text/plain": [
       "'usa'"
      ]
     },
     "execution_count": 22,
     "metadata": {},
     "output_type": "execute_result"
    }
   ],
   "source": [
    "un.country"
   ]
  },
  {
   "cell_type": "code",
   "execution_count": 23,
   "id": "5b549a80-a3e7-4060-ae6e-62f2b68051d0",
   "metadata": {},
   "outputs": [
    {
     "data": {
      "text/plain": [
       "'7'"
      ]
     },
     "execution_count": 23,
     "metadata": {},
     "output_type": "execute_result"
    }
   ],
   "source": [
    "un.ratings"
   ]
  },
  {
   "cell_type": "code",
   "execution_count": 24,
   "id": "6d708875-142e-47e1-843f-19113f6ecb37",
   "metadata": {},
   "outputs": [
    {
     "data": {
      "text/plain": [
       "'good'"
      ]
     },
     "execution_count": 24,
     "metadata": {},
     "output_type": "execute_result"
    }
   ],
   "source": [
    "un.lifestyle"
   ]
  },
  {
   "cell_type": "code",
   "execution_count": 49,
   "id": "65a32a4a-23a7-41f0-801e-7146ebc5d558",
   "metadata": {},
   "outputs": [
    {
     "data": {
      "text/plain": [
       "('usa', '7', 'good')"
      ]
     },
     "execution_count": 49,
     "metadata": {},
     "output_type": "execute_result"
    }
   ],
   "source": [
    "un.return_all_details()"
   ]
  },
  {
   "cell_type": "code",
   "execution_count": 52,
   "id": "1db73e3e-6a15-40e9-8ce5-e4e8ea19a9c4",
   "metadata": {},
   "outputs": [],
   "source": [
    "class dream:\n",
    "    def __init__(kallis,desire,target,current):\n",
    "        kallis.desire=desire\n",
    "        kallis.target=target\n",
    "        kallis.current=current\n",
    "        \n",
    "    def return_all_details(kallis):\n",
    "        return kallis.desire,kallis.target,kallis.current"
   ]
  },
  {
   "cell_type": "code",
   "execution_count": 35,
   "id": "cdff520a-4dc3-479d-91f4-cfb7be63a016",
   "metadata": {},
   "outputs": [],
   "source": [
    "destiny=dream('live the life i remember','retired at 35','broken')"
   ]
  },
  {
   "cell_type": "code",
   "execution_count": 37,
   "id": "2e7c45f4-26f0-4ea6-8582-3735dec33728",
   "metadata": {},
   "outputs": [
    {
     "data": {
      "text/plain": [
       "'live the life i remember'"
      ]
     },
     "execution_count": 37,
     "metadata": {},
     "output_type": "execute_result"
    }
   ],
   "source": [
    "destiny.desire"
   ]
  },
  {
   "cell_type": "code",
   "execution_count": 54,
   "id": "f397bccb-f52a-44ba-a9de-08954a07be19",
   "metadata": {},
   "outputs": [
    {
     "data": {
      "text/plain": [
       "'retired at 35'"
      ]
     },
     "execution_count": 54,
     "metadata": {},
     "output_type": "execute_result"
    }
   ],
   "source": [
    "destiny.target"
   ]
  },
  {
   "cell_type": "code",
   "execution_count": 39,
   "id": "388333f8-5e8c-469a-8e89-587eb9afc00f",
   "metadata": {},
   "outputs": [
    {
     "data": {
      "text/plain": [
       "'broken'"
      ]
     },
     "execution_count": 39,
     "metadata": {},
     "output_type": "execute_result"
    }
   ],
   "source": [
    "destiny.current"
   ]
  },
  {
   "cell_type": "code",
   "execution_count": 58,
   "id": "6770a097-d4cc-40fa-b7b4-951c4b49c678",
   "metadata": {},
   "outputs": [
    {
     "ename": "AttributeError",
     "evalue": "'dream' object has no attribute 'return_all_details'",
     "output_type": "error",
     "traceback": [
      "\u001b[0;31m---------------------------------------------------------------------------\u001b[0m",
      "\u001b[0;31mAttributeError\u001b[0m                            Traceback (most recent call last)",
      "Cell \u001b[0;32mIn[58], line 1\u001b[0m\n\u001b[0;32m----> 1\u001b[0m \u001b[43mdestiny\u001b[49m\u001b[38;5;241;43m.\u001b[39;49m\u001b[43mreturn_all_details\u001b[49m()\n",
      "\u001b[0;31mAttributeError\u001b[0m: 'dream' object has no attribute 'return_all_details'"
     ]
    }
   ],
   "source": [
    "destiny.return_all_details()"
   ]
  },
  {
   "cell_type": "code",
   "execution_count": null,
   "id": "d7497fcb-6822-4eb0-8bf7-13242834c070",
   "metadata": {},
   "outputs": [],
   "source": []
  },
  {
   "cell_type": "code",
   "execution_count": null,
   "id": "6b1679b2-6ebc-4477-a3a6-9938d84b9d25",
   "metadata": {},
   "outputs": [],
   "source": []
  }
 ],
 "metadata": {
  "kernelspec": {
   "display_name": "Python 3 (ipykernel)",
   "language": "python",
   "name": "python3"
  },
  "language_info": {
   "codemirror_mode": {
    "name": "ipython",
    "version": 3
   },
   "file_extension": ".py",
   "mimetype": "text/x-python",
   "name": "python",
   "nbconvert_exporter": "python",
   "pygments_lexer": "ipython3",
   "version": "3.10.8"
  }
 },
 "nbformat": 4,
 "nbformat_minor": 5
}
