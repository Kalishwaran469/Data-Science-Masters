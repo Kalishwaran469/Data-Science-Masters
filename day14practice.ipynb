{
 "cells": [
  {
   "cell_type": "markdown",
   "id": "eb812bc8-8f27-4ec8-81c2-e90f581ef826",
   "metadata": {},
   "source": [
    "# files"
   ]
  },
  {
   "cell_type": "code",
   "execution_count": 1,
   "id": "a9416a6e-f3d7-4ac4-8e30-eb322856ece5",
   "metadata": {},
   "outputs": [],
   "source": [
    "f=open('test.txt','a')"
   ]
  },
  {
   "cell_type": "code",
   "execution_count": 2,
   "id": "85798afa-fc4a-433f-956e-2aab3897e6d5",
   "metadata": {},
   "outputs": [
    {
     "data": {
      "text/plain": [
       "'/home/jovyan/work'"
      ]
     },
     "execution_count": 2,
     "metadata": {},
     "output_type": "execute_result"
    }
   ],
   "source": [
    "pwd"
   ]
  },
  {
   "cell_type": "code",
   "execution_count": 3,
   "id": "95ec0809-81c8-49d5-ae5f-b3effe9e6c89",
   "metadata": {},
   "outputs": [
    {
     "name": "stdout",
     "output_type": "stream",
     "text": [
      "README.md  sample-code.ipynb  test.txt  Untitled.ipynb\n"
     ]
    }
   ],
   "source": [
    "ls"
   ]
  },
  {
   "cell_type": "code",
   "execution_count": 4,
   "id": "90859abf-1714-40fd-abc8-84ac61aa6bf6",
   "metadata": {},
   "outputs": [
    {
     "data": {
      "text/plain": [
       "25"
      ]
     },
     "execution_count": 4,
     "metadata": {},
     "output_type": "execute_result"
    }
   ],
   "source": [
    "f.write('i am a king of this world')"
   ]
  },
  {
   "cell_type": "code",
   "execution_count": 7,
   "id": "6e2bfc8b-9f1a-4aa4-a3a6-4febbdeb578f",
   "metadata": {},
   "outputs": [],
   "source": [
    "data=open('test.txt','r')"
   ]
  },
  {
   "cell_type": "code",
   "execution_count": 8,
   "id": "cc763027-7884-47cb-883d-1b18d9388496",
   "metadata": {},
   "outputs": [
    {
     "data": {
      "text/plain": [
       "'i am a king of this world'"
      ]
     },
     "execution_count": 8,
     "metadata": {},
     "output_type": "execute_result"
    }
   ],
   "source": [
    "data.read()"
   ]
  },
  {
   "cell_type": "code",
   "execution_count": 9,
   "id": "6c7524cf-ab86-4e17-aa3a-20a3a62fc949",
   "metadata": {},
   "outputs": [
    {
     "data": {
      "text/plain": [
       "''"
      ]
     },
     "execution_count": 9,
     "metadata": {},
     "output_type": "execute_result"
    }
   ],
   "source": [
    "data.read()"
   ]
  },
  {
   "cell_type": "code",
   "execution_count": 12,
   "id": "7c2e538a-d92a-4332-9ba3-a240e07e667b",
   "metadata": {},
   "outputs": [
    {
     "data": {
      "text/plain": [
       "0"
      ]
     },
     "execution_count": 12,
     "metadata": {},
     "output_type": "execute_result"
    }
   ],
   "source": [
    "data.seek(0)"
   ]
  },
  {
   "cell_type": "code",
   "execution_count": 13,
   "id": "c770dc75-6977-4c98-a4a8-b6a89076d529",
   "metadata": {},
   "outputs": [
    {
     "data": {
      "text/plain": [
       "'i am a king of this world'"
      ]
     },
     "execution_count": 13,
     "metadata": {},
     "output_type": "execute_result"
    }
   ],
   "source": [
    "data.read()"
   ]
  },
  {
   "cell_type": "code",
   "execution_count": 14,
   "id": "b027d56f-05c6-4e3d-af33-3ff9a779d716",
   "metadata": {},
   "outputs": [
    {
     "data": {
      "text/plain": [
       "10"
      ]
     },
     "execution_count": 14,
     "metadata": {},
     "output_type": "execute_result"
    }
   ],
   "source": [
    "data.seek(10)"
   ]
  },
  {
   "cell_type": "code",
   "execution_count": 15,
   "id": "9ef9cfef-de9c-4cef-bf6b-a53dd3f0e98b",
   "metadata": {},
   "outputs": [
    {
     "data": {
      "text/plain": [
       "'g of this world'"
      ]
     },
     "execution_count": 15,
     "metadata": {},
     "output_type": "execute_result"
    }
   ],
   "source": [
    "data.read()"
   ]
  },
  {
   "cell_type": "code",
   "execution_count": 16,
   "id": "61e72764-21d2-45ef-887e-132f0120ee55",
   "metadata": {},
   "outputs": [],
   "source": [
    "data1=open('test.txt','r')"
   ]
  },
  {
   "cell_type": "code",
   "execution_count": 17,
   "id": "76f401fc-92e7-4a45-aa3b-279cf7d8ade9",
   "metadata": {},
   "outputs": [
    {
     "name": "stdout",
     "output_type": "stream",
     "text": [
      "i am a king of this world\n"
     ]
    }
   ],
   "source": [
    "for i in data1:\n",
    "    print(i)"
   ]
  },
  {
   "cell_type": "code",
   "execution_count": 18,
   "id": "902032c9-4459-447b-a418-7c3159459acc",
   "metadata": {},
   "outputs": [],
   "source": [
    "import os"
   ]
  },
  {
   "cell_type": "code",
   "execution_count": 19,
   "id": "dd544d9d-733c-4aaa-9bd9-5c1e049a355d",
   "metadata": {},
   "outputs": [
    {
     "data": {
      "text/plain": [
       "25"
      ]
     },
     "execution_count": 19,
     "metadata": {},
     "output_type": "execute_result"
    }
   ],
   "source": [
    "os.path.getsize('test.txt')"
   ]
  },
  {
   "cell_type": "code",
   "execution_count": 20,
   "id": "d7f0e55f-009c-4a21-858f-cc29e19ea2fa",
   "metadata": {},
   "outputs": [],
   "source": [
    "import shutil"
   ]
  },
  {
   "cell_type": "code",
   "execution_count": 21,
   "id": "df25ae4a-a3d4-43f9-a143-0504d374bc68",
   "metadata": {},
   "outputs": [
    {
     "data": {
      "text/plain": [
       "'new_test_txt'"
      ]
     },
     "execution_count": 21,
     "metadata": {},
     "output_type": "execute_result"
    }
   ],
   "source": [
    "shutil.copy('test.txt','new_test_txt')"
   ]
  },
  {
   "cell_type": "code",
   "execution_count": 24,
   "id": "452f556f-3f05-4b01-a5c5-b0f1ed5f6dd5",
   "metadata": {},
   "outputs": [],
   "source": [
    "data2=open('test.txt','r')"
   ]
  },
  {
   "cell_type": "code",
   "execution_count": 25,
   "id": "01266bd3-c34a-44ca-8425-dec2717527e1",
   "metadata": {},
   "outputs": [
    {
     "data": {
      "text/plain": [
       "'i am a king of this world'"
      ]
     },
     "execution_count": 25,
     "metadata": {},
     "output_type": "execute_result"
    }
   ],
   "source": [
    "data2.read()"
   ]
  },
  {
   "cell_type": "code",
   "execution_count": 27,
   "id": "22cdfb5d-ea00-4aae-a63e-08245fe18021",
   "metadata": {},
   "outputs": [],
   "source": [
    "os.remove('test.txt')"
   ]
  },
  {
   "cell_type": "code",
   "execution_count": 29,
   "id": "904ba30b-5995-4a5f-9661-dd406d169056",
   "metadata": {},
   "outputs": [],
   "source": [
    "data3=open('new_test_txt','r')"
   ]
  },
  {
   "cell_type": "code",
   "execution_count": 31,
   "id": "47bda77f-7a1d-4e6a-ab43-99fb74068cbe",
   "metadata": {},
   "outputs": [
    {
     "data": {
      "text/plain": [
       "'i am a king of this world'"
      ]
     },
     "execution_count": 31,
     "metadata": {},
     "output_type": "execute_result"
    }
   ],
   "source": [
    "data3.read()"
   ]
  },
  {
   "cell_type": "markdown",
   "id": "cb804692-f9c6-49dd-9d58-8aa3bde71684",
   "metadata": {},
   "source": [
    "# file reading and writing"
   ]
  },
  {
   "cell_type": "code",
   "execution_count": 33,
   "id": "2470a5e9-7270-4295-b526-3739a2422f55",
   "metadata": {},
   "outputs": [],
   "source": [
    "d={\n",
    "    'name':'msd',\n",
    "    'team':'csk',\n",
    "    'role':'cap',\n",
    "    'achievements':[2007,2011,2013,2018,2021]\n",
    "}"
   ]
  },
  {
   "cell_type": "code",
   "execution_count": 35,
   "id": "4af64635-e073-42ab-aebc-3cd27b5c5054",
   "metadata": {},
   "outputs": [],
   "source": [
    "import json"
   ]
  },
  {
   "cell_type": "code",
   "execution_count": 37,
   "id": "ecf04529-cba4-4a54-aa05-32873739ed85",
   "metadata": {},
   "outputs": [],
   "source": [
    "with open('test1.json','w') as f:\n",
    "    json.dump(d,f)"
   ]
  },
  {
   "cell_type": "code",
   "execution_count": 40,
   "id": "33cc0334-97d5-4194-9f62-857f6e5334e6",
   "metadata": {},
   "outputs": [],
   "source": [
    "with open('test1.json','r') as f:\n",
    "    da=json.load(f)\n",
    "    "
   ]
  },
  {
   "cell_type": "code",
   "execution_count": 41,
   "id": "4a20909f-5931-4b17-84b5-313a896d8f6c",
   "metadata": {},
   "outputs": [
    {
     "data": {
      "text/plain": [
       "{'name': 'msd',\n",
       " 'team': 'csk',\n",
       " 'role': 'cap',\n",
       " 'achievements': [2007, 2011, 2013, 2018, 2021]}"
      ]
     },
     "execution_count": 41,
     "metadata": {},
     "output_type": "execute_result"
    }
   ],
   "source": [
    "da"
   ]
  },
  {
   "cell_type": "code",
   "execution_count": 45,
   "id": "18a96a57-e904-4e3b-a7ed-0c777ed87766",
   "metadata": {},
   "outputs": [
    {
     "data": {
      "text/plain": [
       "2018"
      ]
     },
     "execution_count": 45,
     "metadata": {},
     "output_type": "execute_result"
    }
   ],
   "source": [
    "da['achievements'][3]"
   ]
  },
  {
   "cell_type": "code",
   "execution_count": 46,
   "id": "c3427160-ba1d-48ec-b161-d003abe6eed1",
   "metadata": {},
   "outputs": [],
   "source": [
    "details=[ ['name','team','role'],\n",
    "          ['msd','csk','thala'],\n",
    "         ['kohli','rcb','king'],\n",
    "         ['rohit','mi','hittu']\n",
    "        ]"
   ]
  },
  {
   "cell_type": "code",
   "execution_count": 47,
   "id": "3df196d4-dbe1-4222-8697-0daedb7547e2",
   "metadata": {},
   "outputs": [],
   "source": [
    "import csv"
   ]
  },
  {
   "cell_type": "code",
   "execution_count": 49,
   "id": "23f16198-a9f1-4aee-8f64-2fab1405d0d7",
   "metadata": {},
   "outputs": [],
   "source": [
    "with open('test.csv','w') as f:\n",
    "    w=csv.writer(f)\n",
    "    for i in details:\n",
    "        w.writerow(i)"
   ]
  },
  {
   "cell_type": "code",
   "execution_count": 50,
   "id": "65da2ac4-9c78-4d2e-b60c-f72120a7a06e",
   "metadata": {},
   "outputs": [
    {
     "name": "stdout",
     "output_type": "stream",
     "text": [
      "['name', 'team', 'role']\n",
      "['msd', 'csk', 'thala']\n",
      "['kohli', 'rcb', 'king']\n",
      "['rohit', 'mi', 'hittu']\n"
     ]
    }
   ],
   "source": [
    "with open('test.csv','r') as f:\n",
    "    read=csv.reader(f)\n",
    "    for i in read:\n",
    "        print(i)"
   ]
  },
  {
   "cell_type": "code",
   "execution_count": 53,
   "id": "59533154-57f3-4d11-aea4-9b1f457434a2",
   "metadata": {},
   "outputs": [],
   "source": [
    " with open('test.bin','wb') as f:\n",
    "    f.write(b'\\x01\\x02\\x03')"
   ]
  },
  {
   "cell_type": "code",
   "execution_count": 55,
   "id": "71ff3681-258d-4cf7-bb9b-a8b6691b1a8d",
   "metadata": {},
   "outputs": [
    {
     "name": "stdout",
     "output_type": "stream",
     "text": [
      "b'\\x01\\x02\\x03'\n"
     ]
    }
   ],
   "source": [
    "with open('test.bin','rb') as f:\n",
    "    print(f.read())"
   ]
  },
  {
   "cell_type": "markdown",
   "id": "28331a20-4aff-4f9b-96dd-0db8cc75c7cd",
   "metadata": {},
   "source": [
    "# buffered read and write"
   ]
  },
  {
   "cell_type": "code",
   "execution_count": 58,
   "id": "0fbe291f-a245-4f2a-b29b-2ce690bd98bf",
   "metadata": {},
   "outputs": [],
   "source": [
    "import io"
   ]
  },
  {
   "cell_type": "code",
   "execution_count": 61,
   "id": "b9f85e2e-74c9-4304-b8ca-2367be985e64",
   "metadata": {},
   "outputs": [],
   "source": [
    "with open('test.txt','wb') as f:\n",
    "    file=io.BufferedWriter(f)\n",
    "    file.write(b'i want to become professional data scientist')\n",
    "    file.write(b'so i cant waste single second')\n",
    "    file.flush()"
   ]
  },
  {
   "cell_type": "code",
   "execution_count": 63,
   "id": "a40e799a-f96c-4473-af08-64f4906cdad5",
   "metadata": {},
   "outputs": [
    {
     "name": "stdout",
     "output_type": "stream",
     "text": [
      "b'i want to become professional data scientist \\nso i cant waste single second'\n"
     ]
    }
   ],
   "source": [
    "with open('test.txt','rb') as f:\n",
    "    file=io.BufferedReader(f)\n",
    "    data=file.read(100)\n",
    "    print(data)\n",
    "    "
   ]
  },
  {
   "cell_type": "markdown",
   "id": "35828af5-acbb-4367-bdb2-c6e213a79f6d",
   "metadata": {},
   "source": [
    "# logging"
   ]
  },
  {
   "cell_type": "code",
   "execution_count": 64,
   "id": "4cdbd9eb-17c3-4846-96f9-fab8bae9e329",
   "metadata": {},
   "outputs": [],
   "source": [
    "import logging"
   ]
  },
  {
   "cell_type": "code",
   "execution_count": 65,
   "id": "c92f6a90-69a8-47ff-b9db-d7ef830a63f6",
   "metadata": {},
   "outputs": [],
   "source": [
    "logging.basicConfig(filename='test.log',level=logging.INFO)"
   ]
  },
  {
   "cell_type": "code",
   "execution_count": 66,
   "id": "f6390468-75c2-4100-ad76-9df3430fe9bd",
   "metadata": {},
   "outputs": [],
   "source": [
    "logging.info('this is my info log')"
   ]
  },
  {
   "cell_type": "code",
   "execution_count": 67,
   "id": "c80140fc-2bb4-49db-bb91-b10ad8240432",
   "metadata": {},
   "outputs": [],
   "source": [
    "logging.warning('this is my warning log')"
   ]
  },
  {
   "cell_type": "code",
   "execution_count": 68,
   "id": "e69882a1-a962-47af-b385-a3bf2b6138fc",
   "metadata": {},
   "outputs": [],
   "source": [
    "logging.critical('this is my critical log')"
   ]
  },
  {
   "cell_type": "code",
   "execution_count": 69,
   "id": "9d5eec22-e518-40d1-a490-4eac9343f205",
   "metadata": {},
   "outputs": [],
   "source": [
    "logging.error('this is my error log')"
   ]
  },
  {
   "cell_type": "code",
   "execution_count": 70,
   "id": "63fc2ba8-167a-4866-ab8f-4a19ffe2ed1a",
   "metadata": {},
   "outputs": [],
   "source": [
    "logging.debug('this is my debug log')"
   ]
  },
  {
   "cell_type": "code",
   "execution_count": 71,
   "id": "196eedc0-2f19-4852-831a-070d4bfac3c3",
   "metadata": {},
   "outputs": [
    {
     "ename": "AttributeError",
     "evalue": "module 'logging' has no attribute 'noset'",
     "output_type": "error",
     "traceback": [
      "\u001b[0;31m---------------------------------------------------------------------------\u001b[0m",
      "\u001b[0;31mAttributeError\u001b[0m                            Traceback (most recent call last)",
      "Cell \u001b[0;32mIn[71], line 1\u001b[0m\n\u001b[0;32m----> 1\u001b[0m \u001b[43mlogging\u001b[49m\u001b[38;5;241;43m.\u001b[39;49m\u001b[43mnoset\u001b[49m(\u001b[38;5;124m'\u001b[39m\u001b[38;5;124mthis is my noset log\u001b[39m\u001b[38;5;124m'\u001b[39m)\n",
      "\u001b[0;31mAttributeError\u001b[0m: module 'logging' has no attribute 'noset'"
     ]
    }
   ],
   "source": [
    "logging.noset('this is my noset log')"
   ]
  },
  {
   "cell_type": "code",
   "execution_count": 72,
   "id": "adb633b1-a48e-4834-8b3b-67f2452a5895",
   "metadata": {},
   "outputs": [],
   "source": [
    "logging.shutdown()"
   ]
  },
  {
   "cell_type": "code",
   "execution_count": 74,
   "id": "df216a13-f0cb-4eaf-83cc-f2db72c78f85",
   "metadata": {},
   "outputs": [],
   "source": [
    "logging.basicConfig(filename='test1.log',level=logging.DEBUG,format='%(asctime)s %(message)s')"
   ]
  },
  {
   "cell_type": "code",
   "execution_count": 83,
   "id": "ee41bbcf-4c7a-4a75-a62a-39ce477c8fb9",
   "metadata": {},
   "outputs": [],
   "source": [
    "logging.info('this is my info log')"
   ]
  },
  {
   "cell_type": "code",
   "execution_count": 95,
   "id": "56e7d6d6-bd0c-4624-8012-432cf1903ad1",
   "metadata": {},
   "outputs": [],
   "source": [
    "l=[1,2,3,[4,5,6],'hf','jf']"
   ]
  },
  {
   "cell_type": "code",
   "execution_count": 93,
   "id": "217bff7d-0123-42fd-a213-5de87739c92c",
   "metadata": {},
   "outputs": [],
   "source": [
    "l1_int = []\n",
    "l2_str = []\n",
    "for i in l : \n",
    "    logging.info(\"this is the start of my first for loop {}\".format(l))\n",
    "    logging.info(\"this is the value of i am logging {}\".format(i))\n",
    "    if type(i) == list:\n",
    "        for j in i :\n",
    "            logging.info(\"logggin my j {j} and i is {i}\".format(i = i ,j = j))\n",
    "            if type(j) == int :\n",
    "                l1_int.append(j)\n",
    "    elif type(i) == int :\n",
    "        l1_int.append(i)\n",
    "        \n",
    "    else :\n",
    "        if type(i) == str:\n",
    "            l2_str.append(i)\n",
    "logging.info(\"this is my final result  with all int {l1} ,with all str{l2}\".format(l1 =l1_int ,l2 =l2_str ))\n",
    "        "
   ]
  },
  {
   "cell_type": "code",
   "execution_count": 96,
   "id": "325cbe2c-973b-49e9-9b75-7bb94565b554",
   "metadata": {},
   "outputs": [
    {
     "data": {
      "text/plain": [
       "[1, 2, 3, 4, 5, 6]"
      ]
     },
     "execution_count": 96,
     "metadata": {},
     "output_type": "execute_result"
    }
   ],
   "source": [
    "l1_int"
   ]
  },
  {
   "cell_type": "code",
   "execution_count": 99,
   "id": "026cb877-b439-48f9-bea1-2cae2465fec4",
   "metadata": {},
   "outputs": [
    {
     "data": {
      "text/plain": [
       "['hf', 'jf']"
      ]
     },
     "execution_count": 99,
     "metadata": {},
     "output_type": "execute_result"
    }
   ],
   "source": [
    "l2_str"
   ]
  },
  {
   "cell_type": "code",
   "execution_count": null,
   "id": "28b78466-0ab0-4c2c-934b-3711feed999b",
   "metadata": {},
   "outputs": [],
   "source": []
  },
  {
   "cell_type": "code",
   "execution_count": null,
   "id": "8a1c26c1-c586-4532-ad9e-31bfd36e5c51",
   "metadata": {},
   "outputs": [],
   "source": []
  },
  {
   "cell_type": "code",
   "execution_count": null,
   "id": "a1251545-6df8-4df4-b1aa-e724bd788356",
   "metadata": {},
   "outputs": [],
   "source": []
  },
  {
   "cell_type": "code",
   "execution_count": null,
   "id": "dff56af5-2f49-4724-b3fc-32f5f5a54b08",
   "metadata": {},
   "outputs": [],
   "source": []
  },
  {
   "cell_type": "code",
   "execution_count": null,
   "id": "1301cfd8-4489-4b1b-b6de-01642ae92301",
   "metadata": {},
   "outputs": [],
   "source": []
  },
  {
   "cell_type": "code",
   "execution_count": null,
   "id": "95ce649e-dba7-44f4-84de-6198dc5a0f53",
   "metadata": {},
   "outputs": [],
   "source": []
  }
 ],
 "metadata": {
  "kernelspec": {
   "display_name": "Python 3 (ipykernel)",
   "language": "python",
   "name": "python3"
  },
  "language_info": {
   "codemirror_mode": {
    "name": "ipython",
    "version": 3
   },
   "file_extension": ".py",
   "mimetype": "text/x-python",
   "name": "python",
   "nbconvert_exporter": "python",
   "pygments_lexer": "ipython3",
   "version": "3.10.8"
  }
 },
 "nbformat": 4,
 "nbformat_minor": 5
}
