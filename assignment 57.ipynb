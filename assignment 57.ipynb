{
 "cells": [
  {
   "cell_type": "code",
   "execution_count": null,
   "id": "0a7440e3-faf4-4843-8f70-1616e8c4b423",
   "metadata": {},
   "outputs": [],
   "source": [
    "# question 1"
   ]
  },
  {
   "cell_type": "code",
   "execution_count": null,
   "id": "11ba6932-a012-4a9a-97af-eca02252ff70",
   "metadata": {},
   "outputs": [],
   "source": [
    "# Recall: The ability of a model to find all the relevant cases within a data set. Mathematically, we define recall as the number of true positives divided by the number of true positives plus the number of false negatives. Precision: The ability of a classification model to identify only the relevant data points."
   ]
  },
  {
   "cell_type": "code",
   "execution_count": null,
   "id": "9e3cf50e-f2a1-4959-89e1-9509f29dd97e",
   "metadata": {},
   "outputs": [],
   "source": [
    "# question 2"
   ]
  },
  {
   "cell_type": "code",
   "execution_count": null,
   "id": "37c85fdb-6cb0-4012-8ff2-8ba44756d44e",
   "metadata": {},
   "outputs": [],
   "source": [
    "# F1 score is a weighted average of precision and recall. As we know in precision and in recall there is false positive and false negative so it also consider both of them. F1 score is usually more useful than accuracy, especially if you have an uneven class distribution."
   ]
  },
  {
   "cell_type": "code",
   "execution_count": null,
   "id": "d5de96b3-2120-4450-b688-b45101caa55e",
   "metadata": {},
   "outputs": [],
   "source": [
    "# question 3"
   ]
  },
  {
   "cell_type": "code",
   "execution_count": null,
   "id": "94785a46-1195-4377-b34d-d14c1ae74da4",
   "metadata": {},
   "outputs": [],
   "source": [
    "# AUC ROC stands for “Area Under the Curve” of the “Receiver Operating Characteristic” curve. The AUC ROC curve is basically a way of measuring the performance of an ML model. AUC measures the ability of a binary classifier to distinguish between classes and is used as a summary of the ROC curve."
   ]
  },
  {
   "cell_type": "code",
   "execution_count": null,
   "id": "c867f6c9-03ba-47df-9267-96c09a8657be",
   "metadata": {},
   "outputs": [],
   "source": [
    "# question 4"
   ]
  },
  {
   "cell_type": "code",
   "execution_count": null,
   "id": "e9741363-6e3b-489f-892d-8a2f731982f1",
   "metadata": {},
   "outputs": [],
   "source": [
    "# Metrics like accuracy, precision, recall are good ways to evaluate classification models for balanced datasets, but if the data is imbalanced then other methods like ROC/AUC perform better in evaluating the model performance\n",
    "# Binary classification are those tasks where examples are assigned exactly one of two classes. Multi-class classification is those tasks where examples are assigned exactly one of more than two classes."
   ]
  },
  {
   "cell_type": "code",
   "execution_count": null,
   "id": "5f16e040-cd65-42c8-8d88-b0dc070c12c2",
   "metadata": {},
   "outputs": [],
   "source": [
    "# question 5"
   ]
  },
  {
   "cell_type": "code",
   "execution_count": null,
   "id": "a0f9aaeb-a7e9-4852-b507-bd746cc27a24",
   "metadata": {},
   "outputs": [],
   "source": [
    "# Logistic regression, by default, is limited to two-class classification problems. Some extensions like one-vs-rest can allow logistic regression to be used for multi-class classification problems, although they require that the classification problem first be transformed into multiple binary classification problems."
   ]
  },
  {
   "cell_type": "code",
   "execution_count": null,
   "id": "314bc73e-1809-42cd-9220-8811a8eba107",
   "metadata": {},
   "outputs": [],
   "source": [
    "# question 6"
   ]
  },
  {
   "cell_type": "code",
   "execution_count": null,
   "id": "101b88d5-6864-42d6-ba8b-67dafa4a2329",
   "metadata": {},
   "outputs": [],
   "source": [
    "# It comprises three basic steps: feature selection, classification model building and validation of the constructed model. In the feature selection step, it is necessary to create an optimal data subset which reduces noise and bias, thereby enhancing the accuracy of classification process."
   ]
  },
  {
   "cell_type": "code",
   "execution_count": null,
   "id": "10f9f3d2-36cf-4ebd-b888-193e235131f4",
   "metadata": {},
   "outputs": [],
   "source": [
    "# question 7"
   ]
  },
  {
   "cell_type": "code",
   "execution_count": null,
   "id": "5075b35f-5e1d-4cd1-bfd0-e92f423163e8",
   "metadata": {},
   "outputs": [],
   "source": [
    "# Model deployment is the process of implementing a fully functioning machine learning model into production where it can make predictions based on data. Users, developers, and systems then use these predictions to make practical business decisions."
   ]
  },
  {
   "cell_type": "code",
   "execution_count": null,
   "id": "3bdc2289-9a62-4af2-be74-13f49ac62d32",
   "metadata": {},
   "outputs": [],
   "source": [
    "# question 8"
   ]
  },
  {
   "cell_type": "code",
   "execution_count": null,
   "id": "c71b22f8-4737-411d-bf86-ca693c01cf19",
   "metadata": {},
   "outputs": [],
   "source": [
    "# Multicloud computing, as this word suggests, is the use of multiple public cloud services from different vendors within one architecture at the same time. For instance, a business might use AWS for data storage, Google Cloud Platform for development and testing, and yet Microsoft Azure for disaster recovery."
   ]
  },
  {
   "cell_type": "code",
   "execution_count": null,
   "id": "7a272e1d-3de4-4881-9726-b8e22a8b0139",
   "metadata": {},
   "outputs": [],
   "source": [
    "# question 9"
   ]
  },
  {
   "cell_type": "code",
   "execution_count": null,
   "id": "71e8fd2d-a1f5-4f2b-a744-8317b51ac956",
   "metadata": {},
   "outputs": [],
   "source": [
    "# advantages- Multicloud allows you to choose from many cloud vendors and provides the flexibility to match specific features and capabilities to optimize your workloads in the cloud based on factors like speed, performance, reliability, geographical location, and security and compliance requirements.\n",
    "# disadvantagess-More Clouds, More Complexity. The decision to expand from a single provider naturally brings increased complexity,Multiple Specialist Skilled Teams Needed,Harder-to-manage Costs,Increased Security Concerns."
   ]
  },
  {
   "cell_type": "code",
   "execution_count": null,
   "id": "8dbfe7e0-2254-4186-9c9e-04e54374eb5d",
   "metadata": {},
   "outputs": [],
   "source": []
  },
  {
   "cell_type": "code",
   "execution_count": null,
   "id": "22906ef7-229a-4622-aa2d-65c0ee9b1674",
   "metadata": {},
   "outputs": [],
   "source": []
  },
  {
   "cell_type": "code",
   "execution_count": null,
   "id": "3c1ca971-0c86-4ce6-a19a-f99e826edd3b",
   "metadata": {},
   "outputs": [],
   "source": []
  }
 ],
 "metadata": {
  "kernelspec": {
   "display_name": "Python 3 (ipykernel)",
   "language": "python",
   "name": "python3"
  },
  "language_info": {
   "codemirror_mode": {
    "name": "ipython",
    "version": 3
   },
   "file_extension": ".py",
   "mimetype": "text/x-python",
   "name": "python",
   "nbconvert_exporter": "python",
   "pygments_lexer": "ipython3",
   "version": "3.10.8"
  }
 },
 "nbformat": 4,
 "nbformat_minor": 5
}
