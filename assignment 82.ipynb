{
 "cells": [
  {
   "cell_type": "code",
   "execution_count": null,
   "id": "1f04d03e-8b42-4df6-a606-a284a272b239",
   "metadata": {},
   "outputs": [],
   "source": [
    "# question 1"
   ]
  },
  {
   "cell_type": "code",
   "execution_count": null,
   "id": "81b31d0f-9de8-4c3d-8948-14b602eb0539",
   "metadata": {},
   "outputs": [],
   "source": [
    "# A clustering result satisfies homogeneity if all of its clusters contain only data points which are members of a single class. A clustering result satisfies completeness if all the data points that are members of a given class are elements of the same cluster."
   ]
  },
  {
   "cell_type": "code",
   "execution_count": null,
   "id": "be0b1ae7-8ff5-40b6-9d59-3a66845e1b7d",
   "metadata": {},
   "outputs": [],
   "source": [
    "# question 2"
   ]
  },
  {
   "cell_type": "code",
   "execution_count": null,
   "id": "151e3a4a-2102-4bc5-ac09-b2acea537128",
   "metadata": {},
   "outputs": [],
   "source": [
    "# The V-measure is the harmonic mean between homogeneity and completeness: v = (1 + beta) * homogeneity * completeness / (beta * homogeneity + completeness) This metric is independent of the absolute values of the labels: a permutation of the class or cluster label values won't change the score value in any way."
   ]
  },
  {
   "cell_type": "code",
   "execution_count": null,
   "id": "a3b80d4d-1891-4a84-9656-06b48db30908",
   "metadata": {},
   "outputs": [],
   "source": [
    "# question 3"
   ]
  },
  {
   "cell_type": "code",
   "execution_count": null,
   "id": "ea3340db-ca72-4ec7-a9f3-e3b5e3345a95",
   "metadata": {},
   "outputs": [],
   "source": [
    "# Silhouette analysis can be applied to clustering algorithms. Silhouette coefficient ranges between −1 and 1, where a higher silhouette coefficient refers to a model with more coherent clusters."
   ]
  },
  {
   "cell_type": "code",
   "execution_count": null,
   "id": "d1d29ead-eecc-40b4-b59b-bca41ce67236",
   "metadata": {},
   "outputs": [],
   "source": [
    "# question 4"
   ]
  },
  {
   "cell_type": "code",
   "execution_count": null,
   "id": "5fd3059e-96b1-4818-8fd9-034fe065482b",
   "metadata": {},
   "outputs": [],
   "source": [
    "# Davies-Bouldin Index measures the size of clusters against the average distance between clusters. A lower score signifies better-defined clusters. The Davies-Bouldin Index measures the average similarity between clusters, where similarity compares the size of clusters against the between-cluster distance."
   ]
  },
  {
   "cell_type": "code",
   "execution_count": null,
   "id": "2c43d8f2-0820-416f-b057-749b9113adbb",
   "metadata": {},
   "outputs": [],
   "source": [
    "# question 7"
   ]
  },
  {
   "cell_type": "code",
   "execution_count": null,
   "id": "f6160c3a-9ffc-46c3-a292-4e5cf94c85f2",
   "metadata": {},
   "outputs": [],
   "source": [
    "# The advantage of this method is that it can capture the compactness and separation of clusters better than the SSE. The disadvantage is that it can be computationally expensive and sensitive to outliers."
   ]
  },
  {
   "cell_type": "code",
   "execution_count": null,
   "id": "c06b6d53-fd65-4005-896e-06fddee17173",
   "metadata": {},
   "outputs": [],
   "source": [
    "# question 8"
   ]
  },
  {
   "cell_type": "code",
   "execution_count": null,
   "id": "00d9ca73-8d4c-4865-aabc-2ac4bcce0abf",
   "metadata": {},
   "outputs": [],
   "source": [
    "# The Davies-Bouldin Index (DBI) is not without its drawbacks, however. It can be sensitive to outliers and noise, leading to a false indication of poor clustering. Furthermore, it assumes a spherical shape with similar sizes and densities for each cluster, which may not be true in many real-world cases.\n"
   ]
  },
  {
   "cell_type": "code",
   "execution_count": null,
   "id": "a6a74a91-dc9f-4ead-95a2-b81ced20ca02",
   "metadata": {},
   "outputs": [],
   "source": [
    "# question 9"
   ]
  },
  {
   "cell_type": "code",
   "execution_count": null,
   "id": "724e5ebc-41e4-4317-a30f-a40193c2bdc5",
   "metadata": {},
   "outputs": [],
   "source": [
    "# Both completeness score and homogeneity score are numbers between 0 and 1. The V-measure is the harmonic mean between the homogeneity score and the completeness score. The V-measure score is also a number between 0 and 1."
   ]
  },
  {
   "cell_type": "code",
   "execution_count": null,
   "id": "04a18acd-2a17-44f1-a22a-4857fa5d4998",
   "metadata": {},
   "outputs": [],
   "source": [
    "# question 12"
   ]
  },
  {
   "cell_type": "code",
   "execution_count": null,
   "id": "ff764f53-94c6-4d0b-8626-1726f91706cd",
   "metadata": {},
   "outputs": [],
   "source": [
    "# The silhouette coefficient is an average of the ratio of each cluster's compactness and closeness with range (−1,1). For agglomerative hierarchical clustering, a silhouette coefficient can be computed for several cuts (k=2... N−1) and plotted.The Silhouette Coefficient is calculated using the mean intra-cluster distance ( a ) and the mean nearest-cluster distance ( b ) for each sample. The Silhouette Coefficient for a sample is (b - a) / max(a, b) . To clarify, b is the distance between a sample and the nearest cluster that the sample is not a part of.\n"
   ]
  },
  {
   "cell_type": "code",
   "execution_count": null,
   "id": "4024362e-0bc6-4a0f-9f59-e682f15eda06",
   "metadata": {},
   "outputs": [],
   "source": []
  },
  {
   "cell_type": "code",
   "execution_count": null,
   "id": "ab400c8f-d6dd-41ab-a488-c974b7ef04f0",
   "metadata": {},
   "outputs": [],
   "source": []
  }
 ],
 "metadata": {
  "kernelspec": {
   "display_name": "Python 3 (ipykernel)",
   "language": "python",
   "name": "python3"
  },
  "language_info": {
   "codemirror_mode": {
    "name": "ipython",
    "version": 3
   },
   "file_extension": ".py",
   "mimetype": "text/x-python",
   "name": "python",
   "nbconvert_exporter": "python",
   "pygments_lexer": "ipython3",
   "version": "3.10.8"
  }
 },
 "nbformat": 4,
 "nbformat_minor": 5
}
