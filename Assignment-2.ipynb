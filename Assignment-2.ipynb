{
 "cells": [
  {
   "cell_type": "markdown",
   "id": "36bffdd2-9fa9-438d-8c10-81184ba3ca60",
   "metadata": {},
   "source": [
    "## assignment2"
   ]
  },
  {
   "cell_type": "code",
   "execution_count": 8,
   "id": "a8352bb6-9bdf-4fd3-b538-7f16480e08ec",
   "metadata": {},
   "outputs": [
    {
     "name": "stdout",
     "output_type": "stream",
     "text": [
      "A\n",
      "B\n",
      "C\n",
      "D\n"
     ]
    }
   ],
   "source": [
    "## question1\n",
    "\n",
    "percentage=(95,85,75,25)\n",
    "for i in percentage:\n",
    "    if i>90:\n",
    "        print('A')\n",
    "    elif i<90 and i>80:\n",
    "            print('B')\n",
    "    elif i<80 and i>60:\n",
    "            print('C')\n",
    "    else:\n",
    "            print('D')\n",
    "                    "
   ]
  },
  {
   "cell_type": "code",
   "execution_count": 36,
   "id": "a6265639-ff2c-4d5a-9c99-84a4a1a44c3e",
   "metadata": {},
   "outputs": [
    {
     "name": "stdout",
     "output_type": "stream",
     "text": [
      "'tax' :  30000.0\n",
      "'tax' :  2500.0\n",
      "'tax' :  1250.0\n"
     ]
    }
   ],
   "source": [
    "## question2\n",
    "\n",
    "cost_price=(200000,50000,25000)\n",
    "for i in cost_price:\n",
    "    if i>100000:\n",
    "        print(\"'tax' : \",i*0.15)\n",
    "    elif i<100000 and i>50000:\n",
    "            print(\"'tax' : \",i*0.10)\n",
    "    else:\n",
    "                print(\"'tax' : \", i*0.05)"
   ]
  },
  {
   "cell_type": "code",
   "execution_count": 47,
   "id": "12ed1822-d4f4-48f7-954c-fadb6bb69d60",
   "metadata": {},
   "outputs": [
    {
     "name": "stdout",
     "output_type": "stream",
     "text": [
      " famous monument in delhi is :  red fort\n",
      " famous monument in agra is :  taj mahal\n",
      " famous monument in jaipur is :  jal mahal\n"
     ]
    }
   ],
   "source": [
    "## question 3\n",
    "\n",
    "city=('delhi','agra','jaipur')\n",
    "for i in city:\n",
    "    if i=='delhi':\n",
    "        print(f\" famous monument in {i} is : \",'red fort')\n",
    "    elif i=='agra':\n",
    "            print(f\" famous monument in {i} is : \",'taj mahal')\n",
    "    else:\n",
    "                print(f\" famous monument in {i} is : \",'jal mahal')\n",
    "    "
   ]
  },
  {
   "cell_type": "code",
   "execution_count": 2,
   "id": "c1c2425f-c63d-4598-83a7-cf367eb954d8",
   "metadata": {},
   "outputs": [
    {
     "name": "stdout",
     "output_type": "stream",
     "text": [
      "50\n",
      "60\n",
      "70\n",
      "80\n",
      "90\n",
      "100\n"
     ]
    }
   ],
   "source": [
    "## question 5\n",
    "\n",
    "## while loop used to execuate a condition until the condition is satisfied\n",
    "\n",
    "## example\n",
    "\n",
    "weight=50\n",
    "while weight<=100:\n",
    "    print(weight)\n",
    "    weight=weight+10"
   ]
  },
  {
   "cell_type": "code",
   "execution_count": 4,
   "id": "f94403fa-9c39-42cb-8769-224eb1dd6104",
   "metadata": {},
   "outputs": [
    {
     "name": "stdout",
     "output_type": "stream",
     "text": [
      "10\n",
      "9\n",
      "8\n",
      "7\n",
      "6\n",
      "5\n",
      "4\n",
      "3\n",
      "2\n",
      "1\n"
     ]
    }
   ],
   "source": [
    "## question 7\n",
    "\n",
    "number=10\n",
    "while number>0:\n",
    "    print(number)\n",
    "    number=number-1"
   ]
  },
  {
   "cell_type": "code",
   "execution_count": 4,
   "id": "d4843a58-7d5e-4245-b29b-c3deed862fb3",
   "metadata": {},
   "outputs": [
    {
     "name": "stdout",
     "output_type": "stream",
     "text": [
      "10\n",
      "9\n",
      "8\n",
      "7\n",
      "6\n",
      "5\n",
      "4\n",
      "3\n",
      "2\n",
      "1\n"
     ]
    }
   ],
   "source": [
    "## question 8\n",
    "\n",
    "number=10\n",
    "while number>0:\n",
    "    print(number)\n",
    "    number=number-1"
   ]
  }
 ],
 "metadata": {
  "kernelspec": {
   "display_name": "Python 3 (ipykernel)",
   "language": "python",
   "name": "python3"
  },
  "language_info": {
   "codemirror_mode": {
    "name": "ipython",
    "version": 3
   },
   "file_extension": ".py",
   "mimetype": "text/x-python",
   "name": "python",
   "nbconvert_exporter": "python",
   "pygments_lexer": "ipython3",
   "version": "3.10.8"
  }
 },
 "nbformat": 4,
 "nbformat_minor": 5
}
