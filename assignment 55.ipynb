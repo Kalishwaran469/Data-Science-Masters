{
 "cells": [
  {
   "cell_type": "code",
   "execution_count": null,
   "id": "4578980e-17b4-41f9-9c8b-482c319e15de",
   "metadata": {},
   "outputs": [],
   "source": [
    "# question 1"
   ]
  },
  {
   "cell_type": "code",
   "execution_count": null,
   "id": "edde9719-5981-44f4-a933-3fc59b2dbe2c",
   "metadata": {},
   "outputs": [],
   "source": [
    "# The Differences Between Linear Regression and Logistic Regression. Linear Regression is used to handle regression problems whereas Logistic regression is used to handle the classification problems. Linear regression provides a continuous output but Logistic regression provides discreet output."
   ]
  },
  {
   "cell_type": "code",
   "execution_count": null,
   "id": "2a882803-06a3-4132-84f1-a90b2bf9965c",
   "metadata": {},
   "outputs": [],
   "source": [
    "# question 2"
   ]
  },
  {
   "cell_type": "code",
   "execution_count": null,
   "id": "acd1dd09-6a74-4c2a-b3a7-cb9f2d8c4679",
   "metadata": {},
   "outputs": [],
   "source": [
    "# cost function can be defined as the 'Sigmoid function' or also known as the 'logistic function' instead of a linear function.In Logistic Regression, iterative optimization algorithms like Gradient Descent or probabilistic methods like Maximum Likelihood are used to get the “best fit” S curve."
   ]
  },
  {
   "cell_type": "code",
   "execution_count": null,
   "id": "1ecd3951-990c-4104-aff4-60277d358bb8",
   "metadata": {},
   "outputs": [],
   "source": [
    "# question 3"
   ]
  },
  {
   "cell_type": "code",
   "execution_count": null,
   "id": "612b33a6-d528-4eae-92b4-c7fb19518b37",
   "metadata": {},
   "outputs": [],
   "source": [
    "# Regularization is used to reduce the complexity of the prediction function by imposing a penalty.Regularization, in general, penalizes the coefficients that cause the overfitting of the model."
   ]
  },
  {
   "cell_type": "code",
   "execution_count": null,
   "id": "b80b120e-09b1-40f9-b759-c3ec847ec5dd",
   "metadata": {},
   "outputs": [],
   "source": [
    "# question 4"
   ]
  },
  {
   "cell_type": "code",
   "execution_count": null,
   "id": "7ddb3042-334f-4a0a-92c5-6642c6bc8d8b",
   "metadata": {},
   "outputs": [],
   "source": [
    "# ROC curves in logistic regression are used for determining the best cutoff value for predicting whether a new observation is a \"failure\" (0) or a \"success\".The ROC curve is used to assess the overall diagnostic performance of a test and to compare the performance of two or more diagnostic tests. It is also used to select an optimal cut-off value for determining the presence or absence of a disease."
   ]
  },
  {
   "cell_type": "code",
   "execution_count": null,
   "id": "9f260641-3acf-4f8d-af50-573dbf10fce3",
   "metadata": {},
   "outputs": [],
   "source": [
    "# question 5"
   ]
  },
  {
   "cell_type": "code",
   "execution_count": null,
   "id": "614a1e2d-ea62-4d71-9deb-0895f12c2ff8",
   "metadata": {},
   "outputs": [],
   "source": [
    "# Recursive Feature Elimination (RFE) is a feature selection technique that involves training a model on a subset of the features, and then iteratively removing the least important features one by one until we are left with the desired number of features."
   ]
  },
  {
   "cell_type": "code",
   "execution_count": null,
   "id": "5187e929-759c-40ad-ab1b-f07eeabfd65f",
   "metadata": {},
   "outputs": [],
   "source": [
    "# question 6"
   ]
  },
  {
   "cell_type": "code",
   "execution_count": null,
   "id": "e390a7eb-21c6-4765-a338-bc147aea06d3",
   "metadata": {},
   "outputs": [],
   "source": [
    "# 7 Techniques to Handle Imbalanced Data. ...\n",
    "# Use the right evaluation metrics. ...\n",
    "# Resample the training set. ...\n",
    "# Use K-fold Cross-Validation in the Right Way. ...\n",
    "# Ensemble Different Resampled Datasets. ...\n",
    "# Resample with Different Ratios. ...\n",
    "# Cluster the abundant class. ...\n",
    "# Design Your Models."
   ]
  },
  {
   "cell_type": "code",
   "execution_count": null,
   "id": "f2165c27-ecb8-4f8a-bd63-6faf7ea6aa70",
   "metadata": {},
   "outputs": [],
   "source": [
    "# question 7"
   ]
  },
  {
   "cell_type": "code",
   "execution_count": null,
   "id": "7ecfa969-16a3-4ca3-aaf1-62da5518f3cd",
   "metadata": {},
   "outputs": [],
   "source": [
    "# Multicollinearity is a common problem when estimating linear or generalized linear models, including logistic regression and Cox regression. It occurs when there are high correlations among predictor variables, leading to unreliable and unstable estimates of regression coefficients.Remove some of the highly correlated independent variables.\n",
    "# Linearly combine the independent variables, such as adding them together.\n",
    "# Partial least squares regression uses principal component analysis to create a set of uncorrelated components to include in the model."
   ]
  },
  {
   "cell_type": "code",
   "execution_count": null,
   "id": "b261e699-589e-4edf-9d44-e9ea0fe283ab",
   "metadata": {},
   "outputs": [],
   "source": []
  },
  {
   "cell_type": "code",
   "execution_count": null,
   "id": "16f2dea9-f4c5-473e-8884-b6a04667e438",
   "metadata": {},
   "outputs": [],
   "source": []
  },
  {
   "cell_type": "code",
   "execution_count": null,
   "id": "7e55c8ed-1b64-432d-9f58-60175f51fbab",
   "metadata": {},
   "outputs": [],
   "source": []
  },
  {
   "cell_type": "code",
   "execution_count": null,
   "id": "eed62b33-9622-4e00-97a4-2af73d4700c2",
   "metadata": {},
   "outputs": [],
   "source": []
  },
  {
   "cell_type": "code",
   "execution_count": null,
   "id": "75b63f09-db61-463d-aec7-bf6c6e9d6582",
   "metadata": {},
   "outputs": [],
   "source": []
  }
 ],
 "metadata": {
  "kernelspec": {
   "display_name": "Python 3 (ipykernel)",
   "language": "python",
   "name": "python3"
  },
  "language_info": {
   "codemirror_mode": {
    "name": "ipython",
    "version": 3
   },
   "file_extension": ".py",
   "mimetype": "text/x-python",
   "name": "python",
   "nbconvert_exporter": "python",
   "pygments_lexer": "ipython3",
   "version": "3.10.8"
  }
 },
 "nbformat": 4,
 "nbformat_minor": 5
}
