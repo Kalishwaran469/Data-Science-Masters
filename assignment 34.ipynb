{
 "cells": [
  {
   "cell_type": "code",
   "execution_count": null,
   "id": "747ef0b3-70f8-4015-bfc6-7d432c89b889",
   "metadata": {},
   "outputs": [],
   "source": [
    "# question 1"
   ]
  },
  {
   "cell_type": "code",
   "execution_count": null,
   "id": "872077ae-1487-4ea0-a357-dfa0e6b37af4",
   "metadata": {},
   "outputs": [],
   "source": [
    "# A point estimate is a single value estimate of a parameter. For instance, a sample mean is a point estimate of a population mean. An interval estimate gives you a range of values where the parameter is expected to lie. A confidence interval is the most common type of interval estimate."
   ]
  },
  {
   "cell_type": "code",
   "execution_count": null,
   "id": "72fb40bf-6d9f-4d07-a479-cf276e99b59a",
   "metadata": {},
   "outputs": [],
   "source": [
    "# question 2"
   ]
  },
  {
   "cell_type": "code",
   "execution_count": 1,
   "id": "eb958961-84bb-4562-8ef0-9cda008a9b2b",
   "metadata": {},
   "outputs": [
    {
     "name": "stdout",
     "output_type": "stream",
     "text": [
      "Standard Deviation of sample is 1.5811388300841898 \n"
     ]
    }
   ],
   "source": [
    "\n",
    "import statistics\n",
    "sample = [1, 2, 3, 4, 5]\n",
    "print(\"Standard Deviation of sample is % s \"\n",
    "\t\t\t\t% (statistics.stdev(sample)))\n"
   ]
  },
  {
   "cell_type": "code",
   "execution_count": null,
   "id": "08dec255-61b2-4b1b-a90a-aa5c0e439de7",
   "metadata": {},
   "outputs": [],
   "source": [
    "# question 3"
   ]
  },
  {
   "cell_type": "code",
   "execution_count": null,
   "id": "eb83535e-c5bf-4c8c-bc46-ef822d0c67f4",
   "metadata": {},
   "outputs": [],
   "source": [
    "# Hypothesis Testing is a type of statistical analysis in which you put your assumptions about a population parameter to the test. It is used to estimate the relationship between 2 statistical variables.\n"
   ]
  },
  {
   "cell_type": "code",
   "execution_count": null,
   "id": "0695d423-84e6-473d-a5a5-f13a7956c5b3",
   "metadata": {},
   "outputs": [],
   "source": [
    "# question 6"
   ]
  },
  {
   "cell_type": "code",
   "execution_count": null,
   "id": "b2e87610-4461-4c1d-829c-8238a93d3c64",
   "metadata": {},
   "outputs": [],
   "source": [
    "# The null hypothesis is the one to be tested and the alternative is everything else. In our example: The null hypothesis would be: The mean data scientist salary is 113,000 dollars. While the alternative: The mean data scientist salary is not 113,000 dollars."
   ]
  },
  {
   "cell_type": "code",
   "execution_count": null,
   "id": "eea3f047-3b9e-4066-8e45-d41dc6fabc8c",
   "metadata": {},
   "outputs": [],
   "source": [
    "# question 7"
   ]
  },
  {
   "cell_type": "code",
   "execution_count": null,
   "id": "ba6762f1-7d57-4efc-bb86-4eeccd29ed47",
   "metadata": {},
   "outputs": [],
   "source": [
    "# null hypothesis\n",
    "# alternate hypothesis\n",
    "# statisticsl analysis\n",
    "# accept the null hypothesis or reject the null hypothesis"
   ]
  },
  {
   "cell_type": "code",
   "execution_count": null,
   "id": "83e78d46-86b5-47a8-af9e-cc7259f25c32",
   "metadata": {},
   "outputs": [],
   "source": [
    "# question 8"
   ]
  },
  {
   "cell_type": "code",
   "execution_count": null,
   "id": "6f2e22c0-e7ad-41c0-82bf-c03bf18d3e51",
   "metadata": {},
   "outputs": [],
   "source": [
    "# The p value is a number, calculated from a statistical test, that describes how likely you are to have found a particular set of observations if the null hypothesis were true. P values are used in hypothesis testing to help decide whether to reject the null hypothesis."
   ]
  },
  {
   "cell_type": "code",
   "execution_count": null,
   "id": "0af687e0-540a-42d9-b96e-2753d3acdf6f",
   "metadata": {},
   "outputs": [],
   "source": [
    "# question 11"
   ]
  },
  {
   "cell_type": "code",
   "execution_count": null,
   "id": "2bb80692-b0b4-4188-a6c6-97cafe5ebae6",
   "metadata": {},
   "outputs": [],
   "source": [
    "# The t-distribution, also known as the Student's t-distribution, is a type of probability distribution that is similar to the normal distribution with its bell shape but has heavier tails. It is used for estimating population parameters for small sample sizes or unknown variances.\n",
    "# You must use the t-distribution table when working problems when the population standard deviation (σ) is not known and the sample size is small (n<30)."
   ]
  },
  {
   "cell_type": "code",
   "execution_count": null,
   "id": "d2145bf3-a72f-49b1-a38b-4d80c46ec5f5",
   "metadata": {},
   "outputs": [],
   "source": [
    "# question 12"
   ]
  },
  {
   "cell_type": "code",
   "execution_count": null,
   "id": "8a7f3825-5c13-4fa8-821d-a3a03adbbf2e",
   "metadata": {},
   "outputs": [],
   "source": [
    "# A t-test is an inferential statistic used to determine if there is a significant difference between the means of two groups and how they are related. T-tests are used when the data sets follow a normal distribution and have unknown variances, like the data set recorded from flipping a coin 100 times.\n",
    "# T = (X – μ) / [ σ/√(n) ]"
   ]
  },
  {
   "cell_type": "code",
   "execution_count": null,
   "id": "dd6336df-5860-4720-af3f-249b62c8ba19",
   "metadata": {},
   "outputs": [],
   "source": [
    "# question 16"
   ]
  },
  {
   "cell_type": "code",
   "execution_count": null,
   "id": "9e7d5fa1-8fb1-4dcd-8cd6-d497f9d5f445",
   "metadata": {},
   "outputs": [],
   "source": []
  },
  {
   "cell_type": "code",
   "execution_count": null,
   "id": "e59d45cc-12f8-4d63-9259-128e6f5a352f",
   "metadata": {},
   "outputs": [],
   "source": []
  },
  {
   "cell_type": "code",
   "execution_count": null,
   "id": "85e50067-b934-43ed-a831-571852c0b4b7",
   "metadata": {},
   "outputs": [],
   "source": []
  },
  {
   "cell_type": "code",
   "execution_count": null,
   "id": "37edfc68-6062-4f6a-bcd4-9f00bde0fd0f",
   "metadata": {},
   "outputs": [],
   "source": []
  },
  {
   "cell_type": "code",
   "execution_count": null,
   "id": "79b2fc49-9cb3-494c-8b2f-0efdf0fefc12",
   "metadata": {},
   "outputs": [],
   "source": []
  }
 ],
 "metadata": {
  "kernelspec": {
   "display_name": "Python 3 (ipykernel)",
   "language": "python",
   "name": "python3"
  },
  "language_info": {
   "codemirror_mode": {
    "name": "ipython",
    "version": 3
   },
   "file_extension": ".py",
   "mimetype": "text/x-python",
   "name": "python",
   "nbconvert_exporter": "python",
   "pygments_lexer": "ipython3",
   "version": "3.10.8"
  }
 },
 "nbformat": 4,
 "nbformat_minor": 5
}
