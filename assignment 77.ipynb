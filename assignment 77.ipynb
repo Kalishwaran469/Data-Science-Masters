{
 "cells": [
  {
   "cell_type": "code",
   "execution_count": null,
   "id": "b7bb73ac-f45e-483d-8090-e9b9bfc9682a",
   "metadata": {},
   "outputs": [],
   "source": [
    "# question 1"
   ]
  },
  {
   "cell_type": "code",
   "execution_count": null,
   "id": "c1621e4b-109b-431b-9408-0e04bcac61c7",
   "metadata": {},
   "outputs": [],
   "source": [
    "# Eigenvalues are the special set of scalar values that is associated with the set of linear equations most probably in the matrix equations. The eigenvectors are also termed as characteristic roots. It is a non-zero vector that can be changed at most by its scalar factor after the application of linear transformations."
   ]
  },
  {
   "cell_type": "code",
   "execution_count": null,
   "id": "84ed99fe-8329-48ce-bafd-a3709f1ee8cc",
   "metadata": {},
   "outputs": [],
   "source": [
    "# question 3"
   ]
  },
  {
   "cell_type": "code",
   "execution_count": null,
   "id": "03c9633a-87ad-417f-a759-2ea2b5fd4f98",
   "metadata": {},
   "outputs": [],
   "source": [
    "# Hence, a matrix is diagonalizable if and only if its nilpotent part is zero. Put in another way, a matrix is diagonalizable if each block in its Jordan form has no nilpotent part; i.e., each \"block\" is a one-by-one matrix."
   ]
  },
  {
   "cell_type": "code",
   "execution_count": null,
   "id": "c3691bc3-ad0a-4e88-9cab-060cff8654c2",
   "metadata": {},
   "outputs": [],
   "source": [
    "# question 5"
   ]
  },
  {
   "cell_type": "code",
   "execution_count": null,
   "id": "f305af2b-9276-482e-8259-77046b952b13",
   "metadata": {},
   "outputs": [],
   "source": [
    "# from covaraince matrix we can find the eigen value.generally eigen value is noted as lambda.Eigenvalues represent the scaling factor by which a vector is transformed when a linear transformation is applied, while eigenvectors represent the directions in which the transformation occurs."
   ]
  },
  {
   "cell_type": "code",
   "execution_count": null,
   "id": "2dd9ca21-9de4-4e7d-b193-18e4dd500697",
   "metadata": {},
   "outputs": [],
   "source": [
    "# question 6"
   ]
  },
  {
   "cell_type": "code",
   "execution_count": null,
   "id": "361ce4ac-d496-4de2-a2ed-8a8301544f09",
   "metadata": {},
   "outputs": [],
   "source": [
    "# In simple terms, eigenvalues and eigenvectors are the building blocks of linear transformations. Eigenvalues represent the scaling factor by which a vector is transformed when a linear transformation is applied, while eigenvectors represent the directions in which the transformation occurs."
   ]
  },
  {
   "cell_type": "code",
   "execution_count": null,
   "id": "026decfd-2f9b-4266-af8c-83ae6cfbdc74",
   "metadata": {},
   "outputs": [],
   "source": [
    "# question 7"
   ]
  },
  {
   "cell_type": "code",
   "execution_count": null,
   "id": "d64764db-8865-48bc-bfc8-66060a708835",
   "metadata": {},
   "outputs": [],
   "source": [
    "# As anticipated, eigenvectors are those vector whose direction remains unchanged once transformed via a fixed T, while eigenvalues are those values of the extension factor associated with them. To be more precise, eigenvectors are vectors which are not trivial, hence different from 0."
   ]
  },
  {
   "cell_type": "code",
   "execution_count": null,
   "id": "24de0d1d-9f65-4703-8cbf-2d3c79734a05",
   "metadata": {},
   "outputs": [],
   "source": [
    "# question 8"
   ]
  },
  {
   "cell_type": "code",
   "execution_count": null,
   "id": "8f451cce-4d80-4b5c-a456-08c75d943524",
   "metadata": {},
   "outputs": [],
   "source": [
    "# It is used in car design especially car stereo system and also in decoupling three phase system. Eigendecomposition is particularly useful for analysing the structure of the data matrix in terms of the eigenvalues and eigenvectors."
   ]
  },
  {
   "cell_type": "code",
   "execution_count": null,
   "id": "1e26f378-87fc-41e6-8428-5977d7fa02ca",
   "metadata": {},
   "outputs": [],
   "source": [
    "# question 9"
   ]
  },
  {
   "cell_type": "code",
   "execution_count": null,
   "id": "0828a54d-c601-4fd3-bbf5-7180fb5535cd",
   "metadata": {},
   "outputs": [],
   "source": [
    "# However, there's nothing in the definition that stops us having multiple eigenvectors with the same eigenvalue. For example, the matrix [1001] has two distinct eigenvectors, [1,0] and [0,1], each with an eigenvalue of 1. (In fact, every possible vector is an eigenvector, with eigenvalue 1.)"
   ]
  },
  {
   "cell_type": "code",
   "execution_count": null,
   "id": "9b2f43a8-12f9-4205-8bd8-eed587e29b16",
   "metadata": {},
   "outputs": [],
   "source": []
  },
  {
   "cell_type": "code",
   "execution_count": null,
   "id": "83105132-bfa9-456e-a993-12ca0bfa91ce",
   "metadata": {},
   "outputs": [],
   "source": []
  }
 ],
 "metadata": {
  "kernelspec": {
   "display_name": "Python 3 (ipykernel)",
   "language": "python",
   "name": "python3"
  },
  "language_info": {
   "codemirror_mode": {
    "name": "ipython",
    "version": 3
   },
   "file_extension": ".py",
   "mimetype": "text/x-python",
   "name": "python",
   "nbconvert_exporter": "python",
   "pygments_lexer": "ipython3",
   "version": "3.10.8"
  }
 },
 "nbformat": 4,
 "nbformat_minor": 5
}
