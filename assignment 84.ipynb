{
 "cells": [
  {
   "cell_type": "code",
   "execution_count": null,
   "id": "fb862dae-f741-496f-ab34-defb196ffbf7",
   "metadata": {},
   "outputs": [],
   "source": [
    "# question 1"
   ]
  },
  {
   "cell_type": "code",
   "execution_count": null,
   "id": "cc6d12d4-5a25-449c-85a0-966748ff5fe8",
   "metadata": {},
   "outputs": [],
   "source": [
    "# Anomaly detection identifies suspicious activity that falls outside of your established normal patterns of behavior. A solution protects your system in real-time from instances that could result in significant financial losses, data breaches, and other harmful events."
   ]
  },
  {
   "cell_type": "code",
   "execution_count": null,
   "id": "b399808f-5e65-44e5-ad0e-bc695ca93804",
   "metadata": {},
   "outputs": [],
   "source": [
    "# question 2"
   ]
  },
  {
   "cell_type": "code",
   "execution_count": null,
   "id": "3c220443-2944-4fea-b7ae-87f980de67fc",
   "metadata": {},
   "outputs": [],
   "source": [
    "# Null data or incomplete datasets.\n",
    "# Inconsistent data formats.\n",
    "# Duplicate data.\n",
    "# Different scales of measurement.\n",
    "# Human error."
   ]
  },
  {
   "cell_type": "code",
   "execution_count": null,
   "id": "f3ca9ce2-6659-4cd7-be4c-d8ddcbbf3ee4",
   "metadata": {},
   "outputs": [],
   "source": [
    "# question 3"
   ]
  },
  {
   "cell_type": "code",
   "execution_count": null,
   "id": "b50e53d2-2010-455b-8295-c9a3603b1a6b",
   "metadata": {},
   "outputs": [],
   "source": [
    "# The main difference between supervised and unsupervised anomaly detection is the approach involved, where supervised approach makes use of predefined algorithms and AI training, while unsupervised approach uses a general outlier-detection mechanism based on pattern matching."
   ]
  },
  {
   "cell_type": "code",
   "execution_count": null,
   "id": "1d8e82dc-e4d3-4267-87e0-d069c9fbca06",
   "metadata": {},
   "outputs": [],
   "source": [
    "# question 4"
   ]
  },
  {
   "cell_type": "code",
   "execution_count": null,
   "id": "c2efaf7f-f3ca-4bc4-a074-4ce672b065a0",
   "metadata": {},
   "outputs": [],
   "source": [
    "# Isolation Forest.\n",
    "# Local Outlier Factor.\n",
    "# Robust Covariance.\n",
    "# One-Class SVM.\n",
    "# One-Class SVM (SGD)"
   ]
  },
  {
   "cell_type": "code",
   "execution_count": null,
   "id": "193a74dc-dd80-4a76-ae78-09ab89fc07c8",
   "metadata": {},
   "outputs": [],
   "source": [
    "# question 5"
   ]
  },
  {
   "cell_type": "code",
   "execution_count": null,
   "id": "f7622ec6-8ac7-4f70-9acb-a5aec553900b",
   "metadata": {},
   "outputs": [],
   "source": [
    "# The basic assumption of density-based outlier detection methods is that the density around a nonoutlier object is similar to the density around its neighbors, while the density around an outlier object is significantly different from the density around its neighbors."
   ]
  },
  {
   "cell_type": "code",
   "execution_count": null,
   "id": "9e1624e0-bc55-4104-bf55-f7a7b0e36580",
   "metadata": {},
   "outputs": [],
   "source": [
    "# question 6"
   ]
  },
  {
   "cell_type": "code",
   "execution_count": null,
   "id": "a3bc5b47-7108-416c-8872-eef3aa475459",
   "metadata": {},
   "outputs": [],
   "source": [
    "# The Local Outlier Factor (LOF) algorithm is an unsupervised anomaly detection method which computes the local density deviation of a given data point with respect to its neighbors. It considers as outliers the samples that have a substantially lower density than their neighbors."
   ]
  },
  {
   "cell_type": "code",
   "execution_count": null,
   "id": "1ca432ec-9d40-47ce-a117-73d71d74098b",
   "metadata": {},
   "outputs": [],
   "source": [
    "# question 7"
   ]
  },
  {
   "cell_type": "code",
   "execution_count": null,
   "id": "fcd4b47a-9338-4633-bd17-31fb34fd80b3",
   "metadata": {},
   "outputs": [],
   "source": [
    "# n_estimators,contamination,"
   ]
  },
  {
   "cell_type": "code",
   "execution_count": null,
   "id": "f3bd8178-4541-4e26-ab2d-447c38233b6e",
   "metadata": {},
   "outputs": [],
   "source": []
  },
  {
   "cell_type": "code",
   "execution_count": null,
   "id": "6a173131-658b-4f5d-aea8-cc5df0bffcb9",
   "metadata": {},
   "outputs": [],
   "source": []
  },
  {
   "cell_type": "code",
   "execution_count": null,
   "id": "8d302d73-3b69-49fa-b1a8-b2428e0539f6",
   "metadata": {},
   "outputs": [],
   "source": []
  },
  {
   "cell_type": "code",
   "execution_count": null,
   "id": "97dbf301-2f91-4810-900e-616a3e1ff928",
   "metadata": {},
   "outputs": [],
   "source": []
  }
 ],
 "metadata": {
  "kernelspec": {
   "display_name": "Python 3 (ipykernel)",
   "language": "python",
   "name": "python3"
  },
  "language_info": {
   "codemirror_mode": {
    "name": "ipython",
    "version": 3
   },
   "file_extension": ".py",
   "mimetype": "text/x-python",
   "name": "python",
   "nbconvert_exporter": "python",
   "pygments_lexer": "ipython3",
   "version": "3.10.8"
  }
 },
 "nbformat": 4,
 "nbformat_minor": 5
}
