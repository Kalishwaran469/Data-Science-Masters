{
 "cells": [
  {
   "cell_type": "code",
   "execution_count": null,
   "id": "d589f64e-d45d-476c-ad29-4cf868963569",
   "metadata": {},
   "outputs": [],
   "source": [
    "# question1"
   ]
  },
  {
   "cell_type": "code",
   "execution_count": 1,
   "id": "6ae24e7b-cd0c-489d-82ec-9035a916ddec",
   "metadata": {},
   "outputs": [],
   "source": [
    "# Multithreading is the ability of a program or an operating system to enable more than one user at a time without \n",
    "# requiring multiple copies of the program running on the computer. Multithreading can also handle multiple requests from\n",
    "# the same user.\n",
    "# threading module is used to handle threads in python"
   ]
  },
  {
   "cell_type": "code",
   "execution_count": null,
   "id": "87fbd7c8-2e68-46ae-ac4e-b59ecfd636dd",
   "metadata": {},
   "outputs": [],
   "source": [
    "# question 2"
   ]
  },
  {
   "cell_type": "code",
   "execution_count": null,
   "id": "5be47a7c-113c-42b7-ad6e-27aed8fb9c70",
   "metadata": {},
   "outputs": [],
   "source": [
    "# threading module is used for creating, controlling and managing threads in python. \n",
    "# threading.activeCount() − Returns the number of thread objects that are active.\n",
    "# threading.currentThread() − Returns the number of thread objects in the caller's thread control.\n",
    "# threading.enumerate() − Returns a list of all thread objects that are currently active."
   ]
  },
  {
   "cell_type": "code",
   "execution_count": null,
   "id": "828f2fcf-4a52-4bdf-b680-9c718678a4d7",
   "metadata": {},
   "outputs": [],
   "source": [
    "# question 3\n",
    "\n",
    "# run() − The run() method is the entry point for a thread.\n",
    "# start() − The start() method starts a thread by calling the run method.\n",
    "# join([time]) − The join() waits for threads to terminate.\n",
    "# isAlive() − The isAlive() method checks whether a thread is still executing"
   ]
  },
  {
   "cell_type": "code",
   "execution_count": null,
   "id": "8e41913c-ba22-4bdd-87c7-707a927ef03e",
   "metadata": {},
   "outputs": [],
   "source": [
    "# question5"
   ]
  },
  {
   "cell_type": "code",
   "execution_count": null,
   "id": "dfb79c87-c75f-4246-b333-c3a0c0ee9092",
   "metadata": {},
   "outputs": [],
   "source": [
    "# advantages\n",
    "\n",
    "# Multithreading in Python streamlines the efficient utilization of resources as the threads share the same memory and\n",
    "# data space. It also allows the concurrent appearance of multiple tasks and reduces the response time. This improves the\n",
    "# performance."
   ]
  },
  {
   "cell_type": "code",
   "execution_count": null,
   "id": "a9e40ce9-5fb3-421d-8581-38c895af2491",
   "metadata": {},
   "outputs": [],
   "source": [
    "# disadvantages\n",
    "\n",
    "#Difficulty of writing code\n",
    "# Difficulty of debugging\n",
    "# Difficulty of testing\n",
    "# Difficulty of porting existing code"
   ]
  },
  {
   "cell_type": "code",
   "execution_count": null,
   "id": "d41d63ca-1b89-47d5-8251-2bdff55873b3",
   "metadata": {},
   "outputs": [],
   "source": [
    "# question 6"
   ]
  },
  {
   "cell_type": "code",
   "execution_count": null,
   "id": "73175e21-b31c-450a-beea-b8fb476bca57",
   "metadata": {},
   "outputs": [],
   "source": [
    "# When two processes are waiting for each other directly or indirectly, it is called deadlock.\n",
    "# When two processes are competing with each other causing data corruption."
   ]
  },
  {
   "cell_type": "code",
   "execution_count": null,
   "id": "b7752ef8-2735-4d2f-9aae-45be0847352c",
   "metadata": {},
   "outputs": [],
   "source": []
  },
  {
   "cell_type": "code",
   "execution_count": null,
   "id": "d5fb7750-ab1f-4294-a273-aff3db622522",
   "metadata": {},
   "outputs": [],
   "source": []
  },
  {
   "cell_type": "code",
   "execution_count": null,
   "id": "58fb1fe0-04e0-49ae-9c43-c10f2212fc3b",
   "metadata": {},
   "outputs": [],
   "source": []
  }
 ],
 "metadata": {
  "kernelspec": {
   "display_name": "Python 3 (ipykernel)",
   "language": "python",
   "name": "python3"
  },
  "language_info": {
   "codemirror_mode": {
    "name": "ipython",
    "version": 3
   },
   "file_extension": ".py",
   "mimetype": "text/x-python",
   "name": "python",
   "nbconvert_exporter": "python",
   "pygments_lexer": "ipython3",
   "version": "3.10.8"
  }
 },
 "nbformat": 4,
 "nbformat_minor": 5
}
