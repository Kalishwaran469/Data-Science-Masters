{
 "cells": [
  {
   "cell_type": "code",
   "execution_count": 6,
   "id": "9b7cbed8-47a9-4f0d-ad57-10d316016d4a",
   "metadata": {},
   "outputs": [
    {
     "name": "stdout",
     "output_type": "stream",
     "text": [
      "25\n",
      "27\n",
      "29\n",
      "31\n",
      "33\n",
      "35\n",
      "37\n",
      "39\n",
      "41\n",
      "43\n",
      "45\n",
      "47\n",
      "49\n",
      "51\n",
      "53\n",
      "55\n",
      "57\n",
      "59\n",
      "its time for retirement\n"
     ]
    }
   ],
   "source": [
    "# while loop while-else\n",
    "joining_age=25\n",
    "while joining_age<=60:\n",
    "    print(joining_age)\n",
    "    joining_age=joining_age+2\n",
    "    \n",
    "else:\n",
    "        print(\"its time for retirement\")\n",
    "    "
   ]
  },
  {
   "cell_type": "code",
   "execution_count": 8,
   "id": "a9087a62-1026-48c8-b5c5-a76d54f0f073",
   "metadata": {},
   "outputs": [
    {
     "name": "stdout",
     "output_type": "stream",
     "text": [
      "1000\n",
      "800\n",
      "600\n",
      "400\n",
      "200\n"
     ]
    }
   ],
   "source": [
    "### atm machine with 1000 rs\n",
    "total_amount=1000\n",
    "while total_amount!=0:\n",
    "    print(total_amount)\n",
    "    total_amount=total_amount-200\n",
    "else:\n",
    "    (\"please put money in the atm\")"
   ]
  },
  {
   "cell_type": "markdown",
   "id": "45ee96c8-8b04-4201-8951-c86e6abe71c7",
   "metadata": {},
   "source": [
    "# for loop"
   ]
  },
  {
   "cell_type": "code",
   "execution_count": 9,
   "id": "ae9b05b6-0556-4efd-80ca-52e082c5ff5c",
   "metadata": {},
   "outputs": [
    {
     "name": "stdout",
     "output_type": "stream",
     "text": [
      "jack\n",
      "1\n",
      "2\n",
      "3\n",
      "4\n"
     ]
    }
   ],
   "source": [
    "lst=[\"jack\",1,2,3,4]\n",
    "for x in lst:\n",
    "    print(x)"
   ]
  },
  {
   "cell_type": "code",
   "execution_count": 10,
   "id": "7e073832-25da-4086-be76-fe530ee74a8a",
   "metadata": {},
   "outputs": [
    {
     "data": {
      "text/plain": [
       "'jack'"
      ]
     },
     "execution_count": 10,
     "metadata": {},
     "output_type": "execute_result"
    }
   ],
   "source": [
    "lst[0]"
   ]
  },
  {
   "cell_type": "code",
   "execution_count": 17,
   "id": "b74bbb48-9335-437f-967b-0ae43ffbd785",
   "metadata": {},
   "outputs": [
    {
     "name": "stdout",
     "output_type": "stream",
     "text": [
      "dhoni\n",
      "kohli\n",
      "rcb win the cup\n",
      "bumrah\n",
      "sachin\n",
      "abd\n"
     ]
    }
   ],
   "source": [
    "cricketers_lst=[\"dhoni\",'kohli','bumrah','sachin','abd']"
   ]
  },
  {
   "cell_type": "code",
   "execution_count": 21,
   "id": "5e6dcab6-887e-4d1e-863b-51f837111583",
   "metadata": {},
   "outputs": [
    {
     "data": {
      "text/plain": [
       "'dhoni'"
      ]
     },
     "execution_count": 21,
     "metadata": {},
     "output_type": "execute_result"
    }
   ],
   "source": [
    "cricketers_lst=[\"dhoni\",'kohli','bumrah','sachin','abd']\n",
    "cricketers_lst[0]\n"
   ]
  },
  {
   "cell_type": "code",
   "execution_count": 18,
   "id": "b9543dc7-556c-423d-981c-eacf64d09e2c",
   "metadata": {},
   "outputs": [
    {
     "name": "stdout",
     "output_type": "stream",
     "text": [
      "d\n",
      "h\n",
      "o\n",
      "n\n",
      "i\n"
     ]
    }
   ],
   "source": [
    "cricketers='dhoni'\n",
    "for c in cricketers:\n",
    "    print(c)"
   ]
  },
  {
   "cell_type": "code",
   "execution_count": 19,
   "id": "4387f3b3-8c42-4062-afb2-6de37330a86e",
   "metadata": {},
   "outputs": [
    {
     "data": {
      "text/plain": [
       "'i'"
      ]
     },
     "execution_count": 19,
     "metadata": {},
     "output_type": "execute_result"
    }
   ],
   "source": [
    "cricketers[4]"
   ]
  },
  {
   "cell_type": "code",
   "execution_count": 22,
   "id": "701b618a-0c98-45ee-ba44-5758df9e0cf8",
   "metadata": {},
   "outputs": [],
   "source": [
    "## nested loops\n",
    "n=7"
   ]
  },
  {
   "cell_type": "code",
   "execution_count": 30,
   "id": "d2708076-72bc-48cf-ad05-2ef54e549ac9",
   "metadata": {},
   "outputs": [
    {
     "name": "stdout",
     "output_type": "stream",
     "text": [
      "1\n",
      "2\n",
      "3\n",
      "4\n",
      "5\n",
      "6\n",
      "7\n",
      "8\n",
      "9\n",
      "10\n"
     ]
    }
   ],
   "source": [
    "## range\n",
    "for i in range(1,11):\n",
    "    print(i)"
   ]
  },
  {
   "cell_type": "code",
   "execution_count": 31,
   "id": "d770772b-0cb1-482b-a473-7a6e85bed2e0",
   "metadata": {},
   "outputs": [
    {
     "name": "stdout",
     "output_type": "stream",
     "text": [
      "1\n",
      "4\n"
     ]
    }
   ],
   "source": [
    "for i in range (1,7,3):\n",
    "    print(i)\n"
   ]
  },
  {
   "cell_type": "code",
   "execution_count": 42,
   "id": "b821fdba-2600-4745-82d3-0a4081e2bf3c",
   "metadata": {},
   "outputs": [
    {
     "name": "stdout",
     "output_type": "stream",
     "text": [
      "0\n",
      "\n",
      "0\n",
      "1\n",
      "\n",
      "0\n",
      "1\n",
      "2\n",
      "\n"
     ]
    }
   ],
   "source": [
    "## nested loops\n",
    "n=3\n",
    "for i in range(0,n):\n",
    "    for j in range(0,i+1):\n",
    "        print(j)\n",
    "    print(\"\\r\")\n",
    "\n"
   ]
  },
  {
   "cell_type": "code",
   "execution_count": 44,
   "id": "05ddaaad-f19b-46c4-9c6e-2b90c63eff23",
   "metadata": {},
   "outputs": [
    {
     "name": "stdout",
     "output_type": "stream",
     "text": [
      "dhoni\n",
      "rcb won the cup\n"
     ]
    }
   ],
   "source": [
    "## loop controls\n",
    "## break and continue\n",
    "cricketers_lst=[\"dhoni\",'kohli','bumrah','sachin','abd']\n",
    "for c in cricketers_lst:\n",
    "    if c==\"kohli\":\n",
    "        print(\"rcb won the cup\")\n",
    "        break\n",
    "    print(c)\n"
   ]
  },
  {
   "cell_type": "code",
   "execution_count": 45,
   "id": "b65fcc13-7b3e-4a06-81cd-fd2188f33782",
   "metadata": {},
   "outputs": [
    {
     "name": "stdout",
     "output_type": "stream",
     "text": [
      "dhoni\n",
      "rcb won the cup\n",
      "kohli\n",
      "bumrah\n",
      "sachin\n",
      "abd\n"
     ]
    }
   ],
   "source": [
    "cricketers_lst=[\"dhoni\",'kohli','bumrah','sachin','abd']\n",
    "for c in cricketers_lst:\n",
    "    if c==\"kohli\":\n",
    "        print(\"rcb won the cup\")\n",
    "        pass\n",
    "    print(c)\n"
   ]
  },
  {
   "cell_type": "code",
   "execution_count": 46,
   "id": "7d4322cd-e3d6-4da4-ae0a-60808d289096",
   "metadata": {},
   "outputs": [
    {
     "name": "stdout",
     "output_type": "stream",
     "text": [
      "dhoni\n",
      "rcb won the cup\n",
      "bumrah\n",
      "sachin\n",
      "abd\n"
     ]
    }
   ],
   "source": [
    "cricketers_lst=[\"dhoni\",'kohli','bumrah','sachin','abd']\n",
    "for c in cricketers_lst:\n",
    "    if c==\"kohli\":\n",
    "        print(\"rcb won the cup\")\n",
    "        continue\n",
    "    print(c)\n"
   ]
  },
  {
   "cell_type": "code",
   "execution_count": null,
   "id": "796bc20c-84a3-422b-be66-b826fd5c7d35",
   "metadata": {},
   "outputs": [],
   "source": []
  }
 ],
 "metadata": {
  "kernelspec": {
   "display_name": "Python 3 (ipykernel)",
   "language": "python",
   "name": "python3"
  },
  "language_info": {
   "codemirror_mode": {
    "name": "ipython",
    "version": 3
   },
   "file_extension": ".py",
   "mimetype": "text/x-python",
   "name": "python",
   "nbconvert_exporter": "python",
   "pygments_lexer": "ipython3",
   "version": "3.10.8"
  }
 },
 "nbformat": 4,
 "nbformat_minor": 5
}
