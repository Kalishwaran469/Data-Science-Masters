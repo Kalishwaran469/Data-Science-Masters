{
 "cells": [
  {
   "cell_type": "code",
   "execution_count": 1,
   "id": "56da5058-1c8b-4c52-8ba2-17c1dcd4c93f",
   "metadata": {},
   "outputs": [],
   "source": [
    "import numpy as np\n"
   ]
  },
  {
   "cell_type": "code",
   "execution_count": 2,
   "id": "17ccecb7-c8ae-4a33-bde9-19a9943fdf0c",
   "metadata": {},
   "outputs": [],
   "source": [
    "l=[1,2,3,45]"
   ]
  },
  {
   "cell_type": "code",
   "execution_count": 4,
   "id": "8053dac4-97e4-47f7-ba6c-7866d9177ee2",
   "metadata": {},
   "outputs": [],
   "source": [
    "arr=np.array(l)"
   ]
  },
  {
   "cell_type": "code",
   "execution_count": 5,
   "id": "914fc31c-5f9c-414f-8110-77f83062dff0",
   "metadata": {},
   "outputs": [
    {
     "data": {
      "text/plain": [
       "numpy.ndarray"
      ]
     },
     "execution_count": 5,
     "metadata": {},
     "output_type": "execute_result"
    }
   ],
   "source": [
    "type(arr)"
   ]
  },
  {
   "cell_type": "code",
   "execution_count": 11,
   "id": "a3ecad5e-ecc7-42dd-abb4-1f38ba6cd3cf",
   "metadata": {},
   "outputs": [
    {
     "data": {
      "text/plain": [
       "array([ 1,  2,  3, 45])"
      ]
     },
     "execution_count": 11,
     "metadata": {},
     "output_type": "execute_result"
    }
   ],
   "source": [
    "np.asarray(l)"
   ]
  },
  {
   "cell_type": "code",
   "execution_count": 10,
   "id": "d3e43914-5eb2-47a4-a632-9669edccce1b",
   "metadata": {},
   "outputs": [],
   "source": [
    "arr1=np.array([[1,2,3],[4,5,6]])"
   ]
  },
  {
   "cell_type": "code",
   "execution_count": 13,
   "id": "7ca3033f-a241-4d17-8e63-f5b209e86b8e",
   "metadata": {},
   "outputs": [
    {
     "data": {
      "text/plain": [
       "1"
      ]
     },
     "execution_count": 13,
     "metadata": {},
     "output_type": "execute_result"
    }
   ],
   "source": [
    "arr.ndim"
   ]
  },
  {
   "cell_type": "code",
   "execution_count": 14,
   "id": "55b3f86c-e91e-453f-b4b7-16227a5630d1",
   "metadata": {},
   "outputs": [
    {
     "data": {
      "text/plain": [
       "2"
      ]
     },
     "execution_count": 14,
     "metadata": {},
     "output_type": "execute_result"
    }
   ],
   "source": [
    "arr1.ndim"
   ]
  },
  {
   "cell_type": "code",
   "execution_count": 16,
   "id": "895ef405-f244-430f-9ec8-689743c3d30d",
   "metadata": {},
   "outputs": [],
   "source": [
    "jack=np.matrix(l)"
   ]
  },
  {
   "cell_type": "code",
   "execution_count": 17,
   "id": "ecb868cb-abf3-4d15-87a4-edb6deb56763",
   "metadata": {},
   "outputs": [
    {
     "data": {
      "text/plain": [
       "array([ 1,  2,  3, 45])"
      ]
     },
     "execution_count": 17,
     "metadata": {},
     "output_type": "execute_result"
    }
   ],
   "source": [
    "np.asanyarray(l)"
   ]
  },
  {
   "cell_type": "code",
   "execution_count": 18,
   "id": "0e43a1af-604f-4b1f-a774-8b3cd3d4ed24",
   "metadata": {},
   "outputs": [
    {
     "data": {
      "text/plain": [
       "matrix([[ 1,  2,  3, 45]])"
      ]
     },
     "execution_count": 18,
     "metadata": {},
     "output_type": "execute_result"
    }
   ],
   "source": [
    "np.asanyarray(jack)"
   ]
  },
  {
   "cell_type": "code",
   "execution_count": 19,
   "id": "153bde03-1e56-4939-918d-deec12b00455",
   "metadata": {},
   "outputs": [],
   "source": [
    "a=arr"
   ]
  },
  {
   "cell_type": "code",
   "execution_count": 20,
   "id": "4c818d20-ff2d-4bb7-9f48-618cfebd8b7c",
   "metadata": {},
   "outputs": [
    {
     "data": {
      "text/plain": [
       "array([ 1,  2,  3, 45])"
      ]
     },
     "execution_count": 20,
     "metadata": {},
     "output_type": "execute_result"
    }
   ],
   "source": [
    "a"
   ]
  },
  {
   "cell_type": "code",
   "execution_count": 21,
   "id": "7d2bdb04-059a-4fd2-b3ec-c9a91591db6b",
   "metadata": {},
   "outputs": [],
   "source": [
    "arr[0]=9499"
   ]
  },
  {
   "cell_type": "code",
   "execution_count": 22,
   "id": "b2dd6a7c-a8b7-47c4-8db1-40af7a46c8fa",
   "metadata": {},
   "outputs": [
    {
     "data": {
      "text/plain": [
       "array([9499,    2,    3,   45])"
      ]
     },
     "execution_count": 22,
     "metadata": {},
     "output_type": "execute_result"
    }
   ],
   "source": [
    "arr"
   ]
  },
  {
   "cell_type": "code",
   "execution_count": 23,
   "id": "1a9a55ea-91b6-4db1-ad48-4d5d9beb13ee",
   "metadata": {},
   "outputs": [
    {
     "data": {
      "text/plain": [
       "array([9499,    2,    3,   45])"
      ]
     },
     "execution_count": 23,
     "metadata": {},
     "output_type": "execute_result"
    }
   ],
   "source": [
    "a"
   ]
  },
  {
   "cell_type": "code",
   "execution_count": 24,
   "id": "532b4a72-3270-47d1-9b8f-4309e0e8a653",
   "metadata": {},
   "outputs": [],
   "source": [
    "b=np.copy(arr)"
   ]
  },
  {
   "cell_type": "code",
   "execution_count": 25,
   "id": "764e83f7-eae4-4d4b-ad72-032a82bdc9e1",
   "metadata": {},
   "outputs": [
    {
     "data": {
      "text/plain": [
       "array([9499,    2,    3,   45])"
      ]
     },
     "execution_count": 25,
     "metadata": {},
     "output_type": "execute_result"
    }
   ],
   "source": [
    "b"
   ]
  },
  {
   "cell_type": "code",
   "execution_count": 26,
   "id": "d63bf431-52c2-45ef-a0b9-0284e216c2c6",
   "metadata": {},
   "outputs": [],
   "source": [
    "b[3]=44"
   ]
  },
  {
   "cell_type": "code",
   "execution_count": 27,
   "id": "5d394bec-a53d-48a8-a393-1f5d6596245d",
   "metadata": {},
   "outputs": [
    {
     "data": {
      "text/plain": [
       "array([9499,    2,    3,   44])"
      ]
     },
     "execution_count": 27,
     "metadata": {},
     "output_type": "execute_result"
    }
   ],
   "source": [
    "b"
   ]
  },
  {
   "cell_type": "code",
   "execution_count": 28,
   "id": "8f872a4d-ed3e-4a5e-bfae-db16ed5c8b33",
   "metadata": {},
   "outputs": [
    {
     "data": {
      "text/plain": [
       "array([9499,    2,    3,   45])"
      ]
     },
     "execution_count": 28,
     "metadata": {},
     "output_type": "execute_result"
    }
   ],
   "source": [
    "arr"
   ]
  },
  {
   "cell_type": "code",
   "execution_count": 30,
   "id": "e018e2c1-1a90-47f2-b6ef-0c5ffad8f43c",
   "metadata": {},
   "outputs": [
    {
     "data": {
      "text/plain": [
       "array([[False,  True,  True,  True],\n",
       "       [ True, False,  True,  True],\n",
       "       [ True,  True, False,  True],\n",
       "       [ True,  True,  True, False]])"
      ]
     },
     "execution_count": 30,
     "metadata": {},
     "output_type": "execute_result"
    }
   ],
   "source": [
    "np.fromfunction(lambda i,j : i!=j ,(4,4))"
   ]
  },
  {
   "cell_type": "code",
   "execution_count": 34,
   "id": "13383339-5cdf-4800-99b7-d4b5e450055f",
   "metadata": {},
   "outputs": [],
   "source": [
    "iterable=list( i+i for i in range(4))"
   ]
  },
  {
   "cell_type": "code",
   "execution_count": 36,
   "id": "4914ef89-b066-4cde-a7d8-6e1dcce6afb8",
   "metadata": {},
   "outputs": [
    {
     "data": {
      "text/plain": [
       "array([0, 2, 4, 6])"
      ]
     },
     "execution_count": 36,
     "metadata": {},
     "output_type": "execute_result"
    }
   ],
   "source": [
    "np.fromiter(iterable,int)"
   ]
  },
  {
   "cell_type": "code",
   "execution_count": 38,
   "id": "2ed0c1ab-e92f-4c40-83fb-2e8f99663ee5",
   "metadata": {},
   "outputs": [
    {
     "data": {
      "text/plain": [
       "array([34.,  4., 34., 34.])"
      ]
     },
     "execution_count": 38,
     "metadata": {},
     "output_type": "execute_result"
    }
   ],
   "source": [
    "np.fromstring('34 4  34 34',sep=' ')"
   ]
  },
  {
   "cell_type": "code",
   "execution_count": 41,
   "id": "18e5c956-8af1-4706-9f00-4e6618d672fa",
   "metadata": {},
   "outputs": [
    {
     "data": {
      "text/plain": [
       "array([344.,  34.,  34.])"
      ]
     },
     "execution_count": 41,
     "metadata": {},
     "output_type": "execute_result"
    }
   ],
   "source": [
    "np.fromstring('344,34,34',sep=',')"
   ]
  },
  {
   "cell_type": "code",
   "execution_count": 43,
   "id": "d5baeece-1494-48b3-8518-1472b1cc2be6",
   "metadata": {},
   "outputs": [
    {
     "data": {
      "text/plain": [
       "4"
      ]
     },
     "execution_count": 43,
     "metadata": {},
     "output_type": "execute_result"
    }
   ],
   "source": [
    "arr.size"
   ]
  },
  {
   "cell_type": "code",
   "execution_count": 44,
   "id": "d743bfda-a55a-4e2b-92ad-73a31309f60f",
   "metadata": {},
   "outputs": [
    {
     "data": {
      "text/plain": [
       "6"
      ]
     },
     "execution_count": 44,
     "metadata": {},
     "output_type": "execute_result"
    }
   ],
   "source": [
    "arr1.size"
   ]
  },
  {
   "cell_type": "code",
   "execution_count": 45,
   "id": "8657981b-c705-4c07-8331-bf2948b72701",
   "metadata": {},
   "outputs": [
    {
     "data": {
      "text/plain": [
       "array([9499,    2,    3,   45])"
      ]
     },
     "execution_count": 45,
     "metadata": {},
     "output_type": "execute_result"
    }
   ],
   "source": [
    "arr"
   ]
  },
  {
   "cell_type": "code",
   "execution_count": 46,
   "id": "8e63cccf-0300-4108-b4d3-b9ef6f6d3743",
   "metadata": {},
   "outputs": [
    {
     "data": {
      "text/plain": [
       "array([[1, 2, 3],\n",
       "       [4, 5, 6]])"
      ]
     },
     "execution_count": 46,
     "metadata": {},
     "output_type": "execute_result"
    }
   ],
   "source": [
    "arr1"
   ]
  },
  {
   "cell_type": "code",
   "execution_count": 47,
   "id": "6267dede-1033-48f6-920f-564a688fb439",
   "metadata": {},
   "outputs": [
    {
     "data": {
      "text/plain": [
       "(4,)"
      ]
     },
     "execution_count": 47,
     "metadata": {},
     "output_type": "execute_result"
    }
   ],
   "source": [
    "arr.shape"
   ]
  },
  {
   "cell_type": "code",
   "execution_count": 48,
   "id": "dfe7fa98-b43f-4c03-9f2f-eab186943b9b",
   "metadata": {},
   "outputs": [
    {
     "data": {
      "text/plain": [
       "(2, 3)"
      ]
     },
     "execution_count": 48,
     "metadata": {},
     "output_type": "execute_result"
    }
   ],
   "source": [
    "arr1.shape"
   ]
  },
  {
   "cell_type": "code",
   "execution_count": 49,
   "id": "b0f85b38-d8f4-44bd-b53e-b6510a5bff93",
   "metadata": {},
   "outputs": [
    {
     "data": {
      "text/plain": [
       "dtype('int64')"
      ]
     },
     "execution_count": 49,
     "metadata": {},
     "output_type": "execute_result"
    }
   ],
   "source": [
    "arr.dtype"
   ]
  },
  {
   "cell_type": "code",
   "execution_count": 50,
   "id": "b8a3dfa4-099b-4673-b443-a494fc124b5b",
   "metadata": {},
   "outputs": [
    {
     "data": {
      "text/plain": [
       "dtype('int64')"
      ]
     },
     "execution_count": 50,
     "metadata": {},
     "output_type": "execute_result"
    }
   ],
   "source": [
    "arr1.dtype"
   ]
  },
  {
   "cell_type": "code",
   "execution_count": 54,
   "id": "8f53d7e1-5f02-4abf-89cf-493b1fea9237",
   "metadata": {},
   "outputs": [
    {
     "data": {
      "text/plain": [
       "array([0.5, 2.5, 4.5, 6.5, 8.5])"
      ]
     },
     "execution_count": 54,
     "metadata": {},
     "output_type": "execute_result"
    }
   ],
   "source": [
    "np.arange(0.5,10,2)\n"
   ]
  },
  {
   "cell_type": "code",
   "execution_count": 56,
   "id": "c23dc52f-de41-4b9c-86dc-906eb3bd2840",
   "metadata": {},
   "outputs": [
    {
     "data": {
      "text/plain": [
       "array([1. , 1.5, 2. , 2.5, 3. ])"
      ]
     },
     "execution_count": 56,
     "metadata": {},
     "output_type": "execute_result"
    }
   ],
   "source": [
    "np.linspace(1,3,5)"
   ]
  },
  {
   "cell_type": "code",
   "execution_count": 62,
   "id": "00494d05-952d-48ce-9744-d80722aa17b2",
   "metadata": {},
   "outputs": [
    {
     "data": {
      "text/plain": [
       "array([ 2.        ,  2.72158   ,  3.70349885,  5.0396842 ,  6.85795186,\n",
       "        9.33223232, 12.69920842, 17.28095582, 23.51575188, 32.        ])"
      ]
     },
     "execution_count": 62,
     "metadata": {},
     "output_type": "execute_result"
    }
   ],
   "source": [
    "np.logspace(1,5,10, base=2)"
   ]
  },
  {
   "cell_type": "code",
   "execution_count": 2,
   "id": "e802850d-16d5-43df-98ce-a3a1d879e0d8",
   "metadata": {},
   "outputs": [
    {
     "data": {
      "text/plain": [
       "array([0., 0., 0., 0.])"
      ]
     },
     "execution_count": 2,
     "metadata": {},
     "output_type": "execute_result"
    }
   ],
   "source": [
    "import numpy as np\n",
    "np.zeros(4)"
   ]
  },
  {
   "cell_type": "code",
   "execution_count": 5,
   "id": "be79fb05-8d44-4d73-8b80-1054b456215c",
   "metadata": {},
   "outputs": [
    {
     "data": {
      "text/plain": [
       "array([[[[0., 0., 0., 0., 0., 0., 0.],\n",
       "         [0., 0., 0., 0., 0., 0., 0.],\n",
       "         [0., 0., 0., 0., 0., 0., 0.],\n",
       "         [0., 0., 0., 0., 0., 0., 0.],\n",
       "         [0., 0., 0., 0., 0., 0., 0.],\n",
       "         [0., 0., 0., 0., 0., 0., 0.]],\n",
       "\n",
       "        [[0., 0., 0., 0., 0., 0., 0.],\n",
       "         [0., 0., 0., 0., 0., 0., 0.],\n",
       "         [0., 0., 0., 0., 0., 0., 0.],\n",
       "         [0., 0., 0., 0., 0., 0., 0.],\n",
       "         [0., 0., 0., 0., 0., 0., 0.],\n",
       "         [0., 0., 0., 0., 0., 0., 0.]],\n",
       "\n",
       "        [[0., 0., 0., 0., 0., 0., 0.],\n",
       "         [0., 0., 0., 0., 0., 0., 0.],\n",
       "         [0., 0., 0., 0., 0., 0., 0.],\n",
       "         [0., 0., 0., 0., 0., 0., 0.],\n",
       "         [0., 0., 0., 0., 0., 0., 0.],\n",
       "         [0., 0., 0., 0., 0., 0., 0.]]],\n",
       "\n",
       "\n",
       "       [[[0., 0., 0., 0., 0., 0., 0.],\n",
       "         [0., 0., 0., 0., 0., 0., 0.],\n",
       "         [0., 0., 0., 0., 0., 0., 0.],\n",
       "         [0., 0., 0., 0., 0., 0., 0.],\n",
       "         [0., 0., 0., 0., 0., 0., 0.],\n",
       "         [0., 0., 0., 0., 0., 0., 0.]],\n",
       "\n",
       "        [[0., 0., 0., 0., 0., 0., 0.],\n",
       "         [0., 0., 0., 0., 0., 0., 0.],\n",
       "         [0., 0., 0., 0., 0., 0., 0.],\n",
       "         [0., 0., 0., 0., 0., 0., 0.],\n",
       "         [0., 0., 0., 0., 0., 0., 0.],\n",
       "         [0., 0., 0., 0., 0., 0., 0.]],\n",
       "\n",
       "        [[0., 0., 0., 0., 0., 0., 0.],\n",
       "         [0., 0., 0., 0., 0., 0., 0.],\n",
       "         [0., 0., 0., 0., 0., 0., 0.],\n",
       "         [0., 0., 0., 0., 0., 0., 0.],\n",
       "         [0., 0., 0., 0., 0., 0., 0.],\n",
       "         [0., 0., 0., 0., 0., 0., 0.]]]])"
      ]
     },
     "execution_count": 5,
     "metadata": {},
     "output_type": "execute_result"
    }
   ],
   "source": [
    "np.zeros((2,3,6,7))"
   ]
  },
  {
   "cell_type": "code",
   "execution_count": 6,
   "id": "b8ad5a81-f66e-432d-a3cb-4603232529ea",
   "metadata": {},
   "outputs": [
    {
     "data": {
      "text/plain": [
       "array([[0.71026721, 0.4192295 , 0.5119571 , 0.98018935, 0.30277682],\n",
       "       [0.9193578 , 0.73226842, 0.93695194, 0.53776425, 0.83189779],\n",
       "       [0.41991102, 0.7527612 , 0.75539878, 0.45837566, 0.42363072]])"
      ]
     },
     "execution_count": 6,
     "metadata": {},
     "output_type": "execute_result"
    }
   ],
   "source": [
    "np.random.rand(3,5)"
   ]
  },
  {
   "cell_type": "code",
   "execution_count": 7,
   "id": "4fa13837-7870-4519-8c4a-e795b81ee5cb",
   "metadata": {},
   "outputs": [
    {
     "data": {
      "text/plain": [
       "array([[ 0.98853718,  0.78624811, -0.45621802, -0.20031887, -3.14533445],\n",
       "       [ 0.62915083, -0.16817467,  0.32348265, -0.50606633, -0.04982863],\n",
       "       [-0.38859061, -1.48555963, -0.02818421,  0.35900842,  0.6259703 ]])"
      ]
     },
     "execution_count": 7,
     "metadata": {},
     "output_type": "execute_result"
    }
   ],
   "source": [
    "np.random.randn(3,5)"
   ]
  },
  {
   "cell_type": "code",
   "execution_count": 9,
   "id": "55fd8c9b-efef-4756-9f53-e59e0f2bae0e",
   "metadata": {},
   "outputs": [],
   "source": [
    "arr2=np.random.randint(1,5,(4,3))"
   ]
  },
  {
   "cell_type": "code",
   "execution_count": 10,
   "id": "e07bd276-4f79-4540-b7de-0edd4c25baa7",
   "metadata": {},
   "outputs": [
    {
     "data": {
      "text/plain": [
       "12"
      ]
     },
     "execution_count": 10,
     "metadata": {},
     "output_type": "execute_result"
    }
   ],
   "source": [
    "arr2.size"
   ]
  },
  {
   "cell_type": "code",
   "execution_count": 11,
   "id": "eae20c8e-08ef-4cd0-89a1-25ed0ddc2842",
   "metadata": {},
   "outputs": [
    {
     "data": {
      "text/plain": [
       "(4, 3)"
      ]
     },
     "execution_count": 11,
     "metadata": {},
     "output_type": "execute_result"
    }
   ],
   "source": [
    "arr2.shape"
   ]
  },
  {
   "cell_type": "code",
   "execution_count": 13,
   "id": "8135f39a-10d2-455e-b723-a155612ad816",
   "metadata": {},
   "outputs": [
    {
     "data": {
      "text/plain": [
       "array([[1, 3, 1, 4, 1, 2],\n",
       "       [1, 4, 4, 1, 1, 4]])"
      ]
     },
     "execution_count": 13,
     "metadata": {},
     "output_type": "execute_result"
    }
   ],
   "source": [
    "arr2.reshape(2,6)"
   ]
  },
  {
   "cell_type": "code",
   "execution_count": 15,
   "id": "ec381201-6c86-4ab4-b0fc-e4aedaa855bf",
   "metadata": {},
   "outputs": [
    {
     "data": {
      "text/plain": [
       "array([[1, 3, 1, 4],\n",
       "       [1, 2, 1, 4],\n",
       "       [4, 1, 1, 4]])"
      ]
     },
     "execution_count": 15,
     "metadata": {},
     "output_type": "execute_result"
    }
   ],
   "source": [
    "arr2.reshape(3,-19779798)"
   ]
  },
  {
   "cell_type": "code",
   "execution_count": 24,
   "id": "91e556e9-8116-495a-a0cc-e8963a1b99d7",
   "metadata": {},
   "outputs": [],
   "source": [
    "arr2=np.random.randint(3,7,(4,8))"
   ]
  },
  {
   "cell_type": "code",
   "execution_count": 25,
   "id": "c5c896af-92b4-4099-9046-265f03484ef9",
   "metadata": {},
   "outputs": [
    {
     "data": {
      "text/plain": [
       "array([[3, 6, 4, 4, 6, 3, 4, 4],\n",
       "       [4, 5, 6, 3, 5, 5, 3, 3],\n",
       "       [6, 5, 5, 6, 5, 6, 4, 4],\n",
       "       [4, 4, 5, 5, 5, 3, 6, 4]])"
      ]
     },
     "execution_count": 25,
     "metadata": {},
     "output_type": "execute_result"
    }
   ],
   "source": [
    "arr2"
   ]
  },
  {
   "cell_type": "code",
   "execution_count": 28,
   "id": "c10f3605-acd4-41b4-936c-9702e70945c3",
   "metadata": {},
   "outputs": [
    {
     "data": {
      "text/plain": [
       "array([4, 4])"
      ]
     },
     "execution_count": 28,
     "metadata": {},
     "output_type": "execute_result"
    }
   ],
   "source": [
    "arr2[3,[0,1]]"
   ]
  },
  {
   "cell_type": "code",
   "execution_count": 29,
   "id": "7d055036-efb3-4a6c-8707-a9a7ce5eba38",
   "metadata": {},
   "outputs": [
    {
     "data": {
      "text/plain": [
       "array([[4, 4],\n",
       "       [6, 4]])"
      ]
     },
     "execution_count": 29,
     "metadata": {},
     "output_type": "execute_result"
    }
   ],
   "source": [
    "arr2[2:4,[6,7]]"
   ]
  },
  {
   "cell_type": "code",
   "execution_count": 31,
   "id": "a0c23614-be7f-4e5d-9447-1b964700e394",
   "metadata": {},
   "outputs": [],
   "source": [
    "arr1=np.random.randint(1,3,(2,2))"
   ]
  },
  {
   "cell_type": "code",
   "execution_count": 32,
   "id": "4d8f93a7-7a28-4c25-87d4-ae18cd3339e5",
   "metadata": {},
   "outputs": [],
   "source": [
    "arr2=np.random.randint(1,3,(2,2))"
   ]
  },
  {
   "cell_type": "code",
   "execution_count": 33,
   "id": "e01945d9-9c85-4351-ac69-bafa7e43ea61",
   "metadata": {},
   "outputs": [
    {
     "data": {
      "text/plain": [
       "array([[3, 4],\n",
       "       [2, 3]])"
      ]
     },
     "execution_count": 33,
     "metadata": {},
     "output_type": "execute_result"
    }
   ],
   "source": [
    "arr1+arr2"
   ]
  },
  {
   "cell_type": "code",
   "execution_count": 34,
   "id": "1e18550a-f07d-4567-af21-ab9cccec4103",
   "metadata": {},
   "outputs": [
    {
     "data": {
      "text/plain": [
       "array([[2, 2],\n",
       "       [1, 1]])"
      ]
     },
     "execution_count": 34,
     "metadata": {},
     "output_type": "execute_result"
    }
   ],
   "source": [
    "arr1"
   ]
  },
  {
   "cell_type": "code",
   "execution_count": 35,
   "id": "ddeaac50-ff18-429a-bb0b-3f35c0cb020c",
   "metadata": {},
   "outputs": [
    {
     "data": {
      "text/plain": [
       "array([[1, 2],\n",
       "       [1, 2]])"
      ]
     },
     "execution_count": 35,
     "metadata": {},
     "output_type": "execute_result"
    }
   ],
   "source": [
    "arr2"
   ]
  },
  {
   "cell_type": "code",
   "execution_count": 36,
   "id": "69d82290-218b-4eea-8be8-8aa923ca9654",
   "metadata": {},
   "outputs": [
    {
     "data": {
      "text/plain": [
       "array([[-1,  0],\n",
       "       [ 0,  1]])"
      ]
     },
     "execution_count": 36,
     "metadata": {},
     "output_type": "execute_result"
    }
   ],
   "source": [
    "arr2-arr1"
   ]
  },
  {
   "cell_type": "code",
   "execution_count": 37,
   "id": "eac494dc-ca86-4055-a714-3a234cceb3d0",
   "metadata": {},
   "outputs": [
    {
     "data": {
      "text/plain": [
       "array([[0.5, 1. ],\n",
       "       [1. , 2. ]])"
      ]
     },
     "execution_count": 37,
     "metadata": {},
     "output_type": "execute_result"
    }
   ],
   "source": [
    "arr2/arr1"
   ]
  },
  {
   "cell_type": "code",
   "execution_count": 38,
   "id": "c1ee36e3-b063-4e9d-b3df-cc527d4ab9da",
   "metadata": {},
   "outputs": [
    {
     "data": {
      "text/plain": [
       "array([[4, 8],\n",
       "       [2, 4]])"
      ]
     },
     "execution_count": 38,
     "metadata": {},
     "output_type": "execute_result"
    }
   ],
   "source": [
    "arr1@arr2"
   ]
  },
  {
   "cell_type": "code",
   "execution_count": 39,
   "id": "a18210b4-0165-4d32-a000-4130d7c4e6ec",
   "metadata": {},
   "outputs": [
    {
     "data": {
      "text/plain": [
       "array([[2, 2],\n",
       "       [1, 1]])"
      ]
     },
     "execution_count": 39,
     "metadata": {},
     "output_type": "execute_result"
    }
   ],
   "source": [
    "arr1"
   ]
  },
  {
   "cell_type": "code",
   "execution_count": 40,
   "id": "fd9ee2f0-961d-4381-a9ba-2e7b15dd22a2",
   "metadata": {},
   "outputs": [
    {
     "data": {
      "text/plain": [
       "array([[1, 2],\n",
       "       [1, 2]])"
      ]
     },
     "execution_count": 40,
     "metadata": {},
     "output_type": "execute_result"
    }
   ],
   "source": [
    "arr2"
   ]
  },
  {
   "cell_type": "code",
   "execution_count": 42,
   "id": "51c17dc8-f39b-4ef7-be62-1c544c8f4ba9",
   "metadata": {},
   "outputs": [],
   "source": [
    "arr=np.random.randint(2,8,(2,2))"
   ]
  },
  {
   "cell_type": "code",
   "execution_count": 43,
   "id": "9e1ea337-3050-40c5-88a7-bd4fec94fba4",
   "metadata": {},
   "outputs": [
    {
     "data": {
      "text/plain": [
       "array([[4, 4],\n",
       "       [2, 6]])"
      ]
     },
     "execution_count": 43,
     "metadata": {},
     "output_type": "execute_result"
    }
   ],
   "source": [
    "arr"
   ]
  },
  {
   "cell_type": "code",
   "execution_count": 47,
   "id": "d0be77bb-cccb-4838-93a6-deb591b71a63",
   "metadata": {},
   "outputs": [],
   "source": [
    "a=np.array([1,2])"
   ]
  },
  {
   "cell_type": "code",
   "execution_count": 48,
   "id": "8d07530f-7fe7-48c3-ab91-805c45932e30",
   "metadata": {},
   "outputs": [
    {
     "data": {
      "text/plain": [
       "array([1, 2])"
      ]
     },
     "execution_count": 48,
     "metadata": {},
     "output_type": "execute_result"
    }
   ],
   "source": [
    "a"
   ]
  },
  {
   "cell_type": "code",
   "execution_count": 49,
   "id": "f6733048-7037-4099-8395-4dc740a17966",
   "metadata": {},
   "outputs": [
    {
     "data": {
      "text/plain": [
       "array([[5, 6],\n",
       "       [3, 8]])"
      ]
     },
     "execution_count": 49,
     "metadata": {},
     "output_type": "execute_result"
    }
   ],
   "source": [
    "arr+a"
   ]
  },
  {
   "cell_type": "code",
   "execution_count": 54,
   "id": "d45649aa-7620-41db-b066-71b300bd5024",
   "metadata": {},
   "outputs": [],
   "source": [
    "b=np.array([[3,4]])"
   ]
  },
  {
   "cell_type": "code",
   "execution_count": 56,
   "id": "40519212-d67c-412d-9fa9-2b5557e65ec3",
   "metadata": {},
   "outputs": [],
   "source": [
    "b=b.T"
   ]
  },
  {
   "cell_type": "code",
   "execution_count": 57,
   "id": "169021dc-bf96-41be-81b6-cd225efd89a8",
   "metadata": {},
   "outputs": [
    {
     "data": {
      "text/plain": [
       "array([[3],\n",
       "       [4]])"
      ]
     },
     "execution_count": 57,
     "metadata": {},
     "output_type": "execute_result"
    }
   ],
   "source": [
    "b"
   ]
  },
  {
   "cell_type": "code",
   "execution_count": 58,
   "id": "3e31741f-c278-4044-ab4a-07f0f70dcc79",
   "metadata": {},
   "outputs": [
    {
     "data": {
      "text/plain": [
       "array([[ 7,  7],\n",
       "       [ 6, 10]])"
      ]
     },
     "execution_count": 58,
     "metadata": {},
     "output_type": "execute_result"
    }
   ],
   "source": [
    "arr+b"
   ]
  },
  {
   "cell_type": "code",
   "execution_count": 59,
   "id": "c94ad67b-a093-484c-b416-00b7a248df7f",
   "metadata": {},
   "outputs": [
    {
     "data": {
      "text/plain": [
       "array([[4, 4],\n",
       "       [2, 6]])"
      ]
     },
     "execution_count": 59,
     "metadata": {},
     "output_type": "execute_result"
    }
   ],
   "source": [
    "arr"
   ]
  },
  {
   "cell_type": "code",
   "execution_count": 60,
   "id": "c832d911-6011-401c-92c2-25679ea425a9",
   "metadata": {},
   "outputs": [
    {
     "data": {
      "text/plain": [
       "array([[2.        , 2.        ],\n",
       "       [1.41421356, 2.44948974]])"
      ]
     },
     "execution_count": 60,
     "metadata": {},
     "output_type": "execute_result"
    }
   ],
   "source": [
    "np.sqrt(arr)"
   ]
  },
  {
   "cell_type": "code",
   "execution_count": 61,
   "id": "c222aa74-37f8-4535-acd9-2487108c1939",
   "metadata": {},
   "outputs": [
    {
     "data": {
      "text/plain": [
       "array([[0.60205999, 0.60205999],\n",
       "       [0.30103   , 0.77815125]])"
      ]
     },
     "execution_count": 61,
     "metadata": {},
     "output_type": "execute_result"
    }
   ],
   "source": [
    "np.log10(arr)"
   ]
  },
  {
   "cell_type": "code",
   "execution_count": 62,
   "id": "efaa6b9f-c174-48a4-8f92-096d90066e7a",
   "metadata": {},
   "outputs": [
    {
     "data": {
      "text/plain": [
       "array([[ 54.59815003,  54.59815003],\n",
       "       [  7.3890561 , 403.42879349]])"
      ]
     },
     "execution_count": 62,
     "metadata": {},
     "output_type": "execute_result"
    }
   ],
   "source": [
    "np.exp(arr)"
   ]
  },
  {
   "cell_type": "code",
   "execution_count": 63,
   "id": "7a8dc6eb-88e9-469d-a70d-003adf3c7ac8",
   "metadata": {},
   "outputs": [
    {
     "data": {
      "text/plain": [
       "2"
      ]
     },
     "execution_count": 63,
     "metadata": {},
     "output_type": "execute_result"
    }
   ],
   "source": [
    "np.min(arr)"
   ]
  },
  {
   "cell_type": "code",
   "execution_count": 64,
   "id": "a1705a4c-c5b0-4728-9074-a8a1075c8c02",
   "metadata": {},
   "outputs": [
    {
     "data": {
      "text/plain": [
       "6"
      ]
     },
     "execution_count": 64,
     "metadata": {},
     "output_type": "execute_result"
    }
   ],
   "source": [
    "np.max(arr)"
   ]
  },
  {
   "cell_type": "code",
   "execution_count": 68,
   "id": "6574dec5-9f8c-48fb-a0cc-c9d8b143cd15",
   "metadata": {},
   "outputs": [],
   "source": [
    "arr=np.random.randint(2,9,(4,5))"
   ]
  },
  {
   "cell_type": "code",
   "execution_count": 66,
   "id": "d3264952-d939-4b41-bb95-93234c36d6b3",
   "metadata": {},
   "outputs": [
    {
     "data": {
      "text/plain": [
       "array([[5, 7, 5, 7, 3],\n",
       "       [5, 4, 8, 3, 4],\n",
       "       [5, 8, 6, 3, 2],\n",
       "       [3, 7, 2, 6, 8],\n",
       "       [3, 4, 6, 7, 2]])"
      ]
     },
     "execution_count": 66,
     "metadata": {},
     "output_type": "execute_result"
    }
   ],
   "source": [
    "arr"
   ]
  },
  {
   "cell_type": "code",
   "execution_count": 69,
   "id": "f7feef89-db5c-4aaa-bdc4-6cacf31936be",
   "metadata": {},
   "outputs": [
    {
     "data": {
      "text/plain": [
       "array([[3, 3, 7, 4],\n",
       "       [4, 2, 6, 7],\n",
       "       [7, 7, 6, 6],\n",
       "       [7, 2, 5, 3],\n",
       "       [2, 7, 7, 7]])"
      ]
     },
     "execution_count": 69,
     "metadata": {},
     "output_type": "execute_result"
    }
   ],
   "source": [
    "arr.transpose()"
   ]
  },
  {
   "cell_type": "code",
   "execution_count": 71,
   "id": "66613e62-2658-49bd-b023-8d7c031b8de7",
   "metadata": {},
   "outputs": [
    {
     "data": {
      "text/plain": [
       "array([[3, 4, 7, 7, 2, 3, 2, 7, 2, 7],\n",
       "       [7, 6, 6, 5, 7, 4, 7, 6, 3, 7]])"
      ]
     },
     "execution_count": 71,
     "metadata": {},
     "output_type": "execute_result"
    }
   ],
   "source": [
    "arr.reshape(2,10)"
   ]
  },
  {
   "cell_type": "code",
   "execution_count": 73,
   "id": "9ba03608-a3aa-4aba-ad89-1f869ec7edba",
   "metadata": {},
   "outputs": [
    {
     "data": {
      "text/plain": [
       "array([[[3, 4, 7, 7, 2],\n",
       "        [3, 2, 7, 2, 7],\n",
       "        [7, 6, 6, 5, 7],\n",
       "        [4, 7, 6, 3, 7]]])"
      ]
     },
     "execution_count": 73,
     "metadata": {},
     "output_type": "execute_result"
    }
   ],
   "source": [
    "np.expand_dims(arr,axis=0)"
   ]
  },
  {
   "cell_type": "code",
   "execution_count": 74,
   "id": "efd85acb-930b-4644-8854-d25718bfd5c4",
   "metadata": {},
   "outputs": [
    {
     "data": {
      "text/plain": [
       "array([[[3, 4, 7, 7, 2]],\n",
       "\n",
       "       [[3, 2, 7, 2, 7]],\n",
       "\n",
       "       [[7, 6, 6, 5, 7]],\n",
       "\n",
       "       [[4, 7, 6, 3, 7]]])"
      ]
     },
     "execution_count": 74,
     "metadata": {},
     "output_type": "execute_result"
    }
   ],
   "source": [
    "np.expand_dims(arr,axis=1)"
   ]
  },
  {
   "cell_type": "code",
   "execution_count": 76,
   "id": "a8bee826-8fcb-4556-a0c0-466692c17341",
   "metadata": {},
   "outputs": [
    {
     "data": {
      "text/plain": [
       "array([3, 4, 7, 7, 2, 3, 2, 7, 2, 7, 7, 6, 6, 5, 7, 4, 7, 6, 3, 7])"
      ]
     },
     "execution_count": 76,
     "metadata": {},
     "output_type": "execute_result"
    }
   ],
   "source": [
    "arr.flatten()"
   ]
  },
  {
   "cell_type": "code",
   "execution_count": 77,
   "id": "c1b383bb-b958-4eec-b6cf-2d2c7adae024",
   "metadata": {},
   "outputs": [],
   "source": [
    "d=np.array([[1],[2],[3]])"
   ]
  },
  {
   "cell_type": "code",
   "execution_count": 79,
   "id": "e9257857-7665-49ca-9557-64d057e42d08",
   "metadata": {},
   "outputs": [
    {
     "data": {
      "text/plain": [
       "array([1, 2, 3])"
      ]
     },
     "execution_count": 79,
     "metadata": {},
     "output_type": "execute_result"
    }
   ],
   "source": [
    "np.squeeze(d)"
   ]
  },
  {
   "cell_type": "code",
   "execution_count": 80,
   "id": "bf7beaa8-90cf-4946-8026-bff02cbd2dd4",
   "metadata": {},
   "outputs": [
    {
     "data": {
      "text/plain": [
       "array([1, 2, 3])"
      ]
     },
     "execution_count": 80,
     "metadata": {},
     "output_type": "execute_result"
    }
   ],
   "source": [
    "d.flatten()"
   ]
  },
  {
   "cell_type": "code",
   "execution_count": 83,
   "id": "d6a0c7da-ea05-4278-94d0-22a8d0613afe",
   "metadata": {},
   "outputs": [
    {
     "data": {
      "text/plain": [
       "array([1, 1, 1, 2, 2, 2, 3, 3, 3])"
      ]
     },
     "execution_count": 83,
     "metadata": {},
     "output_type": "execute_result"
    }
   ],
   "source": [
    "np.repeat(d,3)"
   ]
  },
  {
   "cell_type": "code",
   "execution_count": 89,
   "id": "af679b0d-b1ca-4e73-a2eb-207cb47d1bfb",
   "metadata": {},
   "outputs": [
    {
     "data": {
      "text/plain": [
       "array([[1],\n",
       "       [2],\n",
       "       [3]])"
      ]
     },
     "execution_count": 89,
     "metadata": {},
     "output_type": "execute_result"
    }
   ],
   "source": [
    "np.roll(d,3\n",
    "       )"
   ]
  },
  {
   "cell_type": "code",
   "execution_count": 91,
   "id": "19d8e596-64fb-420c-aeea-293c427124c6",
   "metadata": {},
   "outputs": [
    {
     "data": {
      "text/plain": [
       "array([[1, 0, 0],\n",
       "       [0, 2, 0],\n",
       "       [0, 0, 3]])"
      ]
     },
     "execution_count": 91,
     "metadata": {},
     "output_type": "execute_result"
    }
   ],
   "source": [
    "np.diag(np.array([1,2,3]))"
   ]
  },
  {
   "cell_type": "code",
   "execution_count": 3,
   "id": "c9fb889c-55f1-43b6-8672-74244e688ac7",
   "metadata": {},
   "outputs": [],
   "source": [
    "arr1=np.random.randint(2,9,(3,3))"
   ]
  },
  {
   "cell_type": "code",
   "execution_count": 4,
   "id": "cc7f2397-aba7-49cb-9189-d05c756fa759",
   "metadata": {},
   "outputs": [],
   "source": [
    "arr2=np.random.randint(2,9,(3,3))"
   ]
  },
  {
   "cell_type": "code",
   "execution_count": 5,
   "id": "f78db024-a732-41b6-8510-0162d90e92b3",
   "metadata": {},
   "outputs": [
    {
     "data": {
      "text/plain": [
       "array([[2, 3, 7],\n",
       "       [3, 8, 7],\n",
       "       [2, 8, 4]])"
      ]
     },
     "execution_count": 5,
     "metadata": {},
     "output_type": "execute_result"
    }
   ],
   "source": [
    "arr1"
   ]
  },
  {
   "cell_type": "code",
   "execution_count": 97,
   "id": "a0e0a698-6dfc-486c-a9fd-eec15ecdde6f",
   "metadata": {},
   "outputs": [
    {
     "data": {
      "text/plain": [
       "array([[4, 7, 5],\n",
       "       [8, 4, 5],\n",
       "       [7, 2, 6]])"
      ]
     },
     "execution_count": 97,
     "metadata": {},
     "output_type": "execute_result"
    }
   ],
   "source": [
    "arr2"
   ]
  },
  {
   "cell_type": "code",
   "execution_count": 98,
   "id": "07b97325-3200-4565-bd41-053d62f90a7b",
   "metadata": {},
   "outputs": [
    {
     "data": {
      "text/plain": [
       "array([[   625,  16384,  32768],\n",
       "       [   256,    256,     32],\n",
       "       [  2187,     36, 262144]])"
      ]
     },
     "execution_count": 98,
     "metadata": {},
     "output_type": "execute_result"
    }
   ],
   "source": [
    "arr1**arr2"
   ]
  },
  {
   "cell_type": "code",
   "execution_count": 99,
   "id": "0f5e813a-ea1a-428d-9006-280c328e25f3",
   "metadata": {},
   "outputs": [
    {
     "data": {
      "text/plain": [
       "array([[-6, -5, -9],\n",
       "       [-3, -5, -3],\n",
       "       [-4, -7, -9]])"
      ]
     },
     "execution_count": 99,
     "metadata": {},
     "output_type": "execute_result"
    }
   ],
   "source": [
    "~arr1"
   ]
  },
  {
   "cell_type": "code",
   "execution_count": 100,
   "id": "e4133594-f779-4492-9ee9-76a3677ff76e",
   "metadata": {},
   "outputs": [],
   "source": [
    "arr=np.array(['jack','kallis'])"
   ]
  },
  {
   "cell_type": "code",
   "execution_count": 101,
   "id": "37a1e260-7870-4db7-94ef-3b657576b796",
   "metadata": {},
   "outputs": [
    {
     "data": {
      "text/plain": [
       "array(['jack', 'kallis'], dtype='<U6')"
      ]
     },
     "execution_count": 101,
     "metadata": {},
     "output_type": "execute_result"
    }
   ],
   "source": [
    "arr"
   ]
  },
  {
   "cell_type": "code",
   "execution_count": 103,
   "id": "170775ad-bda3-4c9f-989c-b22421f70d0b",
   "metadata": {},
   "outputs": [
    {
     "data": {
      "text/plain": [
       "array(['JACK', 'KALLIS'], dtype='<U6')"
      ]
     },
     "execution_count": 103,
     "metadata": {},
     "output_type": "execute_result"
    }
   ],
   "source": [
    "np.char.upper(arr)"
   ]
  },
  {
   "cell_type": "code",
   "execution_count": 104,
   "id": "71dbfb93-02c3-4bab-9bd3-1afa4b4fb3a4",
   "metadata": {},
   "outputs": [
    {
     "data": {
      "text/plain": [
       "array(['Jack', 'Kallis'], dtype='<U6')"
      ]
     },
     "execution_count": 104,
     "metadata": {},
     "output_type": "execute_result"
    }
   ],
   "source": [
    "np.char.capitalize(arr)"
   ]
  },
  {
   "cell_type": "code",
   "execution_count": 105,
   "id": "a917dab9-50c5-46e2-bef2-3859b4821e7a",
   "metadata": {},
   "outputs": [
    {
     "data": {
      "text/plain": [
       "array(['Jack', 'Kallis'], dtype='<U6')"
      ]
     },
     "execution_count": 105,
     "metadata": {},
     "output_type": "execute_result"
    }
   ],
   "source": [
    "np.char.title(arr)"
   ]
  },
  {
   "cell_type": "code",
   "execution_count": 106,
   "id": "767b4897-cddd-4206-8005-509fde5c4539",
   "metadata": {},
   "outputs": [
    {
     "data": {
      "text/plain": [
       "array([[5, 4, 8],\n",
       "       [2, 4, 2],\n",
       "       [3, 6, 8]])"
      ]
     },
     "execution_count": 106,
     "metadata": {},
     "output_type": "execute_result"
    }
   ],
   "source": [
    "arr1\n"
   ]
  },
  {
   "cell_type": "code",
   "execution_count": 107,
   "id": "599c407d-57f1-451e-b936-ac865d6e4976",
   "metadata": {},
   "outputs": [
    {
     "data": {
      "text/plain": [
       "array([[-0.95892427, -0.7568025 ,  0.98935825],\n",
       "       [ 0.90929743, -0.7568025 ,  0.90929743],\n",
       "       [ 0.14112001, -0.2794155 ,  0.98935825]])"
      ]
     },
     "execution_count": 107,
     "metadata": {},
     "output_type": "execute_result"
    }
   ],
   "source": [
    "np.sin(arr1)"
   ]
  },
  {
   "cell_type": "code",
   "execution_count": 108,
   "id": "ab75882b-7871-4172-9835-d111370c9294",
   "metadata": {},
   "outputs": [
    {
     "data": {
      "text/plain": [
       "array([[ 0.28366219, -0.65364362, -0.14550003],\n",
       "       [-0.41614684, -0.65364362, -0.41614684],\n",
       "       [-0.9899925 ,  0.96017029, -0.14550003]])"
      ]
     },
     "execution_count": 108,
     "metadata": {},
     "output_type": "execute_result"
    }
   ],
   "source": [
    "np.cos(arr1)"
   ]
  },
  {
   "cell_type": "code",
   "execution_count": 109,
   "id": "836d619e-fd21-4d1d-b43f-9d902246243e",
   "metadata": {},
   "outputs": [
    {
     "data": {
      "text/plain": [
       "array([[-3.38051501,  1.15782128, -6.79971146],\n",
       "       [-2.18503986,  1.15782128, -2.18503986],\n",
       "       [-0.14254654, -0.29100619, -6.79971146]])"
      ]
     },
     "execution_count": 109,
     "metadata": {},
     "output_type": "execute_result"
    }
   ],
   "source": [
    "np.tan(arr1)"
   ]
  },
  {
   "cell_type": "code",
   "execution_count": 110,
   "id": "f08b9b72-7e6e-4852-86c3-884d6b20e718",
   "metadata": {},
   "outputs": [
    {
     "data": {
      "text/plain": [
       "4.666666666666667"
      ]
     },
     "execution_count": 110,
     "metadata": {},
     "output_type": "execute_result"
    }
   ],
   "source": [
    "np.mean(arr1)"
   ]
  },
  {
   "cell_type": "code",
   "execution_count": 112,
   "id": "20ce5c0b-78b2-4b03-827e-7e3a17603dd6",
   "metadata": {},
   "outputs": [
    {
     "data": {
      "text/plain": [
       "4.0"
      ]
     },
     "execution_count": 112,
     "metadata": {},
     "output_type": "execute_result"
    }
   ],
   "source": [
    "np.median(arr1)"
   ]
  },
  {
   "cell_type": "code",
   "execution_count": 113,
   "id": "90cc2fe0-5351-4466-906c-e2fddcdd6d4b",
   "metadata": {},
   "outputs": [
    {
     "data": {
      "text/plain": [
       "array([[5, 4, 8],\n",
       "       [2, 4, 2],\n",
       "       [3, 6, 8]])"
      ]
     },
     "execution_count": 113,
     "metadata": {},
     "output_type": "execute_result"
    }
   ],
   "source": [
    "arr1"
   ]
  },
  {
   "cell_type": "code",
   "execution_count": 6,
   "id": "b39c063d-9a35-4629-8ab6-49fdb26a5d20",
   "metadata": {},
   "outputs": [
    {
     "data": {
      "text/plain": [
       "5.876543209876543"
      ]
     },
     "execution_count": 6,
     "metadata": {},
     "output_type": "execute_result"
    }
   ],
   "source": [
    "import numpy as np\n",
    "np.var(arr1)"
   ]
  },
  {
   "cell_type": "code",
   "execution_count": 8,
   "id": "ef8e7141-1a7a-4d83-a699-8c9c9859e867",
   "metadata": {},
   "outputs": [
    {
     "data": {
      "text/plain": [
       "array([[ 2,  0, -1],\n",
       "       [ 5, -4, -4],\n",
       "       [ 0, -1,  3]])"
      ]
     },
     "execution_count": 8,
     "metadata": {},
     "output_type": "execute_result"
    }
   ],
   "source": [
    "np.subtract(arr2,arr1)"
   ]
  },
  {
   "cell_type": "code",
   "execution_count": 2,
   "id": "51bb2cc7-b6b0-4da3-9843-1e50efc60760",
   "metadata": {},
   "outputs": [
    {
     "ename": "NameError",
     "evalue": "name 'arr1' is not defined",
     "output_type": "error",
     "traceback": [
      "\u001b[0;31m---------------------------------------------------------------------------\u001b[0m",
      "\u001b[0;31mNameError\u001b[0m                                 Traceback (most recent call last)",
      "Cell \u001b[0;32mIn[2], line 1\u001b[0m\n\u001b[0;32m----> 1\u001b[0m \u001b[43marr1\u001b[49m\n",
      "\u001b[0;31mNameError\u001b[0m: name 'arr1' is not defined"
     ]
    }
   ],
   "source": [
    "arr1"
   ]
  },
  {
   "cell_type": "code",
   "execution_count": 10,
   "id": "ebc7d280-945e-4262-a1cb-24c80ac18fa2",
   "metadata": {},
   "outputs": [
    {
     "data": {
      "text/plain": [
       "array([[4, 3, 6],\n",
       "       [8, 4, 3],\n",
       "       [2, 7, 7]])"
      ]
     },
     "execution_count": 10,
     "metadata": {},
     "output_type": "execute_result"
    }
   ],
   "source": [
    "arr2"
   ]
  },
  {
   "cell_type": "code",
   "execution_count": 11,
   "id": "44a64b1c-c994-4ec4-9807-e411224afb9c",
   "metadata": {},
   "outputs": [
    {
     "data": {
      "text/plain": [
       "array([[ 8,  9, 42],\n",
       "       [24, 32, 21],\n",
       "       [ 4, 56, 28]])"
      ]
     },
     "execution_count": 11,
     "metadata": {},
     "output_type": "execute_result"
    }
   ],
   "source": [
    "np.multiply(arr1,arr2)"
   ]
  },
  {
   "cell_type": "code",
   "execution_count": 12,
   "id": "679c6703-e155-4c8e-9e8c-8dc93fb9c13f",
   "metadata": {},
   "outputs": [
    {
     "data": {
      "text/plain": [
       "array([[ 4,  9, 49],\n",
       "       [ 9, 64, 49],\n",
       "       [ 4, 64, 16]])"
      ]
     },
     "execution_count": 12,
     "metadata": {},
     "output_type": "execute_result"
    }
   ],
   "source": [
    "np.power(arr1,2)"
   ]
  },
  {
   "cell_type": "code",
   "execution_count": 13,
   "id": "32cc99b9-1994-4fa7-ab8a-aeeb50be9f7d",
   "metadata": {},
   "outputs": [
    {
     "data": {
      "text/plain": [
       "array([[2, 0, 1],\n",
       "       [3, 0, 1],\n",
       "       [0, 1, 4]])"
      ]
     },
     "execution_count": 13,
     "metadata": {},
     "output_type": "execute_result"
    }
   ],
   "source": [
    "np.mod(arr1,arr2)"
   ]
  },
  {
   "cell_type": "code",
   "execution_count": 1,
   "id": "b991101e-547b-4f60-b6d3-95a3307576ad",
   "metadata": {},
   "outputs": [],
   "source": [
    "import numpy as np"
   ]
  },
  {
   "cell_type": "code",
   "execution_count": 5,
   "id": "ed395d4e-16b6-48bd-b9f7-7ca5bd9f71fc",
   "metadata": {},
   "outputs": [
    {
     "data": {
      "text/plain": [
       "array([[3, 6, 4],\n",
       "       [5, 2, 6],\n",
       "       [2, 8, 2]])"
      ]
     },
     "execution_count": 5,
     "metadata": {},
     "output_type": "execute_result"
    }
   ],
   "source": [
    "arr1"
   ]
  },
  {
   "cell_type": "code",
   "execution_count": 6,
   "id": "e6d3711e-e64d-491d-b30c-21d2af523bee",
   "metadata": {},
   "outputs": [
    {
     "data": {
      "text/plain": [
       "array([[2, 2, 6],\n",
       "       [2, 7, 8],\n",
       "       [7, 4, 4]])"
      ]
     },
     "execution_count": 6,
     "metadata": {},
     "output_type": "execute_result"
    }
   ],
   "source": [
    "arr2"
   ]
  },
  {
   "cell_type": "code",
   "execution_count": 18,
   "id": "5e307184-e9cb-4564-96c5-577dce9ccf6c",
   "metadata": {},
   "outputs": [],
   "source": [
    "arr=np.sort([4,2,545,0,2,4,0,9898,0])"
   ]
  },
  {
   "cell_type": "code",
   "execution_count": 8,
   "id": "f1ea86fb-4fc2-40ec-987d-d95b7af8161e",
   "metadata": {},
   "outputs": [
    {
     "data": {
      "text/plain": [
       "array([   2,    4,   24,  545, 9898])"
      ]
     },
     "execution_count": 8,
     "metadata": {},
     "output_type": "execute_result"
    }
   ],
   "source": [
    "arr"
   ]
  },
  {
   "cell_type": "code",
   "execution_count": 11,
   "id": "c46f5e60-7910-4cbd-8442-1b5319ccc881",
   "metadata": {},
   "outputs": [],
   "source": [
    "arr.sort()"
   ]
  },
  {
   "cell_type": "code",
   "execution_count": 12,
   "id": "5354f3af-784a-4aa0-a804-e8e1c5db86f8",
   "metadata": {},
   "outputs": [
    {
     "data": {
      "text/plain": [
       "array([   2,    4,   24,  545, 9898])"
      ]
     },
     "execution_count": 12,
     "metadata": {},
     "output_type": "execute_result"
    }
   ],
   "source": [
    "arr"
   ]
  },
  {
   "cell_type": "code",
   "execution_count": 17,
   "id": "144c450b-6b54-4fc8-81bc-eca92ba177e8",
   "metadata": {},
   "outputs": [
    {
     "data": {
      "text/plain": [
       "2"
      ]
     },
     "execution_count": 17,
     "metadata": {},
     "output_type": "execute_result"
    }
   ],
   "source": [
    "np.searchsorted(arr,5)"
   ]
  },
  {
   "cell_type": "code",
   "execution_count": 20,
   "id": "21a0ed54-f180-4aee-90b2-2ff893c7a6dc",
   "metadata": {},
   "outputs": [
    {
     "data": {
      "text/plain": [
       "6"
      ]
     },
     "execution_count": 20,
     "metadata": {},
     "output_type": "execute_result"
    }
   ],
   "source": [
    "np.count_nonzero(arr)"
   ]
  },
  {
   "cell_type": "code",
   "execution_count": 21,
   "id": "94806bc2-e594-4aef-ac5b-81bf5d7c4410",
   "metadata": {},
   "outputs": [
    {
     "data": {
      "text/plain": [
       "(array([7, 8]),)"
      ]
     },
     "execution_count": 21,
     "metadata": {},
     "output_type": "execute_result"
    }
   ],
   "source": [
    "np.where(arr>100)"
   ]
  },
  {
   "cell_type": "code",
   "execution_count": 26,
   "id": "022cf93c-ccb6-482e-a44b-83e6ef345189",
   "metadata": {},
   "outputs": [
    {
     "data": {
      "text/plain": [
       "array([   0,    0,    0,    2,    2,    4,    4,  545, 9898])"
      ]
     },
     "execution_count": 26,
     "metadata": {},
     "output_type": "execute_result"
    }
   ],
   "source": [
    "arr"
   ]
  },
  {
   "cell_type": "code",
   "execution_count": 27,
   "id": "c8bfdf7f-866c-456e-a78e-4a5cb1c208d3",
   "metadata": {},
   "outputs": [
    {
     "data": {
      "text/plain": [
       "array([ 545, 9898])"
      ]
     },
     "execution_count": 27,
     "metadata": {},
     "output_type": "execute_result"
    }
   ],
   "source": [
    "np.extract(arr>20,arr)"
   ]
  },
  {
   "cell_type": "code",
   "execution_count": 29,
   "id": "85dd0d40-5053-439a-920d-b471f652973a",
   "metadata": {},
   "outputs": [
    {
     "data": {
      "text/plain": [
       "array([   0,    0,    0,    2,    2,    4,    4,  545, 9898])"
      ]
     },
     "execution_count": 29,
     "metadata": {},
     "output_type": "execute_result"
    }
   ],
   "source": [
    "arr"
   ]
  },
  {
   "cell_type": "code",
   "execution_count": 31,
   "id": "9d6dbe88-f7b8-42cf-8082-c2b332c648e5",
   "metadata": {},
   "outputs": [
    {
     "data": {
      "text/plain": [
       "array([                   0,                    0,                    0,\n",
       "         144115188075855872,   144115188075855872,   288230376151711744,\n",
       "         288230376151711744,  2378463553205043200, -6186257038146797568])"
      ]
     },
     "execution_count": 31,
     "metadata": {},
     "output_type": "execute_result"
    }
   ],
   "source": [
    "arr.byteswap()"
   ]
  },
  {
   "cell_type": "code",
   "execution_count": 32,
   "id": "ce577f02-aa71-4de8-a99a-f4f930990773",
   "metadata": {},
   "outputs": [],
   "source": [
    "b=arr.view()"
   ]
  },
  {
   "cell_type": "code",
   "execution_count": 33,
   "id": "aace6046-2145-4784-9df7-e4cebb60b140",
   "metadata": {},
   "outputs": [
    {
     "data": {
      "text/plain": [
       "array([   0,    0,    0,    2,    2,    4,    4,  545, 9898])"
      ]
     },
     "execution_count": 33,
     "metadata": {},
     "output_type": "execute_result"
    }
   ],
   "source": [
    "b"
   ]
  },
  {
   "cell_type": "code",
   "execution_count": 34,
   "id": "fbe4157d-b96b-46b2-a46f-d7a96f8e7035",
   "metadata": {},
   "outputs": [],
   "source": [
    "b[0]=34"
   ]
  },
  {
   "cell_type": "code",
   "execution_count": 35,
   "id": "d9e38585-ea22-4894-a30e-e62b08074dac",
   "metadata": {},
   "outputs": [
    {
     "data": {
      "text/plain": [
       "array([  34,    0,    0,    2,    2,    4,    4,  545, 9898])"
      ]
     },
     "execution_count": 35,
     "metadata": {},
     "output_type": "execute_result"
    }
   ],
   "source": [
    "b"
   ]
  },
  {
   "cell_type": "code",
   "execution_count": 36,
   "id": "0ba9c373-6f12-42e7-ad1b-c941a940b6fa",
   "metadata": {},
   "outputs": [
    {
     "data": {
      "text/plain": [
       "array([  34,    0,    0,    2,    2,    4,    4,  545, 9898])"
      ]
     },
     "execution_count": 36,
     "metadata": {},
     "output_type": "execute_result"
    }
   ],
   "source": [
    "arr"
   ]
  },
  {
   "cell_type": "code",
   "execution_count": 37,
   "id": "841b2242-2330-4b73-bccd-04295e654e34",
   "metadata": {},
   "outputs": [],
   "source": [
    "import numpy.matlib as nm"
   ]
  },
  {
   "cell_type": "code",
   "execution_count": 38,
   "id": "5816ad1e-5599-47e1-98f4-143e4d754e5c",
   "metadata": {},
   "outputs": [
    {
     "data": {
      "text/plain": [
       "matrix([[0., 0., 0., 0., 0.]])"
      ]
     },
     "execution_count": 38,
     "metadata": {},
     "output_type": "execute_result"
    }
   ],
   "source": [
    "nm.zeros(5)"
   ]
  },
  {
   "cell_type": "code",
   "execution_count": 39,
   "id": "bbfd403f-0dbb-4ba7-a3c7-05ad9fd7a725",
   "metadata": {},
   "outputs": [
    {
     "data": {
      "text/plain": [
       "matrix([[1., 1., 1.],\n",
       "        [1., 1., 1.],\n",
       "        [1., 1., 1.]])"
      ]
     },
     "execution_count": 39,
     "metadata": {},
     "output_type": "execute_result"
    }
   ],
   "source": [
    "nm.ones((3,3))"
   ]
  },
  {
   "cell_type": "code",
   "execution_count": 40,
   "id": "3bf49a9b-7831-4989-9358-d89cbf62e860",
   "metadata": {},
   "outputs": [
    {
     "data": {
      "text/plain": [
       "matrix([[1., 0., 0., 0.],\n",
       "        [0., 1., 0., 0.],\n",
       "        [0., 0., 1., 0.],\n",
       "        [0., 0., 0., 1.]])"
      ]
     },
     "execution_count": 40,
     "metadata": {},
     "output_type": "execute_result"
    }
   ],
   "source": [
    "nm.eye(4,4)"
   ]
  },
  {
   "cell_type": "code",
   "execution_count": 41,
   "id": "60b5c667-0c1f-4407-bb17-e09f628b9ccf",
   "metadata": {},
   "outputs": [
    {
     "data": {
      "text/plain": [
       "array([[1., 0., 0., 0.],\n",
       "       [0., 1., 0., 0.],\n",
       "       [0., 0., 1., 0.],\n",
       "       [0., 0., 0., 1.]])"
      ]
     },
     "execution_count": 41,
     "metadata": {},
     "output_type": "execute_result"
    }
   ],
   "source": [
    "np.eye(4,4)"
   ]
  },
  {
   "cell_type": "code",
   "execution_count": 46,
   "id": "044f40b1-98bb-41f4-a783-4f40d6c48018",
   "metadata": {},
   "outputs": [],
   "source": [
    "arr1=np.random.randint([[2,3],[3,4]])"
   ]
  },
  {
   "cell_type": "code",
   "execution_count": 47,
   "id": "8efd90e4-c195-46f9-8375-8ac88e71b61f",
   "metadata": {},
   "outputs": [
    {
     "data": {
      "text/plain": [
       "array([[0, 2],\n",
       "       [1, 2]])"
      ]
     },
     "execution_count": 47,
     "metadata": {},
     "output_type": "execute_result"
    }
   ],
   "source": [
    "arr1"
   ]
  },
  {
   "cell_type": "code",
   "execution_count": 48,
   "id": "aafe1654-b57c-48f8-8a39-492d579102ea",
   "metadata": {},
   "outputs": [],
   "source": [
    "arr2=np.random.randint([[2,3],[3,4]])"
   ]
  },
  {
   "cell_type": "code",
   "execution_count": 49,
   "id": "24a43e18-4a14-47ed-bf04-0db4f8bacb03",
   "metadata": {},
   "outputs": [
    {
     "data": {
      "text/plain": [
       "array([[1, 2],\n",
       "       [2, 0]])"
      ]
     },
     "execution_count": 49,
     "metadata": {},
     "output_type": "execute_result"
    }
   ],
   "source": [
    "arr2"
   ]
  },
  {
   "cell_type": "code",
   "execution_count": null,
   "id": "8d3e690d-264f-45ef-9c84-cf011d249ef6",
   "metadata": {},
   "outputs": [],
   "source": [
    "np.dot(arr1,arr2"
   ]
  }
 ],
 "metadata": {
  "kernelspec": {
   "display_name": "Python 3 (ipykernel)",
   "language": "python",
   "name": "python3"
  },
  "language_info": {
   "codemirror_mode": {
    "name": "ipython",
    "version": 3
   },
   "file_extension": ".py",
   "mimetype": "text/x-python",
   "name": "python",
   "nbconvert_exporter": "python",
   "pygments_lexer": "ipython3",
   "version": "3.10.8"
  }
 },
 "nbformat": 4,
 "nbformat_minor": 5
}
