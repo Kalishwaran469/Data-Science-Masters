{
 "cells": [
  {
   "cell_type": "code",
   "execution_count": null,
   "id": "18108b7b-f256-4b3e-9482-f4f1f8bc2c56",
   "metadata": {},
   "outputs": [],
   "source": [
    "# question 2"
   ]
  },
  {
   "cell_type": "code",
   "execution_count": 1,
   "id": "b354c5ee-e9ee-4c2c-b03a-c139b4b63547",
   "metadata": {},
   "outputs": [],
   "source": [
    "import scipy.stats as stat\n",
    "import numpy as np"
   ]
  },
  {
   "cell_type": "code",
   "execution_count": 4,
   "id": "7d4dec12-3156-49ea-b36d-7c66b653fb08",
   "metadata": {},
   "outputs": [],
   "source": [
    "expected_data=[20,20,20,10,10,20]\n",
    "observed_data=[12,22,32,8,6,20]"
   ]
  },
  {
   "cell_type": "code",
   "execution_count": 7,
   "id": "5f2d3d6b-a6c2-4122-8b60-a7eca5ac472a",
   "metadata": {},
   "outputs": [
    {
     "data": {
      "text/plain": [
       "(100, 100)"
      ]
     },
     "execution_count": 7,
     "metadata": {},
     "output_type": "execute_result"
    }
   ],
   "source": [
    "sum(expected_data),sum(observed_data)"
   ]
  },
  {
   "cell_type": "code",
   "execution_count": 8,
   "id": "985ededa-92a3-4c2a-963a-75e46bddd4cd",
   "metadata": {},
   "outputs": [],
   "source": [
    "chi_square_statistics,p_value=stat.chisquare(observed_data,expected_data)"
   ]
  },
  {
   "cell_type": "code",
   "execution_count": 9,
   "id": "007e2022-c6d5-44d0-ab4e-75e1c42e35d4",
   "metadata": {},
   "outputs": [
    {
     "name": "stdout",
     "output_type": "stream",
     "text": [
      "12.600000000000001 0.027429903332108017\n"
     ]
    }
   ],
   "source": [
    "print(chi_square_statistics,p_value)"
   ]
  },
  {
   "cell_type": "code",
   "execution_count": 19,
   "id": "04a8b60e-5e6b-46a3-97e0-c6f0ed6eecf1",
   "metadata": {},
   "outputs": [],
   "source": [
    "significance=0.05\n",
    "dof=len(observed_data)-1\n",
    "critical_value=stat.chi2.ppf(1-significance,dof)"
   ]
  },
  {
   "cell_type": "code",
   "execution_count": 20,
   "id": "0c346d5f-3b1b-40d2-b994-2d2674596217",
   "metadata": {},
   "outputs": [
    {
     "data": {
      "text/plain": [
       "11.070497693516351"
      ]
     },
     "execution_count": 20,
     "metadata": {},
     "output_type": "execute_result"
    }
   ],
   "source": [
    "critical_value"
   ]
  },
  {
   "cell_type": "code",
   "execution_count": 21,
   "id": "6eb1f6b7-3dac-4310-b893-6d84022f686b",
   "metadata": {},
   "outputs": [
    {
     "name": "stdout",
     "output_type": "stream",
     "text": [
      "reject the null hypothesis\n"
     ]
    }
   ],
   "source": [
    "if chi_square_statistics > critical_value:\n",
    "    print(\"reject the null hypothesis\")\n",
    "else:\n",
    "    print(\"accept the null hypothesis\")"
   ]
  },
  {
   "cell_type": "code",
   "execution_count": null,
   "id": "9f5e6b49-e1bf-4e8e-8736-0e540b45b121",
   "metadata": {},
   "outputs": [],
   "source": [
    "# colors of M&Ms in a bag didn't match the expected distribution"
   ]
  },
  {
   "cell_type": "code",
   "execution_count": null,
   "id": "144b2876-e4ca-4b4f-83cd-326bd51dc2a8",
   "metadata": {},
   "outputs": [],
   "source": [
    "# question 3"
   ]
  },
  {
   "cell_type": "code",
   "execution_count": null,
   "id": "1adf6ec7-39ad-4413-8bc9-46d6137f4ee5",
   "metadata": {},
   "outputs": [],
   "source": []
  },
  {
   "cell_type": "code",
   "execution_count": null,
   "id": "cb28e5cb-7c75-435e-8518-3fee329f7fe4",
   "metadata": {},
   "outputs": [],
   "source": []
  }
 ],
 "metadata": {
  "kernelspec": {
   "display_name": "Python 3 (ipykernel)",
   "language": "python",
   "name": "python3"
  },
  "language_info": {
   "codemirror_mode": {
    "name": "ipython",
    "version": 3
   },
   "file_extension": ".py",
   "mimetype": "text/x-python",
   "name": "python",
   "nbconvert_exporter": "python",
   "pygments_lexer": "ipython3",
   "version": "3.10.8"
  }
 },
 "nbformat": 4,
 "nbformat_minor": 5
}
