{
 "cells": [
  {
   "cell_type": "code",
   "execution_count": null,
   "id": "42b1eef6-f726-480a-8b2f-a96d8a59fa27",
   "metadata": {},
   "outputs": [],
   "source": [
    "# question 1"
   ]
  },
  {
   "cell_type": "code",
   "execution_count": null,
   "id": "4b04ad40-af42-44c3-b2db-dd537a8c70d2",
   "metadata": {},
   "outputs": [],
   "source": [
    "# GridSearchCV is a technique for finding the optimal parameter values from a given set of parameters in a grid. It's essentially a cross-validation technique. The model as well as the parameters must be entered. After extracting the best parameter values, predictions are made."
   ]
  },
  {
   "cell_type": "code",
   "execution_count": null,
   "id": "38eab5e1-abf5-45a8-9e8d-55ebd1a4f89f",
   "metadata": {},
   "outputs": [],
   "source": [
    "# question 2"
   ]
  },
  {
   "cell_type": "code",
   "execution_count": null,
   "id": "a2235429-6b21-4b07-8069-9ef29420bec4",
   "metadata": {},
   "outputs": [],
   "source": [
    "# In Grid Search, we try every combination of a preset list of values of the hyper-parameters and choose the best combination based on the cross-validation score. Random search tries random combinations of a range of values (we have to define the number iterations)."
   ]
  },
  {
   "cell_type": "code",
   "execution_count": null,
   "id": "57200fdb-ccc6-424b-84bc-d75b1f2ef228",
   "metadata": {},
   "outputs": [],
   "source": [
    "# question 3"
   ]
  },
  {
   "cell_type": "code",
   "execution_count": null,
   "id": "60f9306f-a47b-4000-b21f-d8d702e2a0a6",
   "metadata": {},
   "outputs": [],
   "source": [
    "# Data leakage (or leakage) happens when your training data contains information about the target, but similar data will not be available when the model is used for prediction. This leads to high performance on the training set (and possibly even the validation data), but the model will perform poorly in production."
   ]
  },
  {
   "cell_type": "code",
   "execution_count": null,
   "id": "4dbe1d31-a3d1-4fe0-83c4-120ba0706363",
   "metadata": {},
   "outputs": [],
   "source": [
    "# question 4"
   ]
  },
  {
   "cell_type": "code",
   "execution_count": null,
   "id": "82c9a57f-22ed-426e-9437-159d3fb86e9e",
   "metadata": {},
   "outputs": [],
   "source": [
    "# One of the best ways to get rid of data leakage is to perform k-fold cross validation where the overall data is divided into k parts. After dividing into k parts, we use each part as the cross-validation data and the remaining as training data."
   ]
  },
  {
   "cell_type": "code",
   "execution_count": null,
   "id": "c09c225d-cd07-48bf-b20e-a4851d934294",
   "metadata": {},
   "outputs": [],
   "source": [
    "# question 5"
   ]
  },
  {
   "cell_type": "code",
   "execution_count": null,
   "id": "3f35c9e0-b27c-4602-b3ce-258dbcc840e3",
   "metadata": {},
   "outputs": [],
   "source": [
    "# A confusion matrix is a table that allows you to visualize the performance of a classification model. You can also use the information in it to calculate measures that can help you determine the usefulness of the model."
   ]
  },
  {
   "cell_type": "code",
   "execution_count": null,
   "id": "3a31909d-75a5-456e-bdb4-dfc29db6fb39",
   "metadata": {},
   "outputs": [],
   "source": [
    "# question 6 "
   ]
  },
  {
   "cell_type": "code",
   "execution_count": null,
   "id": "2284aff3-f94b-43e7-99e3-241de2668bfd",
   "metadata": {},
   "outputs": [],
   "source": [
    "# Precision (also called positive predictive value) is the fraction of relevant instances among the retrieved instances, while recall (also known as sensitivity) is the fraction of relevant instances that were retrieved. Both precision and recall are therefore based on relevance."
   ]
  },
  {
   "cell_type": "code",
   "execution_count": null,
   "id": "fb6d5a85-ba0b-4078-8123-497d79670010",
   "metadata": {},
   "outputs": [],
   "source": [
    "# question 7"
   ]
  },
  {
   "cell_type": "code",
   "execution_count": null,
   "id": "9038d253-febc-4195-a90a-96dac35b568d",
   "metadata": {},
   "outputs": [],
   "source": [
    "# The matrix compares the actual target values with those predicted by the machine learning model. This gives us a holistic view of how well our classification model is performing and what kinds of errors it is making. Let's decipher the matrix: The target variable has two values: Positive or Negative."
   ]
  },
  {
   "cell_type": "code",
   "execution_count": null,
   "id": "2f68cba8-030f-43c9-8b6b-a31f34695b24",
   "metadata": {},
   "outputs": [],
   "source": [
    "# question 8"
   ]
  },
  {
   "cell_type": "code",
   "execution_count": null,
   "id": "c7ca11aa-3fda-46f3-a403-97bb75a12599",
   "metadata": {},
   "outputs": [],
   "source": [
    "# Confusion matrices can be used to calculate performance metrics for classification models. Of the many performance metrics used, the most common are accuracy, precision, recall, and F1 score."
   ]
  },
  {
   "cell_type": "code",
   "execution_count": null,
   "id": "1aec2802-6391-4200-a274-89c744fd4634",
   "metadata": {},
   "outputs": [],
   "source": [
    "# question 9"
   ]
  },
  {
   "cell_type": "code",
   "execution_count": null,
   "id": "00029c83-3d98-4d83-ade2-78804311b688",
   "metadata": {},
   "outputs": [],
   "source": [
    "# A confusion matrix can be used to evaluate the performance of a machine learning model in a number of ways. One way to use a confusion matrix is to calculate the accuracy of the model. This is done by adding the number of true positives and true negatives and dividing by the total number of predictions."
   ]
  },
  {
   "cell_type": "code",
   "execution_count": null,
   "id": "666180d2-257c-49fb-9a12-a40b86228cae",
   "metadata": {},
   "outputs": [],
   "source": []
  },
  {
   "cell_type": "code",
   "execution_count": null,
   "id": "1f8244ae-41a0-4434-adf2-5042f062289f",
   "metadata": {},
   "outputs": [],
   "source": []
  }
 ],
 "metadata": {
  "kernelspec": {
   "display_name": "Python 3 (ipykernel)",
   "language": "python",
   "name": "python3"
  },
  "language_info": {
   "codemirror_mode": {
    "name": "ipython",
    "version": 3
   },
   "file_extension": ".py",
   "mimetype": "text/x-python",
   "name": "python",
   "nbconvert_exporter": "python",
   "pygments_lexer": "ipython3",
   "version": "3.10.8"
  }
 },
 "nbformat": 4,
 "nbformat_minor": 5
}
