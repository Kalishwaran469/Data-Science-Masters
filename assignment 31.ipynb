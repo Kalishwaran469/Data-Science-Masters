{
 "cells": [
  {
   "cell_type": "code",
   "execution_count": null,
   "id": "b97d48b4-41d6-4bdb-8e27-7ac5419f6625",
   "metadata": {},
   "outputs": [],
   "source": [
    "# question 1"
   ]
  },
  {
   "cell_type": "code",
   "execution_count": null,
   "id": "30bb5eab-9b09-48a5-976f-cb8e9c4fad4c",
   "metadata": {},
   "outputs": [],
   "source": [
    "# mean,median,mode"
   ]
  },
  {
   "cell_type": "code",
   "execution_count": null,
   "id": "41d4edb8-9cfb-4baf-bd3e-9c096f533284",
   "metadata": {},
   "outputs": [],
   "source": [
    "# question 2"
   ]
  },
  {
   "cell_type": "code",
   "execution_count": null,
   "id": "270babe4-448a-4eb8-b89b-c577f1a6888e",
   "metadata": {},
   "outputs": [],
   "source": [
    "# mean-mean is the average of all numbers in the set\n",
    "# median-median is the middle value of the set\n",
    "# mode-mode is the most frequency element in the set"
   ]
  },
  {
   "cell_type": "code",
   "execution_count": null,
   "id": "33cf8bf9-a166-422a-b2bd-5ae85b05068d",
   "metadata": {},
   "outputs": [],
   "source": [
    "# question 3"
   ]
  },
  {
   "cell_type": "code",
   "execution_count": 1,
   "id": "7258c1bc-a391-4426-9f3e-9ec3aed81769",
   "metadata": {},
   "outputs": [],
   "source": [
    "height=[178,177,176,177,178.2,178,175,179,180,175,178.9,176.2,177,172.5,178,176.5]"
   ]
  },
  {
   "cell_type": "code",
   "execution_count": 2,
   "id": "078de3ce-bf20-4586-82f6-751f9404e82a",
   "metadata": {},
   "outputs": [],
   "source": [
    "import numpy as np"
   ]
  },
  {
   "cell_type": "code",
   "execution_count": 3,
   "id": "e9c04348-b1a4-4104-a11a-ee1a46f858c2",
   "metadata": {},
   "outputs": [
    {
     "data": {
      "text/plain": [
       "177.01875"
      ]
     },
     "execution_count": 3,
     "metadata": {},
     "output_type": "execute_result"
    }
   ],
   "source": [
    "np.mean(height)"
   ]
  },
  {
   "cell_type": "code",
   "execution_count": 4,
   "id": "ff36a7a3-72fe-4de1-87ce-b459156ab72c",
   "metadata": {},
   "outputs": [
    {
     "data": {
      "text/plain": [
       "177.0"
      ]
     },
     "execution_count": 4,
     "metadata": {},
     "output_type": "execute_result"
    }
   ],
   "source": [
    "np.median(height)"
   ]
  },
  {
   "cell_type": "code",
   "execution_count": 6,
   "id": "b965be5d-c8dc-4112-925a-0f4f1abaae5d",
   "metadata": {},
   "outputs": [],
   "source": [
    "from scipy import stats"
   ]
  },
  {
   "cell_type": "code",
   "execution_count": 7,
   "id": "63bc9145-8463-4058-9955-448d671455d7",
   "metadata": {},
   "outputs": [
    {
     "name": "stderr",
     "output_type": "stream",
     "text": [
      "/tmp/ipykernel_110/1690947930.py:1: FutureWarning: Unlike other reduction functions (e.g. `skew`, `kurtosis`), the default behavior of `mode` typically preserves the axis it acts along. In SciPy 1.11.0, this behavior will change: the default value of `keepdims` will become False, the `axis` over which the statistic is taken will be eliminated, and the value None will no longer be accepted. Set `keepdims` to True or False to avoid this warning.\n",
      "  stats.mode(height)\n"
     ]
    },
    {
     "data": {
      "text/plain": [
       "ModeResult(mode=array([177.]), count=array([3]))"
      ]
     },
     "execution_count": 7,
     "metadata": {},
     "output_type": "execute_result"
    }
   ],
   "source": [
    "stats.mode(height)"
   ]
  },
  {
   "cell_type": "code",
   "execution_count": null,
   "id": "2c210672-c99c-4fba-986e-221359713828",
   "metadata": {},
   "outputs": [],
   "source": [
    "# question 4"
   ]
  },
  {
   "cell_type": "code",
   "execution_count": 8,
   "id": "2e47f2e2-60d9-4ad7-9521-ebf0cc20823f",
   "metadata": {},
   "outputs": [],
   "source": [
    "data =[178,177,176,177,178.2,178,175,179,180,175,178.9,176.2,177,172.5,178,176.5]"
   ]
  },
  {
   "cell_type": "code",
   "execution_count": 9,
   "id": "4cee29d0-339b-4b1e-b417-7823e9713528",
   "metadata": {},
   "outputs": [
    {
     "data": {
      "text/plain": [
       "1.7885814036548633"
      ]
     },
     "execution_count": 9,
     "metadata": {},
     "output_type": "execute_result"
    }
   ],
   "source": [
    "np.std(data)"
   ]
  },
  {
   "cell_type": "code",
   "execution_count": null,
   "id": "c3e657cb-fd27-4e7a-b58f-a9a14f40ce7d",
   "metadata": {},
   "outputs": [],
   "source": [
    "# question 5"
   ]
  },
  {
   "cell_type": "code",
   "execution_count": null,
   "id": "54198ccc-f221-4bdb-b3ef-ee6acd288fd6",
   "metadata": {},
   "outputs": [],
   "source": [
    "# Measures of dispersion describe the spread of the data. They include the range, interquartile range, standard deviation and variance. \n"
   ]
  },
  {
   "cell_type": "code",
   "execution_count": 10,
   "id": "2e90b6da-4a62-4b70-87a9-c7cc0d2a3e38",
   "metadata": {},
   "outputs": [
    {
     "data": {
      "text/plain": [
       "3.199023437500001"
      ]
     },
     "execution_count": 10,
     "metadata": {},
     "output_type": "execute_result"
    }
   ],
   "source": [
    "np.var(data)"
   ]
  },
  {
   "cell_type": "code",
   "execution_count": 11,
   "id": "0171417b-469e-42b6-bfd6-cfc6eee5f800",
   "metadata": {},
   "outputs": [
    {
     "data": {
      "text/plain": [
       "1.7885814036548633"
      ]
     },
     "execution_count": 11,
     "metadata": {},
     "output_type": "execute_result"
    }
   ],
   "source": [
    "np.std(data)"
   ]
  },
  {
   "cell_type": "code",
   "execution_count": null,
   "id": "e7059dcf-6d5f-48d7-a920-21784c731708",
   "metadata": {},
   "outputs": [],
   "source": [
    "# question 6"
   ]
  },
  {
   "cell_type": "code",
   "execution_count": null,
   "id": "65045c6c-e171-4a91-8adc-d68c7b2a623f",
   "metadata": {},
   "outputs": [],
   "source": [
    "# A Venn diagram in math is used in logic theory and set theory to show various sets or data and their relationship with each other."
   ]
  },
  {
   "cell_type": "code",
   "execution_count": null,
   "id": "44b82932-1904-4be0-8b91-f1656885cddd",
   "metadata": {},
   "outputs": [],
   "source": [
    "# question 7"
   ]
  },
  {
   "cell_type": "code",
   "execution_count": 12,
   "id": "b5f817f6-5009-48a7-a6d8-f4c474980525",
   "metadata": {},
   "outputs": [],
   "source": [
    "A = (2,3,4,5,6,7) \n",
    "B = (0,2,6,8,10)"
   ]
  },
  {
   "cell_type": "code",
   "execution_count": 14,
   "id": "976f5e85-8043-4514-b223-1eaf5f534098",
   "metadata": {},
   "outputs": [],
   "source": [
    "# A intersection B=(2,6)\n",
    "# A union B=(0,2,3,4,5,6,7,8,10)"
   ]
  },
  {
   "cell_type": "code",
   "execution_count": null,
   "id": "299be92b-79bb-4f68-8e0c-2b1f434566ce",
   "metadata": {},
   "outputs": [],
   "source": [
    "# quetion 8"
   ]
  },
  {
   "cell_type": "code",
   "execution_count": null,
   "id": "84ea4f66-ee03-4a20-915b-155328b307a6",
   "metadata": {},
   "outputs": [],
   "source": [
    "# in symmetrical distribution there is no skewness because mean,median,mode are same.But in left skew,right skew there is a skewness in 1)right skewness mean>median>mode 2)left skewness mean<median<mode "
   ]
  },
  {
   "cell_type": "code",
   "execution_count": null,
   "id": "5fb9db4d-37bb-41ff-9e91-1ec3d1b91083",
   "metadata": {},
   "outputs": [],
   "source": [
    "# question 9"
   ]
  },
  {
   "cell_type": "code",
   "execution_count": null,
   "id": "98d43b3b-54ca-42ae-bf2c-b58cc4651e36",
   "metadata": {},
   "outputs": [],
   "source": [
    "# mean>median"
   ]
  },
  {
   "cell_type": "code",
   "execution_count": null,
   "id": "80e51521-0260-4990-a537-0bdc923cf47c",
   "metadata": {},
   "outputs": [],
   "source": [
    "# question 10"
   ]
  },
  {
   "cell_type": "code",
   "execution_count": null,
   "id": "17003397-973d-4c39-90c1-6cbf6fbd5694",
   "metadata": {},
   "outputs": [],
   "source": [
    "# Covariance is an indicator of the extent to which 2 random variables are dependent on each other. A higher number denotes higher dependency. Correlation is a statistical measure that indicates how strongly two variables are related. The value of covariance lies in the range of -∞ and +∞."
   ]
  },
  {
   "cell_type": "code",
   "execution_count": null,
   "id": "48aec1aa-4128-4a48-a675-3848490a3534",
   "metadata": {},
   "outputs": [],
   "source": [
    "# question 11"
   ]
  },
  {
   "cell_type": "code",
   "execution_count": null,
   "id": "6717a07c-650c-4ef0-bbb1-aa15dd570176",
   "metadata": {},
   "outputs": [],
   "source": [
    "# The general sample mean formula for calculating the sample mean is expressed as x̄ = ( Σ xi ) ÷ n. Here, x̄ denotes the average value of the samples or sample mean, xi refers all X sample values and 'n' stands for the number of sample terms in the given data."
   ]
  },
  {
   "cell_type": "code",
   "execution_count": null,
   "id": "3ada0c62-1be8-4eb7-9a42-685bc3722a1c",
   "metadata": {},
   "outputs": [],
   "source": [
    "# question 12"
   ]
  },
  {
   "cell_type": "code",
   "execution_count": null,
   "id": "fcb3ae18-9216-44f6-863b-b417f1bca16b",
   "metadata": {},
   "outputs": [],
   "source": [
    "# in normal distribution mean>median>mode"
   ]
  },
  {
   "cell_type": "code",
   "execution_count": null,
   "id": "70830eba-d63c-41d2-ba1c-6262ca13adef",
   "metadata": {},
   "outputs": [],
   "source": [
    "# question 13"
   ]
  },
  {
   "cell_type": "code",
   "execution_count": null,
   "id": "ee7d85ff-f76b-4206-a1a3-8f32869546a2",
   "metadata": {},
   "outputs": [],
   "source": [
    "# Covariance is an indicator of the extent to which 2 random variables are dependent on each other. A higher number denotes higher dependency. Correlation is a statistical measure that indicates how strongly two variables are related."
   ]
  },
  {
   "cell_type": "code",
   "execution_count": null,
   "id": "72252cd2-e945-46a8-9b72-9b8166f83256",
   "metadata": {},
   "outputs": [],
   "source": [
    "# question 14"
   ]
  },
  {
   "cell_type": "code",
   "execution_count": null,
   "id": "bef7600d-4f3c-4821-af25-76aac580ce37",
   "metadata": {},
   "outputs": [],
   "source": [
    "# Outliers are numbers in a data set that are vastly larger or smaller than the other values in the set. Mean, median and mode are measures of central tendency. Mean is the only measure of central tendency that is always affected by an outlier.\n",
    "# "
   ]
  },
  {
   "cell_type": "code",
   "execution_count": 15,
   "id": "26511fe8-3569-4919-a108-a3658f978972",
   "metadata": {},
   "outputs": [],
   "source": [
    "height=[178,177,176,177,178.2,178,175,179,180,175,178.9,176.2,177,172.5,178,176.5]"
   ]
  },
  {
   "cell_type": "code",
   "execution_count": 16,
   "id": "084cdeea-c4c0-4569-8900-5514b3137a64",
   "metadata": {},
   "outputs": [
    {
     "data": {
      "text/plain": [
       "177.01875"
      ]
     },
     "execution_count": 16,
     "metadata": {},
     "output_type": "execute_result"
    }
   ],
   "source": [
    "np.mean(height)"
   ]
  },
  {
   "cell_type": "code",
   "execution_count": 17,
   "id": "0b02e121-fecd-4f5b-9956-5cc4bb28d287",
   "metadata": {},
   "outputs": [
    {
     "data": {
      "text/plain": [
       "177.0"
      ]
     },
     "execution_count": 17,
     "metadata": {},
     "output_type": "execute_result"
    }
   ],
   "source": [
    "np.median(height)"
   ]
  },
  {
   "cell_type": "code",
   "execution_count": 19,
   "id": "a410deae-7375-4d25-9e53-dfb56aff9fff",
   "metadata": {},
   "outputs": [],
   "source": [
    "from scipy import stats"
   ]
  },
  {
   "cell_type": "code",
   "execution_count": 20,
   "id": "5765f5ce-7364-4832-b2ee-56230aaa3a10",
   "metadata": {},
   "outputs": [
    {
     "name": "stderr",
     "output_type": "stream",
     "text": [
      "/tmp/ipykernel_110/1690947930.py:1: FutureWarning: Unlike other reduction functions (e.g. `skew`, `kurtosis`), the default behavior of `mode` typically preserves the axis it acts along. In SciPy 1.11.0, this behavior will change: the default value of `keepdims` will become False, the `axis` over which the statistic is taken will be eliminated, and the value None will no longer be accepted. Set `keepdims` to True or False to avoid this warning.\n",
      "  stats.mode(height)\n"
     ]
    },
    {
     "data": {
      "text/plain": [
       "ModeResult(mode=array([177.]), count=array([3]))"
      ]
     },
     "execution_count": 20,
     "metadata": {},
     "output_type": "execute_result"
    }
   ],
   "source": [
    "stats.mode(height)"
   ]
  },
  {
   "cell_type": "code",
   "execution_count": 22,
   "id": "e4c3baaf-c987-43a6-b79d-3f3ebe94e28c",
   "metadata": {},
   "outputs": [],
   "source": [
    "# adding outlier 1000\n",
    "height=[178,177,176,177,178.2,178,175,179,180,175,178.9,176.2,177,172.5,178,176.5,1000]"
   ]
  },
  {
   "cell_type": "code",
   "execution_count": 23,
   "id": "9e055fbb-3340-45ae-988b-ad144986f2bb",
   "metadata": {},
   "outputs": [
    {
     "data": {
      "text/plain": [
       "225.4294117647059"
      ]
     },
     "execution_count": 23,
     "metadata": {},
     "output_type": "execute_result"
    }
   ],
   "source": [
    "np.mean(height)"
   ]
  },
  {
   "cell_type": "code",
   "execution_count": 24,
   "id": "01a8d754-ff21-402c-ab24-ca2af4e9c974",
   "metadata": {},
   "outputs": [
    {
     "data": {
      "text/plain": [
       "177.0"
      ]
     },
     "execution_count": 24,
     "metadata": {},
     "output_type": "execute_result"
    }
   ],
   "source": [
    "np.median(height)"
   ]
  },
  {
   "cell_type": "code",
   "execution_count": 25,
   "id": "5ef6e706-7037-4b4d-9c9a-b36662473362",
   "metadata": {},
   "outputs": [
    {
     "name": "stderr",
     "output_type": "stream",
     "text": [
      "/tmp/ipykernel_110/1690947930.py:1: FutureWarning: Unlike other reduction functions (e.g. `skew`, `kurtosis`), the default behavior of `mode` typically preserves the axis it acts along. In SciPy 1.11.0, this behavior will change: the default value of `keepdims` will become False, the `axis` over which the statistic is taken will be eliminated, and the value None will no longer be accepted. Set `keepdims` to True or False to avoid this warning.\n",
      "  stats.mode(height)\n"
     ]
    },
    {
     "data": {
      "text/plain": [
       "ModeResult(mode=array([177.]), count=array([3]))"
      ]
     },
     "execution_count": 25,
     "metadata": {},
     "output_type": "execute_result"
    }
   ],
   "source": [
    "stats.mode(height)"
   ]
  },
  {
   "cell_type": "code",
   "execution_count": null,
   "id": "a059c718-aaa7-4289-a3f4-f04486155f23",
   "metadata": {},
   "outputs": [],
   "source": []
  }
 ],
 "metadata": {
  "kernelspec": {
   "display_name": "Python 3 (ipykernel)",
   "language": "python",
   "name": "python3"
  },
  "language_info": {
   "codemirror_mode": {
    "name": "ipython",
    "version": 3
   },
   "file_extension": ".py",
   "mimetype": "text/x-python",
   "name": "python",
   "nbconvert_exporter": "python",
   "pygments_lexer": "ipython3",
   "version": "3.10.8"
  }
 },
 "nbformat": 4,
 "nbformat_minor": 5
}
