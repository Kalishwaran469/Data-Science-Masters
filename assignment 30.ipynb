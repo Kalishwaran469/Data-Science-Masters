{
 "cells": [
  {
   "cell_type": "code",
   "execution_count": null,
   "id": "4848dfaa-8bd2-4209-930b-1f1d65f71077",
   "metadata": {},
   "outputs": [],
   "source": [
    "# question 1"
   ]
  },
  {
   "cell_type": "code",
   "execution_count": null,
   "id": "5b9374e5-2884-487c-9f4f-cd1fe71f2896",
   "metadata": {},
   "outputs": [],
   "source": [
    "# statistics is collecting,organizing and analysing the data"
   ]
  },
  {
   "cell_type": "code",
   "execution_count": null,
   "id": "068b59a7-5890-426a-9895-dd6c277b2b7c",
   "metadata": {},
   "outputs": [],
   "source": [
    "# question 2"
   ]
  },
  {
   "cell_type": "code",
   "execution_count": null,
   "id": "44720e78-55a3-4a10-ba0d-9906675c809d",
   "metadata": {},
   "outputs": [],
   "source": [
    "# there are 2 types of statistics 1)descriptive statistics 2)inferential statistics\n",
    "# descriptive statistics-organizing and analysing the data\n",
    "# inferential statistics -use the organized data to make a conclusion"
   ]
  },
  {
   "cell_type": "code",
   "execution_count": null,
   "id": "f784a21e-21e1-4b8a-961b-6e2f5552fcf4",
   "metadata": {},
   "outputs": [],
   "source": [
    "# question 3"
   ]
  },
  {
   "cell_type": "code",
   "execution_count": null,
   "id": "3a9a2cd1-0fad-410f-b044-83a60e497bc3",
   "metadata": {},
   "outputs": [],
   "source": [
    "# there are 2 types of data 1)quantitative data 2)qualitative data \n",
    "# in quantitative data there are 2 types 1)discrete 2)continuous\n",
    "# discrete data only contains whole numbers ex: total students in the class\n",
    "# continuous data only contains floating point values ex : heights of the students\n",
    "# in qualitative data there are 2 types 1)nominal 2)ordinal\n",
    "# nominal data only contains categorical values ex: blood group\n",
    "# ordinal data only contains ranking and order type of values ex: 1)rich 2)middle class 3)poor"
   ]
  },
  {
   "cell_type": "code",
   "execution_count": null,
   "id": "ae552708-b64c-499f-9170-9ec87cea911a",
   "metadata": {},
   "outputs": [],
   "source": [
    "# question 4"
   ]
  },
  {
   "cell_type": "code",
   "execution_count": null,
   "id": "3cfaedea-b9a4-43bd-b5d7-b6915777c6db",
   "metadata": {},
   "outputs": [],
   "source": [
    "# i) qualitative data ii) qualitative data iii)quantitative data iv)quantitative data"
   ]
  },
  {
   "cell_type": "code",
   "execution_count": null,
   "id": "5df143a8-bedf-4182-8859-8d3d0de67a94",
   "metadata": {},
   "outputs": [],
   "source": [
    "# question 5"
   ]
  },
  {
   "cell_type": "code",
   "execution_count": null,
   "id": "9c7ca1eb-ad3e-4d8d-97de-d830e0b0c738",
   "metadata": {},
   "outputs": [],
   "source": [
    "# Nominal: the data can only be categorized ex: color type\n",
    "# Ordinal: the data can be categorized and ranked ex:top 10 richest persons in the earth\n",
    "# Interval: the data can be categorized, ranked, and evenly spaced ex:temperature\n",
    "# Ratio: the data can be categorized, ranked, evenly spaced, and has a natural zero. ex:age"
   ]
  },
  {
   "cell_type": "code",
   "execution_count": null,
   "id": "1700284a-b461-475e-9a1c-ef0bd1a1e196",
   "metadata": {},
   "outputs": [],
   "source": [
    "# question 6"
   ]
  },
  {
   "cell_type": "code",
   "execution_count": null,
   "id": "7e4d3f71-7d11-46dc-85d1-553455290a6e",
   "metadata": {},
   "outputs": [],
   "source": [
    "# It is important to understand the level of measurement of variables in research, because the level of measurement determines the type of statistical analysis that can be conducted, and, therefore, the type of conclusions that can be drawn from the research."
   ]
  },
  {
   "cell_type": "code",
   "execution_count": null,
   "id": "81579d97-53b1-4195-8c87-45fab0a26fd2",
   "metadata": {},
   "outputs": [],
   "source": [
    "# question 7"
   ]
  },
  {
   "cell_type": "code",
   "execution_count": null,
   "id": "85f66eaa-b7ed-4f98-8361-8933c93055f6",
   "metadata": {},
   "outputs": [],
   "source": [
    "# Nominal data is classified without a natural order or rank, whereas ordinal data has a predetermined or natural order. On the other hand, numerical or quantitative data will always be a number that can be measured."
   ]
  },
  {
   "cell_type": "code",
   "execution_count": null,
   "id": "ecdf97b4-baeb-4df8-a3aa-98107b46c233",
   "metadata": {},
   "outputs": [],
   "source": [
    "# question 8"
   ]
  },
  {
   "cell_type": "code",
   "execution_count": null,
   "id": "8cef436d-7c1a-4563-9cb7-2cbf6be4dd74",
   "metadata": {},
   "outputs": [],
   "source": [
    "# Range Bar Chart "
   ]
  },
  {
   "cell_type": "code",
   "execution_count": null,
   "id": "4d740a15-32f9-44eb-9fd5-f37ee484f002",
   "metadata": {},
   "outputs": [],
   "source": [
    "# question 9"
   ]
  },
  {
   "cell_type": "code",
   "execution_count": null,
   "id": "f421549b-984a-4a14-bee7-5703652d5b6f",
   "metadata": {},
   "outputs": [],
   "source": [
    "# descriptive statistics is used organizing and summarizing the data, ex : if age of all the students in the class is given then we find average age of the students in the class? this is example of descriptive statistics\n",
    "# inferential statistics is used to make a conclusion using organized data , ex:if age of all the students in the class is given then we find is average age of the students in the class is similar to average age of students in the class you expecting\n"
   ]
  },
  {
   "cell_type": "code",
   "execution_count": null,
   "id": "78f6105d-c944-4fc4-9140-321e13431486",
   "metadata": {},
   "outputs": [],
   "source": [
    "# question 10"
   ]
  },
  {
   "cell_type": "code",
   "execution_count": null,
   "id": "f02151f6-e551-422f-8b41-6a059844d628",
   "metadata": {},
   "outputs": [],
   "source": [
    "# some common measurement of central tendency and variablity are mean,median,variance,standard de"
   ]
  },
  {
   "cell_type": "code",
   "execution_count": null,
   "id": "f5f99407-a43c-448e-a5c5-1b083c9843fa",
   "metadata": {},
   "outputs": [],
   "source": []
  },
  {
   "cell_type": "code",
   "execution_count": null,
   "id": "9dd31e9b-6e7c-4543-9c5b-1e13951aa773",
   "metadata": {},
   "outputs": [],
   "source": []
  }
 ],
 "metadata": {
  "kernelspec": {
   "display_name": "Python 3 (ipykernel)",
   "language": "python",
   "name": "python3"
  },
  "language_info": {
   "codemirror_mode": {
    "name": "ipython",
    "version": 3
   },
   "file_extension": ".py",
   "mimetype": "text/x-python",
   "name": "python",
   "nbconvert_exporter": "python",
   "pygments_lexer": "ipython3",
   "version": "3.10.8"
  }
 },
 "nbformat": 4,
 "nbformat_minor": 5
}
