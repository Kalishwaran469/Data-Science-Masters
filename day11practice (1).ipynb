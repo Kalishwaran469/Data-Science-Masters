{
 "cells": [
  {
   "cell_type": "code",
   "execution_count": 2,
   "id": "ed1e25fd-38c1-4a3a-9e32-bda9473df807",
   "metadata": {},
   "outputs": [],
   "source": [
    "class car:\n",
    "    \n",
    "    def __init__(self,year,make,model,speed ) :\n",
    "        self.__year = year \n",
    "        self.__make = make\n",
    "        self.__model = model\n",
    "        self.__speed = 0 \n",
    "    \n",
    "    def set_speed(self , speed) : \n",
    "        self.__speed = 0 if speed < 0 else speed \n",
    "    \n",
    "    def get_speed(self) : \n",
    "        return self.__speed"
   ]
  },
  {
   "cell_type": "code",
   "execution_count": 3,
   "id": "627b73a4-bbfd-4980-849d-429bbabad569",
   "metadata": {},
   "outputs": [],
   "source": [
    "obj_car=car(2000,'toyota','bmw',12)"
   ]
  },
  {
   "cell_type": "code",
   "execution_count": 4,
   "id": "47717b31-f4ee-47a9-b392-78af40883ad7",
   "metadata": {},
   "outputs": [],
   "source": [
    "obj_car._car__year = 2025"
   ]
  },
  {
   "cell_type": "code",
   "execution_count": 5,
   "id": "f9b8e655-0be4-40db-a175-acbbf6fe3c66",
   "metadata": {},
   "outputs": [
    {
     "data": {
      "text/plain": [
       "2025"
      ]
     },
     "execution_count": 5,
     "metadata": {},
     "output_type": "execute_result"
    }
   ],
   "source": [
    "obj_car._car__year"
   ]
  },
  {
   "cell_type": "code",
   "execution_count": 21,
   "id": "4dfc3e0b-7669-4d99-9185-12f65374b46c",
   "metadata": {},
   "outputs": [
    {
     "data": {
      "text/plain": [
       "'bmw'"
      ]
     },
     "execution_count": 21,
     "metadata": {},
     "output_type": "execute_result"
    }
   ],
   "source": [
    "obj_car._car__model"
   ]
  },
  {
   "cell_type": "code",
   "execution_count": 22,
   "id": "1ceb75a8-b616-4c2e-93c7-81e78f6b6d9a",
   "metadata": {},
   "outputs": [
    {
     "data": {
      "text/plain": [
       "0"
      ]
     },
     "execution_count": 22,
     "metadata": {},
     "output_type": "execute_result"
    }
   ],
   "source": [
    "obj_car.get_speed()"
   ]
  },
  {
   "cell_type": "code",
   "execution_count": 23,
   "id": "af05bf28-fc56-41c1-a1c3-b98a54595c6d",
   "metadata": {},
   "outputs": [],
   "source": [
    "obj_car.set_speed(1234)"
   ]
  },
  {
   "cell_type": "code",
   "execution_count": 26,
   "id": "3ec6f96b-d6ce-4141-bd94-eb9b6c98108e",
   "metadata": {},
   "outputs": [
    {
     "data": {
      "text/plain": [
       "1234"
      ]
     },
     "execution_count": 26,
     "metadata": {},
     "output_type": "execute_result"
    }
   ],
   "source": [
    "obj_car._car__speed"
   ]
  },
  {
   "cell_type": "code",
   "execution_count": 27,
   "id": "4ab5ab76-6db5-43bf-bcd5-70681f8a0f9a",
   "metadata": {},
   "outputs": [],
   "source": [
    "obj_car.set_speed(-1)"
   ]
  },
  {
   "cell_type": "code",
   "execution_count": 39,
   "id": "97c5466e-756f-4d79-98dc-80087e6b63da",
   "metadata": {},
   "outputs": [
    {
     "data": {
      "text/plain": [
       "0"
      ]
     },
     "execution_count": 39,
     "metadata": {},
     "output_type": "execute_result"
    }
   ],
   "source": [
    "obj_car._car__speed"
   ]
  },
  {
   "cell_type": "markdown",
   "id": "db85112e-9734-4484-bfef-127bd9d78fa0",
   "metadata": {},
   "source": [
    "# inheritence"
   ]
  },
  {
   "cell_type": "code",
   "execution_count": 43,
   "id": "4204a89b-d0a5-42ad-bf8e-116e4ea03933",
   "metadata": {},
   "outputs": [],
   "source": [
    "class city:\n",
    "    def test_city(self):\n",
    "        print('this is my city')\n",
    "        "
   ]
  },
  {
   "cell_type": "code",
   "execution_count": 46,
   "id": "9b0c99c1-5c9d-43df-9232-6a1ea177bac3",
   "metadata": {},
   "outputs": [],
   "source": [
    "class village(city):\n",
    "    pass\n",
    "    "
   ]
  },
  {
   "cell_type": "code",
   "execution_count": 47,
   "id": "a5f3c18b-d584-49f4-8f50-6c1b7e41faae",
   "metadata": {},
   "outputs": [],
   "source": [
    "village_obj=village()"
   ]
  },
  {
   "cell_type": "code",
   "execution_count": 49,
   "id": "7a64c105-be9a-487e-9846-8f37da258727",
   "metadata": {},
   "outputs": [
    {
     "name": "stdout",
     "output_type": "stream",
     "text": [
      "this is my city\n"
     ]
    }
   ],
   "source": [
    "village_obj.test_city()"
   ]
  },
  {
   "cell_type": "code",
   "execution_count": 6,
   "id": "d24a25c0-2a4b-4973-bdee-593f65656ed5",
   "metadata": {},
   "outputs": [],
   "source": [
    "class player1:\n",
    "    def test_player1(self):\n",
    "        print('this is player1')"
   ]
  },
  {
   "cell_type": "code",
   "execution_count": 7,
   "id": "cfd28ef1-20dd-42a1-9b42-c967451a0461",
   "metadata": {},
   "outputs": [],
   "source": [
    "class player2(player1):\n",
    "    def test_player2(self):\n",
    "        print('this is player2')"
   ]
  },
  {
   "cell_type": "code",
   "execution_count": 20,
   "id": "a78455eb-cbf1-4052-ac07-aba11db69606",
   "metadata": {},
   "outputs": [],
   "source": [
    "class player3(player2):\n",
    "    def test_player3(self):\n",
    "        print('this is player3')"
   ]
  },
  {
   "cell_type": "code",
   "execution_count": 21,
   "id": "187179be-309f-44fb-be2d-0fc5c6fe2831",
   "metadata": {},
   "outputs": [],
   "source": [
    "player3_obj=player3()"
   ]
  },
  {
   "cell_type": "code",
   "execution_count": 22,
   "id": "b3d565ba-051f-435d-abfc-a90da56deb6a",
   "metadata": {},
   "outputs": [
    {
     "name": "stdout",
     "output_type": "stream",
     "text": [
      "this is player1\n"
     ]
    }
   ],
   "source": [
    "player3_obj.test_player1()\n"
   ]
  },
  {
   "cell_type": "code",
   "execution_count": 23,
   "id": "95508baf-39ad-4430-a86b-bac8f9dd71d8",
   "metadata": {},
   "outputs": [
    {
     "name": "stdout",
     "output_type": "stream",
     "text": [
      "this is player2\n"
     ]
    }
   ],
   "source": [
    "player3_obj.test_player2()"
   ]
  },
  {
   "cell_type": "code",
   "execution_count": 24,
   "id": "7fa56dd1-4e35-483a-b9e7-c9646b39e6fc",
   "metadata": {},
   "outputs": [
    {
     "name": "stdout",
     "output_type": "stream",
     "text": [
      "this is player3\n"
     ]
    }
   ],
   "source": [
    "player3_obj.test_player3()"
   ]
  },
  {
   "cell_type": "code",
   "execution_count": 29,
   "id": "8600c9e9-5f6a-4cfc-94ee-6f7bb4399344",
   "metadata": {},
   "outputs": [],
   "source": [
    "class player1:\n",
    "    def test_player1(self):\n",
    "        print('this is player1')"
   ]
  },
  {
   "cell_type": "code",
   "execution_count": 32,
   "id": "ae6751ea-7b6c-436a-85ab-daa782aabc2e",
   "metadata": {},
   "outputs": [],
   "source": [
    "class player2:\n",
    "    def test_player2(self):\n",
    "        print('this is player2')"
   ]
  },
  {
   "cell_type": "code",
   "execution_count": 33,
   "id": "c4824e9a-5835-4769-8763-1c9211090b70",
   "metadata": {},
   "outputs": [],
   "source": [
    "class player3(player1,player2):\n",
    "    pass"
   ]
  },
  {
   "cell_type": "code",
   "execution_count": 34,
   "id": "97b4d040-d0e6-47de-b86e-f7b5e65cc176",
   "metadata": {},
   "outputs": [],
   "source": [
    "player3_obj=player3()"
   ]
  },
  {
   "cell_type": "code",
   "execution_count": 35,
   "id": "93f32a95-65dd-4336-8c8e-8dd242788f00",
   "metadata": {},
   "outputs": [
    {
     "name": "stdout",
     "output_type": "stream",
     "text": [
      "this is player1\n"
     ]
    }
   ],
   "source": [
    "player3_obj.test_player1()"
   ]
  },
  {
   "cell_type": "code",
   "execution_count": 36,
   "id": "b99deedc-4ef5-4ebb-b209-b7f7a97d8a37",
   "metadata": {},
   "outputs": [
    {
     "name": "stdout",
     "output_type": "stream",
     "text": [
      "this is player2\n"
     ]
    }
   ],
   "source": [
    "player3_obj.test_player2()"
   ]
  },
  {
   "cell_type": "markdown",
   "id": "0edd43a6-b890-4de2-85ec-25bd775f8133",
   "metadata": {},
   "source": [
    "# abstraction"
   ]
  },
  {
   "cell_type": "code",
   "execution_count": 41,
   "id": "330b4de2-0668-4efa-9027-0cd6d77ed988",
   "metadata": {},
   "outputs": [],
   "source": [
    "import abc\n",
    "\n",
    "class jack :\n",
    "    \n",
    "    @abc.abstractmethod\n",
    "    def jack_details(self):\n",
    "        pass\n",
    "    \n",
    "    @abc.abstractmethod\n",
    "    def jack_assignment(self):\n",
    "        pass\n",
    "    \n",
    "    \n",
    "    @abc.abstractmethod\n",
    "    def jack_marks(self):\n",
    "        pass"
   ]
  },
  {
   "cell_type": "code",
   "execution_count": 49,
   "id": "db54b207-a172-4819-9486-d9cbfdb52647",
   "metadata": {},
   "outputs": [],
   "source": [
    "class back(jack):\n",
    "    \n",
    "    def jack_details(self):\n",
    "        return \"it will try to return a details of data science masters \"\n",
    "    \n",
    "    def jack_assignment(self):\n",
    "        return \"it will return a details of student assignemnt for data science masters \"\n",
    "    "
   ]
  },
  {
   "cell_type": "code",
   "execution_count": 48,
   "id": "3115a4c2-e9d1-4402-93ef-04ad49751f6a",
   "metadata": {},
   "outputs": [],
   "source": [
    "class cack(jack):\n",
    "     def jack_details(self):\n",
    "            return \"this will retrun a detils of web dev \"\n",
    "    \n",
    "    \n",
    "     def jack_marks(self):\n",
    "             return \"this will return a makrs of web dev class\""
   ]
  },
  {
   "cell_type": "code",
   "execution_count": 51,
   "id": "07353ab3-b666-47f6-9cde-c98a19a60025",
   "metadata": {},
   "outputs": [
    {
     "data": {
      "text/plain": [
       "'it will try to return a details of data science masters '"
      ]
     },
     "execution_count": 51,
     "metadata": {},
     "output_type": "execute_result"
    }
   ],
   "source": [
    "ds=back()\n",
    "ds.jack_details()\n"
   ]
  },
  {
   "cell_type": "code",
   "execution_count": null,
   "id": "287fdbf6-0b37-4727-a694-5934373157d9",
   "metadata": {},
   "outputs": [],
   "source": []
  },
  {
   "cell_type": "code",
   "execution_count": null,
   "id": "9c339de1-3e84-4d48-a02e-3e68ab1ab3f6",
   "metadata": {},
   "outputs": [],
   "source": []
  },
  {
   "cell_type": "code",
   "execution_count": null,
   "id": "48ad5bdc-3e58-4e8f-b1e6-5007ec53e7f0",
   "metadata": {},
   "outputs": [],
   "source": []
  },
  {
   "cell_type": "code",
   "execution_count": null,
   "id": "1c76beee-45da-43b9-b231-a203559f3ec3",
   "metadata": {},
   "outputs": [],
   "source": []
  }
 ],
 "metadata": {
  "kernelspec": {
   "display_name": "Python 3 (ipykernel)",
   "language": "python",
   "name": "python3"
  },
  "language_info": {
   "codemirror_mode": {
    "name": "ipython",
    "version": 3
   },
   "file_extension": ".py",
   "mimetype": "text/x-python",
   "name": "python",
   "nbconvert_exporter": "python",
   "pygments_lexer": "ipython3",
   "version": "3.10.8"
  }
 },
 "nbformat": 4,
 "nbformat_minor": 5
}
