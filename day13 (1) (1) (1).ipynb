{
 "cells": [
  {
   "cell_type": "markdown",
   "id": "bc5d5adf-dd99-41c5-ae0f-8168f681ac3c",
   "metadata": {},
   "source": [
    "# decorators"
   ]
  },
  {
   "cell_type": "code",
   "execution_count": 2,
   "id": "5ddb6d20-4fec-4abb-95f2-1f89abfd13b0",
   "metadata": {},
   "outputs": [],
   "source": [
    "def test():\n",
    "    print('welcome to my home')\n",
    "    print(1000+78)\n",
    "    print('thank you for visiting')"
   ]
  },
  {
   "cell_type": "code",
   "execution_count": 3,
   "id": "a869dd72-b08f-402a-8090-4039a427d949",
   "metadata": {},
   "outputs": [
    {
     "name": "stdout",
     "output_type": "stream",
     "text": [
      "welcome to my home\n",
      "1078\n",
      "thank you for visiting\n"
     ]
    }
   ],
   "source": [
    "test()"
   ]
  },
  {
   "cell_type": "code",
   "execution_count": 12,
   "id": "be13db8d-1c61-4c2a-be06-63b7a641fbed",
   "metadata": {},
   "outputs": [],
   "source": [
    "def deco(function):\n",
    "    def inner_deco():\n",
    "        print('welcome to  my home')\n",
    "        function()\n",
    "        print('thank you for visiting')\n",
    "        \n",
    "    return inner_deco"
   ]
  },
  {
   "cell_type": "code",
   "execution_count": 13,
   "id": "faa8fbf9-3ea2-4d66-bc23-866f55f1e56e",
   "metadata": {},
   "outputs": [],
   "source": [
    "@deco\n",
    "def test1():\n",
    "    print(4*5)"
   ]
  },
  {
   "cell_type": "code",
   "execution_count": 14,
   "id": "e1e11d8b-af26-4238-b2c3-ee1d40628fdb",
   "metadata": {},
   "outputs": [
    {
     "name": "stdout",
     "output_type": "stream",
     "text": [
      "welcome to  my home\n",
      "20\n",
      "thank you for visiting\n"
     ]
    }
   ],
   "source": [
    "test1()"
   ]
  },
  {
   "cell_type": "code",
   "execution_count": null,
   "id": "13f1e891-05d3-499b-9337-19c7b41a37a2",
   "metadata": {},
   "outputs": [],
   "source": [
    "import time\n",
    "def time_test(function):\n",
    "    def time_test_inner():\n",
    "        start=time.time()\n",
    "        function()\n",
    "        end=time.time()\n",
    "        print(end-start)\n",
    "        \n",
    "    return time_test_inner"
   ]
  },
  {
   "cell_type": "code",
   "execution_count": null,
   "id": "b10d507f-ee64-4039-9d7a-c838cad94a79",
   "metadata": {},
   "outputs": [],
   "source": [
    "@time_test\n",
    "def test2():\n",
    "    print(879+4879)"
   ]
  },
  {
   "cell_type": "code",
   "execution_count": null,
   "id": "6c5941e3-9991-4e82-af60-d63ca63128cb",
   "metadata": {},
   "outputs": [],
   "source": [
    "test2()"
   ]
  },
  {
   "cell_type": "code",
   "execution_count": 20,
   "id": "00b7b0ff-da6c-4545-b2a8-d305812b6b72",
   "metadata": {},
   "outputs": [],
   "source": [
    "@time_test\n",
    "def test3():\n",
    "    for i in range(10000000000000000000000000000):\n",
    "        pass"
   ]
  },
  {
   "cell_type": "code",
   "execution_count": null,
   "id": "fca89db9-eecb-4043-8d85-fe19c70887b7",
   "metadata": {},
   "outputs": [],
   "source": [
    "test3()"
   ]
  },
  {
   "cell_type": "code",
   "execution_count": 34,
   "id": "5a18b749-796a-478d-a526-afd7afb2c708",
   "metadata": {},
   "outputs": [],
   "source": [
    "class jack:\n",
    "    def jack_details(self,name,age,dream):\n",
    "        print(name,age,dream)\n",
    "        \n",
    "    @staticmethod\n",
    "    def name_list(list_of_name):\n",
    "        print(list_of_name)\n",
    "    \n",
    "    @staticmethod\n",
    "    def dream_list(list_of_dream):\n",
    "        print(list_of_dream)\n",
    "        jack.name_list(['mariyamma','kaliyamma'])\n",
    "        \n",
    "    @classmethod\n",
    "    def class_name(cls,class_name):\n",
    "        print(class_name)\n",
    "        cls.name_list('kaliyamma')\n",
    "        \n",
    "    def more_details(self,more):\n",
    "        print(more)\n",
    "        self.list_of_name=list_of_name\n",
    "    "
   ]
  },
  {
   "cell_type": "code",
   "execution_count": 27,
   "id": "30ebd2e2-b46c-4f81-aae8-02764773042d",
   "metadata": {},
   "outputs": [],
   "source": [
    "j=jack()"
   ]
  },
  {
   "cell_type": "code",
   "execution_count": 28,
   "id": "78f3ebfc-0418-4c52-b9ec-8719191173bf",
   "metadata": {},
   "outputs": [
    {
     "name": "stdout",
     "output_type": "stream",
     "text": [
      "jack 22 conquer the world\n"
     ]
    }
   ],
   "source": [
    "j.jack_details('jack',22,'conquer the world')"
   ]
  },
  {
   "cell_type": "code",
   "execution_count": 29,
   "id": "9bf40537-22ec-407b-8723-6cd940e0aaec",
   "metadata": {},
   "outputs": [
    {
     "name": "stdout",
     "output_type": "stream",
     "text": [
      "['j', 'k']\n"
     ]
    }
   ],
   "source": [
    "j.name_list(['j','k'])"
   ]
  },
  {
   "cell_type": "code",
   "execution_count": 30,
   "id": "fa6697e1-5d02-47d5-a192-0e4602819edd",
   "metadata": {},
   "outputs": [
    {
     "name": "stdout",
     "output_type": "stream",
     "text": [
      "['jacky', 'backy']\n",
      "['mariyamma', 'kaliyamma']\n"
     ]
    }
   ],
   "source": [
    "j.dream_list(['jacky','backy'])"
   ]
  },
  {
   "cell_type": "code",
   "execution_count": 35,
   "id": "b41c74ec-8caa-49cc-9767-2ab84b325d86",
   "metadata": {},
   "outputs": [
    {
     "name": "stdout",
     "output_type": "stream",
     "text": [
      "hfn\n",
      "kaliyamma\n"
     ]
    }
   ],
   "source": [
    "j=jack.class_name('hfn')"
   ]
  },
  {
   "cell_type": "markdown",
   "id": "0825e6da-3443-45c9-a046-6930ce6016e8",
   "metadata": {},
   "source": [
    "# magic or dunder method"
   ]
  },
  {
   "cell_type": "code",
   "execution_count": 36,
   "id": "8135bbfa-ba75-40a3-9494-82c330902fe2",
   "metadata": {},
   "outputs": [
    {
     "data": {
      "text/plain": [
       "['__abs__',\n",
       " '__add__',\n",
       " '__and__',\n",
       " '__bool__',\n",
       " '__ceil__',\n",
       " '__class__',\n",
       " '__delattr__',\n",
       " '__dir__',\n",
       " '__divmod__',\n",
       " '__doc__',\n",
       " '__eq__',\n",
       " '__float__',\n",
       " '__floor__',\n",
       " '__floordiv__',\n",
       " '__format__',\n",
       " '__ge__',\n",
       " '__getattribute__',\n",
       " '__getnewargs__',\n",
       " '__gt__',\n",
       " '__hash__',\n",
       " '__index__',\n",
       " '__init__',\n",
       " '__init_subclass__',\n",
       " '__int__',\n",
       " '__invert__',\n",
       " '__le__',\n",
       " '__lshift__',\n",
       " '__lt__',\n",
       " '__mod__',\n",
       " '__mul__',\n",
       " '__ne__',\n",
       " '__neg__',\n",
       " '__new__',\n",
       " '__or__',\n",
       " '__pos__',\n",
       " '__pow__',\n",
       " '__radd__',\n",
       " '__rand__',\n",
       " '__rdivmod__',\n",
       " '__reduce__',\n",
       " '__reduce_ex__',\n",
       " '__repr__',\n",
       " '__rfloordiv__',\n",
       " '__rlshift__',\n",
       " '__rmod__',\n",
       " '__rmul__',\n",
       " '__ror__',\n",
       " '__round__',\n",
       " '__rpow__',\n",
       " '__rrshift__',\n",
       " '__rshift__',\n",
       " '__rsub__',\n",
       " '__rtruediv__',\n",
       " '__rxor__',\n",
       " '__setattr__',\n",
       " '__sizeof__',\n",
       " '__str__',\n",
       " '__sub__',\n",
       " '__subclasshook__',\n",
       " '__truediv__',\n",
       " '__trunc__',\n",
       " '__xor__',\n",
       " 'as_integer_ratio',\n",
       " 'bit_count',\n",
       " 'bit_length',\n",
       " 'conjugate',\n",
       " 'denominator',\n",
       " 'from_bytes',\n",
       " 'imag',\n",
       " 'numerator',\n",
       " 'real',\n",
       " 'to_bytes']"
      ]
     },
     "execution_count": 36,
     "metadata": {},
     "output_type": "execute_result"
    }
   ],
   "source": [
    "dir(int)"
   ]
  },
  {
   "cell_type": "code",
   "execution_count": 37,
   "id": "c54823a7-1108-431a-b6b6-b80002ff33f4",
   "metadata": {},
   "outputs": [],
   "source": [
    "a=10"
   ]
  },
  {
   "cell_type": "code",
   "execution_count": 39,
   "id": "6bf0cced-08b8-4db7-b4f8-e2004f3167d4",
   "metadata": {},
   "outputs": [
    {
     "data": {
      "text/plain": [
       "10.0"
      ]
     },
     "execution_count": 39,
     "metadata": {},
     "output_type": "execute_result"
    }
   ],
   "source": [
    "a.__float__()"
   ]
  },
  {
   "cell_type": "code",
   "execution_count": 40,
   "id": "0218c5ab-720c-4c8f-b53a-06f88051f604",
   "metadata": {},
   "outputs": [
    {
     "data": {
      "text/plain": [
       "890"
      ]
     },
     "execution_count": 40,
     "metadata": {},
     "output_type": "execute_result"
    }
   ],
   "source": [
    "a.__mul__(89)"
   ]
  },
  {
   "cell_type": "code",
   "execution_count": 41,
   "id": "f115e066-a386-44b3-a6ca-9f9472a8ff0e",
   "metadata": {},
   "outputs": [
    {
     "data": {
      "text/plain": [
       "['__add__',\n",
       " '__class__',\n",
       " '__contains__',\n",
       " '__delattr__',\n",
       " '__dir__',\n",
       " '__doc__',\n",
       " '__eq__',\n",
       " '__format__',\n",
       " '__ge__',\n",
       " '__getattribute__',\n",
       " '__getitem__',\n",
       " '__getnewargs__',\n",
       " '__gt__',\n",
       " '__hash__',\n",
       " '__init__',\n",
       " '__init_subclass__',\n",
       " '__iter__',\n",
       " '__le__',\n",
       " '__len__',\n",
       " '__lt__',\n",
       " '__mod__',\n",
       " '__mul__',\n",
       " '__ne__',\n",
       " '__new__',\n",
       " '__reduce__',\n",
       " '__reduce_ex__',\n",
       " '__repr__',\n",
       " '__rmod__',\n",
       " '__rmul__',\n",
       " '__setattr__',\n",
       " '__sizeof__',\n",
       " '__str__',\n",
       " '__subclasshook__',\n",
       " 'capitalize',\n",
       " 'casefold',\n",
       " 'center',\n",
       " 'count',\n",
       " 'encode',\n",
       " 'endswith',\n",
       " 'expandtabs',\n",
       " 'find',\n",
       " 'format',\n",
       " 'format_map',\n",
       " 'index',\n",
       " 'isalnum',\n",
       " 'isalpha',\n",
       " 'isascii',\n",
       " 'isdecimal',\n",
       " 'isdigit',\n",
       " 'isidentifier',\n",
       " 'islower',\n",
       " 'isnumeric',\n",
       " 'isprintable',\n",
       " 'isspace',\n",
       " 'istitle',\n",
       " 'isupper',\n",
       " 'join',\n",
       " 'ljust',\n",
       " 'lower',\n",
       " 'lstrip',\n",
       " 'maketrans',\n",
       " 'partition',\n",
       " 'removeprefix',\n",
       " 'removesuffix',\n",
       " 'replace',\n",
       " 'rfind',\n",
       " 'rindex',\n",
       " 'rjust',\n",
       " 'rpartition',\n",
       " 'rsplit',\n",
       " 'rstrip',\n",
       " 'split',\n",
       " 'splitlines',\n",
       " 'startswith',\n",
       " 'strip',\n",
       " 'swapcase',\n",
       " 'title',\n",
       " 'translate',\n",
       " 'upper',\n",
       " 'zfill']"
      ]
     },
     "execution_count": 41,
     "metadata": {},
     "output_type": "execute_result"
    }
   ],
   "source": [
    "dir(str)"
   ]
  },
  {
   "cell_type": "code",
   "execution_count": 48,
   "id": "1df5ccc9-7f20-43a9-8dbe-79d5e25f187e",
   "metadata": {},
   "outputs": [],
   "source": [
    "class pwskills1 :\n",
    "\n",
    "  \n",
    "    def __init__(self):\n",
    "         self.mobile_number = 934223424\n",
    "              \n",
    "        \n",
    "    def __str__(self) : \n",
    "        return \"this is a magic method which will print something for object \" "
   ]
  },
  {
   "cell_type": "code",
   "execution_count": 49,
   "id": "58b4ec51-9b24-4fbb-9110-750449166cd5",
   "metadata": {},
   "outputs": [],
   "source": [
    "pw=pwskills1()"
   ]
  },
  {
   "cell_type": "code",
   "execution_count": 51,
   "id": "2cb5f26a-f1c5-4417-9068-db0ce5885e3c",
   "metadata": {},
   "outputs": [
    {
     "name": "stdout",
     "output_type": "stream",
     "text": [
      "this is a magic method which will print something for object \n"
     ]
    }
   ],
   "source": [
    "print(pw)"
   ]
  },
  {
   "cell_type": "code",
   "execution_count": 1,
   "id": "76e856c5-aeb7-4ca7-9d39-de9f1622a59f",
   "metadata": {},
   "outputs": [
    {
     "data": {
      "text/plain": [
       "['__class__',\n",
       " '__class_getitem__',\n",
       " '__contains__',\n",
       " '__delattr__',\n",
       " '__delitem__',\n",
       " '__dir__',\n",
       " '__doc__',\n",
       " '__eq__',\n",
       " '__format__',\n",
       " '__ge__',\n",
       " '__getattribute__',\n",
       " '__getitem__',\n",
       " '__gt__',\n",
       " '__hash__',\n",
       " '__init__',\n",
       " '__init_subclass__',\n",
       " '__ior__',\n",
       " '__iter__',\n",
       " '__le__',\n",
       " '__len__',\n",
       " '__lt__',\n",
       " '__ne__',\n",
       " '__new__',\n",
       " '__or__',\n",
       " '__reduce__',\n",
       " '__reduce_ex__',\n",
       " '__repr__',\n",
       " '__reversed__',\n",
       " '__ror__',\n",
       " '__setattr__',\n",
       " '__setitem__',\n",
       " '__sizeof__',\n",
       " '__str__',\n",
       " '__subclasshook__',\n",
       " 'clear',\n",
       " 'copy',\n",
       " 'fromkeys',\n",
       " 'get',\n",
       " 'items',\n",
       " 'keys',\n",
       " 'pop',\n",
       " 'popitem',\n",
       " 'setdefault',\n",
       " 'update',\n",
       " 'values']"
      ]
     },
     "execution_count": 1,
     "metadata": {},
     "output_type": "execute_result"
    }
   ],
   "source": [
    "dir(dict)"
   ]
  },
  {
   "cell_type": "code",
   "execution_count": 2,
   "id": "959c9bbd-6499-4081-bbbc-2388291099d0",
   "metadata": {},
   "outputs": [
    {
     "data": {
      "text/plain": [
       "['__add__',\n",
       " '__class__',\n",
       " '__class_getitem__',\n",
       " '__contains__',\n",
       " '__delattr__',\n",
       " '__dir__',\n",
       " '__doc__',\n",
       " '__eq__',\n",
       " '__format__',\n",
       " '__ge__',\n",
       " '__getattribute__',\n",
       " '__getitem__',\n",
       " '__getnewargs__',\n",
       " '__gt__',\n",
       " '__hash__',\n",
       " '__init__',\n",
       " '__init_subclass__',\n",
       " '__iter__',\n",
       " '__le__',\n",
       " '__len__',\n",
       " '__lt__',\n",
       " '__mul__',\n",
       " '__ne__',\n",
       " '__new__',\n",
       " '__reduce__',\n",
       " '__reduce_ex__',\n",
       " '__repr__',\n",
       " '__rmul__',\n",
       " '__setattr__',\n",
       " '__sizeof__',\n",
       " '__str__',\n",
       " '__subclasshook__',\n",
       " 'count',\n",
       " 'index']"
      ]
     },
     "execution_count": 2,
     "metadata": {},
     "output_type": "execute_result"
    }
   ],
   "source": [
    "dir(tuple)"
   ]
  },
  {
   "cell_type": "code",
   "execution_count": 23,
   "id": "b3a7bda7-13df-4daa-95d5-9d73105a9c18",
   "metadata": {},
   "outputs": [],
   "source": [
    "class life:\n",
    "    def __init__(self,life_span,life_goals):\n",
    "        self.life_span=life_span\n",
    "        self.__life_goals=life_goals\n",
    "        \n",
    "    @property\n",
    "    def life_goals_access(self):\n",
    "        return self.__life_goals\n",
    "    \n",
    "    @life_goals_access.setter\n",
    "    def life_goals_set(self,goals):\n",
    "        if goals<1000:\n",
    "            pass\n",
    "        else:\n",
    "            self.life_goals=goals\n",
    "            \n",
    "    @life_goals_access.deleter\n",
    "    def life_goals_del(self):\n",
    "        del self.life_goals\n",
    "    \n",
    "    "
   ]
  },
  {
   "cell_type": "code",
   "execution_count": 26,
   "id": "b2e54ea9-6071-4029-bb59-f515473b11cf",
   "metadata": {},
   "outputs": [],
   "source": [
    "l=life('remember the life at 50 with no regrets',50)"
   ]
  },
  {
   "cell_type": "code",
   "execution_count": 13,
   "id": "07d67fa5-b8da-4626-883b-835aa44b8a48",
   "metadata": {},
   "outputs": [
    {
     "data": {
      "text/plain": [
       "'remember the life at 50 with no regrets'"
      ]
     },
     "execution_count": 13,
     "metadata": {},
     "output_type": "execute_result"
    }
   ],
   "source": [
    "l.life_span"
   ]
  },
  {
   "cell_type": "code",
   "execution_count": 17,
   "id": "e96a224d-88c2-4c7d-a07a-ce78e5470773",
   "metadata": {},
   "outputs": [
    {
     "data": {
      "text/plain": [
       "50"
      ]
     },
     "execution_count": 17,
     "metadata": {},
     "output_type": "execute_result"
    }
   ],
   "source": [
    "l.life_goals_access\n"
   ]
  },
  {
   "cell_type": "code",
   "execution_count": 20,
   "id": "31db67db-a17b-43d4-9f87-c183e4c847e0",
   "metadata": {},
   "outputs": [],
   "source": [
    "l.life_goals_set=10000"
   ]
  },
  {
   "cell_type": "code",
   "execution_count": 21,
   "id": "0232616b-4e67-49b9-b72e-c621d30b952f",
   "metadata": {},
   "outputs": [
    {
     "data": {
      "text/plain": [
       "10000"
      ]
     },
     "execution_count": 21,
     "metadata": {},
     "output_type": "execute_result"
    }
   ],
   "source": [
    "l.life_goals"
   ]
  },
  {
   "cell_type": "code",
   "execution_count": 25,
   "id": "26e9ba2e-832f-4071-aeac-ae7fe69b7e2a",
   "metadata": {},
   "outputs": [
    {
     "ename": "AttributeError",
     "evalue": "life_goals_del",
     "output_type": "error",
     "traceback": [
      "\u001b[0;31m---------------------------------------------------------------------------\u001b[0m",
      "\u001b[0;31mAttributeError\u001b[0m                            Traceback (most recent call last)",
      "Cell \u001b[0;32mIn[25], line 1\u001b[0m\n\u001b[0;32m----> 1\u001b[0m \u001b[38;5;28;01mdel\u001b[39;00m l\u001b[38;5;241m.\u001b[39mlife_goals_del\n",
      "\u001b[0;31mAttributeError\u001b[0m: life_goals_del"
     ]
    }
   ],
   "source": [
    "del l.life_goals_del"
   ]
  },
  {
   "cell_type": "code",
   "execution_count": null,
   "id": "b35029e3-1ced-42e7-b55a-0abd9f1d69e3",
   "metadata": {},
   "outputs": [],
   "source": []
  }
 ],
 "metadata": {
  "kernelspec": {
   "display_name": "Python 3 (ipykernel)",
   "language": "python",
   "name": "python3"
  },
  "language_info": {
   "codemirror_mode": {
    "name": "ipython",
    "version": 3
   },
   "file_extension": ".py",
   "mimetype": "text/x-python",
   "name": "python",
   "nbconvert_exporter": "python",
   "pygments_lexer": "ipython3",
   "version": "3.10.8"
  }
 },
 "nbformat": 4,
 "nbformat_minor": 5
}
