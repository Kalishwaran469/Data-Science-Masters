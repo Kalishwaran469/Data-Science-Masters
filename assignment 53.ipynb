{
 "cells": [
  {
   "cell_type": "code",
   "execution_count": null,
   "id": "719280b4-bf56-4bf2-b18e-b5f7262ab038",
   "metadata": {},
   "outputs": [],
   "source": [
    "# question 1"
   ]
  },
  {
   "cell_type": "code",
   "execution_count": null,
   "id": "ad554a53-d0be-42d5-82ad-1e954a6cd788",
   "metadata": {},
   "outputs": [],
   "source": [
    "#  Elastic net regression is a linear regression technique that uses a penalty term to shrink the coefficients of the predictors. The penalty term is a combination of the l1-norm (absolute value) and the l2-norm (square) of the coefficients, weighted by a parameter called alpha."
   ]
  },
  {
   "cell_type": "code",
   "execution_count": null,
   "id": "31652b52-0f39-49ef-b684-ca7cc921edf4",
   "metadata": {},
   "outputs": [],
   "source": [
    "# question 3"
   ]
  },
  {
   "cell_type": "code",
   "execution_count": null,
   "id": "b7a08479-57d0-4c8d-bf2d-22d324eb2200",
   "metadata": {},
   "outputs": [],
   "source": [
    "# For instance, it can handle multicollinearity better than lasso regression by grouping correlated features and selecting the most representative ones. Additionally, it can reduce model complexity by eliminating irrelevant features, which is more effective than ridge regression.It may not perform optimally when there is no correlation between features or when the number of features is much smaller than the number of observations, as it may lose predictive power or introduce bias."
   ]
  },
  {
   "cell_type": "code",
   "execution_count": null,
   "id": "0822e2cb-e6d5-4350-9a92-a69539905c5d",
   "metadata": {},
   "outputs": [],
   "source": [
    "# question 4"
   ]
  },
  {
   "cell_type": "code",
   "execution_count": null,
   "id": "e242ddb4-96c8-4312-9f7b-1cd28f524bae",
   "metadata": {},
   "outputs": [],
   "source": [
    "# Elastic net linear regression uses the penalties from both the lasso and ridge techniques to regularize regression models. The technique combines both the lasso and ridge regression methods by learning from their shortcomings to improve the regularization of statistical models."
   ]
  },
  {
   "cell_type": "code",
   "execution_count": null,
   "id": "427938d7-b04b-46b7-bd7d-baccf4df64af",
   "metadata": {},
   "outputs": [],
   "source": [
    "# question 5"
   ]
  },
  {
   "cell_type": "code",
   "execution_count": null,
   "id": "983f1ba0-8638-4b2c-a77b-6e506edde647",
   "metadata": {},
   "outputs": [],
   "source": [
    "# The coefficients of elastic net regression represent the linear relationship between the features and the target variable, adjusted by the regularization terms. The larger the absolute value of a coefficient, the stronger the effect of the corresponding feature on the target variable."
   ]
  },
  {
   "cell_type": "code",
   "execution_count": null,
   "id": "aba5297a-1c3b-40bb-8e71-94231df95ea0",
   "metadata": {},
   "outputs": [],
   "source": [
    "# question 6"
   ]
  },
  {
   "cell_type": "code",
   "execution_count": null,
   "id": "4de273e3-844c-4039-9f12-24357dd21650",
   "metadata": {},
   "outputs": [],
   "source": [
    "# Simple approaches include taking the average of the column and use that value, or if there is a heavy skew the median might be better. A better approach, you can perform regression or nearest neighbor imputation on the column to predict the missing values. Then continue on with your analysis/model."
   ]
  },
  {
   "cell_type": "code",
   "execution_count": null,
   "id": "6affc127-2105-4f9e-a496-0eac86cc03d5",
   "metadata": {},
   "outputs": [],
   "source": [
    "# question 7"
   ]
  },
  {
   "cell_type": "code",
   "execution_count": null,
   "id": "7daed59b-adaa-4327-9ceb-3649f5ee3b2b",
   "metadata": {},
   "outputs": [],
   "source": [
    "# ELASTIC NET perform feature selection and that's their whole purpose, so yes you can use them for this. You don't need to select top n features, since you can play with the arguments α and λ to get an arbitrary number of non-negative coefficients."
   ]
  },
  {
   "cell_type": "code",
   "execution_count": null,
   "id": "ef4bbb0e-38cd-4a66-9d1c-02a455439af9",
   "metadata": {},
   "outputs": [],
   "source": [
    "# question 8"
   ]
  },
  {
   "cell_type": "code",
   "execution_count": null,
   "id": "09ca1bde-8da5-4ecd-ab63-38321f4b71a8",
   "metadata": {},
   "outputs": [],
   "source": [
    "# pickle- To save the ML model using Pickle all we need to do is pass the model object into the dump() function of Pickle. This will serialize the object and convert it into a “byte stream” that we can save as a file called model. pkl .\n",
    "# unpickle-You have to first open the pickled file using rb (read-binary) permission and pass the opened file to the load() method, as shown below. The load() method unpickles the data and returns the actual object. The unpickled object is printed on the console."
   ]
  },
  {
   "cell_type": "code",
   "execution_count": null,
   "id": "2af03977-91e2-495f-964e-dbcf0f8a7b0b",
   "metadata": {},
   "outputs": [],
   "source": [
    "# question 9"
   ]
  },
  {
   "cell_type": "code",
   "execution_count": null,
   "id": "28f5b008-d718-4760-945a-883d1f360391",
   "metadata": {},
   "outputs": [],
   "source": [
    "# "
   ]
  },
  {
   "cell_type": "code",
   "execution_count": null,
   "id": "f2e90a17-2810-4fb5-a1d5-7f47d4afa437",
   "metadata": {},
   "outputs": [],
   "source": []
  },
  {
   "cell_type": "code",
   "execution_count": null,
   "id": "9d9d9fd5-5765-41f6-a03a-782ca9c821ec",
   "metadata": {},
   "outputs": [],
   "source": []
  }
 ],
 "metadata": {
  "kernelspec": {
   "display_name": "Python 3 (ipykernel)",
   "language": "python",
   "name": "python3"
  },
  "language_info": {
   "codemirror_mode": {
    "name": "ipython",
    "version": 3
   },
   "file_extension": ".py",
   "mimetype": "text/x-python",
   "name": "python",
   "nbconvert_exporter": "python",
   "pygments_lexer": "ipython3",
   "version": "3.10.8"
  }
 },
 "nbformat": 4,
 "nbformat_minor": 5
}
