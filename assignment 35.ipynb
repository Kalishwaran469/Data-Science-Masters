{
 "cells": [
  {
   "cell_type": "code",
   "execution_count": null,
   "id": "b1ef0d78-da41-4995-8dbb-5cb74a0006a9",
   "metadata": {},
   "outputs": [],
   "source": [
    "# question 1"
   ]
  },
  {
   "cell_type": "code",
   "execution_count": null,
   "id": "a8429cf0-075c-4542-8e23-2ae58cfc7afd",
   "metadata": {},
   "outputs": [],
   "source": [
    "# A z-test is used to test a Null Hypothesis if the population variance is known, or if the sample size is larger than 30, for an unknown population variance. A t-test is used when the sample size is less than 30 and the population variance is unknown.\n",
    "# z test example: A teacher claims that the mean score of students in his class is greater than 82 with a standard deviation of 20. If a sample of 81 students was selected with a mean score of 90 then check if there is enough evidence to support this claim at a 0.05 significance level.\n"
   ]
  },
  {
   "cell_type": "code",
   "execution_count": null,
   "id": "bbf162dd-966e-46d0-b5f5-ca9554f39606",
   "metadata": {},
   "outputs": [],
   "source": [
    "# question 2"
   ]
  },
  {
   "cell_type": "code",
   "execution_count": null,
   "id": "03c19cc7-9011-4fd3-874d-448562409388",
   "metadata": {},
   "outputs": [],
   "source": [
    "# The main difference between one-tailed and two-tailed tests is that one-tailed tests will only have one critical region whereas two-tailed tests will have two critical regions. If we require a 100(1−α) 100 ( 1 − α ) % confidence interval we have to make some adjustments when using a two-tailed test."
   ]
  },
  {
   "cell_type": "code",
   "execution_count": null,
   "id": "14cdf193-6214-4111-b7df-b8a0cdf8be92",
   "metadata": {},
   "outputs": [],
   "source": [
    "# question 3"
   ]
  },
  {
   "cell_type": "code",
   "execution_count": null,
   "id": "7cc3adaf-4b83-45a3-a979-873a4e7e4fb9",
   "metadata": {},
   "outputs": [],
   "source": [
    "# A type I error (false-positive) occurs if an investigator rejects a null hypothesis that is actually true in the population; a type II error (false-negative) occurs if the investigator fails to reject a null hypothesis that is actually false in the population.\n",
    "# Type I error (false positive): the test result says you have coronavirus, but you actually don't. Type II error (false negative): the test result says you don't have coronavirus, but you actually do."
   ]
  },
  {
   "cell_type": "code",
   "execution_count": null,
   "id": "3aafbbba-d3e8-494d-8fe8-df112bef349f",
   "metadata": {},
   "outputs": [],
   "source": [
    "# question 4"
   ]
  },
  {
   "cell_type": "code",
   "execution_count": null,
   "id": "4d2a4586-5c5d-4701-81d5-096d59c8dc76",
   "metadata": {},
   "outputs": [],
   "source": [
    "# Bayes' Theorem states that the conditional probability of an event, based on the occurrence of another event, is equal to the likelihood of the second event given the first event multiplied by the probability of the first event.\n",
    "# Therefore, you are supposed to calculate the probability of rainfall, given the evidence of cloudiness. That is, P(Rain | Clouds), where finding whether it would rain today is the Hypothesis (H) and Cloudiness is the Evidence (E). This is the posterior probability part of our equation."
   ]
  },
  {
   "cell_type": "code",
   "execution_count": null,
   "id": "ad6fc716-bc3b-49a3-b5b6-87a5fe451db7",
   "metadata": {},
   "outputs": [],
   "source": [
    "# question 5"
   ]
  },
  {
   "cell_type": "code",
   "execution_count": null,
   "id": "752b9d89-a0da-495f-aa4d-46243e1d3f20",
   "metadata": {},
   "outputs": [],
   "source": [
    "# A confidence interval is the mean of your estimate plus and minus the variation in that estimate. This is the range of values you expect your estimate to fall between if you redo your test, within a certain level of confidence.\n",
    "# if a study is 95% reliable, with a confidence interval of 47-53, that means if researchers did the same study over and over and over again with samples of the whole population, they would get results between 47 and 53 exactly 95% of the time."
   ]
  },
  {
   "cell_type": "code",
   "execution_count": null,
   "id": "b7deeb52-7940-4f4f-b2df-7c16a154ea1a",
   "metadata": {},
   "outputs": [],
   "source": [
    "# question 8"
   ]
  },
  {
   "cell_type": "code",
   "execution_count": null,
   "id": "4ba80fc7-60ac-42e9-91b4-2cead5d4ef02",
   "metadata": {},
   "outputs": [],
   "source": [
    "# The margin of error (or marginal error) is a statistic expressing the amount of random sampling error in the results of a survey. The larger the margin of error, the less confidence one should have that a poll result would precisely reflect the result of a census of the entire population."
   ]
  },
  {
   "cell_type": "code",
   "execution_count": null,
   "id": "dd042c31-c9cf-4a18-84ed-b6dd2b6e7d7a",
   "metadata": {},
   "outputs": [],
   "source": [
    "# question 9"
   ]
  },
  {
   "cell_type": "code",
   "execution_count": null,
   "id": "23723702-29e5-43ed-9be6-0fa7271f976c",
   "metadata": {},
   "outputs": [],
   "source": [
    "# z score - 1"
   ]
  },
  {
   "cell_type": "code",
   "execution_count": null,
   "id": "f9731816-0101-47d7-a5f9-4de54108ae4b",
   "metadata": {},
   "outputs": [],
   "source": [
    "# question 10"
   ]
  },
  {
   "cell_type": "code",
   "execution_count": null,
   "id": "919fc8fd-423f-4e8d-84a0-59eeee01a9da",
   "metadata": {},
   "outputs": [],
   "source": [
    "# the drug is significantly effective at 5.3 - 6.6‬ interval"
   ]
  },
  {
   "cell_type": "code",
   "execution_count": null,
   "id": "b1da2ef0-91b1-499b-82f3-9b7c1f6304cb",
   "metadata": {},
   "outputs": [],
   "source": [
    "# question 11"
   ]
  },
  {
   "cell_type": "code",
   "execution_count": null,
   "id": "6be2dcdc-c9f3-4b04-914a-5aae8c453d7a",
   "metadata": {},
   "outputs": [],
   "source": []
  },
  {
   "cell_type": "code",
   "execution_count": null,
   "id": "64841179-ac15-467a-90fb-ac37ea508557",
   "metadata": {},
   "outputs": [],
   "source": []
  }
 ],
 "metadata": {
  "kernelspec": {
   "display_name": "Python 3 (ipykernel)",
   "language": "python",
   "name": "python3"
  },
  "language_info": {
   "codemirror_mode": {
    "name": "ipython",
    "version": 3
   },
   "file_extension": ".py",
   "mimetype": "text/x-python",
   "name": "python",
   "nbconvert_exporter": "python",
   "pygments_lexer": "ipython3",
   "version": "3.10.8"
  }
 },
 "nbformat": 4,
 "nbformat_minor": 5
}
