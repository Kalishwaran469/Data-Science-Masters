{
 "cells": [
  {
   "cell_type": "code",
   "execution_count": 7,
   "id": "b8a492a0-4a1b-421d-a595-cdee5ec05e9e",
   "metadata": {},
   "outputs": [],
   "source": [
    "value='jackkallis'"
   ]
  },
  {
   "cell_type": "code",
   "execution_count": 9,
   "id": "8523db67-dfff-43d1-bfdc-ce7d772dc52d",
   "metadata": {},
   "outputs": [
    {
     "name": "stdout",
     "output_type": "stream",
     "text": [
      "no\n"
     ]
    }
   ],
   "source": [
    "if value[0]=='k':\n",
    "    print('yes')\n",
    "else:\n",
    "    print('no')"
   ]
  },
  {
   "cell_type": "code",
   "execution_count": 10,
   "id": "8b44cbc8-2dfa-4a7f-9d4e-5f884b6c9f4e",
   "metadata": {},
   "outputs": [
    {
     "data": {
      "text/plain": [
       "False"
      ]
     },
     "execution_count": 10,
     "metadata": {},
     "output_type": "execute_result"
    }
   ],
   "source": [
    "value.isnumeric()"
   ]
  },
  {
   "cell_type": "code",
   "execution_count": 12,
   "id": "55dd2124-af36-4ce0-adb4-9800e81a4597",
   "metadata": {},
   "outputs": [],
   "source": [
    "t=[(\"mango\",99),(\"orange\",80), (\"grapes\", 1000)]"
   ]
  },
  {
   "cell_type": "code",
   "execution_count": 15,
   "id": "8b14be84-d0de-4e69-9ddc-92ddf8dc45b7",
   "metadata": {},
   "outputs": [],
   "source": [
    "t.sort()"
   ]
  },
  {
   "cell_type": "code",
   "execution_count": 16,
   "id": "1109f81e-b844-4feb-b595-828dd1310b3a",
   "metadata": {},
   "outputs": [
    {
     "data": {
      "text/plain": [
       "[('grapes', 1000), ('mango', 99), ('orange', 80)]"
      ]
     },
     "execution_count": 16,
     "metadata": {},
     "output_type": "execute_result"
    }
   ],
   "source": [
    "t"
   ]
  },
  {
   "cell_type": "code",
   "execution_count": 17,
   "id": "88080dc6-fd54-4e47-b649-ac573d0769b4",
   "metadata": {},
   "outputs": [
    {
     "name": "stdout",
     "output_type": "stream",
     "text": [
      "1\n",
      "4\n",
      "9\n",
      "16\n",
      "25\n",
      "36\n",
      "49\n",
      "64\n",
      "81\n",
      "100\n"
     ]
    }
   ],
   "source": [
    "for i in range(1,11):\n",
    "    print(i**2)"
   ]
  },
  {
   "cell_type": "code",
   "execution_count": 18,
   "id": "7892e42d-6622-4310-a570-7791c060ab90",
   "metadata": {},
   "outputs": [
    {
     "name": "stdout",
     "output_type": "stream",
     "text": [
      "1\n",
      "8\n",
      "27\n",
      "64\n",
      "125\n",
      "216\n",
      "343\n",
      "512\n",
      "729\n",
      "1000\n"
     ]
    }
   ],
   "source": [
    "for i in range(1,11):\n",
    "    print(i**3)"
   ]
  },
  {
   "cell_type": "code",
   "execution_count": 19,
   "id": "bc1617f9-97a9-4d85-8835-87c628ad122c",
   "metadata": {},
   "outputs": [],
   "source": [
    "a=7"
   ]
  },
  {
   "cell_type": "code",
   "execution_count": 21,
   "id": "9a03227d-4ae2-476a-b909-e34b093e4769",
   "metadata": {},
   "outputs": [
    {
     "name": "stdout",
     "output_type": "stream",
     "text": [
      "not an even number\n"
     ]
    }
   ],
   "source": [
    "if a%2==0:\n",
    "    print('even number')\n",
    "else:\n",
    "        print('not an even number')"
   ]
  },
  {
   "cell_type": "code",
   "execution_count": 22,
   "id": "4d080e64-76a7-4dc6-956f-d7b092351076",
   "metadata": {},
   "outputs": [],
   "source": [
    "## Filter odd numbers from the given list.\n",
    "l=[1,2,3,4,5,6,7,8,9,10]"
   ]
  },
  {
   "cell_type": "code",
   "execution_count": 25,
   "id": "3fe31ea0-cd94-4ecc-b340-dd1a9af28563",
   "metadata": {},
   "outputs": [
    {
     "data": {
      "text/plain": [
       "[1, 3, 5, 7, 9]"
      ]
     },
     "execution_count": 25,
     "metadata": {},
     "output_type": "execute_result"
    }
   ],
   "source": [
    "list(filter(lambda x : x%2!=0,l))"
   ]
  },
  {
   "cell_type": "code",
   "execution_count": 26,
   "id": "1bb4cbed-1768-4182-a934-3549eee340ff",
   "metadata": {},
   "outputs": [],
   "source": [
    "## Sort a list of integers into positive and negative integers lists.\n",
    "l1=[1,2,3,4,5,6,-1,-2,-3,-4,-5,0]"
   ]
  },
  {
   "cell_type": "code",
   "execution_count": 27,
   "id": "293607dd-96b0-4138-ae03-430244137901",
   "metadata": {},
   "outputs": [
    {
     "data": {
      "text/plain": [
       "[-5, -4, -3, -2, -1, 0, 1, 2, 3, 4, 5, 6]"
      ]
     },
     "execution_count": 27,
     "metadata": {},
     "output_type": "execute_result"
    }
   ],
   "source": [
    "sorted(l1)"
   ]
  },
  {
   "cell_type": "code",
   "execution_count": null,
   "id": "e3dd53b3-f49e-4b00-93fc-6967accf84b6",
   "metadata": {},
   "outputs": [],
   "source": []
  }
 ],
 "metadata": {
  "kernelspec": {
   "display_name": "Python 3 (ipykernel)",
   "language": "python",
   "name": "python3"
  },
  "language_info": {
   "codemirror_mode": {
    "name": "ipython",
    "version": 3
   },
   "file_extension": ".py",
   "mimetype": "text/x-python",
   "name": "python",
   "nbconvert_exporter": "python",
   "pygments_lexer": "ipython3",
   "version": "3.10.8"
  }
 },
 "nbformat": 4,
 "nbformat_minor": 5
}
