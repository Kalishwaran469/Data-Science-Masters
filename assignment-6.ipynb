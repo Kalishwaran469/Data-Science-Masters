{
 "cells": [
  {
   "cell_type": "code",
   "execution_count": null,
   "id": "3bc5b1fb-0e95-4c35-9bc4-35552a4977fe",
   "metadata": {},
   "outputs": [],
   "source": [
    "Q1. Explain Class and Object with respect to Object-Oriented Programming."
   ]
  },
  {
   "cell_type": "code",
   "execution_count": null,
   "id": "f0cba0da-e6cf-4d8d-8e9a-ed04f9f90a56",
   "metadata": {},
   "outputs": [],
   "source": [
    "# question1\n",
    "\n",
    "#  A Class in object oriented programming is a blueprint or prototype that defines the variables\n",
    "#  An object in OOPS is a specimen of a class."
   ]
  },
  {
   "cell_type": "code",
   "execution_count": 13,
   "id": "8fa4f8a7-941b-4066-81e1-fe7b69d9edac",
   "metadata": {},
   "outputs": [],
   "source": [
    "class cricket:\n",
    "    def welcome_board(jack):\n",
    "        print('we are the champions')\n",
    "        "
   ]
  },
  {
   "cell_type": "code",
   "execution_count": 14,
   "id": "d74ad05e-401d-45b7-ba64-5e961bbda124",
   "metadata": {},
   "outputs": [],
   "source": [
    "dhoni=cricket()"
   ]
  },
  {
   "cell_type": "code",
   "execution_count": 15,
   "id": "e68871b7-82b0-44fc-9cc7-406026b832eb",
   "metadata": {},
   "outputs": [
    {
     "name": "stdout",
     "output_type": "stream",
     "text": [
      "we are the champions\n"
     ]
    }
   ],
   "source": [
    "dhoni.welcome_board()"
   ]
  },
  {
   "cell_type": "code",
   "execution_count": null,
   "id": "33f76149-b978-4c09-b8e4-bb3dc4a43cdf",
   "metadata": {},
   "outputs": [],
   "source": [
    "Q2. Name the four pillars of OOPs. \n"
   ]
  },
  {
   "cell_type": "code",
   "execution_count": null,
   "id": "738319b1-902a-4673-bcc5-8643cb55fddb",
   "metadata": {},
   "outputs": [],
   "source": [
    "# question2\n",
    "\n",
    "# Inheritance, Polymorphism, Encapsulation and Abstraction."
   ]
  },
  {
   "cell_type": "code",
   "execution_count": null,
   "id": "c641d92d-952b-497a-9043-de0a21acd2df",
   "metadata": {},
   "outputs": [],
   "source": [
    "Q3. Explain why the __init__() function is used. Give a suitable example. \n"
   ]
  },
  {
   "cell_type": "code",
   "execution_count": null,
   "id": "351f4920-d2ab-4d7a-985f-df1e0ea7175e",
   "metadata": {},
   "outputs": [],
   "source": [
    "#question3\n",
    "# __in__it is a constructor used to construct the data to a variable"
   ]
  },
  {
   "cell_type": "code",
   "execution_count": 16,
   "id": "f4bb46a0-ad1e-45fd-b2f7-5f94a4288494",
   "metadata": {},
   "outputs": [],
   "source": [
    "class cricket:\n",
    "    def __init__(jack,name,team,role):\n",
    "        jack.name=name\n",
    "        jack.team=team\n",
    "        jack.role=role\n",
    "        \n",
    "    def return_player_details(jack):\n",
    "        return jack.name,jack.team,jack.role\n",
    "            "
   ]
  },
  {
   "cell_type": "code",
   "execution_count": 18,
   "id": "bf148780-2cc8-4346-80aa-221f62009942",
   "metadata": {},
   "outputs": [],
   "source": [
    "player=cricket('dhoni','csk','captain')"
   ]
  },
  {
   "cell_type": "code",
   "execution_count": 19,
   "id": "c8f68136-de30-40dc-bdf4-1d94613c67cc",
   "metadata": {},
   "outputs": [
    {
     "data": {
      "text/plain": [
       "'dhoni'"
      ]
     },
     "execution_count": 19,
     "metadata": {},
     "output_type": "execute_result"
    }
   ],
   "source": [
    "player.name"
   ]
  },
  {
   "cell_type": "code",
   "execution_count": null,
   "id": "31a7277b-a61c-4a38-a506-93f3a7957c38",
   "metadata": {},
   "outputs": [],
   "source": [
    "Q4. Why self is used in OOPs? \n"
   ]
  },
  {
   "cell_type": "code",
   "execution_count": null,
   "id": "07deeb8d-9425-4c1d-866f-6497609de6a3",
   "metadata": {},
   "outputs": [],
   "source": [
    "# question4\n",
    "\n",
    "# The self variable is used to represent the instance of the class which is often used in object-oriented programming.\n",
    "# It works as a reference to the object"
   ]
  },
  {
   "cell_type": "code",
   "execution_count": null,
   "id": "45d5d9d9-f989-49a1-818f-7c69f105e198",
   "metadata": {},
   "outputs": [],
   "source": [
    "Q5. What is inheritance? Give an example for each type of inheritance. \n"
   ]
  },
  {
   "cell_type": "code",
   "execution_count": null,
   "id": "3d744874-8b71-4d5f-8027-40faefb16af2",
   "metadata": {},
   "outputs": [],
   "source": [
    "# It is a mechanism that allows you to create a hierarchy of classes that share a set of properties and methods by deriving a \n",
    "# class from another class."
   ]
  }
 ],
 "metadata": {
  "kernelspec": {
   "display_name": "Python 3 (ipykernel)",
   "language": "python",
   "name": "python3"
  },
  "language_info": {
   "codemirror_mode": {
    "name": "ipython",
    "version": 3
   },
   "file_extension": ".py",
   "mimetype": "text/x-python",
   "name": "python",
   "nbconvert_exporter": "python",
   "pygments_lexer": "ipython3",
   "version": "3.10.8"
  }
 },
 "nbformat": 4,
 "nbformat_minor": 5
}
