{
 "cells": [
  {
   "cell_type": "code",
   "execution_count": null,
   "id": "36b91605-4ef4-4bf4-a300-c74ad6ff5639",
   "metadata": {},
   "outputs": [],
   "source": [
    "# question 1"
   ]
  },
  {
   "cell_type": "code",
   "execution_count": null,
   "id": "38e66cca-0c60-46d6-a4f9-e1c4bae23833",
   "metadata": {},
   "outputs": [],
   "source": [
    "# Time series analysis is used for non-stationary data—things that are constantly fluctuating over time or are affected by time. Industries like finance, retail, and economics frequently use time series analysis because currency and sales are always changing."
   ]
  },
  {
   "cell_type": "code",
   "execution_count": null,
   "id": "82eefbe4-f408-4187-b479-72d8ed0ab7f9",
   "metadata": {},
   "outputs": [],
   "source": [
    "# question 2"
   ]
  },
  {
   "cell_type": "code",
   "execution_count": null,
   "id": "24af9be8-a2f5-4943-b88c-4762a80cf84d",
   "metadata": {},
   "outputs": [],
   "source": [
    "# There are three types of time series patterns: trend, seasonal, and cyclic. A trend pattern exists when there is a long-term increase or decrease in the series. The trend can be linear, exponential, or different one and can change direction during time."
   ]
  },
  {
   "cell_type": "code",
   "execution_count": null,
   "id": "299f2622-0f93-4d6f-888f-04b448de7138",
   "metadata": {},
   "outputs": [],
   "source": [
    "# question 3"
   ]
  },
  {
   "cell_type": "code",
   "execution_count": null,
   "id": "83c83fcc-22ab-4480-9a6a-5588a476f2bc",
   "metadata": {},
   "outputs": [],
   "source": [
    "# Preprocessing steps for time series data. Structuring time-series data, finding the missing values, denoising the features, and finding the outliers present in the dataset."
   ]
  },
  {
   "cell_type": "code",
   "execution_count": null,
   "id": "ea78fa61-d045-41d0-98d4-00fbc5267910",
   "metadata": {},
   "outputs": [],
   "source": [
    "# question 4"
   ]
  },
  {
   "cell_type": "code",
   "execution_count": null,
   "id": "f5e4106b-57e9-4413-ae41-a70045983fa2",
   "metadata": {},
   "outputs": [],
   "source": [
    "# The time series forecasting method involves analysis of time series data and building statistical models that navigate strategic decision-making. This drives businesses to make informed decisions in crucial circumstances. Forecasting and prediction might seem the same but they are slightly different."
   ]
  },
  {
   "cell_type": "code",
   "execution_count": null,
   "id": "d51f15a0-3b7b-42d1-979f-8b75ca302877",
   "metadata": {},
   "outputs": [],
   "source": [
    "# question 5"
   ]
  },
  {
   "cell_type": "code",
   "execution_count": null,
   "id": "e3697cb2-e4dd-4121-bdaa-2afd07bab777",
   "metadata": {},
   "outputs": [],
   "source": [
    "# Auto Regressive Integrated Moving Average (ARIMA) model is among one of the more popular and widely used statistical methods for time-series forecasting. It is a class of statistical algorithms that captures the standard temporal dependencies that is unique to a time series data."
   ]
  },
  {
   "cell_type": "code",
   "execution_count": null,
   "id": "956d498e-2694-4bd6-83b9-e655e7e7f0a1",
   "metadata": {},
   "outputs": [],
   "source": [
    "# question 6"
   ]
  },
  {
   "cell_type": "code",
   "execution_count": null,
   "id": "e5651fa1-5217-44fd-9ee8-62b79596dd0b",
   "metadata": {},
   "outputs": [],
   "source": [
    "# The ACF and PACF plots should be considered together to define the process. For the AR process, we expect that the ACF plot will gradually decrease and simultaneously the PACF should have a sharp drop after p significant lags."
   ]
  },
  {
   "cell_type": "code",
   "execution_count": null,
   "id": "3d92954e-7624-4b24-856f-14638a80942b",
   "metadata": {},
   "outputs": [],
   "source": [
    "# question 7"
   ]
  },
  {
   "cell_type": "code",
   "execution_count": null,
   "id": "c9a86937-f7b7-4452-bdc4-f9acebdf290b",
   "metadata": {},
   "outputs": [],
   "source": [
    "# The autoregressive-moving average (ARMA) class of models relies on the assumption that the underlying process is weakly stationary, which restricts the mean and variance to be constant and requires the autocovariances to depend only on the time lag."
   ]
  },
  {
   "cell_type": "code",
   "execution_count": null,
   "id": "4b389eab-08e7-41de-9db3-6a5c8174e2f0",
   "metadata": {},
   "outputs": [],
   "source": [
    "# question 8"
   ]
  },
  {
   "cell_type": "code",
   "execution_count": null,
   "id": "510e5cb0-d298-4805-b5b4-72f5c41f5aec",
   "metadata": {},
   "outputs": [],
   "source": [
    "# Historical forecasting uses historical data to make predictions about future sales. It is widely used in retail businesses, as well as within other industries such as banking and insurance."
   ]
  },
  {
   "cell_type": "code",
   "execution_count": null,
   "id": "a3cbbfbe-ac51-47be-a7f0-c4bc59e0f92d",
   "metadata": {},
   "outputs": [],
   "source": [
    "# question 9"
   ]
  },
  {
   "cell_type": "code",
   "execution_count": null,
   "id": "bfbbe49a-7413-4316-90df-c949083bb8a5",
   "metadata": {},
   "outputs": [],
   "source": [
    "# Time series data analysis does not support the missing values. The analysis may lead to inaccurate results in the long term. Data points must have a linear relationship for the technique to work. Since data transformations are compulsory, using this technique can be expensive."
   ]
  },
  {
   "cell_type": "code",
   "execution_count": null,
   "id": "8097e08c-ee76-4d2e-aa1e-bb3672b51380",
   "metadata": {},
   "outputs": [],
   "source": [
    "# question 10"
   ]
  },
  {
   "cell_type": "code",
   "execution_count": null,
   "id": "70c61bb0-4ef8-4d69-b11c-a3bbb0f3849c",
   "metadata": {},
   "outputs": [],
   "source": [
    "# A stationary time series always reverts to the long-term mean. A non-stationary time series does not revert to the long term mean. A stationary time series will not have trends, seasonality, etc. Presence of trends, seasonality makes a series non-stationary."
   ]
  }
 ],
 "metadata": {
  "kernelspec": {
   "display_name": "Python 3 (ipykernel)",
   "language": "python",
   "name": "python3"
  },
  "language_info": {
   "codemirror_mode": {
    "name": "ipython",
    "version": 3
   },
   "file_extension": ".py",
   "mimetype": "text/x-python",
   "name": "python",
   "nbconvert_exporter": "python",
   "pygments_lexer": "ipython3",
   "version": "3.10.8"
  }
 },
 "nbformat": 4,
 "nbformat_minor": 5
}
