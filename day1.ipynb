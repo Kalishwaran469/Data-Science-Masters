{
 "cells": [
  {
   "cell_type": "code",
   "execution_count": 1,
   "id": "0dc1ca80-f8bf-4a52-b843-9a684eb367a6",
   "metadata": {},
   "outputs": [],
   "source": [
    "a=10"
   ]
  },
  {
   "cell_type": "code",
   "execution_count": 2,
   "id": "24c81267-1ede-4bf1-9fb6-54904add6d92",
   "metadata": {},
   "outputs": [
    {
     "data": {
      "text/plain": [
       "10"
      ]
     },
     "execution_count": 2,
     "metadata": {},
     "output_type": "execute_result"
    }
   ],
   "source": [
    "a"
   ]
  },
  {
   "cell_type": "code",
   "execution_count": 3,
   "id": "d21d74c1-6053-46f4-ac87-b254b94a2d24",
   "metadata": {},
   "outputs": [
    {
     "data": {
      "text/plain": [
       "20"
      ]
     },
     "execution_count": 3,
     "metadata": {},
     "output_type": "execute_result"
    }
   ],
   "source": [
    "## comments\n",
    "## for single we use\n",
    "## this is a function\n",
    "# this is a comment\n",
    "a=20\n",
    "a\n"
   ]
  },
  {
   "cell_type": "code",
   "execution_count": 86,
   "id": "8cbcf09a-f5d7-47dc-902d-901b5d2f6029",
   "metadata": {},
   "outputs": [],
   "source": [
    "\"\"\"\n",
    "example of multiline comments\n",
    "hello this is a example of python\n",
    "ashbhidfkbh\n",
    "dajbhbh\n",
    "fiibiby\n",
    "\"\"\"\n",
    "a=20\n"
   ]
  },
  {
   "cell_type": "code",
   "execution_count": 87,
   "id": "73928114-a21c-4276-984d-b2b18e8addb3",
   "metadata": {},
   "outputs": [
    {
     "data": {
      "text/plain": [
       "20"
      ]
     },
     "execution_count": 87,
     "metadata": {},
     "output_type": "execute_result"
    }
   ],
   "source": [
    "a"
   ]
  },
  {
   "cell_type": "markdown",
   "id": "1c0b4a27-55cf-40ab-8fa6-1c45ccb15fbe",
   "metadata": {},
   "source": [
    "# hello\n",
    "## hello1\n",
    "### hello2\n",
    " 1 hello guys how are you"
   ]
  },
  {
   "cell_type": "markdown",
   "id": "ba5d348d-47e3-4f14-8e5b-ba889a344e3d",
   "metadata": {},
   "source": [
    "# Numbers"
   ]
  },
  {
   "cell_type": "code",
   "execution_count": 5,
   "id": "73500c6d-c61e-4266-b68b-ac7a4c1517d8",
   "metadata": {},
   "outputs": [
    {
     "data": {
      "text/plain": [
       "4"
      ]
     },
     "execution_count": 5,
     "metadata": {},
     "output_type": "execute_result"
    }
   ],
   "source": [
    "1+3"
   ]
  },
  {
   "cell_type": "code",
   "execution_count": 6,
   "id": "1cba4495-3422-4ac5-a20b-a34d05f14496",
   "metadata": {},
   "outputs": [
    {
     "name": "stdout",
     "output_type": "stream",
     "text": [
      "4\n"
     ]
    }
   ],
   "source": [
    "print(1+3)"
   ]
  },
  {
   "cell_type": "code",
   "execution_count": 7,
   "id": "f86a28d7-cc68-4db3-a3f8-5b3e027c803b",
   "metadata": {},
   "outputs": [],
   "source": [
    "a=5"
   ]
  },
  {
   "cell_type": "code",
   "execution_count": 8,
   "id": "92a3b85c-042a-4cb5-9abf-7ed2f7dad8cd",
   "metadata": {},
   "outputs": [
    {
     "name": "stdout",
     "output_type": "stream",
     "text": [
      "5\n"
     ]
    }
   ],
   "source": [
    "print(a)"
   ]
  },
  {
   "cell_type": "code",
   "execution_count": 89,
   "id": "e218df71-69f9-4da3-989f-ef33a97a7ba1",
   "metadata": {},
   "outputs": [
    {
     "name": "stdout",
     "output_type": "stream",
     "text": [
      "hello world my name is jack i live in \n",
      " peaceworld\n"
     ]
    }
   ],
   "source": [
    "print(\"hello world my name is jack i live in \\n peaceworld\")"
   ]
  },
  {
   "cell_type": "markdown",
   "id": "73513452-14f6-41a3-9e4b-ccc8b775cde9",
   "metadata": {},
   "source": [
    "## variables assignment"
   ]
  },
  {
   "cell_type": "code",
   "execution_count": 10,
   "id": "d16b794e-815b-461c-a6d0-faf2ddc45d6a",
   "metadata": {},
   "outputs": [],
   "source": [
    "name=\"jack\"\n",
    "dream=\"live free\""
   ]
  },
  {
   "cell_type": "code",
   "execution_count": 11,
   "id": "91b33927-b67f-4b83-8459-3b5959f3895c",
   "metadata": {},
   "outputs": [
    {
     "data": {
      "text/plain": [
       "'jack'"
      ]
     },
     "execution_count": 11,
     "metadata": {},
     "output_type": "execute_result"
    }
   ],
   "source": [
    "name"
   ]
  },
  {
   "cell_type": "code",
   "execution_count": 12,
   "id": "74c34a8d-c6d6-40e4-8d96-2cc63eaa2413",
   "metadata": {},
   "outputs": [
    {
     "data": {
      "text/plain": [
       "'live free'"
      ]
     },
     "execution_count": 12,
     "metadata": {},
     "output_type": "execute_result"
    }
   ],
   "source": [
    "dream"
   ]
  },
  {
   "cell_type": "code",
   "execution_count": 13,
   "id": "d16e1bb7-b2f2-4c44-9dc8-dc799d984b73",
   "metadata": {},
   "outputs": [
    {
     "data": {
      "text/plain": [
       "str"
      ]
     },
     "execution_count": 13,
     "metadata": {},
     "output_type": "execute_result"
    }
   ],
   "source": [
    "type(\"buhefshb\")"
   ]
  },
  {
   "cell_type": "code",
   "execution_count": 14,
   "id": "1f107583-876e-4892-8ba5-a0fdb926e6fb",
   "metadata": {},
   "outputs": [
    {
     "data": {
      "text/plain": [
       "str"
      ]
     },
     "execution_count": 14,
     "metadata": {},
     "output_type": "execute_result"
    }
   ],
   "source": [
    "type(name)"
   ]
  },
  {
   "cell_type": "code",
   "execution_count": 15,
   "id": "fddaaaec-edb8-442b-b08f-526531e818c6",
   "metadata": {},
   "outputs": [],
   "source": [
    "name=\"bala\""
   ]
  },
  {
   "cell_type": "code",
   "execution_count": 16,
   "id": "87590e85-3580-4b41-a1f0-efbad535e10a",
   "metadata": {},
   "outputs": [
    {
     "data": {
      "text/plain": [
       "'bala'"
      ]
     },
     "execution_count": 16,
     "metadata": {},
     "output_type": "execute_result"
    }
   ],
   "source": [
    "name"
   ]
  },
  {
   "cell_type": "code",
   "execution_count": 17,
   "id": "e2ce808f-5dd2-4a72-9d3b-38d2ed3f55d6",
   "metadata": {},
   "outputs": [
    {
     "data": {
      "text/plain": [
       "'live free'"
      ]
     },
     "execution_count": 17,
     "metadata": {},
     "output_type": "execute_result"
    }
   ],
   "source": [
    "dream"
   ]
  },
  {
   "cell_type": "code",
   "execution_count": 18,
   "id": "8b0eaf42-c6d6-4962-83e0-24ef88dfc981",
   "metadata": {},
   "outputs": [],
   "source": [
    "number=10"
   ]
  },
  {
   "cell_type": "code",
   "execution_count": 19,
   "id": "efb92678-0a25-4ed8-a090-5c7b11008c94",
   "metadata": {},
   "outputs": [
    {
     "data": {
      "text/plain": [
       "int"
      ]
     },
     "execution_count": 19,
     "metadata": {},
     "output_type": "execute_result"
    }
   ],
   "source": [
    "type(number)"
   ]
  },
  {
   "cell_type": "code",
   "execution_count": 20,
   "id": "98fad94e-7760-4b42-ad59-1a7217e96dd3",
   "metadata": {},
   "outputs": [],
   "source": [
    "number=20"
   ]
  },
  {
   "cell_type": "code",
   "execution_count": 21,
   "id": "ed233c8a-48f8-4fe5-97fc-46a9f57fe088",
   "metadata": {},
   "outputs": [
    {
     "data": {
      "text/plain": [
       "20"
      ]
     },
     "execution_count": 21,
     "metadata": {},
     "output_type": "execute_result"
    }
   ],
   "source": [
    "number"
   ]
  },
  {
   "cell_type": "code",
   "execution_count": 25,
   "id": "d4845b46-2047-4171-a4cb-c4d65d0e42a3",
   "metadata": {},
   "outputs": [],
   "source": [
    "decimal_num=2.5"
   ]
  },
  {
   "cell_type": "code",
   "execution_count": 26,
   "id": "65366d1d-9288-41b3-8340-380a0c5013fa",
   "metadata": {},
   "outputs": [
    {
     "data": {
      "text/plain": [
       "2.5"
      ]
     },
     "execution_count": 26,
     "metadata": {},
     "output_type": "execute_result"
    }
   ],
   "source": [
    "decimal_num"
   ]
  },
  {
   "cell_type": "code",
   "execution_count": 27,
   "id": "a9531728-fa58-45b4-9bb2-e70472974d56",
   "metadata": {},
   "outputs": [
    {
     "data": {
      "text/plain": [
       "float"
      ]
     },
     "execution_count": 27,
     "metadata": {},
     "output_type": "execute_result"
    }
   ],
   "source": [
    "type(decimal_num)"
   ]
  },
  {
   "cell_type": "code",
   "execution_count": 28,
   "id": "e3e7bad5-e313-43a4-ab65-9b9ed2a16b3f",
   "metadata": {},
   "outputs": [
    {
     "data": {
      "text/plain": [
       "str"
      ]
     },
     "execution_count": 28,
     "metadata": {},
     "output_type": "execute_result"
    }
   ],
   "source": [
    "type(\"hello\")"
   ]
  },
  {
   "cell_type": "code",
   "execution_count": 29,
   "id": "68d14353-9ce7-4141-b4d5-8285b6fba710",
   "metadata": {},
   "outputs": [
    {
     "data": {
      "text/plain": [
       "complex"
      ]
     },
     "execution_count": 29,
     "metadata": {},
     "output_type": "execute_result"
    }
   ],
   "source": [
    "type(1+2j)"
   ]
  },
  {
   "cell_type": "code",
   "execution_count": 32,
   "id": "d9cbc2ca-44cc-495e-9421-9e172b19643c",
   "metadata": {},
   "outputs": [
    {
     "name": "stdout",
     "output_type": "stream",
     "text": [
      "hello\n",
      "hello\n"
     ]
    }
   ],
   "source": [
    "print(\"hello\")\n",
    "print('hello')"
   ]
  },
  {
   "cell_type": "code",
   "execution_count": 36,
   "id": "3fbdf6e6-556e-45f6-905a-95174d772465",
   "metadata": {},
   "outputs": [],
   "source": [
    "number1=23"
   ]
  },
  {
   "cell_type": "code",
   "execution_count": 90,
   "id": "2fe061b6-e3d0-481a-9794-23ca95823ea5",
   "metadata": {},
   "outputs": [
    {
     "name": "stdout",
     "output_type": "stream",
     "text": [
      "PWSKILLS\n",
      "PWSKILLS\n"
     ]
    }
   ],
   "source": [
    "## variables are case senssitive\n",
    "company='ineuron'\n",
    "company=\"PWSKILLS\"\n",
    "print(company)\n",
    "print(company)"
   ]
  },
  {
   "cell_type": "code",
   "execution_count": 42,
   "id": "6a3ea097-89bc-4183-af6d-8157870c9662",
   "metadata": {},
   "outputs": [
    {
     "data": {
      "text/plain": [
       "'\\nint,float,len,complex,bool,str,return,yield\\n'"
      ]
     },
     "execution_count": 42,
     "metadata": {},
     "output_type": "execute_result"
    }
   ],
   "source": [
    "## reserved keywords\n",
    "'''\n",
    "int,float,len,complex,bool,str,return,yield\n",
    "'''\n"
   ]
  },
  {
   "cell_type": "code",
   "execution_count": 43,
   "id": "a5659c5f-6c12-481f-b41f-c6db3f57c609",
   "metadata": {},
   "outputs": [],
   "source": [
    "float=32"
   ]
  },
  {
   "cell_type": "code",
   "execution_count": 53,
   "id": "8731b60a-f959-4280-a569-bc1edd053da3",
   "metadata": {},
   "outputs": [
    {
     "data": {
      "text/plain": [
       "True"
      ]
     },
     "execution_count": 53,
     "metadata": {},
     "output_type": "execute_result"
    }
   ],
   "source": [
    "##Boolean\n",
    "True"
   ]
  },
  {
   "cell_type": "code",
   "execution_count": 52,
   "id": "2192229b-5a87-4a72-97fc-2b0140bcb3ae",
   "metadata": {},
   "outputs": [
    {
     "data": {
      "text/plain": [
       "False"
      ]
     },
     "execution_count": 52,
     "metadata": {},
     "output_type": "execute_result"
    }
   ],
   "source": [
    "False"
   ]
  },
  {
   "cell_type": "code",
   "execution_count": 54,
   "id": "f48de118-7255-4fe8-bf56-838d502098ec",
   "metadata": {},
   "outputs": [
    {
     "data": {
      "text/plain": [
       "False"
      ]
     },
     "execution_count": 54,
     "metadata": {},
     "output_type": "execute_result"
    }
   ],
   "source": [
    "True and False"
   ]
  },
  {
   "cell_type": "code",
   "execution_count": 56,
   "id": "a089a0f7-16ea-42ae-9414-e7b023f9b4ba",
   "metadata": {},
   "outputs": [
    {
     "data": {
      "text/plain": [
       "True"
      ]
     },
     "execution_count": 56,
     "metadata": {},
     "output_type": "execute_result"
    }
   ],
   "source": [
    "True or False"
   ]
  },
  {
   "cell_type": "code",
   "execution_count": 57,
   "id": "77e1ea0c-ad36-44c9-8de7-e5f109ed8dd9",
   "metadata": {},
   "outputs": [
    {
     "data": {
      "text/plain": [
       "False"
      ]
     },
     "execution_count": 57,
     "metadata": {},
     "output_type": "execute_result"
    }
   ],
   "source": [
    "not True"
   ]
  },
  {
   "cell_type": "code",
   "execution_count": 58,
   "id": "4c43c13b-cdb1-4527-b7bb-9c3ffdfba014",
   "metadata": {},
   "outputs": [
    {
     "data": {
      "text/plain": [
       "True"
      ]
     },
     "execution_count": 58,
     "metadata": {},
     "output_type": "execute_result"
    }
   ],
   "source": [
    "not False"
   ]
  },
  {
   "cell_type": "code",
   "execution_count": 59,
   "id": "32db5c15-78e4-44a5-91d4-99ad5ff98771",
   "metadata": {},
   "outputs": [
    {
     "data": {
      "text/plain": [
       "bool"
      ]
     },
     "execution_count": 59,
     "metadata": {},
     "output_type": "execute_result"
    }
   ],
   "source": [
    "type(not False)"
   ]
  },
  {
   "cell_type": "code",
   "execution_count": 62,
   "id": "c448b155-0580-4c6f-b4ca-b4ca52791141",
   "metadata": {},
   "outputs": [
    {
     "data": {
      "text/plain": [
       "False"
      ]
     },
     "execution_count": 62,
     "metadata": {},
     "output_type": "execute_result"
    }
   ],
   "source": [
    "## Typecasting\n",
    "bool(0)"
   ]
  },
  {
   "cell_type": "code",
   "execution_count": 63,
   "id": "d701e996-df7f-4e27-a3c6-215719275cf4",
   "metadata": {},
   "outputs": [
    {
     "data": {
      "text/plain": [
       "'23'"
      ]
     },
     "execution_count": 63,
     "metadata": {},
     "output_type": "execute_result"
    }
   ],
   "source": [
    "str(23)"
   ]
  },
  {
   "cell_type": "code",
   "execution_count": 64,
   "id": "7dd96faa-ca59-4d29-a7a7-7b48dc80cbc5",
   "metadata": {},
   "outputs": [
    {
     "data": {
      "text/plain": [
       "23"
      ]
     },
     "execution_count": 64,
     "metadata": {},
     "output_type": "execute_result"
    }
   ],
   "source": [
    "int(23)"
   ]
  },
  {
   "cell_type": "code",
   "execution_count": 65,
   "id": "526d28ce-ee97-4487-8c8e-073b45dac695",
   "metadata": {},
   "outputs": [
    {
     "data": {
      "text/plain": [
       "int"
      ]
     },
     "execution_count": 65,
     "metadata": {},
     "output_type": "execute_result"
    }
   ],
   "source": [
    "type(int(23))"
   ]
  },
  {
   "cell_type": "code",
   "execution_count": 66,
   "id": "3ac3ce8c-de72-4d91-be39-70249598a7a8",
   "metadata": {},
   "outputs": [
    {
     "data": {
      "text/plain": [
       "True"
      ]
     },
     "execution_count": 66,
     "metadata": {},
     "output_type": "execute_result"
    }
   ],
   "source": [
    "bool(1)"
   ]
  },
  {
   "cell_type": "code",
   "execution_count": 93,
   "id": "be39a686-e15a-47c4-84b3-4d7ea16cce55",
   "metadata": {},
   "outputs": [
    {
     "name": "stdout",
     "output_type": "stream",
     "text": [
      "True\n"
     ]
    }
   ],
   "source": [
    "a=1\n",
    "if bool(a)==True:\n",
    "    print(\"True\")"
   ]
  },
  {
   "cell_type": "code",
   "execution_count": 72,
   "id": "d66c708d-b746-462e-b0f3-6f6863e92cca",
   "metadata": {},
   "outputs": [
    {
     "data": {
      "text/plain": [
       "123"
      ]
     },
     "execution_count": 72,
     "metadata": {},
     "output_type": "execute_result"
    }
   ],
   "source": [
    "int('123')"
   ]
  },
  {
   "cell_type": "markdown",
   "id": "c366be73-db5f-43c9-b962-0e31392c25d6",
   "metadata": {},
   "source": [
    "## Dynamic typing"
   ]
  },
  {
   "cell_type": "code",
   "execution_count": 73,
   "id": "c9e6a47f-3d71-4d4f-9348-808057b14dc6",
   "metadata": {},
   "outputs": [],
   "source": [
    "a=12\n",
    "str1=\"jack\"\n",
    "a=\"var\""
   ]
  },
  {
   "cell_type": "code",
   "execution_count": 74,
   "id": "240194e9-bb39-455b-bf9e-8ac5217a8f1e",
   "metadata": {},
   "outputs": [
    {
     "name": "stdout",
     "output_type": "stream",
     "text": [
      "<class 'str'>\n"
     ]
    }
   ],
   "source": [
    "print(type(a))"
   ]
  },
  {
   "cell_type": "code",
   "execution_count": 75,
   "id": "f5b0086f-4b6a-4762-a7b8-c073c90ef278",
   "metadata": {},
   "outputs": [
    {
     "data": {
      "text/plain": [
       "1"
      ]
     },
     "execution_count": 75,
     "metadata": {},
     "output_type": "execute_result"
    }
   ],
   "source": [
    "int(1.54)"
   ]
  },
  {
   "cell_type": "code",
   "execution_count": 76,
   "id": "315bed22-3bb8-4e0b-bb1a-9cc9eb2dadb0",
   "metadata": {},
   "outputs": [],
   "source": [
    "## concatenation between different types\n"
   ]
  },
  {
   "cell_type": "code",
   "execution_count": 82,
   "id": "4821046c-82b5-4f56-b8f3-48453fc53dfe",
   "metadata": {},
   "outputs": [
    {
     "ename": "TypeError",
     "evalue": "unsupported operand type(s) for +: 'int' and 'str'",
     "output_type": "error",
     "traceback": [
      "\u001b[0;31m---------------------------------------------------------------------------\u001b[0m",
      "\u001b[0;31mTypeError\u001b[0m                                 Traceback (most recent call last)",
      "Cell \u001b[0;32mIn[82], line 1\u001b[0m\n\u001b[0;32m----> 1\u001b[0m \u001b[38;5;28;43mint\u001b[39;49m\u001b[43m(\u001b[49m\u001b[38;5;124;43m\"\u001b[39;49m\u001b[38;5;124;43m1\u001b[39;49m\u001b[38;5;124;43m\"\u001b[39;49m\u001b[43m)\u001b[49m\u001b[38;5;241;43m+\u001b[39;49m\u001b[43m(\u001b[49m\u001b[38;5;124;43m\"\u001b[39;49m\u001b[38;5;124;43m1\u001b[39;49m\u001b[38;5;124;43m\"\u001b[39;49m\u001b[43m)\u001b[49m\n",
      "\u001b[0;31mTypeError\u001b[0m: unsupported operand type(s) for +: 'int' and 'str'"
     ]
    }
   ],
   "source": [
    "int(\"1\")+(\"1\")"
   ]
  },
  {
   "cell_type": "code",
   "execution_count": 85,
   "id": "5e98cc50-dafd-4693-ad95-46569dfefea6",
   "metadata": {},
   "outputs": [
    {
     "data": {
      "text/plain": [
       "'1111111111111111111111111111111111111111111111111111111111111111111111111111111111111111111111111111'"
      ]
     },
     "execution_count": 85,
     "metadata": {},
     "output_type": "execute_result"
    }
   ],
   "source": [
    "\"1\"*100"
   ]
  },
  {
   "cell_type": "code",
   "execution_count": null,
   "id": "e83c8594-5921-4b59-af9f-d7deba4a77a0",
   "metadata": {},
   "outputs": [],
   "source": []
  }
 ],
 "metadata": {
  "kernelspec": {
   "display_name": "Python 3 (ipykernel)",
   "language": "python",
   "name": "python3"
  },
  "language_info": {
   "codemirror_mode": {
    "name": "ipython",
    "version": 3
   },
   "file_extension": ".py",
   "mimetype": "text/x-python",
   "name": "python",
   "nbconvert_exporter": "python",
   "pygments_lexer": "ipython3",
   "version": "3.10.8"
  }
 },
 "nbformat": 4,
 "nbformat_minor": 5
}
