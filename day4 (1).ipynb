{
 "cells": [
  {
   "cell_type": "code",
   "execution_count": 3,
   "id": "b3431c28-8d0b-4bfe-abb8-20440ef03ecd",
   "metadata": {},
   "outputs": [],
   "source": [
    "name='jack is back'"
   ]
  },
  {
   "cell_type": "code",
   "execution_count": 4,
   "id": "6573bc7a-410a-44aa-a48a-389630f7d65e",
   "metadata": {},
   "outputs": [
    {
     "data": {
      "text/plain": [
       "<reversed at 0x7f17f434a590>"
      ]
     },
     "execution_count": 4,
     "metadata": {},
     "output_type": "execute_result"
    }
   ],
   "source": [
    "reversed(name)"
   ]
  },
  {
   "cell_type": "code",
   "execution_count": 3,
   "id": "b30b3318-03d1-4d99-9848-b06f757c0c85",
   "metadata": {},
   "outputs": [
    {
     "data": {
      "text/plain": [
       "'k c a b   s i   k c a j'"
      ]
     },
     "execution_count": 3,
     "metadata": {},
     "output_type": "execute_result"
    }
   ],
   "source": [
    "' '.join(reversed(name))"
   ]
  },
  {
   "cell_type": "code",
   "execution_count": 5,
   "id": "0f54509b-3879-4a2a-8b93-9fb93cb033e3",
   "metadata": {},
   "outputs": [
    {
     "data": {
      "text/plain": [
       "'k a c a a a b a   a s a i a   a k a c a a a j'"
      ]
     },
     "execution_count": 5,
     "metadata": {},
     "output_type": "execute_result"
    }
   ],
   "source": [
    "' a '.join(reversed(name))"
   ]
  },
  {
   "cell_type": "code",
   "execution_count": 5,
   "id": "91ad7d21-30d0-4023-bbcc-49a2c9082e8d",
   "metadata": {},
   "outputs": [
    {
     "data": {
      "text/plain": [
       "'jhahchkh hihsh hbhahchk'"
      ]
     },
     "execution_count": 5,
     "metadata": {},
     "output_type": "execute_result"
    }
   ],
   "source": [
    "'h'.join(name)"
   ]
  },
  {
   "cell_type": "code",
   "execution_count": 2,
   "id": "dd98d4b7-66a1-4782-8232-fff2bb57dfd0",
   "metadata": {},
   "outputs": [
    {
     "data": {
      "text/plain": [
       "['g', 'i', 'b']"
      ]
     },
     "execution_count": 2,
     "metadata": {},
     "output_type": "execute_result"
    }
   ],
   "source": [
    "## typecasting\n",
    "list(reversed('big'))"
   ]
  },
  {
   "cell_type": "code",
   "execution_count": 10,
   "id": "09c541f6-6c9c-44c2-b7b3-ea8353679d53",
   "metadata": {},
   "outputs": [
    {
     "name": "stdout",
     "output_type": "stream",
     "text": [
      "kcab si kcaj"
     ]
    }
   ],
   "source": [
    "for i in list(reversed(name)):\n",
    "    print(i,end='')"
   ]
  },
  {
   "cell_type": "code",
   "execution_count": 11,
   "id": "c9f8adff-a033-41eb-a19d-4c7a43913fb6",
   "metadata": {},
   "outputs": [
    {
     "data": {
      "text/plain": [
       "['k', 'c', 'a', 'b', ' ', 's', 'i', ' ', 'k', 'c', 'a', 'j']"
      ]
     },
     "execution_count": 11,
     "metadata": {},
     "output_type": "execute_result"
    }
   ],
   "source": [
    "list(reversed(name))"
   ]
  },
  {
   "cell_type": "code",
   "execution_count": 16,
   "id": "ba80e6e0-5b59-47c0-a7d6-7e870835bb62",
   "metadata": {},
   "outputs": [
    {
     "data": {
      "text/plain": [
       "'dhoni'"
      ]
     },
     "execution_count": 16,
     "metadata": {},
     "output_type": "execute_result"
    }
   ],
   "source": [
    "## removing characters from the end of the string\n",
    "str=' dhoni '\n",
    "str.strip(\" \")\n"
   ]
  },
  {
   "cell_type": "code",
   "execution_count": 17,
   "id": "323fc81f-9eb0-49f1-a5af-44acec5a7a36",
   "metadata": {},
   "outputs": [
    {
     "data": {
      "text/plain": [
       "'dhoni '"
      ]
     },
     "execution_count": 17,
     "metadata": {},
     "output_type": "execute_result"
    }
   ],
   "source": [
    "str.lstrip(' ')"
   ]
  },
  {
   "cell_type": "code",
   "execution_count": 18,
   "id": "e16b8cce-aea8-41de-89dd-76b70036a2c2",
   "metadata": {},
   "outputs": [
    {
     "data": {
      "text/plain": [
       "' dhoni'"
      ]
     },
     "execution_count": 18,
     "metadata": {},
     "output_type": "execute_result"
    }
   ],
   "source": [
    "str.rstrip(' ')"
   ]
  },
  {
   "cell_type": "code",
   "execution_count": 14,
   "id": "7c825a12-1765-4738-90e6-a78f4a3b8530",
   "metadata": {},
   "outputs": [],
   "source": [
    "str1='jack is back'\n"
   ]
  },
  {
   "cell_type": "code",
   "execution_count": 20,
   "id": "23edd3f7-f549-45da-9e07-6314ff5111f4",
   "metadata": {},
   "outputs": [
    {
     "data": {
      "text/plain": [
       "'msd is back'"
      ]
     },
     "execution_count": 20,
     "metadata": {},
     "output_type": "execute_result"
    }
   ],
   "source": [
    "str1.replace('jack','msd')"
   ]
  },
  {
   "cell_type": "code",
   "execution_count": 21,
   "id": "981ca235-f20f-454b-90d1-35019ff87936",
   "metadata": {},
   "outputs": [
    {
     "data": {
      "text/plain": [
       "'jadk is badk'"
      ]
     },
     "execution_count": 21,
     "metadata": {},
     "output_type": "execute_result"
    }
   ],
   "source": [
    "str1.replace('c','d')"
   ]
  },
  {
   "cell_type": "code",
   "execution_count": 24,
   "id": "1939805c-cacd-4597-997d-0bfc22ef556c",
   "metadata": {},
   "outputs": [
    {
     "data": {
      "text/plain": [
       "'hello \\tguys'"
      ]
     },
     "execution_count": 24,
     "metadata": {},
     "output_type": "execute_result"
    }
   ],
   "source": [
    "'hello \\tguys'"
   ]
  },
  {
   "cell_type": "code",
   "execution_count": 27,
   "id": "b29b0bf6-6af1-4411-824d-35bb44f01b1c",
   "metadata": {},
   "outputs": [
    {
     "data": {
      "text/plain": [
       "'hello   guys'"
      ]
     },
     "execution_count": 27,
     "metadata": {},
     "output_type": "execute_result"
    }
   ],
   "source": [
    "'hello\\tguys'.expandtabs()"
   ]
  },
  {
   "cell_type": "code",
   "execution_count": 28,
   "id": "f427ebfb-a261-4d14-81e7-c02d8ba04d08",
   "metadata": {},
   "outputs": [
    {
     "data": {
      "text/plain": [
       "'hello \\tguys'"
      ]
     },
     "execution_count": 28,
     "metadata": {},
     "output_type": "execute_result"
    }
   ],
   "source": [
    "'hello \\tguys'"
   ]
  },
  {
   "cell_type": "code",
   "execution_count": 29,
   "id": "32ee0586-1abd-470e-a356-276a9e759e43",
   "metadata": {},
   "outputs": [
    {
     "data": {
      "text/plain": [
       "'kbck is bbck'"
      ]
     },
     "execution_count": 29,
     "metadata": {},
     "output_type": "execute_result"
    }
   ],
   "source": [
    "str1.replace('j','k').replace('a','b')"
   ]
  },
  {
   "cell_type": "code",
   "execution_count": 30,
   "id": "83610e9e-c263-45f4-a057-0d01b4ae11f6",
   "metadata": {},
   "outputs": [
    {
     "data": {
      "text/plain": [
       "False"
      ]
     },
     "execution_count": 30,
     "metadata": {},
     "output_type": "execute_result"
    }
   ],
   "source": [
    "str1.isupper()"
   ]
  },
  {
   "cell_type": "code",
   "execution_count": 31,
   "id": "3abdfb65-9f3c-4d81-8d47-1fa77c237836",
   "metadata": {},
   "outputs": [
    {
     "data": {
      "text/plain": [
       "True"
      ]
     },
     "execution_count": 31,
     "metadata": {},
     "output_type": "execute_result"
    }
   ],
   "source": [
    "str1.islower()"
   ]
  },
  {
   "cell_type": "code",
   "execution_count": 32,
   "id": "348fca55-dc3b-468b-84f1-23f9b58ca728",
   "metadata": {},
   "outputs": [
    {
     "data": {
      "text/plain": [
       "False"
      ]
     },
     "execution_count": 32,
     "metadata": {},
     "output_type": "execute_result"
    }
   ],
   "source": [
    "str1.isspace()"
   ]
  },
  {
   "cell_type": "code",
   "execution_count": 33,
   "id": "b99f42ca-2a07-4c41-a50f-79fe66d00ef8",
   "metadata": {},
   "outputs": [
    {
     "data": {
      "text/plain": [
       "True"
      ]
     },
     "execution_count": 33,
     "metadata": {},
     "output_type": "execute_result"
    }
   ],
   "source": [
    "' '.isspace()"
   ]
  },
  {
   "cell_type": "code",
   "execution_count": 13,
   "id": "7d92f4cf-9391-410a-badb-3658775175fd",
   "metadata": {},
   "outputs": [
    {
     "name": "stdout",
     "output_type": "stream",
     "text": [
      "bye\n"
     ]
    }
   ],
   "source": [
    "if ' '.isspace():\n",
    "    print('bye')"
   ]
  },
  {
   "cell_type": "code",
   "execution_count": 15,
   "id": "3efa0372-1170-4415-8eba-9183c1e2e881",
   "metadata": {},
   "outputs": [
    {
     "data": {
      "text/plain": [
       "True"
      ]
     },
     "execution_count": 15,
     "metadata": {},
     "output_type": "execute_result"
    }
   ],
   "source": [
    "str1.endswith('k')"
   ]
  },
  {
   "cell_type": "code",
   "execution_count": 16,
   "id": "faddc3d0-0f74-42b8-ad39-8272dc10d52a",
   "metadata": {},
   "outputs": [
    {
     "data": {
      "text/plain": [
       "False"
      ]
     },
     "execution_count": 16,
     "metadata": {},
     "output_type": "execute_result"
    }
   ],
   "source": [
    "str1.endswith('j')"
   ]
  },
  {
   "cell_type": "code",
   "execution_count": 17,
   "id": "29dcbfab-5c59-4f80-ae95-707ca20ff084",
   "metadata": {},
   "outputs": [
    {
     "data": {
      "text/plain": [
       "True"
      ]
     },
     "execution_count": 17,
     "metadata": {},
     "output_type": "execute_result"
    }
   ],
   "source": [
    "str1.startswith(\"j\")"
   ]
  },
  {
   "cell_type": "code",
   "execution_count": 19,
   "id": "502334fc-5832-4e3e-ade1-5137f4a03bfe",
   "metadata": {},
   "outputs": [
    {
     "data": {
      "text/plain": [
       "False"
      ]
     },
     "execution_count": 19,
     "metadata": {},
     "output_type": "execute_result"
    }
   ],
   "source": [
    "##check if all the char in string are alphanumeric\n",
    "str1.isalnum()"
   ]
  },
  {
   "cell_type": "code",
   "execution_count": 20,
   "id": "0172a567-ecb4-480c-87a9-a9b69a8d924d",
   "metadata": {},
   "outputs": [
    {
     "data": {
      "text/plain": [
       "True"
      ]
     },
     "execution_count": 20,
     "metadata": {},
     "output_type": "execute_result"
    }
   ],
   "source": [
    "a='abcd'\n",
    "a.isalnum()"
   ]
  },
  {
   "cell_type": "code",
   "execution_count": 31,
   "id": "6cede884-7301-4bd7-b0df-cd428623201d",
   "metadata": {},
   "outputs": [
    {
     "data": {
      "text/plain": [
       "12"
      ]
     },
     "execution_count": 31,
     "metadata": {},
     "output_type": "execute_result"
    }
   ],
   "source": [
    "len(str1)"
   ]
  },
  {
   "cell_type": "code",
   "execution_count": 54,
   "id": "f928903c-01db-4c5f-a53f-c9495c74f1c3",
   "metadata": {},
   "outputs": [],
   "source": [
    "str2='vetrimaran'\n"
   ]
  },
  {
   "cell_type": "code",
   "execution_count": 34,
   "id": "975ce7c7-f852-41f3-b0bd-51c9b77adda6",
   "metadata": {},
   "outputs": [
    {
     "name": "stdout",
     "output_type": "stream",
     "text": [
      "v\n",
      "e\n",
      "t\n",
      "r\n",
      "i\n",
      "m\n",
      "a\n",
      "r\n",
      "a\n",
      "n\n"
     ]
    }
   ],
   "source": [
    "for i in str2:\n",
    "    print(i)"
   ]
  },
  {
   "cell_type": "code",
   "execution_count": 35,
   "id": "9780afba-eea7-4074-afe1-ae76f135e902",
   "metadata": {},
   "outputs": [
    {
     "data": {
      "text/plain": [
       "range(0, 10)"
      ]
     },
     "execution_count": 35,
     "metadata": {},
     "output_type": "execute_result"
    }
   ],
   "source": [
    "range(len(str2))"
   ]
  },
  {
   "cell_type": "code",
   "execution_count": 36,
   "id": "e67a72ab-1aca-4bb0-902f-36a987d5b188",
   "metadata": {},
   "outputs": [
    {
     "data": {
      "text/plain": [
       "9"
      ]
     },
     "execution_count": 36,
     "metadata": {},
     "output_type": "execute_result"
    }
   ],
   "source": [
    "## we can use index to iterate string reverse direction\n",
    "len(str2)-1"
   ]
  },
  {
   "cell_type": "code",
   "execution_count": null,
   "id": "1eb33088-d75a-4221-9cfc-7414179e05a4",
   "metadata": {},
   "outputs": [],
   "source": [
    "for i in range(len(str2)-1,-1,-1):\n",
    "    print(str2[i])\n",
    "Abhishek Jadhav4:09 PM\n",
    "In the code snippet provided, the -1,-1,-1 is a shorthand way of specifying the range of the for loop.\n",
    "\n",
    "The range() function in Python takes three arguments: start, stop, and step. In this case, the arguments are as follows:\n",
    "\n",
    "start: len(str2)-1 - This sets the starting index of the loop to the last index of the str2 string.\n",
    "stop: -1 - This sets the stopping index of the loop to -1, which means the loop will continue until the first index of the str2 string (inclusive).\n",
    "step: -1 - This sets the s\n"
   ]
  },
  {
   "cell_type": "code",
   "execution_count": 40,
   "id": "fdc84fc6-1f7e-43c7-99c7-71d4b14c9037",
   "metadata": {},
   "outputs": [
    {
     "name": "stdout",
     "output_type": "stream",
     "text": [
      "n\n",
      "a\n",
      "r\n",
      "a\n",
      "m\n",
      "i\n",
      "r\n",
      "t\n",
      "e\n",
      "v\n"
     ]
    }
   ],
   "source": [
    "for i in range(len(str2)-1,-1,-1):\n",
    "    print(str2[i])"
   ]
  },
  {
   "cell_type": "code",
   "execution_count": 56,
   "id": "fc04f245-2c75-4869-a482-0decf565a106",
   "metadata": {},
   "outputs": [],
   "source": [
    "ch=len(str2)-1"
   ]
  },
  {
   "cell_type": "code",
   "execution_count": 57,
   "id": "71c051f8-bcb4-46b4-acb3-43bd91923330",
   "metadata": {},
   "outputs": [
    {
     "data": {
      "text/plain": [
       "9"
      ]
     },
     "execution_count": 57,
     "metadata": {},
     "output_type": "execute_result"
    }
   ],
   "source": [
    "ch"
   ]
  },
  {
   "cell_type": "code",
   "execution_count": 63,
   "id": "78941663-f6e2-4f5e-9cd8-d5b8bc4d4a28",
   "metadata": {},
   "outputs": [
    {
     "data": {
      "text/plain": [
       "'r'"
      ]
     },
     "execution_count": 63,
     "metadata": {},
     "output_type": "execute_result"
    }
   ],
   "source": [
    "str2[3]"
   ]
  },
  {
   "cell_type": "code",
   "execution_count": 64,
   "id": "726c4312-cbdd-409e-92b8-dfc33233f2ea",
   "metadata": {},
   "outputs": [],
   "source": [
    "while ch>=0:\n",
    "    print(str2[ch])\n",
    "    ch=ch-1\n",
    "    \n"
   ]
  },
  {
   "cell_type": "code",
   "execution_count": 65,
   "id": "632887cd-5df9-4693-804d-d9641224bfd3",
   "metadata": {},
   "outputs": [
    {
     "name": "stdout",
     "output_type": "stream",
     "text": [
      "naramirtev"
     ]
    }
   ],
   "source": [
    "## best solution\n",
    "for i in range(len(str2)):\n",
    "    print(str2[len(str2)-(i+1)],end='')"
   ]
  },
  {
   "cell_type": "code",
   "execution_count": 66,
   "id": "85e10a08-a070-4c49-9647-6df1938c326f",
   "metadata": {},
   "outputs": [],
   "source": [
    "Name = \"pwskills\"\n",
    "vowels = \"AaEeIiOoUu\""
   ]
  },
  {
   "cell_type": "code",
   "execution_count": 67,
   "id": "1a36459a-ad41-48c5-a39e-c80342cb51c1",
   "metadata": {},
   "outputs": [
    {
     "name": "stdout",
     "output_type": "stream",
     "text": [
      "p is not a vowel\n",
      "w is not a vowel\n",
      "s is not a vowel\n",
      "k is not a vowel\n",
      "i is a vowel\n",
      "l is not a vowel\n",
      "l is not a vowel\n",
      "s is not a vowel\n"
     ]
    }
   ],
   "source": [
    "for ch in Name:\n",
    "    if ch in vowels:\n",
    "        print(\"{} is a vowel\".format(ch))\n",
    "    else:\n",
    "        print(\"{} is not a vowel\".format(ch))"
   ]
  },
  {
   "cell_type": "markdown",
   "id": "cd2ede44-d856-44f7-a117-39a437d89c82",
   "metadata": {
    "tags": []
   },
   "source": [
    "## list"
   ]
  },
  {
   "cell_type": "code",
   "execution_count": 4,
   "id": "d259b1d4-cb31-4c3d-9573-e02c981a764a",
   "metadata": {},
   "outputs": [
    {
     "data": {
      "text/plain": [
       "list"
      ]
     },
     "execution_count": 4,
     "metadata": {},
     "output_type": "execute_result"
    }
   ],
   "source": [
    "type([])"
   ]
  },
  {
   "cell_type": "code",
   "execution_count": 7,
   "id": "4c313757-76cd-47a4-9b74-45c503e91f90",
   "metadata": {},
   "outputs": [
    {
     "data": {
      "text/plain": [
       "[1, 2, 3, 4, 5]"
      ]
     },
     "execution_count": 7,
     "metadata": {},
     "output_type": "execute_result"
    }
   ],
   "source": [
    "list([1,2,3,4,5])"
   ]
  },
  {
   "cell_type": "code",
   "execution_count": 73,
   "id": "4a01d41c-e58e-4381-adb5-7cfa6b803c07",
   "metadata": {},
   "outputs": [
    {
     "data": {
      "text/plain": [
       "['v', 'e', 't', 'r', 'i', 'm', 'a', 'r', 'a', 'n']"
      ]
     },
     "execution_count": 73,
     "metadata": {},
     "output_type": "execute_result"
    }
   ],
   "source": [
    "list(str2)"
   ]
  },
  {
   "cell_type": "code",
   "execution_count": 14,
   "id": "0c8e2893-9c9a-4da6-855a-a79620441f7d",
   "metadata": {},
   "outputs": [],
   "source": [
    "str1='i am a kuthu dancer'"
   ]
  },
  {
   "cell_type": "code",
   "execution_count": 15,
   "id": "6820afad-035d-4bfd-96cd-eddb08c5203b",
   "metadata": {},
   "outputs": [
    {
     "data": {
      "text/plain": [
       "['', ' am a kuthu dancer']"
      ]
     },
     "execution_count": 15,
     "metadata": {},
     "output_type": "execute_result"
    }
   ],
   "source": [
    "list(str1.split('i'))"
   ]
  },
  {
   "cell_type": "code",
   "execution_count": 16,
   "id": "d6467286-d555-4d70-8bfa-037b07ce9369",
   "metadata": {},
   "outputs": [
    {
     "data": {
      "text/plain": [
       "['', ' am a kuthu dancer']"
      ]
     },
     "execution_count": 16,
     "metadata": {},
     "output_type": "execute_result"
    }
   ],
   "source": [
    "list(str1.split('i'))"
   ]
  },
  {
   "cell_type": "code",
   "execution_count": 17,
   "id": "af00a0ae-7929-4df5-84c2-6c4cdd520f86",
   "metadata": {},
   "outputs": [],
   "source": [
    "list1=list(str1.split(' '))"
   ]
  },
  {
   "cell_type": "code",
   "execution_count": 18,
   "id": "172e7fbb-fba0-4488-8acc-832ff55e9ce6",
   "metadata": {},
   "outputs": [
    {
     "data": {
      "text/plain": [
       "['i', 'am', 'a', 'kuthu', 'dancer']"
      ]
     },
     "execution_count": 18,
     "metadata": {},
     "output_type": "execute_result"
    }
   ],
   "source": [
    "list1"
   ]
  },
  {
   "cell_type": "code",
   "execution_count": 19,
   "id": "ecac62b5-1415-4ee2-a860-4b5490ff3f78",
   "metadata": {},
   "outputs": [
    {
     "data": {
      "text/plain": [
       "'a'"
      ]
     },
     "execution_count": 19,
     "metadata": {},
     "output_type": "execute_result"
    }
   ],
   "source": [
    "list1[2]"
   ]
  },
  {
   "cell_type": "code",
   "execution_count": 21,
   "id": "e459f875-3af8-46ea-8dcb-67ce62ffa3d3",
   "metadata": {},
   "outputs": [
    {
     "data": {
      "text/plain": [
       "['am', 'a', 'kuthu', 'dancer']"
      ]
     },
     "execution_count": 21,
     "metadata": {},
     "output_type": "execute_result"
    }
   ],
   "source": [
    "list1[1:]"
   ]
  },
  {
   "cell_type": "code",
   "execution_count": 22,
   "id": "f31f20c2-cfda-4989-b858-b2313c08ecb5",
   "metadata": {},
   "outputs": [
    {
     "data": {
      "text/plain": [
       "['i', 'am', 'a', 'kuthu']"
      ]
     },
     "execution_count": 22,
     "metadata": {},
     "output_type": "execute_result"
    }
   ],
   "source": [
    "list1[:-1]"
   ]
  },
  {
   "cell_type": "code",
   "execution_count": 23,
   "id": "873a1023-8671-46fc-9131-9bf2c89b0e03",
   "metadata": {},
   "outputs": [
    {
     "data": {
      "text/plain": [
       "['am', 'a']"
      ]
     },
     "execution_count": 23,
     "metadata": {},
     "output_type": "execute_result"
    }
   ],
   "source": [
    "list1[1:3]"
   ]
  },
  {
   "cell_type": "code",
   "execution_count": 24,
   "id": "d129bbb6-dd97-4d8e-b9ad-372a85ef4d0f",
   "metadata": {},
   "outputs": [
    {
     "data": {
      "text/plain": [
       "['dancer', 'kuthu', 'a', 'am', 'i']"
      ]
     },
     "execution_count": 24,
     "metadata": {},
     "output_type": "execute_result"
    }
   ],
   "source": [
    "list1[::-1]"
   ]
  },
  {
   "cell_type": "code",
   "execution_count": 25,
   "id": "f194604c-5d84-47dd-95d6-6ecc18600beb",
   "metadata": {},
   "outputs": [
    {
     "data": {
      "text/plain": [
       "['kuthu']"
      ]
     },
     "execution_count": 25,
     "metadata": {},
     "output_type": "execute_result"
    }
   ],
   "source": [
    "list1[3:4:1]"
   ]
  },
  {
   "cell_type": "code",
   "execution_count": 26,
   "id": "f3a01b9f-b82e-44b3-9fc8-5b3cd29b2a89",
   "metadata": {},
   "outputs": [],
   "source": [
    "## concatenation operation\n",
    "list2=list1+[['jey',3]]"
   ]
  },
  {
   "cell_type": "code",
   "execution_count": 27,
   "id": "a95299ce-f3e1-4aa6-9741-f54191becd50",
   "metadata": {},
   "outputs": [
    {
     "data": {
      "text/plain": [
       "['i', 'am', 'a', 'kuthu', 'dancer', ['jey', 3]]"
      ]
     },
     "execution_count": 27,
     "metadata": {},
     "output_type": "execute_result"
    }
   ],
   "source": [
    "list2"
   ]
  },
  {
   "cell_type": "code",
   "execution_count": 28,
   "id": "d9524051-650b-4692-bd4c-f77008a98e1c",
   "metadata": {},
   "outputs": [
    {
     "data": {
      "text/plain": [
       "['i',\n",
       " 'am',\n",
       " 'a',\n",
       " 'kuthu',\n",
       " 'dancer',\n",
       " 'i',\n",
       " 'am',\n",
       " 'a',\n",
       " 'kuthu',\n",
       " 'dancer',\n",
       " 'i',\n",
       " 'am',\n",
       " 'a',\n",
       " 'kuthu',\n",
       " 'dancer']"
      ]
     },
     "execution_count": 28,
     "metadata": {},
     "output_type": "execute_result"
    }
   ],
   "source": [
    "list1*3"
   ]
  },
  {
   "cell_type": "code",
   "execution_count": 29,
   "id": "72302e6e-d857-483b-a1bc-4ddd455fd309",
   "metadata": {},
   "outputs": [
    {
     "name": "stdout",
     "output_type": "stream",
     "text": [
      "yes\n"
     ]
    }
   ],
   "source": [
    "if 'dancer' in list1:\n",
    "    print('yes')"
   ]
  },
  {
   "cell_type": "code",
   "execution_count": 31,
   "id": "5876c903-70bd-402b-a374-6b1ee3c26842",
   "metadata": {},
   "outputs": [],
   "source": [
    "lst=[4,5,7,8]"
   ]
  },
  {
   "cell_type": "code",
   "execution_count": 32,
   "id": "60bb45ff-da77-48de-b5ad-6e89744f4b25",
   "metadata": {},
   "outputs": [
    {
     "data": {
      "text/plain": [
       "True"
      ]
     },
     "execution_count": 32,
     "metadata": {},
     "output_type": "execute_result"
    }
   ],
   "source": [
    "4 in lst"
   ]
  },
  {
   "cell_type": "code",
   "execution_count": 33,
   "id": "55c1c7b1-6ae6-4b97-b493-bee059d34bbc",
   "metadata": {},
   "outputs": [
    {
     "data": {
      "text/plain": [
       "True"
      ]
     },
     "execution_count": 33,
     "metadata": {},
     "output_type": "execute_result"
    }
   ],
   "source": [
    "4.0 in lst"
   ]
  },
  {
   "cell_type": "code",
   "execution_count": 34,
   "id": "59a4d626-ab84-4b61-9104-2667cd185276",
   "metadata": {},
   "outputs": [],
   "source": [
    "lst1=['dhoni','kohli','bumrah']\n",
    "lst2=[2,3,4]"
   ]
  },
  {
   "cell_type": "code",
   "execution_count": 35,
   "id": "73d973a2-8dbb-467d-883e-d2f932369197",
   "metadata": {},
   "outputs": [
    {
     "name": "stdout",
     "output_type": "stream",
     "text": [
      "kohli\n"
     ]
    }
   ],
   "source": [
    "print(max(lst1))"
   ]
  },
  {
   "cell_type": "code",
   "execution_count": 36,
   "id": "b6bd765f-9439-4258-9e64-f8304e8f45e2",
   "metadata": {},
   "outputs": [
    {
     "name": "stdout",
     "output_type": "stream",
     "text": [
      "4\n"
     ]
    }
   ],
   "source": [
    "print(max(lst2))"
   ]
  },
  {
   "cell_type": "code",
   "execution_count": 37,
   "id": "d83890ea-8f1f-4430-ba4c-e81daa043a25",
   "metadata": {},
   "outputs": [
    {
     "name": "stdout",
     "output_type": "stream",
     "text": [
      "bumrah\n"
     ]
    }
   ],
   "source": [
    "print(min(lst1))"
   ]
  },
  {
   "cell_type": "code",
   "execution_count": 38,
   "id": "78084a52-5b26-4092-940f-deab36d899cc",
   "metadata": {},
   "outputs": [
    {
     "name": "stdout",
     "output_type": "stream",
     "text": [
      "2\n"
     ]
    }
   ],
   "source": [
    "print(min(lst2))"
   ]
  },
  {
   "cell_type": "code",
   "execution_count": 43,
   "id": "e634e848-6f66-420d-9937-43a36368fe1a",
   "metadata": {},
   "outputs": [
    {
     "data": {
      "text/plain": [
       "True"
      ]
     },
     "execution_count": 43,
     "metadata": {},
     "output_type": "execute_result"
    }
   ],
   "source": [
    "2.0 in lst2"
   ]
  },
  {
   "cell_type": "code",
   "execution_count": 45,
   "id": "5373dab2-3df4-439f-97b1-db1a05fa2bd0",
   "metadata": {},
   "outputs": [
    {
     "data": {
      "text/plain": [
       "True"
      ]
     },
     "execution_count": 45,
     "metadata": {},
     "output_type": "execute_result"
    }
   ],
   "source": [
    "1.99999999999999999 in [2,3,4]"
   ]
  },
  {
   "cell_type": "code",
   "execution_count": 47,
   "id": "73b1743f-8c61-42a4-98c8-604ac2ddf207",
   "metadata": {},
   "outputs": [
    {
     "data": {
      "text/plain": [
       "True"
      ]
     },
     "execution_count": 47,
     "metadata": {},
     "output_type": "execute_result"
    }
   ],
   "source": [
    "4==4.0"
   ]
  },
  {
   "cell_type": "code",
   "execution_count": 48,
   "id": "87464e6e-f2a8-4dcf-bb5c-cda7a58c11b1",
   "metadata": {},
   "outputs": [
    {
     "data": {
      "text/plain": [
       "int"
      ]
     },
     "execution_count": 48,
     "metadata": {},
     "output_type": "execute_result"
    }
   ],
   "source": [
    "lst3=[5,6,2,7,3,8,4]\n",
    "type(lst3[2])"
   ]
  },
  {
   "cell_type": "code",
   "execution_count": 49,
   "id": "e936f22b-3999-4132-acd8-a0668b7dfeb8",
   "metadata": {},
   "outputs": [
    {
     "data": {
      "text/plain": [
       "float"
      ]
     },
     "execution_count": 49,
     "metadata": {},
     "output_type": "execute_result"
    }
   ],
   "source": [
    "type(5.0)"
   ]
  },
  {
   "cell_type": "code",
   "execution_count": 50,
   "id": "54568944-3d63-4c7e-9b5e-797d5360ae61",
   "metadata": {},
   "outputs": [
    {
     "data": {
      "text/plain": [
       "True"
      ]
     },
     "execution_count": 50,
     "metadata": {},
     "output_type": "execute_result"
    }
   ],
   "source": [
    "5.0 in lst3"
   ]
  },
  {
   "cell_type": "code",
   "execution_count": 4,
   "id": "d3058af7-8ba6-4eb5-8be4-39ca219c7e48",
   "metadata": {},
   "outputs": [],
   "source": [
    "## append\n",
    "lst=[1,2,3,4,5,6]"
   ]
  },
  {
   "cell_type": "code",
   "execution_count": 5,
   "id": "43398b53-28d9-490d-bfb0-ae2996223d92",
   "metadata": {},
   "outputs": [
    {
     "data": {
      "text/plain": [
       "[1, 2, 3, 4, 5, 6]"
      ]
     },
     "execution_count": 5,
     "metadata": {},
     "output_type": "execute_result"
    }
   ],
   "source": [
    "lst"
   ]
  },
  {
   "cell_type": "code",
   "execution_count": 6,
   "id": "90337f66-1d0b-4b93-abfe-aee9f236eab1",
   "metadata": {},
   "outputs": [],
   "source": [
    "lst.append('king')"
   ]
  },
  {
   "cell_type": "code",
   "execution_count": 7,
   "id": "e9ed723e-09ca-4737-9be4-6a18e2ac20af",
   "metadata": {},
   "outputs": [
    {
     "data": {
      "text/plain": [
       "[1, 2, 3, 4, 5, 6, 'king']"
      ]
     },
     "execution_count": 7,
     "metadata": {},
     "output_type": "execute_result"
    }
   ],
   "source": [
    "lst"
   ]
  },
  {
   "cell_type": "code",
   "execution_count": 8,
   "id": "7c06765a-547f-471d-a1cc-87fcfd1e395f",
   "metadata": {},
   "outputs": [],
   "source": [
    "lst.append(['queen','jack','mari'])"
   ]
  },
  {
   "cell_type": "code",
   "execution_count": 9,
   "id": "0ca5e0d5-3da2-4f69-a2a4-857dca97e71b",
   "metadata": {},
   "outputs": [
    {
     "data": {
      "text/plain": [
       "[1, 2, 3, 4, 5, 6, 'king', ['queen', 'jack', 'mari']]"
      ]
     },
     "execution_count": 9,
     "metadata": {},
     "output_type": "execute_result"
    }
   ],
   "source": [
    "lst"
   ]
  },
  {
   "cell_type": "code",
   "execution_count": 10,
   "id": "47e6bc35-6f57-48b1-a94c-114863fb9878",
   "metadata": {},
   "outputs": [
    {
     "data": {
      "text/plain": [
       "['queen', 'jack', 'mari']"
      ]
     },
     "execution_count": 10,
     "metadata": {},
     "output_type": "execute_result"
    }
   ],
   "source": [
    "lst.pop()"
   ]
  },
  {
   "cell_type": "code",
   "execution_count": 11,
   "id": "146ebe36-a0cd-4d5d-bbbb-b464e7eb1e3e",
   "metadata": {},
   "outputs": [
    {
     "data": {
      "text/plain": [
       "1"
      ]
     },
     "execution_count": 11,
     "metadata": {},
     "output_type": "execute_result"
    }
   ],
   "source": [
    "lst.pop(0)"
   ]
  },
  {
   "cell_type": "code",
   "execution_count": 12,
   "id": "a89b5e4f-8f0f-4747-9427-1bdd2b557fc3",
   "metadata": {},
   "outputs": [
    {
     "data": {
      "text/plain": [
       "[2, 3, 4, 5, 6, 'king']"
      ]
     },
     "execution_count": 12,
     "metadata": {},
     "output_type": "execute_result"
    }
   ],
   "source": [
    "lst"
   ]
  },
  {
   "cell_type": "code",
   "execution_count": 13,
   "id": "75435e3f-afe6-4a1c-98cc-040e2c93bb3c",
   "metadata": {},
   "outputs": [
    {
     "data": {
      "text/plain": [
       "'king'"
      ]
     },
     "execution_count": 13,
     "metadata": {},
     "output_type": "execute_result"
    }
   ],
   "source": [
    "removed_element=lst.pop()\n",
    "removed_element"
   ]
  },
  {
   "cell_type": "code",
   "execution_count": 14,
   "id": "18e51688-49ff-425a-bce5-a7138b61d7ca",
   "metadata": {},
   "outputs": [
    {
     "data": {
      "text/plain": [
       "['w', 'f', 'j', 'k']"
      ]
     },
     "execution_count": 14,
     "metadata": {},
     "output_type": "execute_result"
    }
   ],
   "source": [
    "## sorting and reverse method in list\n",
    "new_list=['w','f','j','k']\n",
    "new_list\n"
   ]
  },
  {
   "cell_type": "code",
   "execution_count": 15,
   "id": "26660583-ae62-4bd3-b924-6846a39505a2",
   "metadata": {},
   "outputs": [
    {
     "data": {
      "text/plain": [
       "['k', 'j', 'f', 'w']"
      ]
     },
     "execution_count": 15,
     "metadata": {},
     "output_type": "execute_result"
    }
   ],
   "source": [
    "new_list[::-1]"
   ]
  },
  {
   "cell_type": "code",
   "execution_count": 17,
   "id": "4569d348-3fde-4d71-bedb-5d2a4b026bbe",
   "metadata": {},
   "outputs": [],
   "source": [
    "new_list.reverse()"
   ]
  },
  {
   "cell_type": "code",
   "execution_count": 18,
   "id": "07c0fb75-aee4-4ed9-b667-64f9bbf9e0bc",
   "metadata": {},
   "outputs": [
    {
     "data": {
      "text/plain": [
       "['k', 'j', 'f', 'w']"
      ]
     },
     "execution_count": 18,
     "metadata": {},
     "output_type": "execute_result"
    }
   ],
   "source": [
    "new_list"
   ]
  },
  {
   "cell_type": "code",
   "execution_count": 19,
   "id": "adbfd2d8-57e8-4d01-af97-d1143611814e",
   "metadata": {},
   "outputs": [],
   "source": [
    "new_list.sort()"
   ]
  },
  {
   "cell_type": "code",
   "execution_count": 22,
   "id": "8ae64600-c47b-4c6f-94da-8dd7192a5269",
   "metadata": {},
   "outputs": [
    {
     "data": {
      "text/plain": [
       "['f', 'j', 'k', 'w']"
      ]
     },
     "execution_count": 22,
     "metadata": {},
     "output_type": "execute_result"
    }
   ],
   "source": [
    "new_list"
   ]
  },
  {
   "cell_type": "code",
   "execution_count": 24,
   "id": "f51762c2-119a-408d-b4bc-d903481b4f65",
   "metadata": {},
   "outputs": [],
   "source": [
    "new_list.append(['j','i'])"
   ]
  },
  {
   "cell_type": "code",
   "execution_count": 25,
   "id": "c0ad10b3-ed4b-471d-9806-7e028ee3bab9",
   "metadata": {},
   "outputs": [
    {
     "data": {
      "text/plain": [
       "['f', 'j', 'k', 'w', ['j', 'i']]"
      ]
     },
     "execution_count": 25,
     "metadata": {},
     "output_type": "execute_result"
    }
   ],
   "source": [
    "new_list"
   ]
  },
  {
   "cell_type": "code",
   "execution_count": 26,
   "id": "b72e40d0-2be2-4ac0-9c5f-b0e107412ed9",
   "metadata": {},
   "outputs": [],
   "source": [
    "new_list.extend(['j','k'])"
   ]
  },
  {
   "cell_type": "code",
   "execution_count": 27,
   "id": "951aaee9-2550-474d-89bc-18a6cf812055",
   "metadata": {},
   "outputs": [
    {
     "data": {
      "text/plain": [
       "['f', 'j', 'k', 'w', ['j', 'i'], 'j', 'k']"
      ]
     },
     "execution_count": 27,
     "metadata": {},
     "output_type": "execute_result"
    }
   ],
   "source": [
    "new_list"
   ]
  },
  {
   "cell_type": "code",
   "execution_count": 28,
   "id": "7ba9e01a-39fa-47ba-a96d-cbf6b5c9a138",
   "metadata": {},
   "outputs": [],
   "source": [
    "## lets make three lists\n",
    "lst_1=[1,2,3]\n",
    "lst_2=[4,5,6]\n",
    "lst_3=[7,8,9]\n",
    "\n",
    "matrix=[lst_1,lst_2,lst_3]"
   ]
  },
  {
   "cell_type": "code",
   "execution_count": 29,
   "id": "44d9fdae-622c-4ce0-a7ba-3dbb3405270f",
   "metadata": {},
   "outputs": [
    {
     "data": {
      "text/plain": [
       "[[1, 2, 3], [4, 5, 6], [7, 8, 9]]"
      ]
     },
     "execution_count": 29,
     "metadata": {},
     "output_type": "execute_result"
    }
   ],
   "source": [
    "matrix"
   ]
  },
  {
   "cell_type": "code",
   "execution_count": 30,
   "id": "7355c3dc-cf6a-494a-babb-46ac422fc00c",
   "metadata": {},
   "outputs": [
    {
     "data": {
      "text/plain": [
       "3"
      ]
     },
     "execution_count": 30,
     "metadata": {},
     "output_type": "execute_result"
    }
   ],
   "source": [
    "matrix[0][2]"
   ]
  },
  {
   "cell_type": "code",
   "execution_count": 31,
   "id": "d00ddb96-d0da-4799-851c-09ca66c33dcf",
   "metadata": {},
   "outputs": [
    {
     "data": {
      "text/plain": [
       "[8, 9]"
      ]
     },
     "execution_count": 31,
     "metadata": {},
     "output_type": "execute_result"
    }
   ],
   "source": [
    "matrix[2][1:]"
   ]
  },
  {
   "cell_type": "code",
   "execution_count": 32,
   "id": "50d568f8-fe34-42c7-9d9b-3f0d68a2605a",
   "metadata": {},
   "outputs": [
    {
     "data": {
      "text/plain": [
       "[0, 1, 2, 3, 4, 5, 6, 7, 8, 9]"
      ]
     },
     "execution_count": 32,
     "metadata": {},
     "output_type": "execute_result"
    }
   ],
   "source": [
    "## list comprehension\n",
    "[k for k in range(10)]"
   ]
  },
  {
   "cell_type": "code",
   "execution_count": 34,
   "id": "a8598254-130d-4cf7-9895-cac8ef7830af",
   "metadata": {},
   "outputs": [
    {
     "data": {
      "text/plain": [
       "[0, 'bow', 'bow', 'bow', 'bow', 5, 'bow', 'bow', 'bow', 'bow']"
      ]
     },
     "execution_count": 34,
     "metadata": {},
     "output_type": "execute_result"
    }
   ],
   "source": [
    "[i if i%5==0 else \"bow\" for i in range(0,10)]"
   ]
  },
  {
   "cell_type": "code",
   "execution_count": 35,
   "id": "58027824-d96a-4df2-b6dd-9f96aa6a431b",
   "metadata": {},
   "outputs": [],
   "source": [
    "## assignment\n",
    "## sum of even numbers and odd numbers\n",
    "lst_1=[1,2,3,4,5,6,7,8,9,0]\n"
   ]
  },
  {
   "cell_type": "code",
   "execution_count": 39,
   "id": "b9051e6f-5e3b-42fc-9f2e-ea8afb1a5fc9",
   "metadata": {},
   "outputs": [],
   "source": [
    "even_sum=sum([num for num in lst_1 if num%2==0])"
   ]
  },
  {
   "cell_type": "code",
   "execution_count": 40,
   "id": "03626176-56cd-495a-9191-e004ec9206f5",
   "metadata": {},
   "outputs": [
    {
     "data": {
      "text/plain": [
       "20"
      ]
     },
     "execution_count": 40,
     "metadata": {},
     "output_type": "execute_result"
    }
   ],
   "source": [
    "even_sum"
   ]
  },
  {
   "cell_type": "code",
   "execution_count": 41,
   "id": "b1923bfc-aa1f-4782-81a3-19d5fc1bfe7b",
   "metadata": {},
   "outputs": [],
   "source": [
    "odd_sum=sum([num for num in lst_1 if num%2!=0])"
   ]
  },
  {
   "cell_type": "code",
   "execution_count": 44,
   "id": "cd4217ab-b201-4373-a718-665309c4647e",
   "metadata": {},
   "outputs": [
    {
     "data": {
      "text/plain": [
       "25"
      ]
     },
     "execution_count": 44,
     "metadata": {},
     "output_type": "execute_result"
    }
   ],
   "source": [
    "odd_sum"
   ]
  },
  {
   "cell_type": "code",
   "execution_count": 51,
   "id": "4344bbbd-9084-4193-838f-c379611fce90",
   "metadata": {},
   "outputs": [
    {
     "data": {
      "text/plain": [
       "[1, 4, 9, 16, 25, 36, 49, 64, 81, 0]"
      ]
     },
     "execution_count": 51,
     "metadata": {},
     "output_type": "execute_result"
    }
   ],
   "source": [
    "[num**2 for num in lst_1]"
   ]
  },
  {
   "cell_type": "code",
   "execution_count": 54,
   "id": "f0cc5dd9-3277-4e77-b1b8-b726e0221a6b",
   "metadata": {},
   "outputs": [],
   "source": [
    "\n",
    "numbers = [-2, -1, 0, 1, 2, 3, 4]\n"
   ]
  },
  {
   "cell_type": "code",
   "execution_count": 55,
   "id": "ce66e8d3-9cde-4d7a-9d32-a99cffa85116",
   "metadata": {},
   "outputs": [
    {
     "data": {
      "text/plain": [
       "[1, 2, 3, 4]"
      ]
     },
     "execution_count": 55,
     "metadata": {},
     "output_type": "execute_result"
    }
   ],
   "source": [
    "([num for num in numbers if num>0])"
   ]
  },
  {
   "cell_type": "code",
   "execution_count": 56,
   "id": "bdad6add-0a39-48ff-90ce-c32e692c59d2",
   "metadata": {},
   "outputs": [
    {
     "data": {
      "text/plain": [
       "[4, 1, 0]"
      ]
     },
     "execution_count": 56,
     "metadata": {},
     "output_type": "execute_result"
    }
   ],
   "source": [
    "([num**2 for num in numbers if num<=0])"
   ]
  },
  {
   "cell_type": "code",
   "execution_count": 57,
   "id": "58b8a26e-dd9f-427b-9093-1864ad66d419",
   "metadata": {},
   "outputs": [],
   "source": [
    "# Example 3: Create a list of only the first letters of words in a list\n",
    "words = ['apple', 'banana', 'cherry', 'date']"
   ]
  },
  {
   "cell_type": "code",
   "execution_count": 61,
   "id": "becf065d-0b5c-4668-8178-32ca4f1ceadc",
   "metadata": {},
   "outputs": [
    {
     "data": {
      "text/plain": [
       "['a', 'b', 'c', 'd']"
      ]
     },
     "execution_count": 61,
     "metadata": {},
     "output_type": "execute_result"
    }
   ],
   "source": [
    "[word[0] for word in words]"
   ]
  },
  {
   "cell_type": "code",
   "execution_count": 62,
   "id": "4cb212dc-428e-4647-981d-264b8f2b833a",
   "metadata": {},
   "outputs": [
    {
     "ename": "SyntaxError",
     "evalue": "invalid syntax (759873500.py, line 1)",
     "output_type": "error",
     "traceback": [
      "\u001b[0;36m  Cell \u001b[0;32mIn[62], line 1\u001b[0;36m\u001b[0m\n\u001b[0;31m    formula for changing temperature in celsius to farenheit\u001b[0m\n\u001b[0m            ^\u001b[0m\n\u001b[0;31mSyntaxError\u001b[0m\u001b[0;31m:\u001b[0m invalid syntax\n"
     ]
    }
   ],
   "source": [
    "formula for changing temperature in celsius to farenheit\n",
    "(9/5)*temp+32"
   ]
  },
  {
   "cell_type": "code",
   "execution_count": 63,
   "id": "38e43427-bf73-42b0-ab0c-37646d38afe7",
   "metadata": {},
   "outputs": [],
   "source": [
    "# Example 4: Convert a list of temperatures from Celsius to Fahrenheit uing list comprehesnion\n",
    "celsius_temperatures = [0, 10, 20, 30, 40, 50]"
   ]
  },
  {
   "cell_type": "code",
   "execution_count": 64,
   "id": "b3b9b235-09bb-4b56-b7cb-58856292ec3e",
   "metadata": {},
   "outputs": [
    {
     "data": {
      "text/plain": [
       "[32.0, 50.0, 68.0, 86.0, 104.0, 122.0]"
      ]
     },
     "execution_count": 64,
     "metadata": {},
     "output_type": "execute_result"
    }
   ],
   "source": [
    "[(9/5)*temp + 32 for temp in celsius_temperatures]"
   ]
  },
  {
   "cell_type": "code",
   "execution_count": 65,
   "id": "d6bc7bd4-8daa-4950-bbf8-7f0e91042c04",
   "metadata": {},
   "outputs": [],
   "source": [
    "# Example 5: Flatten a list of lists into a single list\n",
    "lists = [[1, 2, 3], [4, 5, 6], [7, 8, 9]]"
   ]
  },
  {
   "cell_type": "code",
   "execution_count": 66,
   "id": "f05d4fb5-7c63-4480-9630-6d1f9a7599cb",
   "metadata": {},
   "outputs": [
    {
     "data": {
      "text/plain": [
       "[1, 2, 3, 4, 5, 6, 7, 8, 9]"
      ]
     },
     "execution_count": 66,
     "metadata": {},
     "output_type": "execute_result"
    }
   ],
   "source": [
    "[j for i in lists for j in i]"
   ]
  },
  {
   "cell_type": "code",
   "execution_count": 67,
   "id": "8e298a44-9ba2-49d7-8304-2dc1aafcaefd",
   "metadata": {},
   "outputs": [],
   "source": [
    "## Assignment \n",
    "## Using both code and list comprehesnion\n",
    "# Example 2: Create a list of only the prime numbers from a given list\n",
    "numbers = [1, 2, 3, 4, 5, 6, 7, 8, 9, 10]"
   ]
  },
  {
   "cell_type": "code",
   "execution_count": 68,
   "id": "2eb50cb0-e7d7-460f-bb0f-7d97dfb2f54b",
   "metadata": {},
   "outputs": [],
   "source": [
    "# Example 3: Create a list of all the possible combinations of 2 elements from a list\n",
    "numbers = [1, 2, 3, 4, 5]"
   ]
  },
  {
   "cell_type": "code",
   "execution_count": 69,
   "id": "43892b1e-45ba-4a26-b57b-510dc72262b1",
   "metadata": {},
   "outputs": [],
   "source": [
    "c=1+2j"
   ]
  },
  {
   "cell_type": "code",
   "execution_count": null,
   "id": "02b4d4c2-7bce-4bc2-b098-92a6be43bb95",
   "metadata": {},
   "outputs": [],
   "source": []
  }
 ],
 "metadata": {
  "kernelspec": {
   "display_name": "Python 3 (ipykernel)",
   "language": "python",
   "name": "python3"
  },
  "language_info": {
   "codemirror_mode": {
    "name": "ipython",
    "version": 3
   },
   "file_extension": ".py",
   "mimetype": "text/x-python",
   "name": "python",
   "nbconvert_exporter": "python",
   "pygments_lexer": "ipython3",
   "version": "3.10.8"
  }
 },
 "nbformat": 4,
 "nbformat_minor": 5
}
