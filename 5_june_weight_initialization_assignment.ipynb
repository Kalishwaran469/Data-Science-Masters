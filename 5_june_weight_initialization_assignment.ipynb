{
  "nbformat": 4,
  "nbformat_minor": 0,
  "metadata": {
    "colab": {
      "provenance": []
    },
    "kernelspec": {
      "name": "python3",
      "display_name": "Python 3"
    },
    "language_info": {
      "name": "python"
    }
  },
  "cells": [
    {
      "cell_type": "code",
      "execution_count": null,
      "metadata": {
        "id": "q-JCcfG-NRo3"
      },
      "outputs": [],
      "source": [
        "# question 1"
      ]
    },
    {
      "cell_type": "code",
      "source": [
        "# While building and training neural networks, it is crucial to initialize the weights appropriately to ensure a model with high accuracy. If the weights are not correctly initialized, it may give rise to the Vanishing Gradient problem or the Exploding Gradient problem."
      ],
      "metadata": {
        "id": "ntkvlQ3fNTPx"
      },
      "execution_count": null,
      "outputs": []
    },
    {
      "cell_type": "code",
      "source": [
        "# question 4"
      ],
      "metadata": {
        "id": "tqCQqz1aNTS-"
      },
      "execution_count": null,
      "outputs": []
    },
    {
      "cell_type": "code",
      "source": [
        "# If all the weights are initialized with 0, the derivative with respect to loss function is the same for every w in W[l], thus all weights have the same value in subsequent iterations."
      ],
      "metadata": {
        "id": "qQhb8mfeNTW1"
      },
      "execution_count": null,
      "outputs": []
    },
    {
      "cell_type": "code",
      "source": [
        "# question 6"
      ],
      "metadata": {
        "id": "wQ6zVWA3NTZ7"
      },
      "execution_count": null,
      "outputs": []
    },
    {
      "cell_type": "code",
      "source": [
        "# Xavier initialization sets all the weights in a neural network to the same value. Xavier initialization is only suitable for networks with linear activation functions. Xavier initialization is based on the assumption that the inputs and outputs have different variances."
      ],
      "metadata": {
        "id": "WXNZNv8tNTdF"
      },
      "execution_count": null,
      "outputs": []
    },
    {
      "cell_type": "code",
      "source": [
        "# question 7"
      ],
      "metadata": {
        "id": "1iwZggIzNTfv"
      },
      "execution_count": null,
      "outputs": []
    },
    {
      "cell_type": "code",
      "source": [
        "# Two popular weight initialization strategies are Glorot initialization (Glorot and Bengio, 2010) and He initialization (He et al., 2015b). Glorot initialization is recommended for tanh- and sigmoid-based neurons, and He initialization is recommended for ReLU-based neurons"
      ],
      "metadata": {
        "id": "a6dgDTBMNTjB"
      },
      "execution_count": null,
      "outputs": []
    },
    {
      "cell_type": "code",
      "source": [
        "# question 8"
      ],
      "metadata": {
        "id": "KWOr33njNTl7"
      },
      "execution_count": null,
      "outputs": []
    },
    {
      "cell_type": "code",
      "source": [
        "import tensorflow as tf\n",
        "import matplotlib.pyplot as plt\n",
        "import numpy as np\n",
        "import pandas as pd\n",
        "import seaborn as sns\n",
        "import os"
      ],
      "metadata": {
        "id": "_8kJu11VOCO7"
      },
      "execution_count": 1,
      "outputs": []
    },
    {
      "cell_type": "code",
      "source": [
        "print(f\"Tensorflow Version {tf.__version__}\")\n",
        "print(f\"Keras Version {tf.keras.__version__}\")"
      ],
      "metadata": {
        "colab": {
          "base_uri": "https://localhost:8080/"
        },
        "id": "iom94oaaOCSR",
        "outputId": "3c0e485b-0871-49ee-aaea-839928aa62ea"
      },
      "execution_count": 2,
      "outputs": [
        {
          "output_type": "stream",
          "name": "stdout",
          "text": [
            "Tensorflow Version 2.12.0\n",
            "Keras Version 2.12.0\n"
          ]
        }
      ]
    },
    {
      "cell_type": "code",
      "source": [
        "mnist = tf.keras.datasets.mnist\n",
        "(X_train_full, y_train_full), (X_test, y_test) = mnist.load_data()"
      ],
      "metadata": {
        "colab": {
          "base_uri": "https://localhost:8080/"
        },
        "id": "dq8DBzVuOCV3",
        "outputId": "d4e3fdc2-d524-45a5-9ac4-44a8bc068183"
      },
      "execution_count": 3,
      "outputs": [
        {
          "output_type": "stream",
          "name": "stdout",
          "text": [
            "Downloading data from https://storage.googleapis.com/tensorflow/tf-keras-datasets/mnist.npz\n",
            "11490434/11490434 [==============================] - 1s 0us/step\n"
          ]
        }
      ]
    },
    {
      "cell_type": "code",
      "source": [
        "X_valid, X_train = X_train_full[:5000] / 255., X_train_full[5000:] / 255.\n",
        "y_valid, y_train = y_train_full[:5000], y_train_full[5000:]\n",
        "\n",
        "\n",
        "X_test = X_test / 255."
      ],
      "metadata": {
        "id": "qxcujK1BOCxz"
      },
      "execution_count": 4,
      "outputs": []
    },
    {
      "cell_type": "code",
      "source": [
        "LAYERS = [tf.keras.layers.Flatten(input_shape=[28, 28], name=\"inputLayer\"),\n",
        "          tf.keras.layers.Dense(300, activation=\"relu\", name=\"hiddenLayer1\",kernel_initializer=tf.keras.initializers.HeNormal(seed=None)),\n",
        "          tf.keras.layers.Dense(100, activation=\"relu\", name=\"hiddenLayer2\",kernel_initializer=tf.keras.initializers.HeNormal(seed=None)),\n",
        "          tf.keras.layers.Dense(10, activation=\"softmax\", name=\"outputLayer\")]\n",
        "\n",
        "model_clf = tf.keras.models.Sequential(LAYERS)"
      ],
      "metadata": {
        "id": "Ft-zfmzyOno4"
      },
      "execution_count": 10,
      "outputs": []
    },
    {
      "cell_type": "code",
      "source": [
        "model_clf.summary()"
      ],
      "metadata": {
        "colab": {
          "base_uri": "https://localhost:8080/"
        },
        "id": "lQjwWNVuOnrq",
        "outputId": "7a9bd1b5-ffc6-454d-aa89-b033628850ef"
      },
      "execution_count": 11,
      "outputs": [
        {
          "output_type": "stream",
          "name": "stdout",
          "text": [
            "Model: \"sequential_1\"\n",
            "_________________________________________________________________\n",
            " Layer (type)                Output Shape              Param #   \n",
            "=================================================================\n",
            " inputLayer (Flatten)        (None, 784)               0         \n",
            "                                                                 \n",
            " hiddenLayer1 (Dense)        (None, 300)               235500    \n",
            "                                                                 \n",
            " hiddenLayer2 (Dense)        (None, 100)               30100     \n",
            "                                                                 \n",
            " outputLayer (Dense)         (None, 10)                1010      \n",
            "                                                                 \n",
            "=================================================================\n",
            "Total params: 266,610\n",
            "Trainable params: 266,610\n",
            "Non-trainable params: 0\n",
            "_________________________________________________________________\n"
          ]
        }
      ]
    },
    {
      "cell_type": "code",
      "source": [
        "LOSS_FUNCTION = \"sparse_categorical_crossentropy\"\n",
        "OPTIMIZER = \"SGD\"\n",
        "METRICS = [\"accuracy\"]\n",
        "\n",
        "model_clf.compile(loss=LOSS_FUNCTION,\n",
        "              optimizer=OPTIMIZER,\n",
        "              metrics=METRICS)\n"
      ],
      "metadata": {
        "id": "ULqE-X96OnvU"
      },
      "execution_count": 12,
      "outputs": []
    },
    {
      "cell_type": "code",
      "source": [
        "EPOCHS = 5\n",
        "VALIDATION_SET = (X_valid, y_valid)\n",
        "\n",
        "history = model_clf.fit(X_train, y_train, epochs=EPOCHS,\n",
        "                    validation_data=VALIDATION_SET, batch_size=32)\n"
      ],
      "metadata": {
        "colab": {
          "base_uri": "https://localhost:8080/"
        },
        "id": "ZKpgxjewOnyP",
        "outputId": "7187be0b-7ff4-4bc6-e2db-96a381d5b08d"
      },
      "execution_count": 13,
      "outputs": [
        {
          "output_type": "stream",
          "name": "stdout",
          "text": [
            "Epoch 1/5\n",
            "1719/1719 [==============================] - 8s 4ms/step - loss: 0.5644 - accuracy: 0.8499 - val_loss: 0.3073 - val_accuracy: 0.9116\n",
            "Epoch 2/5\n",
            "1719/1719 [==============================] - 6s 4ms/step - loss: 0.2756 - accuracy: 0.9219 - val_loss: 0.2269 - val_accuracy: 0.9354\n",
            "Epoch 3/5\n",
            "1719/1719 [==============================] - 7s 4ms/step - loss: 0.2236 - accuracy: 0.9361 - val_loss: 0.1919 - val_accuracy: 0.9474\n",
            "Epoch 4/5\n",
            "1719/1719 [==============================] - 6s 3ms/step - loss: 0.1916 - accuracy: 0.9454 - val_loss: 0.1661 - val_accuracy: 0.9534\n",
            "Epoch 5/5\n",
            "1719/1719 [==============================] - 7s 4ms/step - loss: 0.1666 - accuracy: 0.9520 - val_loss: 0.1569 - val_accuracy: 0.9560\n"
          ]
        }
      ]
    },
    {
      "cell_type": "code",
      "source": [
        "lAYERS = [tf.keras.layers.Flatten(input_shape=[28, 28], name=\"inputLayer\"),\n",
        "          tf.keras.layers.Dense(300, activation=\"relu\", name=\"hiddenLayer1\",kernel_initializer=tf.keras.initializers.GlorotNormal()),\n",
        "          tf.keras.layers.Dense(100, activation=\"relu\", name=\"hiddenLayer2\",kernel_initializer=tf.keras.initializers.GlorotNormal()),\n",
        "          tf.keras.layers.Dense(10, activation=\"softmax\", name=\"outputLayer\")]\n",
        "\n",
        "model = tf.keras.models.Sequential(lAYERS)"
      ],
      "metadata": {
        "id": "wFqXhwdYOn2a"
      },
      "execution_count": 18,
      "outputs": []
    },
    {
      "cell_type": "code",
      "source": [
        "LOSS_FUNCTION = \"sparse_categorical_crossentropy\"\n",
        "OPTIMIZER = \"SGD\"\n",
        "METRICS = [\"accuracy\"]\n",
        "\n",
        "model.compile(loss=LOSS_FUNCTION,\n",
        "              optimizer=OPTIMIZER,\n",
        "              metrics=METRICS)\n"
      ],
      "metadata": {
        "id": "7OV59W6VSrQB"
      },
      "execution_count": 20,
      "outputs": []
    },
    {
      "cell_type": "code",
      "source": [
        "EPOCHS = 5\n",
        "VALIDATION_SET = (X_valid, y_valid)\n",
        "\n",
        "history = model.fit(X_train, y_train, epochs=EPOCHS,\n",
        "                    validation_data=VALIDATION_SET, batch_size=32)"
      ],
      "metadata": {
        "colab": {
          "base_uri": "https://localhost:8080/"
        },
        "id": "Izy_ykUWOn6m",
        "outputId": "8fe5501f-7c0e-40fe-a062-5ba1ef8221eb"
      },
      "execution_count": 21,
      "outputs": [
        {
          "output_type": "stream",
          "name": "stdout",
          "text": [
            "Epoch 1/5\n",
            "1719/1719 [==============================] - 7s 4ms/step - loss: 0.5818 - accuracy: 0.8485 - val_loss: 0.3011 - val_accuracy: 0.9160\n",
            "Epoch 2/5\n",
            "1719/1719 [==============================] - 7s 4ms/step - loss: 0.2846 - accuracy: 0.9195 - val_loss: 0.2384 - val_accuracy: 0.9356\n",
            "Epoch 3/5\n",
            "1719/1719 [==============================] - 6s 4ms/step - loss: 0.2319 - accuracy: 0.9333 - val_loss: 0.2042 - val_accuracy: 0.9462\n",
            "Epoch 4/5\n",
            "1719/1719 [==============================] - 7s 4ms/step - loss: 0.1985 - accuracy: 0.9436 - val_loss: 0.1753 - val_accuracy: 0.9504\n",
            "Epoch 5/5\n",
            "1719/1719 [==============================] - 6s 4ms/step - loss: 0.1733 - accuracy: 0.9508 - val_loss: 0.1599 - val_accuracy: 0.9560\n"
          ]
        }
      ]
    },
    {
      "cell_type": "code",
      "source": [
        "# question 9"
      ],
      "metadata": {
        "id": "Bs9DQiNeOn9j"
      },
      "execution_count": null,
      "outputs": []
    },
    {
      "cell_type": "code",
      "source": [
        "# 👉 Zero initialization causes the neuron to memorize the same functions almost in each iteration. 👉 Random initialization is a better choice to break the symmetry. However, initializing weight with much high or low value can result in slower optimization."
      ],
      "metadata": {
        "id": "rzeT1wzGOC0k"
      },
      "execution_count": null,
      "outputs": []
    }
  ]
}