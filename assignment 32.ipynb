{
 "cells": [
  {
   "cell_type": "code",
   "execution_count": null,
   "id": "c7153096-d399-4c28-b7ac-c608e2aef09c",
   "metadata": {},
   "outputs": [],
   "source": [
    "# question 1"
   ]
  },
  {
   "cell_type": "code",
   "execution_count": null,
   "id": "8113ab17-54b3-44df-8da5-09d9054929d5",
   "metadata": {},
   "outputs": [],
   "source": [
    "# A function that defines the relationship between a random variable and its probability, such that you can find the probability of the variable using the function, is called a Probability Density Function "
   ]
  },
  {
   "cell_type": "code",
   "execution_count": null,
   "id": "d26f963b-1f27-412f-8d34-39a21f78e566",
   "metadata": {},
   "outputs": [],
   "source": [
    "# question 2"
   ]
  },
  {
   "cell_type": "code",
   "execution_count": null,
   "id": "cbaf0f0d-5e71-42c6-9ca4-03dea9993f71",
   "metadata": {},
   "outputs": [],
   "source": [
    "# bernauli distribution,binomial distribution,poisson distribution,normal distribution"
   ]
  },
  {
   "cell_type": "code",
   "execution_count": null,
   "id": "d9e665b5-899d-4303-a018-eee8337c938d",
   "metadata": {},
   "outputs": [],
   "source": [
    "# question 4"
   ]
  },
  {
   "cell_type": "code",
   "execution_count": null,
   "id": "b26f98ef-a831-4f9c-9f98-1ebb2b93ff2c",
   "metadata": {},
   "outputs": [],
   "source": [
    "# Binomial distribution is applicable when the trials are independent and each trial has just two outcomes success and failure. It is applied in coin tossing experiments, sampling inspection plan, genetic experiments and so on."
   ]
  },
  {
   "cell_type": "code",
   "execution_count": null,
   "id": "c5100a28-1650-4aee-aced-5977a1baa0f0",
   "metadata": {},
   "outputs": [],
   "source": [
    "# question 7"
   ]
  },
  {
   "cell_type": "code",
   "execution_count": null,
   "id": "a29d34f7-1f66-481d-a0e4-648836bfa0cb",
   "metadata": {},
   "outputs": [],
   "source": [
    "# Binomial distribution is one in which the probability of repeated number of trials are studied. Poisson Distribution gives the count of independent events occur randomly with a given period of time. Only two possible outcomes, i.e. success or failure. Unlimited number of possible outcomes."
   ]
  },
  {
   "cell_type": "code",
   "execution_count": null,
   "id": "ffafdbf1-78c6-45b2-9230-7a11e78e7ae4",
   "metadata": {},
   "outputs": [],
   "source": [
    "# question 9"
   ]
  },
  {
   "cell_type": "code",
   "execution_count": null,
   "id": "1017e926-9676-4727-a89d-e668290c27d7",
   "metadata": {},
   "outputs": [],
   "source": [
    "# In a binomial distribution, there are only two possible outcomes, i.e. success or failure. Conversely, there are an unlimited number of possible outcomes in the case of poisson distribution. In binomial distribution Mean > Variance while in poisson distribution mean = variance."
   ]
  },
  {
   "cell_type": "code",
   "execution_count": null,
   "id": "02123cd5-c4ed-4d50-8119-e50e65d34091",
   "metadata": {},
   "outputs": [],
   "source": [
    "# question 10"
   ]
  },
  {
   "cell_type": "code",
   "execution_count": null,
   "id": "04d929c6-6230-4db5-a949-e9334384499d",
   "metadata": {},
   "outputs": [],
   "source": [
    "# in normal distribution least frequent data with respect to mean appeared at mean-3*standard "
   ]
  }
 ],
 "metadata": {
  "kernelspec": {
   "display_name": "Python 3 (ipykernel)",
   "language": "python",
   "name": "python3"
  },
  "language_info": {
   "codemirror_mode": {
    "name": "ipython",
    "version": 3
   },
   "file_extension": ".py",
   "mimetype": "text/x-python",
   "name": "python",
   "nbconvert_exporter": "python",
   "pygments_lexer": "ipython3",
   "version": "3.10.8"
  }
 },
 "nbformat": 4,
 "nbformat_minor": 5
}
