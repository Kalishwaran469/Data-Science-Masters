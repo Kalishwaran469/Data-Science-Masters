{
 "cells": [
  {
   "cell_type": "code",
   "execution_count": null,
   "id": "b2566165-6921-48b7-bf42-4d73b038cf03",
   "metadata": {},
   "outputs": [],
   "source": [
    "# question1"
   ]
  },
  {
   "cell_type": "code",
   "execution_count": null,
   "id": "2479fcf4-3379-4520-b89a-de391817732c",
   "metadata": {},
   "outputs": [],
   "source": [
    "# get and post both are used to get the data but the difference is post get the data as a url also it's completely public like a google seqrch but on the other hand post get the data through form in a more secured way like gmail."
   ]
  },
  {
   "cell_type": "code",
   "execution_count": null,
   "id": "e78f0c7c-b7e7-440e-9cae-57fb24cb5b85",
   "metadata": {},
   "outputs": [],
   "source": [
    "# question2"
   ]
  },
  {
   "cell_type": "code",
   "execution_count": null,
   "id": "1fbbf451-67ef-48fe-8b24-dd7ee7aaaf24",
   "metadata": {},
   "outputs": [],
   "source": [
    "# To access the incoming data in Flask, you have to use the request object. The request object holds all incoming data from the request, which includes the mimetype, referrer, IP address, raw data, HTTP method, and headers, among other things."
   ]
  },
  {
   "cell_type": "code",
   "execution_count": null,
   "id": "427463e6-d411-4d3c-a44f-986f3bc4db5d",
   "metadata": {},
   "outputs": [],
   "source": [
    "# question3"
   ]
  },
  {
   "cell_type": "code",
   "execution_count": null,
   "id": "02f94f94-73fe-44ef-8cd7-116a4e7069ff",
   "metadata": {},
   "outputs": [],
   "source": [
    "# The Flask class has a redirect() function. When invoked, it returns a response object and redirects the user to another target location with the specified status code."
   ]
  },
  {
   "cell_type": "code",
   "execution_count": null,
   "id": "d6ae833b-f5f4-404b-ad20-2b044e6d9d02",
   "metadata": {},
   "outputs": [],
   "source": [
    "# question4"
   ]
  },
  {
   "cell_type": "code",
   "execution_count": null,
   "id": "1b6928a2-a45a-4076-b71d-94a02b5c2c24",
   "metadata": {},
   "outputs": [],
   "source": [
    "# render_template is a Flask function from the flask. templating package. render_template is used to generate output from a template file based on the Jinja2 engine that is found in the application's templates folder. Note that render_template is typically imported directly from the flask package instead of from flask."
   ]
  },
  {
   "cell_type": "code",
   "execution_count": null,
   "id": "3e748bca-28c3-417c-9a01-d13a35b27a0c",
   "metadata": {},
   "outputs": [],
   "source": []
  },
  {
   "cell_type": "code",
   "execution_count": null,
   "id": "ebb32002-4e0f-4893-8067-5795cc19a1d9",
   "metadata": {},
   "outputs": [],
   "source": []
  },
  {
   "cell_type": "code",
   "execution_count": null,
   "id": "e0ac0e83-4f84-4a9a-a7b6-06edfc264a7d",
   "metadata": {},
   "outputs": [],
   "source": []
  }
 ],
 "metadata": {
  "kernelspec": {
   "display_name": "Python 3 (ipykernel)",
   "language": "python",
   "name": "python3"
  },
  "language_info": {
   "codemirror_mode": {
    "name": "ipython",
    "version": 3
   },
   "file_extension": ".py",
   "mimetype": "text/x-python",
   "name": "python",
   "nbconvert_exporter": "python",
   "pygments_lexer": "ipython3",
   "version": "3.10.8"
  }
 },
 "nbformat": 4,
 "nbformat_minor": 5
}
