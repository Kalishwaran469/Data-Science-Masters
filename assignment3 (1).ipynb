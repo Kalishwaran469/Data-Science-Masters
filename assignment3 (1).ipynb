{
 "cells": [
  {
   "cell_type": "code",
   "execution_count": 14,
   "id": "9c0b2c7d-dcc6-4a86-aeb9-2a7cd99b1b39",
   "metadata": {},
   "outputs": [
    {
     "ename": "IndentationError",
     "evalue": "unexpected indent (429953167.py, line 6)",
     "output_type": "error",
     "traceback": [
      "\u001b[0;36m  Cell \u001b[0;32mIn[14], line 6\u001b[0;36m\u001b[0m\n\u001b[0;31m    the elements inside the parenthesis separated by commas.\u001b[0m\n\u001b[0m    ^\u001b[0m\n\u001b[0;31mIndentationError\u001b[0m\u001b[0;31m:\u001b[0m unexpected indent\n"
     ]
    }
   ],
   "source": [
    "## question 1\n",
    "\n",
    "## What are the characteristics of the tuples? Is tuple immutable? \n",
    "    \n",
    "'''These tuples are an ordered collection of elements of different data types. Furthermore, we represent them by writing\n",
    "   the elements inside the parenthesis separated by commas.\n",
    "    We can also define tuples as lists that we cannot change. There\n",
    "   fore, we can call them immutable tuples'''."
   ]
  },
  {
   "cell_type": "code",
   "execution_count": 11,
   "id": "12d0ba86-6bee-4168-bd8d-07f380dc1dcd",
   "metadata": {},
   "outputs": [
    {
     "data": {
      "text/plain": [
       "1"
      ]
     },
     "execution_count": 11,
     "metadata": {},
     "output_type": "execute_result"
    }
   ],
   "source": [
    "## question2\n",
    "## What are the two tuple methods in python? Give an example of each method. \n",
    "## Give a reason why  tuples have only twoin-built methods as compared to Lists. \n",
    "\n",
    "'''Lists have several built-in methods. A unexpected change or error is more likely to occur in a list.\n",
    "   In a tuple, changes and errors don't usually occur because of immutability'''.\n",
    "\n",
    "\n",
    "t=(1,2,3,4)\n",
    "t.count(1)\n",
    "\n"
   ]
  },
  {
   "cell_type": "code",
   "execution_count": 12,
   "id": "7bda8cb6-2bbb-4c8f-ae18-c56a3b29d730",
   "metadata": {},
   "outputs": [
    {
     "data": {
      "text/plain": [
       "0"
      ]
     },
     "execution_count": 12,
     "metadata": {},
     "output_type": "execute_result"
    }
   ],
   "source": [
    "t.index(1)"
   ]
  },
  {
   "cell_type": "code",
   "execution_count": 20,
   "id": "aa05ec1b-e75c-494c-aa5e-5ada02e4d2f8",
   "metadata": {},
   "outputs": [
    {
     "data": {
      "text/plain": [
       "{1, 2, 3, 4}"
      ]
     },
     "execution_count": 20,
     "metadata": {},
     "output_type": "execute_result"
    }
   ],
   "source": [
    "##question3\n",
    "\n",
    "##Which collection datatypes in python do not allow duplicate items? \n",
    "## Write a code using a set to remove  duplicates from the given list. \n",
    "List = [1, 1, 1, 2, 1, 3, 1, 4, 2, 1, 2, 2, 2, 3, 2, 4, 3, 1, 3, 2, 3, 3, 3, 4, 4, 1, 4, 2, 4, 3, 4, 4] \n",
    "\n",
    "# set in python do not allow duplicate items\n",
    "set(List)\n"
   ]
  },
  {
   "cell_type": "code",
   "execution_count": 18,
   "id": "d5108f93-fda6-4644-abb5-b82460dc0418",
   "metadata": {},
   "outputs": [
    {
     "ename": "SyntaxError",
     "evalue": "incomplete input (349272547.py, line 5)",
     "output_type": "error",
     "traceback": [
      "\u001b[0;36m  Cell \u001b[0;32mIn[18], line 5\u001b[0;36m\u001b[0m\n\u001b[0;31m    '''It is very similar to union() method, with difference is that where union() method create and return a new set, containing\u001b[0m\n\u001b[0m    ^\u001b[0m\n\u001b[0;31mSyntaxError\u001b[0m\u001b[0;31m:\u001b[0m incomplete input\n"
     ]
    }
   ],
   "source": [
    "##question4\n",
    "\n",
    "## Explain the difference between the union() and update() methods for a set. Give an example of  each method.\n",
    "   \n",
    "'''It is very similar to union() method, with difference is that where union() method create and return a new set, containing \n",
    "all the elements ( distinct ) present in all the iterables, update() method updates the set on which this method is called \n",
    "with all the distinct elements present in all the iterables'''.\n",
    "\n",
    "\n",
    "\n"
   ]
  },
  {
   "cell_type": "code",
   "execution_count": 23,
   "id": "74c650ff-e1a1-40b2-b0d9-cdbfbc87dc28",
   "metadata": {},
   "outputs": [],
   "source": [
    "set1={'a','b'}\n",
    "set2={'c','d'}\n",
    "set1.update(set2)"
   ]
  },
  {
   "cell_type": "code",
   "execution_count": 24,
   "id": "f4bf386a-96cd-4ca9-9e0b-3934bac58afc",
   "metadata": {},
   "outputs": [
    {
     "data": {
      "text/plain": [
       "{'a', 'b', 'c', 'd'}"
      ]
     },
     "execution_count": 24,
     "metadata": {},
     "output_type": "execute_result"
    }
   ],
   "source": [
    "set1"
   ]
  },
  {
   "cell_type": "code",
   "execution_count": 26,
   "id": "9ee3f55b-bb31-406b-9358-a6e6dbf5a496",
   "metadata": {},
   "outputs": [
    {
     "ename": "IndentationError",
     "evalue": "unexpected indent (1496885867.py, line 7)",
     "output_type": "error",
     "traceback": [
      "\u001b[0;36m  Cell \u001b[0;32mIn[26], line 7\u001b[0;36m\u001b[0m\n\u001b[0;31m    d={'key1' : 'value1' ,'key2' : 'value2'}\u001b[0m\n\u001b[0m    ^\u001b[0m\n\u001b[0;31mIndentationError\u001b[0m\u001b[0;31m:\u001b[0m unexpected indent\n"
     ]
    }
   ],
   "source": [
    "## question5\n",
    "\n",
    "## What is a dictionary? Give an example. Also, state whether a dictionary is ordered or unordered?. \n",
    "\n",
    "  # A dictionary is a collection which is ordered, changeable and do not allow duplicates. \n",
    "    \n",
    "\n",
    "\n"
   ]
  },
  {
   "cell_type": "code",
   "execution_count": 27,
   "id": "36c3932a-eaa7-4155-bd9d-d4bfe0d74c0b",
   "metadata": {},
   "outputs": [],
   "source": [
    "d={'abc' : 123 , 'ghj' : 345}"
   ]
  },
  {
   "cell_type": "code",
   "execution_count": 32,
   "id": "3a42fef1-1b0f-44c8-84a7-4142965ec3e7",
   "metadata": {},
   "outputs": [
    {
     "data": {
      "text/plain": [
       "{'abc': 123, 'ghj': 345}"
      ]
     },
     "execution_count": 32,
     "metadata": {},
     "output_type": "execute_result"
    }
   ],
   "source": [
    "d"
   ]
  },
  {
   "cell_type": "code",
   "execution_count": 36,
   "id": "a5228ccf-95ae-48f0-8316-844888cc720d",
   "metadata": {},
   "outputs": [],
   "source": [
    "## question6\n",
    "\n",
    "## can we create a nested dictionary? If so, please give an example by creating a simple one-level  nested dictionary?\n",
    "\n",
    " ## ofcourse we create a nested dictionary\n",
    "    \n",
    "d={'values' : {123:'abc'}}\n",
    "    \n",
    "    \n",
    "    \n"
   ]
  },
  {
   "cell_type": "code",
   "execution_count": 37,
   "id": "aefefe4a-c1e3-429c-9545-64fddeadc3dc",
   "metadata": {},
   "outputs": [
    {
     "data": {
      "text/plain": [
       "{'values': {123: 'abc'}}"
      ]
     },
     "execution_count": 37,
     "metadata": {},
     "output_type": "execute_result"
    }
   ],
   "source": [
    "d"
   ]
  },
  {
   "cell_type": "code",
   "execution_count": 3,
   "id": "0e697185-e67f-4433-9958-676d12a7c74b",
   "metadata": {},
   "outputs": [],
   "source": [
    "## question7\n",
    "\n",
    "## Using setdefault() method, create key named topics in the given dictionary and \n",
    "## also add the value of  the key as this\n",
    "\n",
    "dict1 = {'language' : 'Python', 'course': 'Data Science Masters'} \n",
    "\n",
    "\n",
    "\n"
   ]
  },
  {
   "cell_type": "code",
   "execution_count": 5,
   "id": "09e1df34-a73a-41f0-9992-6702f75fc14f",
   "metadata": {},
   "outputs": [
    {
     "data": {
      "text/plain": [
       "['Python', 'Machine Learning', 'Deep Learning']"
      ]
     },
     "execution_count": 5,
     "metadata": {},
     "output_type": "execute_result"
    }
   ],
   "source": [
    "dict1.setdefault('topics' , ['Python','Machine Learning','Deep Learning'])"
   ]
  },
  {
   "cell_type": "code",
   "execution_count": 6,
   "id": "e05deef2-e04f-4e38-a60b-431d7976228f",
   "metadata": {},
   "outputs": [
    {
     "name": "stdout",
     "output_type": "stream",
     "text": [
      "{'language': 'Python', 'course': 'Data Science Masters', 'topics': ['Python', 'Machine Learning', 'Deep Learning']}\n"
     ]
    }
   ],
   "source": [
    "print(dict1)"
   ]
  },
  {
   "cell_type": "code",
   "execution_count": 7,
   "id": "4548e148-5110-4287-b8e4-176339590d82",
   "metadata": {},
   "outputs": [
    {
     "data": {
      "text/plain": [
       "dict_keys(['Sport', 'Teams'])"
      ]
     },
     "execution_count": 7,
     "metadata": {},
     "output_type": "execute_result"
    }
   ],
   "source": [
    "## question8\n",
    "\n",
    "## What are the three view objects in dictionaries? e the three in-built methods in python to display\n",
    "## these three view objects for the given dictionary. \n",
    "dict1 = {'Sport': 'Cricket' , 'Teams': ['India', 'Australia', 'England', 'South Africa', 'Sri Lanka', 'New Zealand']} \n",
    "\n",
    "\n",
    "## The main view objects of dictionary in python are keys, values and items.\n",
    "\n",
    "dict1.keys()"
   ]
  },
  {
   "cell_type": "code",
   "execution_count": 8,
   "id": "0826a3c3-db73-4098-bc80-48f74e57f6ed",
   "metadata": {},
   "outputs": [
    {
     "data": {
      "text/plain": [
       "dict_values(['Cricket', ['India', 'Australia', 'England', 'South Africa', 'Sri Lanka', 'New Zealand']])"
      ]
     },
     "execution_count": 8,
     "metadata": {},
     "output_type": "execute_result"
    }
   ],
   "source": [
    "dict1.values()"
   ]
  },
  {
   "cell_type": "code",
   "execution_count": 9,
   "id": "87802f4b-5bf3-48e2-b998-02c9f6b54067",
   "metadata": {},
   "outputs": [
    {
     "data": {
      "text/plain": [
       "dict_items([('Sport', 'Cricket'), ('Teams', ['India', 'Australia', 'England', 'South Africa', 'Sri Lanka', 'New Zealand'])])"
      ]
     },
     "execution_count": 9,
     "metadata": {},
     "output_type": "execute_result"
    }
   ],
   "source": [
    "dict1.items()"
   ]
  },
  {
   "cell_type": "code",
   "execution_count": null,
   "id": "bb557bf3-da16-4b57-bc95-c54697d423f1",
   "metadata": {},
   "outputs": [],
   "source": []
  }
 ],
 "metadata": {
  "kernelspec": {
   "display_name": "Python 3 (ipykernel)",
   "language": "python",
   "name": "python3"
  },
  "language_info": {
   "codemirror_mode": {
    "name": "ipython",
    "version": 3
   },
   "file_extension": ".py",
   "mimetype": "text/x-python",
   "name": "python",
   "nbconvert_exporter": "python",
   "pygments_lexer": "ipython3",
   "version": "3.10.8"
  }
 },
 "nbformat": 4,
 "nbformat_minor": 5
}
