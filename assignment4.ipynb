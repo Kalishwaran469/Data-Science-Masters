{
 "cells": [
  {
   "cell_type": "markdown",
   "id": "fdc92a4c-c289-45bf-b41e-e57f543b5f6e",
   "metadata": {},
   "source": [
    "# assignment"
   ]
  },
  {
   "cell_type": "code",
   "execution_count": null,
   "id": "31d64790-6500-4eeb-93ee-0dd7f5f1d231",
   "metadata": {},
   "outputs": [],
   "source": [
    "\n",
    "Q1. Which keyword is used to create a function? Create a function to return a list of \n",
    "    odd numbers in the  range of 1 to 25. \n"
   ]
  },
  {
   "cell_type": "code",
   "execution_count": null,
   "id": "5e63bb5d-5c45-43f2-bce4-94419472e85f",
   "metadata": {},
   "outputs": [],
   "source": [
    "## def keyword is used to create a function"
   ]
  },
  {
   "cell_type": "code",
   "execution_count": null,
   "id": "35538ba1-2205-4eed-9616-d9b772a1229b",
   "metadata": {},
   "outputs": [],
   "source": [
    "Q2. Why *args and **kwargs is used in some functions? Create a function each for *args and **kwargs to  \n",
    "demonstrate their use. \n",
    "\n",
    "ans:\n",
    "    \n",
    "*args and **kwargs are used because of n number of arguments\n",
    "\n",
    "\n",
    "\n",
    "\n"
   ]
  },
  {
   "cell_type": "code",
   "execution_count": 26,
   "id": "50c2bffb-4505-4e95-a06d-7adeebe644b3",
   "metadata": {},
   "outputs": [],
   "source": [
    "def test(*args):\n",
    "    return args"
   ]
  },
  {
   "cell_type": "code",
   "execution_count": 27,
   "id": "82e1a716-9d6b-49a8-b3b1-4530f5908b78",
   "metadata": {},
   "outputs": [
    {
     "data": {
      "text/plain": [
       "(1, 2, 3)"
      ]
     },
     "execution_count": 27,
     "metadata": {},
     "output_type": "execute_result"
    }
   ],
   "source": [
    "test(1,2,3)"
   ]
  },
  {
   "cell_type": "code",
   "execution_count": 21,
   "id": "b9d8fa6d-1f16-4a42-96ef-c17a538b9511",
   "metadata": {},
   "outputs": [],
   "source": [
    "def test(**kwargs):\n",
    "    return kwargs"
   ]
  },
  {
   "cell_type": "code",
   "execution_count": 28,
   "id": "45d052d0-c328-493e-a9ab-b8bc1efc628b",
   "metadata": {},
   "outputs": [
    {
     "data": {
      "text/plain": [
       "('hhhh', 'ihfnjnj')"
      ]
     },
     "execution_count": 28,
     "metadata": {},
     "output_type": "execute_result"
    }
   ],
   "source": [
    "test('hhhh','ihfnjnj')"
   ]
  },
  {
   "cell_type": "code",
   "execution_count": null,
   "id": "ccb47315-cfce-4fb6-809b-45d89f700a77",
   "metadata": {},
   "outputs": [],
   "source": [
    "Q4.What is a generator function in python? Why yield keyword is used? Give an example of a generator  function. \n",
    "\n",
    "ans:\n",
    "    \n",
    "    Generator functions are a special kind of function used to perform million,trillion of values also it saves memory.\n",
    "    yield keyword will convert an expression that is specified along with it to a generator object and return it to the caller.\n",
    "    \n",
    "    \n",
    "\n"
   ]
  },
  {
   "cell_type": "code",
   "execution_count": 29,
   "id": "46086b49-a08c-40a5-9d47-229f044f5f96",
   "metadata": {},
   "outputs": [],
   "source": [
    "def test_fib(n):\n",
    "    a,b=10,12\n",
    "    for i in range(n):\n",
    "        yield a\n",
    "        a,b=b,a+b"
   ]
  },
  {
   "cell_type": "code",
   "execution_count": 30,
   "id": "a9b75744-4f6d-4b3d-9494-4ee269ba3da9",
   "metadata": {},
   "outputs": [
    {
     "name": "stdout",
     "output_type": "stream",
     "text": [
      "10\n",
      "12\n",
      "22\n",
      "34\n",
      "56\n",
      "90\n",
      "146\n",
      "236\n",
      "382\n",
      "618\n"
     ]
    }
   ],
   "source": [
    "for i in test_fib(10):\n",
    "    print(i)"
   ]
  },
  {
   "cell_type": "code",
   "execution_count": null,
   "id": "4e8b1926-f68c-4cbc-8837-03d8d87e64af",
   "metadata": {},
   "outputs": [],
   "source": [
    "Q3.  What is an iterator in python? Name the method used to initialise the iterator object and the method  used for iteration. Use these methods to print the first five elements of the given list [2, 4, 6, 8, 10, 12, 14, 16,  18, 20]. \n"
   ]
  },
  {
   "cell_type": "code",
   "execution_count": null,
   "id": "779362ca-cff2-413d-9f94-e5bde29e02c0",
   "metadata": {},
   "outputs": [],
   "source": [
    "ans:\n",
    "    \n",
    "    An iterator is an object that contains a countable number of values. An iterator is an object that can be iterated upon,\n",
    "    meaning that you can traverse through all the values. Technically, in Python, an iterator is an object which implements the\n",
    "    iterator protocol,\n",
    "    which consist of the methods __iter__() and __next__() ."
   ]
  },
  {
   "cell_type": "code",
   "execution_count": null,
   "id": "ff32b945-60dd-4112-a311-e8da99017d8f",
   "metadata": {},
   "outputs": [],
   "source": []
  }
 ],
 "metadata": {
  "kernelspec": {
   "display_name": "Python 3 (ipykernel)",
   "language": "python",
   "name": "python3"
  },
  "language_info": {
   "codemirror_mode": {
    "name": "ipython",
    "version": 3
   },
   "file_extension": ".py",
   "mimetype": "text/x-python",
   "name": "python",
   "nbconvert_exporter": "python",
   "pygments_lexer": "ipython3",
   "version": "3.10.8"
  }
 },
 "nbformat": 4,
 "nbformat_minor": 5
}
