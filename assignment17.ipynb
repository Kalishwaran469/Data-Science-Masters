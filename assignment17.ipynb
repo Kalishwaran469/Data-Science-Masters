{
 "cells": [
  {
   "cell_type": "code",
   "execution_count": null,
   "id": "a6e1b631-75d0-4ded-b735-27fd1bb42e4b",
   "metadata": {},
   "outputs": [],
   "source": [
    "# question1"
   ]
  },
  {
   "cell_type": "code",
   "execution_count": null,
   "id": "c76a1bb8-cd5a-413c-bd7e-16c7fcaf36b6",
   "metadata": {},
   "outputs": [],
   "source": [
    "# APIs are used in web applications to connect user-facing front ends with critical back-end functionality and data. APIs are used to deliver material by streaming services such as Spotify and Netflix."
   ]
  },
  {
   "cell_type": "code",
   "execution_count": null,
   "id": "c002045a-0e0b-42f7-b4d4-1e83efe630ca",
   "metadata": {},
   "outputs": [],
   "source": [
    "# question2"
   ]
  },
  {
   "cell_type": "code",
   "execution_count": null,
   "id": "3f624281-0d4b-4d0a-a0b7-a7565fe69f34",
   "metadata": {},
   "outputs": [],
   "source": [
    "# In general, APIs improve customization by allowing developers to access and use data and functionality from other applications. In this way, developers can customize the website or app content to tailor it to the needs of users and visitors, making the user experience more flexible and personalized\n",
    "\n",
    "# As a single point of entry, an API is a gateway and can become a hacker's primary target. Once the API is compromised, all other applications and systems become vulnerable."
   ]
  },
  {
   "cell_type": "code",
   "execution_count": null,
   "id": "0e2572f9-ffaa-403c-9e6f-20c9ce515ce1",
   "metadata": {},
   "outputs": [],
   "source": [
    "# question3"
   ]
  },
  {
   "cell_type": "code",
   "execution_count": null,
   "id": "1b5f0839-fd3d-4794-944f-aa1fe6eb4b3e",
   "metadata": {},
   "outputs": [],
   "source": [
    "# A web API is an API that can be accessed using the HTTP protocol.\n",
    "\n",
    "# Web service supports only HTTP protocol, whereas API supports HTTP/HTTPS protocol. Web service supports XML, while API supports XML and JSON. All Web services are APIs, but all APIs are not web services."
   ]
  },
  {
   "cell_type": "code",
   "execution_count": null,
   "id": "4d3c1468-d667-4500-9dbf-38ccaed55512",
   "metadata": {},
   "outputs": [],
   "source": [
    "# question4\n",
    "\n"
   ]
  },
  {
   "cell_type": "code",
   "execution_count": null,
   "id": "92573ccd-5f8b-4dd7-8bba-e4e241174d39",
   "metadata": {},
   "outputs": [],
   "source": [
    "# While SOAP and REST share similarities over the HTTP protocol, SOAP is a more rigid set of messaging patterns than REST. The rules in SOAP are important because we can't achieve any level of standardization without them. REST as an architecture style does not require processing and is naturally more flexible.\n",
    "\n",
    "# Disadvantages\n",
    "# Highly complex. In comparison to Rest, SOAP is significantly more complex. ...\n",
    "# No variety of data formats. SOAP is also extremely limited in its support of data formats. ...\n",
    "# API calls are not cached. ...\n",
    "# Uses more bandwidth."
   ]
  },
  {
   "cell_type": "code",
   "execution_count": null,
   "id": "f6fa0d73-164f-40b4-bb90-1a2033af45a4",
   "metadata": {},
   "outputs": [],
   "source": [
    "# question5"
   ]
  },
  {
   "cell_type": "code",
   "execution_count": null,
   "id": "807467c7-84df-44be-9aa8-6d994b64ac31",
   "metadata": {},
   "outputs": [],
   "source": [
    "#"
   ]
  },
  {
   "cell_type": "code",
   "execution_count": null,
   "id": "ef96dc68-4dac-4d30-9d69-f12d70a3201b",
   "metadata": {},
   "outputs": [],
   "source": []
  },
  {
   "cell_type": "code",
   "execution_count": null,
   "id": "f9b8e8e6-709e-43d1-873c-19a568b03e7d",
   "metadata": {},
   "outputs": [],
   "source": []
  }
 ],
 "metadata": {
  "kernelspec": {
   "display_name": "Python 3 (ipykernel)",
   "language": "python",
   "name": "python3"
  },
  "language_info": {
   "codemirror_mode": {
    "name": "ipython",
    "version": 3
   },
   "file_extension": ".py",
   "mimetype": "text/x-python",
   "name": "python",
   "nbconvert_exporter": "python",
   "pygments_lexer": "ipython3",
   "version": "3.10.8"
  }
 },
 "nbformat": 4,
 "nbformat_minor": 5
}
