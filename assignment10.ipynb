{
 "cells": [
  {
   "cell_type": "code",
   "execution_count": null,
   "id": "422de016-6816-4342-bf31-66fada94f422",
   "metadata": {},
   "outputs": [],
   "source": [
    "Q1. Which function is used to open a file? What are the different modes of opening a file? Explain each mode  of file opening. \n"
   ]
  },
  {
   "cell_type": "code",
   "execution_count": null,
   "id": "7ba567d4-9b1e-4318-ac46-b82707dbfb83",
   "metadata": {},
   "outputs": [],
   "source": [
    "# open() function is used to open a file\n",
    "# different modes of opening a file are 1)read 2)write 3)close\n"
   ]
  },
  {
   "cell_type": "code",
   "execution_count": null,
   "id": "f8a501eb-319e-45ca-ab30-3102970c864f",
   "metadata": {},
   "outputs": [],
   "source": [
    "Q2. Why close() function is used? Why is it important to close a file? \n"
   ]
  },
  {
   "cell_type": "code",
   "execution_count": null,
   "id": "43943521-7eac-4d92-9874-effacef15676",
   "metadata": {},
   "outputs": [],
   "source": [
    "#files are limited resources managed by the operating system, making sure files are closed after use will protect against\n",
    "# hard-to-debug issues like running out of file handles or experiencing corrupted data."
   ]
  },
  {
   "cell_type": "code",
   "execution_count": null,
   "id": "5f86cf78-a96e-4742-bf3d-99dcc9c5f550",
   "metadata": {},
   "outputs": [],
   "source": [
    "Q3. Write a python program to create a text file. Write ‘I want to become a Data Scientist’ in that file. \n",
    "Then  close the file. Open this file and read the content of the file.   \n"
   ]
  },
  {
   "cell_type": "code",
   "execution_count": 2,
   "id": "b9707952-9e43-48b0-9bed-397faba89faf",
   "metadata": {},
   "outputs": [],
   "source": [
    "f=open('test.txt','w')"
   ]
  },
  {
   "cell_type": "code",
   "execution_count": 3,
   "id": "dc78f7ef-14c1-4528-9dc4-cfbdec3f2f3b",
   "metadata": {},
   "outputs": [
    {
     "data": {
      "text/plain": [
       "33"
      ]
     },
     "execution_count": 3,
     "metadata": {},
     "output_type": "execute_result"
    }
   ],
   "source": [
    "f.write('I want to become a Data Scientist')"
   ]
  },
  {
   "cell_type": "code",
   "execution_count": 4,
   "id": "c46b7837-d1ca-4ff9-9593-29fabf0936ec",
   "metadata": {},
   "outputs": [],
   "source": [
    "f.close()"
   ]
  },
  {
   "cell_type": "code",
   "execution_count": 6,
   "id": "705ab32c-835b-4853-95c1-d5bb956a4330",
   "metadata": {},
   "outputs": [],
   "source": [
    "data=open('test.txt','r')"
   ]
  },
  {
   "cell_type": "code",
   "execution_count": 7,
   "id": "9a548b18-48b8-455b-861a-c42ac936fb12",
   "metadata": {},
   "outputs": [
    {
     "data": {
      "text/plain": [
       "'I want to become a Data Scientist'"
      ]
     },
     "execution_count": 7,
     "metadata": {},
     "output_type": "execute_result"
    }
   ],
   "source": [
    "data.read()"
   ]
  },
  {
   "cell_type": "code",
   "execution_count": null,
   "id": "82a0f71b-8f8e-4c0b-8f31-95335fc75dae",
   "metadata": {},
   "outputs": [],
   "source": [
    "Q4. Explain the following with python code: read(), readline() and readlines(). \n"
   ]
  },
  {
   "cell_type": "code",
   "execution_count": null,
   "id": "3f6707a0-880b-4586-986e-48cb105f77e1",
   "metadata": {},
   "outputs": [],
   "source": [
    "# read() -read a whole file\n",
    "# readline(0 -read a single line\n",
    "# readlines() -read a specified line"
   ]
  },
  {
   "cell_type": "code",
   "execution_count": null,
   "id": "2fe745bf-e91c-4506-8ee6-26d7dcf9ab4e",
   "metadata": {},
   "outputs": [],
   "source": [
    "Q5. Explain why with statement is used with open(). What is the advantage of using with statement and  open() together? \n"
   ]
  },
  {
   "cell_type": "code",
   "execution_count": null,
   "id": "8a038915-6354-4add-a4eb-591919dea24d",
   "metadata": {},
   "outputs": [],
   "source": [
    "# with statement is used in exception handling to make the code cleaner and much more readable. It simplifies the \n",
    "# management of common resources like file streams.The with statement works with the open() function to open a file. \n",
    "# Unlike open() where you have to close the file with the close() method, the with statement closes the file for you \n",
    "# without you telling it to. This is because the with statement calls 2 built-in methods behind the scene\n",
    "# – __enter()__ and __exit()__ . "
   ]
  },
  {
   "cell_type": "code",
   "execution_count": null,
   "id": "3db4cc40-f4f1-4a1d-9bc1-4e4e4c9cf86e",
   "metadata": {},
   "outputs": [],
   "source": [
    "Q6. Explain the write() and writelines() functions. Give a suitable example. \n"
   ]
  },
  {
   "cell_type": "code",
   "execution_count": null,
   "id": "cc986e91-a553-4e25-ad4f-78ae781519ce",
   "metadata": {},
   "outputs": [],
   "source": [
    "# write() function\n",
    "# The write() function will write the content in the file without adding any extra characters.\n",
    "\n",
    "# writelines() function\n",
    "# This function writes the content of a list to a file."
   ]
  },
  {
   "cell_type": "code",
   "execution_count": 9,
   "id": "801566d1-56ad-4f9a-b15d-ac315538d874",
   "metadata": {},
   "outputs": [
    {
     "data": {
      "text/plain": [
       "11"
      ]
     },
     "execution_count": 9,
     "metadata": {},
     "output_type": "execute_result"
    }
   ],
   "source": [
    "f=open('test.txt','w')\n",
    "f.write('i am a king')"
   ]
  },
  {
   "cell_type": "code",
   "execution_count": null,
   "id": "68747f0f-9cd5-4e3e-8d2e-548e2b316b21",
   "metadata": {},
   "outputs": [],
   "source": []
  },
  {
   "cell_type": "code",
   "execution_count": null,
   "id": "e7293077-3641-47de-b3ce-beb13b31f9d1",
   "metadata": {},
   "outputs": [],
   "source": []
  },
  {
   "cell_type": "code",
   "execution_count": null,
   "id": "6e4e9ee3-c29b-41a3-a353-73d02834b57a",
   "metadata": {},
   "outputs": [],
   "source": []
  }
 ],
 "metadata": {
  "kernelspec": {
   "display_name": "Python 3 (ipykernel)",
   "language": "python",
   "name": "python3"
  },
  "language_info": {
   "codemirror_mode": {
    "name": "ipython",
    "version": 3
   },
   "file_extension": ".py",
   "mimetype": "text/x-python",
   "name": "python",
   "nbconvert_exporter": "python",
   "pygments_lexer": "ipython3",
   "version": "3.10.8"
  }
 },
 "nbformat": 4,
 "nbformat_minor": 5
}
