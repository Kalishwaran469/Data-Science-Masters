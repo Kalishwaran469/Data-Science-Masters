{
 "cells": [
  {
   "cell_type": "code",
   "execution_count": null,
   "id": "0fd046ac-a24f-4504-92a8-32427e4fc418",
   "metadata": {},
   "outputs": [],
   "source": [
    "Q2. Write a python program for encrypting a message sent to you by your friend. The logic of encryption  should be such that,\n",
    "for a the output should be z. For b, the output should be y. For c, the output should  be x respectively. Also, the whitespace\n",
    "should be replaced with a dollar sign. Keep the punctuation  marks unchanged. \n",
    "Input Sentence: I want to become a Data Scientist. \n",
    "Encrypt the above input sentence using the program you just created. \n",
    "Note: Convert the given input sentence into lowercase before encrypting. The final output should be  lowercase. \n"
   ]
  },
  {
   "cell_type": "code",
   "execution_count": 10,
   "id": "6cd05807-c0b3-4abf-88e3-2bc2d3c13437",
   "metadata": {},
   "outputs": [],
   "source": [
    "a='I want to become a Data Scientist' \n"
   ]
  },
  {
   "cell_type": "code",
   "execution_count": 11,
   "id": "d37f6cd8-5b7a-4a24-beab-ffc4e557354a",
   "metadata": {},
   "outputs": [],
   "source": [
    "a1=a.lower()"
   ]
  },
  {
   "cell_type": "code",
   "execution_count": 12,
   "id": "23966146-937d-4657-bce6-4294cd78a3fa",
   "metadata": {},
   "outputs": [
    {
     "data": {
      "text/plain": [
       "'i want to become a data scientist'"
      ]
     },
     "execution_count": 12,
     "metadata": {},
     "output_type": "execute_result"
    }
   ],
   "source": [
    "a1"
   ]
  },
  {
   "cell_type": "code",
   "execution_count": 14,
   "id": "ecbd07fe-f00e-4a29-a557-d90bd8d025e8",
   "metadata": {},
   "outputs": [
    {
     "data": {
      "text/plain": [
       "'i$wznt$to$yexome$z$dztz$sxientist'"
      ]
     },
     "execution_count": 14,
     "metadata": {},
     "output_type": "execute_result"
    }
   ],
   "source": [
    "a1.replace('a','z').replace('b','y').replace('c','x').replace(' ','$')"
   ]
  },
  {
   "cell_type": "code",
   "execution_count": null,
   "id": "50810104-f444-411a-979c-1cf868ce3e2a",
   "metadata": {},
   "outputs": [],
   "source": []
  }
 ],
 "metadata": {
  "kernelspec": {
   "display_name": "Python 3 (ipykernel)",
   "language": "python",
   "name": "python3"
  },
  "language_info": {
   "codemirror_mode": {
    "name": "ipython",
    "version": 3
   },
   "file_extension": ".py",
   "mimetype": "text/x-python",
   "name": "python",
   "nbconvert_exporter": "python",
   "pygments_lexer": "ipython3",
   "version": "3.10.8"
  }
 },
 "nbformat": 4,
 "nbformat_minor": 5
}
