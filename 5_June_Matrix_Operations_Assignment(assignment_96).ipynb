{
  "nbformat": 4,
  "nbformat_minor": 0,
  "metadata": {
    "colab": {
      "provenance": []
    },
    "kernelspec": {
      "name": "python3",
      "display_name": "Python 3"
    },
    "language_info": {
      "name": "python"
    }
  },
  "cells": [
    {
      "cell_type": "code",
      "execution_count": null,
      "metadata": {
        "id": "iA48soTY4_dS"
      },
      "outputs": [],
      "source": [
        "# part-1\n",
        "# question 1"
      ]
    },
    {
      "cell_type": "code",
      "source": [
        "# tensor\n",
        "# constant\n",
        "# variable\n"
      ],
      "metadata": {
        "id": "ibTQHZZGesDR"
      },
      "execution_count": null,
      "outputs": []
    },
    {
      "cell_type": "code",
      "source": [
        "# question 2"
      ],
      "metadata": {
        "id": "2QcsqbNHiCQ-"
      },
      "execution_count": null,
      "outputs": []
    },
    {
      "cell_type": "code",
      "source": [
        "# In TensorFlow the differences between constants and variables are that when you declare some constant, its value can't be changed in the future (also the initialization should be with a value, not with operation). Nevertheless, when you declare a Variable, you can change its value in the future with tf."
      ],
      "metadata": {
        "id": "E2-fel7ziDF1"
      },
      "execution_count": null,
      "outputs": []
    },
    {
      "cell_type": "code",
      "source": [
        "import tensorflow as tf\n",
        "\n",
        "# Create a TensorFlow variable\n",
        "weights = tf.Variable([0.5, 0.3, 0.1])"
      ],
      "metadata": {
        "id": "r_jEkyLMiTUt"
      },
      "execution_count": null,
      "outputs": []
    },
    {
      "cell_type": "code",
      "source": [
        "# Modify the value of the TensorFlow variable\n",
        "weights.assign([0.6, 0.2, 0.2])"
      ],
      "metadata": {
        "colab": {
          "base_uri": "https://localhost:8080/"
        },
        "id": "Vy0k6wt7iY5r",
        "outputId": "ada3152f-53e0-4307-e4b6-1c721e3b2415"
      },
      "execution_count": null,
      "outputs": [
        {
          "output_type": "execute_result",
          "data": {
            "text/plain": [
              "<tf.Variable 'UnreadVariable' shape=(3,) dtype=float32, numpy=array([0.6, 0.2, 0.2], dtype=float32)>"
            ]
          },
          "metadata": {},
          "execution_count": 2
        }
      ]
    },
    {
      "cell_type": "code",
      "source": [
        "weights"
      ],
      "metadata": {
        "colab": {
          "base_uri": "https://localhost:8080/"
        },
        "id": "8P4vsZjkiY84",
        "outputId": "a6bb9da6-af0e-416c-d655-54bd193a429d"
      },
      "execution_count": null,
      "outputs": [
        {
          "output_type": "execute_result",
          "data": {
            "text/plain": [
              "<tf.Variable 'Variable:0' shape=(3,) dtype=float32, numpy=array([0.6, 0.2, 0.2], dtype=float32)>"
            ]
          },
          "metadata": {},
          "execution_count": 3
        }
      ]
    },
    {
      "cell_type": "code",
      "source": [
        "# Create a TensorFlow constant\n",
        "input_data = tf.constant([1, 2, 3, 4])"
      ],
      "metadata": {
        "id": "_QhILx2wiZAn"
      },
      "execution_count": null,
      "outputs": []
    },
    {
      "cell_type": "code",
      "source": [
        "# question 3"
      ],
      "metadata": {
        "id": "xpZnuqAblfdJ"
      },
      "execution_count": null,
      "outputs": []
    },
    {
      "cell_type": "code",
      "source": [
        "# Tensorflow provides a built-in function called matmul that can perform matrix multiplication efficiently. The matmul function takes two tensors as input and produces a new tensor as output.\n",
        "# Element-wise multiplication is a mathematical operation that performs multiplication between two matrices or tensors of the same shape. The result of element-wise multiplication is a new tensor that has the same shape as the input tensors.\n",
        "# create two matrices and using \"add\" to adding the numbers in two matrices"
      ],
      "metadata": {
        "id": "mUZQr42zi69e"
      },
      "execution_count": null,
      "outputs": []
    },
    {
      "cell_type": "code",
      "source": [
        "# part-2\n",
        "# task-1"
      ],
      "metadata": {
        "id": "r8jLSG2tiZD9"
      },
      "execution_count": null,
      "outputs": []
    },
    {
      "cell_type": "code",
      "source": [
        "A=tf.random.normal(shape=[3,3])\n",
        "B=tf.random.truncated_normal(shape=[4,4])\n",
        "C=tf.random.normal(shape=[2,2],mean=3,stddev=0.5)"
      ],
      "metadata": {
        "id": "S7NhbwqYm0eL"
      },
      "execution_count": null,
      "outputs": []
    },
    {
      "cell_type": "code",
      "source": [
        "A"
      ],
      "metadata": {
        "colab": {
          "base_uri": "https://localhost:8080/"
        },
        "id": "N808HFZym0hN",
        "outputId": "ba472808-86ca-49f4-aba4-11b2943ac613"
      },
      "execution_count": null,
      "outputs": [
        {
          "output_type": "execute_result",
          "data": {
            "text/plain": [
              "<tf.Tensor: shape=(3, 3), dtype=float32, numpy=\n",
              "array([[ 0.4397306 , -0.8557966 , -0.39338335],\n",
              "       [ 0.5568725 ,  0.9339817 , -0.92963356],\n",
              "       [-1.0485016 ,  1.1716241 ,  0.23886728]], dtype=float32)>"
            ]
          },
          "metadata": {},
          "execution_count": 7
        }
      ]
    },
    {
      "cell_type": "code",
      "source": [
        "B"
      ],
      "metadata": {
        "colab": {
          "base_uri": "https://localhost:8080/"
        },
        "id": "NuBzlxVrm0kY",
        "outputId": "0452f78b-57de-4858-ae69-313e79d37ee5"
      },
      "execution_count": null,
      "outputs": [
        {
          "output_type": "execute_result",
          "data": {
            "text/plain": [
              "<tf.Tensor: shape=(4, 4), dtype=float32, numpy=\n",
              "array([[-0.7890122 ,  0.09325914,  0.27984384,  0.34708264],\n",
              "       [ 1.118126  ,  0.48629284,  0.31808364, -0.77479225],\n",
              "       [ 0.13575889, -0.15252058,  0.26987866, -1.5522298 ],\n",
              "       [-1.5707049 ,  0.6496324 , -0.32281318,  0.5336022 ]],\n",
              "      dtype=float32)>"
            ]
          },
          "metadata": {},
          "execution_count": 12
        }
      ]
    },
    {
      "cell_type": "code",
      "source": [
        "C"
      ],
      "metadata": {
        "colab": {
          "base_uri": "https://localhost:8080/"
        },
        "id": "O2Bi_R8kmztf",
        "outputId": "435fe7b5-9f23-4121-b9e6-f95b0131b5a1"
      },
      "execution_count": null,
      "outputs": [
        {
          "output_type": "execute_result",
          "data": {
            "text/plain": [
              "<tf.Tensor: shape=(2, 2), dtype=float32, numpy=\n",
              "array([[2.8200722, 3.3819644],\n",
              "       [3.0670257, 3.0844777]], dtype=float32)>"
            ]
          },
          "metadata": {},
          "execution_count": 14
        }
      ]
    },
    {
      "cell_type": "code",
      "source": [
        "B_cropped= B[:3,:3]"
      ],
      "metadata": {
        "id": "heKaXsAamzw9"
      },
      "execution_count": null,
      "outputs": []
    },
    {
      "cell_type": "code",
      "source": [
        "B_cropped"
      ],
      "metadata": {
        "colab": {
          "base_uri": "https://localhost:8080/"
        },
        "id": "zBAkflBepWIY",
        "outputId": "262c27c2-6e13-4269-f0b5-dc5dfae96f1c"
      },
      "execution_count": null,
      "outputs": [
        {
          "output_type": "execute_result",
          "data": {
            "text/plain": [
              "<tf.Tensor: shape=(3, 3), dtype=float32, numpy=\n",
              "array([[-1.4042019 , -1.2471364 ,  0.56127614],\n",
              "       [ 0.24226283, -0.8788146 , -0.55173725],\n",
              "       [ 1.5314165 ,  0.30959088, -0.46621963]], dtype=float32)>"
            ]
          },
          "metadata": {},
          "execution_count": 20
        }
      ]
    },
    {
      "cell_type": "code",
      "source": [
        "D=tf.add(A,B_cropped)"
      ],
      "metadata": {
        "id": "z-gXhmNHpWMI"
      },
      "execution_count": null,
      "outputs": []
    },
    {
      "cell_type": "code",
      "source": [
        "D_cropped=D[:2,:2]"
      ],
      "metadata": {
        "id": "uiLCx0vspWPn"
      },
      "execution_count": null,
      "outputs": []
    },
    {
      "cell_type": "code",
      "source": [
        "E=tf.matmul(C,D_cropped)"
      ],
      "metadata": {
        "id": "g_sF-uUdpWT0"
      },
      "execution_count": null,
      "outputs": []
    },
    {
      "cell_type": "code",
      "source": [
        "E"
      ],
      "metadata": {
        "colab": {
          "base_uri": "https://localhost:8080/"
        },
        "id": "KOi3MXa6vnG1",
        "outputId": "36f099e3-416c-4095-ed2a-486a20754a5d"
      },
      "execution_count": null,
      "outputs": [
        {
          "output_type": "execute_result",
          "data": {
            "text/plain": [
              "<tf.Tensor: shape=(2, 2), dtype=float32, numpy=\n",
              "array([[ 4.581696 , -4.3225374],\n",
              "       [ 3.789213 , -3.987059 ]], dtype=float32)>"
            ]
          },
          "metadata": {},
          "execution_count": 26
        }
      ]
    },
    {
      "cell_type": "code",
      "source": [
        "# task-2"
      ],
      "metadata": {
        "id": "Us5TVMopvnKo"
      },
      "execution_count": null,
      "outputs": []
    },
    {
      "cell_type": "code",
      "source": [
        "F=tf.random.uniform(shape=[3,3])\n",
        "F"
      ],
      "metadata": {
        "colab": {
          "base_uri": "https://localhost:8080/"
        },
        "id": "1uLNDZkLvnPt",
        "outputId": "f69b9a8f-02f5-49f1-90f9-e1a9a649c00c"
      },
      "execution_count": null,
      "outputs": [
        {
          "output_type": "execute_result",
          "data": {
            "text/plain": [
              "<tf.Tensor: shape=(3, 3), dtype=float32, numpy=\n",
              "array([[0.23592281, 0.626336  , 0.40903938],\n",
              "       [0.7310152 , 0.34490645, 0.87205434],\n",
              "       [0.01911187, 0.38276052, 0.14876163]], dtype=float32)>"
            ]
          },
          "metadata": {},
          "execution_count": 29
        }
      ]
    },
    {
      "cell_type": "code",
      "source": [
        "G=tf.transpose(F)\n",
        "G"
      ],
      "metadata": {
        "colab": {
          "base_uri": "https://localhost:8080/"
        },
        "id": "DQLHQRQEwMlW",
        "outputId": "9a99d49e-6239-4f3b-a568-88219da74f4b"
      },
      "execution_count": null,
      "outputs": [
        {
          "output_type": "execute_result",
          "data": {
            "text/plain": [
              "<tf.Tensor: shape=(3, 3), dtype=float32, numpy=\n",
              "array([[0.23592281, 0.7310152 , 0.01911187],\n",
              "       [0.626336  , 0.34490645, 0.38276052],\n",
              "       [0.40903938, 0.87205434, 0.14876163]], dtype=float32)>"
            ]
          },
          "metadata": {},
          "execution_count": 30
        }
      ]
    },
    {
      "cell_type": "code",
      "source": [
        "H=tf.exp(F)\n",
        "H"
      ],
      "metadata": {
        "colab": {
          "base_uri": "https://localhost:8080/"
        },
        "id": "TUFOlCaWwMpK",
        "outputId": "23c56ba5-38b9-40c8-85c0-9b470b363ae8"
      },
      "execution_count": null,
      "outputs": [
        {
          "output_type": "execute_result",
          "data": {
            "text/plain": [
              "<tf.Tensor: shape=(3, 3), dtype=float32, numpy=\n",
              "array([[1.2660766, 1.8707435, 1.505371 ],\n",
              "       [2.0771883, 1.4118578, 2.3918195],\n",
              "       [1.0192957, 1.4663268, 1.1603963]], dtype=float32)>"
            ]
          },
          "metadata": {},
          "execution_count": 32
        }
      ]
    },
    {
      "cell_type": "code",
      "source": [
        "I=tf.concat(values=(F,G),axis=0)\n",
        "J=tf.concat(values=(F,G),axis=1)\n",
        "\n"
      ],
      "metadata": {
        "id": "Kp-rUWaKwMtc"
      },
      "execution_count": null,
      "outputs": []
    },
    {
      "cell_type": "code",
      "source": [
        "I"
      ],
      "metadata": {
        "colab": {
          "base_uri": "https://localhost:8080/"
        },
        "id": "yhld3GxMwMw6",
        "outputId": "858bf473-6014-4427-cebb-3d181886d6bc"
      },
      "execution_count": null,
      "outputs": [
        {
          "output_type": "execute_result",
          "data": {
            "text/plain": [
              "<tf.Tensor: shape=(6, 3), dtype=float32, numpy=\n",
              "array([[0.23592281, 0.626336  , 0.40903938],\n",
              "       [0.7310152 , 0.34490645, 0.87205434],\n",
              "       [0.01911187, 0.38276052, 0.14876163],\n",
              "       [0.23592281, 0.7310152 , 0.01911187],\n",
              "       [0.626336  , 0.34490645, 0.38276052],\n",
              "       [0.40903938, 0.87205434, 0.14876163]], dtype=float32)>"
            ]
          },
          "metadata": {},
          "execution_count": 36
        }
      ]
    },
    {
      "cell_type": "code",
      "source": [
        "J"
      ],
      "metadata": {
        "colab": {
          "base_uri": "https://localhost:8080/"
        },
        "id": "0v43OR9UvnTv",
        "outputId": "8c1f6d0e-18a6-43bb-8a21-0b303dbe97c4"
      },
      "execution_count": null,
      "outputs": [
        {
          "output_type": "execute_result",
          "data": {
            "text/plain": [
              "<tf.Tensor: shape=(3, 6), dtype=float32, numpy=\n",
              "array([[0.23592281, 0.626336  , 0.40903938, 0.23592281, 0.7310152 ,\n",
              "        0.01911187],\n",
              "       [0.7310152 , 0.34490645, 0.87205434, 0.626336  , 0.34490645,\n",
              "        0.38276052],\n",
              "       [0.01911187, 0.38276052, 0.14876163, 0.40903938, 0.87205434,\n",
              "        0.14876163]], dtype=float32)>"
            ]
          },
          "metadata": {},
          "execution_count": 37
        }
      ]
    }
  ]
}