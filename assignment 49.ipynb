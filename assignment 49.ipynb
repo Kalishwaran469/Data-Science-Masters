{
 "cells": [
  {
   "cell_type": "code",
   "execution_count": null,
   "id": "669accd4-af00-4dcb-8b86-f55312087a16",
   "metadata": {},
   "outputs": [],
   "source": [
    "# question 1"
   ]
  },
  {
   "cell_type": "code",
   "execution_count": null,
   "id": "24753f2b-f475-43bd-8be1-d62558fd4487",
   "metadata": {},
   "outputs": [],
   "source": [
    "# Simple linear regression has only one x and one y variable. Multiple linear regression has one y and two or more x variables.\n",
    "# simple linear regression example:if we have a age of a men data as a independent variable our dependent variable is man's salary\n",
    "# multiple linear regression example:if we have a height and weight of peoples as two independent variable our dependent variable is to predict bmi"
   ]
  },
  {
   "cell_type": "code",
   "execution_count": null,
   "id": "20eddae7-da9e-4559-8b65-522eacb246e1",
   "metadata": {},
   "outputs": [],
   "source": [
    "# question 2"
   ]
  },
  {
   "cell_type": "code",
   "execution_count": null,
   "id": "2942cb17-2b92-4e3a-9996-effe8ef9a044",
   "metadata": {},
   "outputs": [],
   "source": [
    "# With linear regression we have three assumptions that need to be met to be confident in our results, linearity, normality, and homoscedasticity.\n",
    "# Linearity: The relationship between and must be linear. Check this assumption by examining a scatterplot of x and y. Independence of errors: There is not a relationship between the residuals and the variable; in other words, is independent of errors."
   ]
  },
  {
   "cell_type": "code",
   "execution_count": null,
   "id": "3352fc22-ff47-4809-af61-d24e30e68a20",
   "metadata": {},
   "outputs": [],
   "source": [
    "# question 3"
   ]
  },
  {
   "cell_type": "code",
   "execution_count": null,
   "id": "bc0009c1-cc57-46ff-8d1b-8d603303ea92",
   "metadata": {},
   "outputs": [],
   "source": [
    "# Interpret the slope: If the speed of the club hitting the ball increases by 1 mph, then the model predicts that the length the ball travels increases by 57.66 yards. Interpret the intercept: If the ball is hit with a speed of 0 mph, then the model predicts that the length the ball travels will be 3.18 yards.\n",
    "\n",
    "# Example 1. Data were collected on the depth of a dive of penguins and the duration of the dive. The following linear model is a fairly good summary of the data, where t is the duration of the dive in minutes and d is the depth of the dive in yards. \n",
    "# The equation for the model is d t = 0.015 +2.915\n",
    "# Interpret the slope: If the duration of the dive increases by 1 minute, we predict the depth of the dive will increase by approximately 2.915 yards.\n",
    "# Interpret the intercept. If the duration of the dive is 0 seconds, then we predict the depth of the dive is 0.015 yards.\n"
   ]
  },
  {
   "cell_type": "code",
   "execution_count": null,
   "id": "7812bce1-e1a3-4eef-b0cc-8c4637ec4fd8",
   "metadata": {},
   "outputs": [],
   "source": [
    "# question 4"
   ]
  },
  {
   "cell_type": "code",
   "execution_count": null,
   "id": "1103400e-e8df-4d1f-b1f5-75d0dc10e612",
   "metadata": {},
   "outputs": [],
   "source": [
    "# Gradient descent is an optimization algorithm which is commonly-used to train machine learning models and neural networks. Training data helps these models learn over time, and the cost function within gradient descent specifically acts as a barometer, gauging its accuracy with each iteration of parameter updates."
   ]
  },
  {
   "cell_type": "code",
   "execution_count": null,
   "id": "d09a3dcc-64d4-4a85-9d2c-b779ca5778b3",
   "metadata": {},
   "outputs": [],
   "source": [
    "# question 5"
   ]
  },
  {
   "cell_type": "code",
   "execution_count": null,
   "id": "45066a66-ff2b-44e3-a4b0-5c0c0fba2737",
   "metadata": {},
   "outputs": [],
   "source": [
    "# multiple linear regression model is used multiple independent variables to predict single dependent variable but on the other hand sinple linear regression using only one independent variable to predict dependent variable"
   ]
  },
  {
   "cell_type": "code",
   "execution_count": null,
   "id": "011c9d94-72fc-4a5d-b731-e934dfc5c708",
   "metadata": {},
   "outputs": [],
   "source": [
    "# question 6"
   ]
  },
  {
   "cell_type": "code",
   "execution_count": null,
   "id": "01f08146-0116-4e2a-ac61-ee99a1577011",
   "metadata": {},
   "outputs": [],
   "source": [
    "# Multicollinearity occurs when two or more independent variables in a data frame have a high correlation with one another in a regression model. This means that one independent variable can be predicted from another in a regression model.Remove some of the highly correlated independent variables.\n",
    "# Linearly combine the independent variables, such as adding them together.\n",
    "# Partial least squares regression uses principal component analysis to create a set of uncorrelated components to include in the model."
   ]
  },
  {
   "cell_type": "code",
   "execution_count": null,
   "id": "75ca1725-575a-44cb-8ec0-c0e1a9e01e04",
   "metadata": {},
   "outputs": [],
   "source": [
    "# question 7"
   ]
  },
  {
   "cell_type": "code",
   "execution_count": null,
   "id": "b8066719-93c5-4734-a373-831c2afaf1d8",
   "metadata": {},
   "outputs": [],
   "source": [
    "# A polynomial regression model is a machine learning model that can capture non-linear relationships between variables by fitting a non-linear regression line, which may not be possible with simple linear regression. It is used when linear regression models may not adequately capture the complexity of the relationship."
   ]
  },
  {
   "cell_type": "code",
   "execution_count": null,
   "id": "621977f2-5f56-4968-92cc-d57beaf926be",
   "metadata": {},
   "outputs": [],
   "source": [
    "# question 8"
   ]
  },
  {
   "cell_type": "code",
   "execution_count": null,
   "id": "3dc8709c-ea20-4377-94a7-d04b554736d2",
   "metadata": {},
   "outputs": [],
   "source": [
    "# advantage : Polynomial provides the best approximation of the relationship between the dependent and independent variable.\n",
    "# disadvantage : One or two outliers in the data might have a significant impact on the nonlinear analysis' outcomes. \n",
    "# If you can't obtain an adequate fit using linear regression, that's when you might need to choose nonlinear regression."
   ]
  },
  {
   "cell_type": "code",
   "execution_count": null,
   "id": "124ff4ef-1495-4bb9-a0bb-35544feb5dff",
   "metadata": {},
   "outputs": [],
   "source": []
  },
  {
   "cell_type": "code",
   "execution_count": null,
   "id": "85a75f1e-6f3e-47e3-8ad1-5d7e99b3cb43",
   "metadata": {},
   "outputs": [],
   "source": []
  },
  {
   "cell_type": "code",
   "execution_count": null,
   "id": "9b5ba491-f536-49ab-81d2-efb2e19514ad",
   "metadata": {},
   "outputs": [],
   "source": []
  },
  {
   "cell_type": "code",
   "execution_count": null,
   "id": "ed3adce7-2633-4f83-ae84-b5766062d68c",
   "metadata": {},
   "outputs": [],
   "source": []
  }
 ],
 "metadata": {
  "kernelspec": {
   "display_name": "Python 3 (ipykernel)",
   "language": "python",
   "name": "python3"
  },
  "language_info": {
   "codemirror_mode": {
    "name": "ipython",
    "version": 3
   },
   "file_extension": ".py",
   "mimetype": "text/x-python",
   "name": "python",
   "nbconvert_exporter": "python",
   "pygments_lexer": "ipython3",
   "version": "3.10.8"
  }
 },
 "nbformat": 4,
 "nbformat_minor": 5
}
