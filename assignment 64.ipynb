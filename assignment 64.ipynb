{
 "cells": [
  {
   "cell_type": "code",
   "execution_count": null,
   "id": "7fb9cef9-06d5-45cf-9742-8fbf1672e1f5",
   "metadata": {},
   "outputs": [],
   "source": [
    "# question 1"
   ]
  },
  {
   "cell_type": "code",
   "execution_count": null,
   "id": "7e2cc2d0-f79b-44b5-bad9-d7d6f1794d3b",
   "metadata": {},
   "outputs": [],
   "source": [
    "# 28%"
   ]
  },
  {
   "cell_type": "code",
   "execution_count": null,
   "id": "60eeaff6-cb24-4142-8d82-b4ef0e497277",
   "metadata": {},
   "outputs": [],
   "source": [
    "# question 2"
   ]
  },
  {
   "cell_type": "code",
   "execution_count": null,
   "id": "a30b7aae-a67a-42f1-9003-ac3fa618c569",
   "metadata": {},
   "outputs": [],
   "source": [
    "# bernoulli naive bayes only used when output future is binary classifier but multinomial naive bayes is used when input future is text type"
   ]
  },
  {
   "cell_type": "code",
   "execution_count": null,
   "id": "5b79f7a9-0a71-44d4-9db2-fca3826035a4",
   "metadata": {},
   "outputs": [],
   "source": [
    "# question 3"
   ]
  },
  {
   "cell_type": "code",
   "execution_count": null,
   "id": "047f6035-ac0d-4654-9dde-f84a2e523c4f",
   "metadata": {},
   "outputs": [],
   "source": [
    "# Naive Bayes can handle missing data. Attributes are handled separately by the algorithm, at both model construction time and prediction time. As such, if a data instance has a missing value for an attribute, it can be ignored while preparing the model, and ignored when a probability is calculated for a class value."
   ]
  },
  {
   "cell_type": "code",
   "execution_count": null,
   "id": "b3ac9928-051f-4d91-860e-b3faeb61fad0",
   "metadata": {},
   "outputs": [],
   "source": [
    "# question 4"
   ]
  },
  {
   "cell_type": "code",
   "execution_count": null,
   "id": "540ebd0d-49b8-4b71-98ca-346adc3d795e",
   "metadata": {},
   "outputs": [],
   "source": [
    "# no gaussian naive bayes only used for numerical data"
   ]
  },
  {
   "cell_type": "code",
   "execution_count": null,
   "id": "673da3ca-83dd-4617-9f1b-73c46fa6552b",
   "metadata": {},
   "outputs": [],
   "source": []
  }
 ],
 "metadata": {
  "kernelspec": {
   "display_name": "Python 3 (ipykernel)",
   "language": "python",
   "name": "python3"
  },
  "language_info": {
   "codemirror_mode": {
    "name": "ipython",
    "version": 3
   },
   "file_extension": ".py",
   "mimetype": "text/x-python",
   "name": "python",
   "nbconvert_exporter": "python",
   "pygments_lexer": "ipython3",
   "version": "3.10.8"
  }
 },
 "nbformat": 4,
 "nbformat_minor": 5
}
