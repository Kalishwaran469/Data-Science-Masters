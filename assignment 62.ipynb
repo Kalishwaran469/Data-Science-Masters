{
 "cells": [
  {
   "cell_type": "code",
   "execution_count": null,
   "id": "c78d0f2d-af31-4c8f-84be-fc9698386c4a",
   "metadata": {},
   "outputs": [],
   "source": [
    "# question 2"
   ]
  },
  {
   "cell_type": "code",
   "execution_count": null,
   "id": "2917289d-d256-4948-8431-d3fd3cfe369f",
   "metadata": {},
   "outputs": [],
   "source": [
    "# RMSE (Root Mean Squared Error) is a popular metric for regression because it combines the advantages of MSE (Mean Squared Error) while having the same scale as the target variable. It penalizes large errors more severely, making it sensitive to outliers."
   ]
  },
  {
   "cell_type": "code",
   "execution_count": null,
   "id": "0e57867d-a372-4b62-83ad-e051c95705fe",
   "metadata": {},
   "outputs": [],
   "source": [
    "# question 3"
   ]
  },
  {
   "cell_type": "code",
   "execution_count": null,
   "id": "90f72019-453c-4f90-bd10-96339a463ff9",
   "metadata": {},
   "outputs": [],
   "source": [
    "# Mean Absolute Error(MAE) is preferred when we have too many outliers present in the dataset because MAE is robust to outliers whereas MSE and RMSE are very susceptible to outliers and these start penalizing the outliers by squaring the error terms, commonly known as residuals."
   ]
  },
  {
   "cell_type": "code",
   "execution_count": null,
   "id": "0674b69e-b7f0-4d5e-9180-75e01f95417f",
   "metadata": {},
   "outputs": [],
   "source": [
    "# question 4"
   ]
  },
  {
   "cell_type": "code",
   "execution_count": null,
   "id": "be611826-8f20-431a-ad6d-e09d574a1b37",
   "metadata": {},
   "outputs": [],
   "source": [
    "# RMSE(root mean squared error)"
   ]
  },
  {
   "cell_type": "code",
   "execution_count": null,
   "id": "9a6c6779-e42c-4e75-a37b-f25e01e011d5",
   "metadata": {},
   "outputs": [],
   "source": [
    "# question 5"
   ]
  },
  {
   "cell_type": "code",
   "execution_count": null,
   "id": "6bede8c9-515c-4df5-ab22-73bce80c36bb",
   "metadata": {},
   "outputs": [],
   "source": [
    "# R-squared or Coefficient of Determination. This metric represents the part of the variance of the dependent variable explained by the independent variables of the model."
   ]
  },
  {
   "cell_type": "code",
   "execution_count": null,
   "id": "ac25cc15-0685-48cc-bce8-f520f5d879f8",
   "metadata": {},
   "outputs": [],
   "source": []
  },
  {
   "cell_type": "code",
   "execution_count": null,
   "id": "f173bbdf-0df2-4ffd-8eb0-17a7cfa1a928",
   "metadata": {},
   "outputs": [],
   "source": []
  },
  {
   "cell_type": "code",
   "execution_count": null,
   "id": "8805af9b-5c92-4649-9ea6-6de74beab98e",
   "metadata": {},
   "outputs": [],
   "source": []
  },
  {
   "cell_type": "code",
   "execution_count": null,
   "id": "66c30637-b151-4bd6-be73-170b3ac7c80c",
   "metadata": {},
   "outputs": [],
   "source": []
  }
 ],
 "metadata": {
  "kernelspec": {
   "display_name": "Python 3 (ipykernel)",
   "language": "python",
   "name": "python3"
  },
  "language_info": {
   "codemirror_mode": {
    "name": "ipython",
    "version": 3
   },
   "file_extension": ".py",
   "mimetype": "text/x-python",
   "name": "python",
   "nbconvert_exporter": "python",
   "pygments_lexer": "ipython3",
   "version": "3.10.8"
  }
 },
 "nbformat": 4,
 "nbformat_minor": 5
}
