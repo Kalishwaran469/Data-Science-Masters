{
 "cells": [
  {
   "cell_type": "code",
   "execution_count": 1,
   "id": "515f75cd-49f2-47fa-8b11-35968546ecfa",
   "metadata": {},
   "outputs": [],
   "source": [
    "import threading"
   ]
  },
  {
   "cell_type": "code",
   "execution_count": 3,
   "id": "7647d453-f317-47b3-bc37-89f2eee030ed",
   "metadata": {},
   "outputs": [],
   "source": [
    "def test(x):\n",
    "    print('this is my x %d' %x)"
   ]
  },
  {
   "cell_type": "code",
   "execution_count": 4,
   "id": "01ae9649-f618-47b6-981c-8852041acf50",
   "metadata": {},
   "outputs": [
    {
     "name": "stdout",
     "output_type": "stream",
     "text": [
      "this is my x 5\n"
     ]
    }
   ],
   "source": [
    "test(5)"
   ]
  },
  {
   "cell_type": "code",
   "execution_count": 8,
   "id": "51ec659c-85d2-4e8f-9ce2-6710792fc387",
   "metadata": {},
   "outputs": [
    {
     "name": "stdout",
     "output_type": "stream",
     "text": [
      "this is my x 9\n"
     ]
    }
   ],
   "source": [
    "test(9)"
   ]
  },
  {
   "cell_type": "code",
   "execution_count": 9,
   "id": "c2fe3b10-c4ce-4959-bc6c-84e875c9aeee",
   "metadata": {},
   "outputs": [
    {
     "name": "stdout",
     "output_type": "stream",
     "text": [
      "this is my x 3\n"
     ]
    }
   ],
   "source": [
    "test(3)"
   ]
  },
  {
   "cell_type": "code",
   "execution_count": 12,
   "id": "81f07a55-418b-45d7-89cf-01efc7488e94",
   "metadata": {},
   "outputs": [],
   "source": [
    "thread=[threading.Thread(target=test,args=(i,))for i in [5,9,3]]"
   ]
  },
  {
   "cell_type": "code",
   "execution_count": 13,
   "id": "f476c2f3-0f80-4f86-90d8-3734f277d056",
   "metadata": {},
   "outputs": [
    {
     "name": "stdout",
     "output_type": "stream",
     "text": [
      "this is my x 5\n",
      "this is my x 9\n",
      "this is my x 3\n"
     ]
    }
   ],
   "source": [
    "for t in thread:\n",
    "    t.start()"
   ]
  },
  {
   "cell_type": "code",
   "execution_count": 14,
   "id": "30cecebb-deff-4c62-940d-5ee6f7d151f5",
   "metadata": {},
   "outputs": [],
   "source": [
    "import time"
   ]
  },
  {
   "cell_type": "code",
   "execution_count": 18,
   "id": "35f3750d-0520-4f18-a968-da857b189005",
   "metadata": {},
   "outputs": [],
   "source": [
    "def test1(x):\n",
    "    for i in range(10):\n",
    "        print('print the value of x %d and print the value of i %d' %(x,i))\n",
    "        time.sleep(1)"
   ]
  },
  {
   "cell_type": "code",
   "execution_count": 19,
   "id": "2a37e0c4-8d0f-4a45-a62e-1e3c74a97c0e",
   "metadata": {},
   "outputs": [],
   "source": [
    "thread1=[threading.Thread(target=test1,args=(i,)) for i in [1,2,3,4]]"
   ]
  },
  {
   "cell_type": "code",
   "execution_count": 20,
   "id": "9f9c03c1-7326-4c40-8265-b919957eb8d9",
   "metadata": {},
   "outputs": [
    {
     "name": "stdout",
     "output_type": "stream",
     "text": [
      "print the value of x 1 and print the value of i 0\n",
      "print the value of x 2 and print the value of i 0\n",
      "print the value of x 3 and print the value of i 0\n",
      "print the value of x 4 and print the value of i 0\n",
      "print the value of x 1 and print the value of i 1\n",
      "print the value of x 2 and print the value of i 1\n",
      "print the value of x 3 and print the value of i 1\n",
      "print the value of x 4 and print the value of i 1\n",
      "print the value of x 1 and print the value of i 2\n",
      "print the value of x 2 and print the value of i 2\n",
      "print the value of x 3 and print the value of i 2\n",
      "print the value of x 4 and print the value of i 2\n",
      "print the value of x 1 and print the value of i 3\n",
      "print the value of x 2 and print the value of i 3\n",
      "print the value of x 3 and print the value of i 3\n",
      "print the value of x 4 and print the value of i 3\n",
      "print the value of x 1 and print the value of i 4\n",
      "print the value of x 2 and print the value of i 4\n",
      "print the value of x 3 and print the value of i 4\n",
      "print the value of x 4 and print the value of i 4\n",
      "print the value of x 1 and print the value of i 5\n",
      "print the value of x 2 and print the value of i 5\n",
      "print the value of x 4 and print the value of i 5\n",
      "print the value of x 3 and print the value of i 5\n",
      "print the value of x 1 and print the value of i 6\n",
      "print the value of x 2 and print the value of i 6\n",
      "print the value of x 4 and print the value of i 6\n",
      "print the value of x 3 and print the value of i 6\n",
      "print the value of x 1 and print the value of i 7\n",
      "print the value of x 3 and print the value of i 7\n",
      "print the value of x 2 and print the value of i 7\n",
      "print the value of x 4 and print the value of i 7\n",
      "print the value of x 1 and print the value of i 8\n",
      "print the value of x 3 and print the value of i 8\n",
      "print the value of x 2 and print the value of i 8\n",
      "print the value of x 4 and print the value of i 8\n",
      "print the value of x 1 and print the value of i 9\n",
      "print the value of x 3 and print the value of i 9\n",
      "print the value of x 2 and print the value of i 9\n",
      "print the value of x 4 and print the value of i 9\n"
     ]
    }
   ],
   "source": [
    "for t in thread1:\n",
    "    t.start()"
   ]
  },
  {
   "cell_type": "code",
   "execution_count": 21,
   "id": "599452d9-f978-4a1c-86dd-b45e586007b5",
   "metadata": {},
   "outputs": [
    {
     "name": "stdout",
     "output_type": "stream",
     "text": [
      "print the value of x 5 and print the value of i 0\n",
      "print the value of x 5 and print the value of i 1\n",
      "print the value of x 5 and print the value of i 2\n",
      "print the value of x 5 and print the value of i 3\n",
      "print the value of x 5 and print the value of i 4\n",
      "print the value of x 5 and print the value of i 5\n",
      "print the value of x 5 and print the value of i 6\n",
      "print the value of x 5 and print the value of i 7\n",
      "print the value of x 5 and print the value of i 8\n",
      "print the value of x 5 and print the value of i 9\n"
     ]
    }
   ],
   "source": [
    "test1(5)"
   ]
  },
  {
   "cell_type": "code",
   "execution_count": 24,
   "id": "8fc2fa6a-81c6-4c84-aa88-ea6d13fb7dcc",
   "metadata": {},
   "outputs": [],
   "source": [
    "shared_var=1\n",
    "lock_var=threading.Lock()\n",
    "def test3(x):\n",
    "    global shared_var\n",
    "    with lock_var:\n",
    "        shared_var=shared_var+2\n",
    "        print('value of x %d and value of shared_var %d' %(x,shared_var))\n",
    "        \n",
    "        \n",
    "        \n",
    "    \n",
    "\n",
    "\n"
   ]
  },
  {
   "cell_type": "code",
   "execution_count": 25,
   "id": "5d96df01-6aa0-4489-96c1-97bf19d9aeb9",
   "metadata": {},
   "outputs": [
    {
     "name": "stdout",
     "output_type": "stream",
     "text": [
      "value of x 1 and value of shared_var 3\n",
      "value of x 2 and value of shared_var 5\n",
      "value of x 3 and value of shared_var 7\n"
     ]
    }
   ],
   "source": [
    "thread3=[threading.Thread(target=test3,args=(i,)) for i in[1,2,3]]\n",
    "for t in thread3:\n",
    "    t.start()"
   ]
  },
  {
   "cell_type": "code",
   "execution_count": 29,
   "id": "ffd650ff-2454-459d-804d-3bb93dc9fa65",
   "metadata": {},
   "outputs": [
    {
     "name": "stdout",
     "output_type": "stream",
     "text": [
      "value of x 1 and value of shared_var 15\n"
     ]
    }
   ],
   "source": [
    "test3(1)"
   ]
  },
  {
   "cell_type": "code",
   "execution_count": 32,
   "id": "90da6591-75bd-4790-b41f-777c0affe900",
   "metadata": {},
   "outputs": [
    {
     "name": "stdout",
     "output_type": "stream",
     "text": [
      "value of x 2 and value of shared_var 21\n"
     ]
    }
   ],
   "source": [
    "test3(2)"
   ]
  },
  {
   "cell_type": "code",
   "execution_count": 34,
   "id": "6eacf473-e0d2-48e7-9a51-20b67cf7a105",
   "metadata": {},
   "outputs": [
    {
     "name": "stdout",
     "output_type": "stream",
     "text": [
      "value of x 9 and value of shared_var 25\n"
     ]
    }
   ],
   "source": [
    "test3(9)"
   ]
  },
  {
   "cell_type": "code",
   "execution_count": null,
   "id": "4961158a-9101-4c6c-863e-1698e93a215a",
   "metadata": {},
   "outputs": [],
   "source": []
  },
  {
   "cell_type": "code",
   "execution_count": null,
   "id": "571338e4-36f5-45e1-972a-936d81f59c14",
   "metadata": {},
   "outputs": [],
   "source": []
  }
 ],
 "metadata": {
  "kernelspec": {
   "display_name": "Python 3 (ipykernel)",
   "language": "python",
   "name": "python3"
  },
  "language_info": {
   "codemirror_mode": {
    "name": "ipython",
    "version": 3
   },
   "file_extension": ".py",
   "mimetype": "text/x-python",
   "name": "python",
   "nbconvert_exporter": "python",
   "pygments_lexer": "ipython3",
   "version": "3.10.8"
  }
 },
 "nbformat": 4,
 "nbformat_minor": 5
}
