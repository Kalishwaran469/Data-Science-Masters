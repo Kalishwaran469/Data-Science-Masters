{
 "cells": [
  {
   "cell_type": "code",
   "execution_count": null,
   "id": "b24a5583-c27b-4656-8b2a-ceabe73394b6",
   "metadata": {},
   "outputs": [],
   "source": [
    "Q1. Create a vehicle class with an init method having instance variables as name_of_vehicle, max_speed  and \n",
    "average_of_vehicle.  \n"
   ]
  },
  {
   "cell_type": "code",
   "execution_count": 3,
   "id": "3a2e54c2-d803-4ee8-9b19-9d6b74390579",
   "metadata": {},
   "outputs": [],
   "source": [
    "class vehicle:\n",
    "    def __init__(self,name_of_vehicle,max_speed,average_of_vehicle):\n",
    "        self.name_of_vehicle=name_of_vehicle\n",
    "        self.max_speed=max_speed\n",
    "        self.average_of_vehicle=average_of_vehicle"
   ]
  },
  {
   "cell_type": "code",
   "execution_count": 5,
   "id": "5007a1bb-3493-4be8-b9a7-7d7c3285d731",
   "metadata": {},
   "outputs": [],
   "source": [
    "vehicle_obj=vehicle('rolesroyce','350','150')"
   ]
  },
  {
   "cell_type": "code",
   "execution_count": 6,
   "id": "0b075126-9fdc-4482-b7d8-5a2881cc91fc",
   "metadata": {},
   "outputs": [
    {
     "data": {
      "text/plain": [
       "'rolesroyce'"
      ]
     },
     "execution_count": 6,
     "metadata": {},
     "output_type": "execute_result"
    }
   ],
   "source": [
    "vehicle_obj.name_of_vehicle"
   ]
  },
  {
   "cell_type": "code",
   "execution_count": 7,
   "id": "8444a34c-62ca-49c5-a33a-8048b807c162",
   "metadata": {},
   "outputs": [
    {
     "data": {
      "text/plain": [
       "'350'"
      ]
     },
     "execution_count": 7,
     "metadata": {},
     "output_type": "execute_result"
    }
   ],
   "source": [
    "vehicle_obj.max_speed"
   ]
  },
  {
   "cell_type": "code",
   "execution_count": 13,
   "id": "b173fc2b-bed3-47b8-9957-c612836a642d",
   "metadata": {},
   "outputs": [
    {
     "data": {
      "text/plain": [
       "'150'"
      ]
     },
     "execution_count": 13,
     "metadata": {},
     "output_type": "execute_result"
    }
   ],
   "source": [
    "vehicle_obj.average_of_vehicle"
   ]
  },
  {
   "cell_type": "code",
   "execution_count": null,
   "id": "a962dae5-0cd8-42e8-ab43-eedb74e415bb",
   "metadata": {},
   "outputs": [],
   "source": [
    "Q3) What is multiple inheritance? Write a python code to demonstrate multiple inheritance. \n"
   ]
  },
  {
   "cell_type": "code",
   "execution_count": 29,
   "id": "42efe846-dd5c-468b-87c7-95ec0c85cd88",
   "metadata": {},
   "outputs": [],
   "source": [
    "class class1:\n",
    "    def test_class1(self):\n",
    "        print('i am the leader of class1')"
   ]
  },
  {
   "cell_type": "code",
   "execution_count": 30,
   "id": "d286f043-c352-4d8f-b1fb-c7ebe659247c",
   "metadata": {},
   "outputs": [],
   "source": [
    "class class2:\n",
    "    def test_class2(self):\n",
    "        print('i am the leader of class2')"
   ]
  },
  {
   "cell_type": "code",
   "execution_count": 31,
   "id": "0a5c9e59-26ef-4fed-8093-448352bb0411",
   "metadata": {},
   "outputs": [],
   "source": [
    "class class3(class1,class2):\n",
    "    pass"
   ]
  },
  {
   "cell_type": "code",
   "execution_count": 32,
   "id": "b73a94cb-cc1c-43b5-a390-147210b1f58c",
   "metadata": {},
   "outputs": [],
   "source": [
    "class3_obj=class3()"
   ]
  },
  {
   "cell_type": "code",
   "execution_count": 34,
   "id": "7b69ac15-247a-4c2e-ae62-e079d294ed26",
   "metadata": {},
   "outputs": [
    {
     "name": "stdout",
     "output_type": "stream",
     "text": [
      "i am the leader of class1\n"
     ]
    }
   ],
   "source": [
    "class3_obj.test_class1()"
   ]
  },
  {
   "cell_type": "code",
   "execution_count": 35,
   "id": "914884fd-7080-4bac-829f-e08dffca8443",
   "metadata": {},
   "outputs": [
    {
     "name": "stdout",
     "output_type": "stream",
     "text": [
      "i am the leader of class2\n"
     ]
    }
   ],
   "source": [
    "class3_obj.test_class2()"
   ]
  },
  {
   "cell_type": "code",
   "execution_count": null,
   "id": "1bc728d7-d1f0-4c75-b6dd-33d0716567a8",
   "metadata": {},
   "outputs": [],
   "source": [
    "Q4. What are getter and setter in python? Create a class and create a getter and a setter method in this  class. \n"
   ]
  },
  {
   "cell_type": "code",
   "execution_count": null,
   "id": "ffd1ea66-d969-42ad-8af8-ba8b88d33b4f",
   "metadata": {},
   "outputs": [],
   "source": [
    "# In Python, getters and setters are not the same as those in other object-oriented programming languages. Basically, \n",
    "#the main purpose of using getters and setters in object-oriented programs is to ensure data encapsulation. Private variables\n",
    "#in python are not actually hidden fields like in other object oriented languages. Getters and Setters in python are often used\n",
    "#when:We use getters & setters to add validation logic around getting and setting a value.\n",
    "#To avoid direct access of a class field i.e. private variables cannot be accessed directly or modified by external user."
   ]
  },
  {
   "cell_type": "code",
   "execution_count": 60,
   "id": "1de54153-5541-4908-858c-c5c5576fb002",
   "metadata": {},
   "outputs": [],
   "source": [
    "class cricket:\n",
    "    def __init__(self,player,team,role,runs):\n",
    "        self.__player=player\n",
    "        self.__team=team\n",
    "        self.__role=role\n",
    "        self.__runs=runs\n",
    "        \n",
    "    def set_runs(self,runs):\n",
    "        self.__runs=0 if runs<0 else runs\n",
    "        \n",
    "    def get_runs(self):\n",
    "        return self.__runs\n",
    "        "
   ]
  },
  {
   "cell_type": "code",
   "execution_count": 69,
   "id": "cad1004f-d9c0-4a17-9c2b-328270b32118",
   "metadata": {},
   "outputs": [],
   "source": [
    "cric=cricket('msd','csk','captain',123)"
   ]
  },
  {
   "cell_type": "code",
   "execution_count": 65,
   "id": "c30fef37-e8be-45c1-91ae-d019e128cbc1",
   "metadata": {},
   "outputs": [
    {
     "data": {
      "text/plain": [
       "'msd'"
      ]
     },
     "execution_count": 65,
     "metadata": {},
     "output_type": "execute_result"
    }
   ],
   "source": [
    "cric._cricket__player"
   ]
  },
  {
   "cell_type": "code",
   "execution_count": 66,
   "id": "4d278008-3b18-4de4-87f9-535adfff87d1",
   "metadata": {},
   "outputs": [
    {
     "data": {
      "text/plain": [
       "123"
      ]
     },
     "execution_count": 66,
     "metadata": {},
     "output_type": "execute_result"
    }
   ],
   "source": [
    "cric.get_runs()"
   ]
  },
  {
   "cell_type": "code",
   "execution_count": 67,
   "id": "91ce972b-4809-4565-a8a4-e75765f02717",
   "metadata": {},
   "outputs": [],
   "source": [
    "cric.set_runs(-1234)"
   ]
  },
  {
   "cell_type": "code",
   "execution_count": 77,
   "id": "ba4ba7d0-5116-4c79-b4f1-b37a0b9c3b52",
   "metadata": {},
   "outputs": [
    {
     "data": {
      "text/plain": [
       "123"
      ]
     },
     "execution_count": 77,
     "metadata": {},
     "output_type": "execute_result"
    }
   ],
   "source": [
    "cric._cricket__runs"
   ]
  },
  {
   "cell_type": "code",
   "execution_count": null,
   "id": "dc089a27-80b0-4cf8-bd17-b4824e5686d2",
   "metadata": {},
   "outputs": [],
   "source": [
    "Q5.What is method overriding in python? Write a python code to demonstrate method overriding. \n"
   ]
  },
  {
   "cell_type": "code",
   "execution_count": null,
   "id": "b771d6ae-18c9-4bdd-af17-b1644590a06f",
   "metadata": {},
   "outputs": [],
   "source": [
    "# Method overriding is a feature of object-oriented programming languages where the subclass or child class can provide the \n",
    "# program with specific characteristics or a specific implementation process of data provided that are already defined in the\n",
    "# parent class or superclass."
   ]
  },
  {
   "cell_type": "code",
   "execution_count": null,
   "id": "d3901de9-c8c2-4b07-bb5e-841ccd12bea6",
   "metadata": {},
   "outputs": [],
   "source": []
  }
 ],
 "metadata": {
  "kernelspec": {
   "display_name": "Python 3 (ipykernel)",
   "language": "python",
   "name": "python3"
  },
  "language_info": {
   "codemirror_mode": {
    "name": "ipython",
    "version": 3
   },
   "file_extension": ".py",
   "mimetype": "text/x-python",
   "name": "python",
   "nbconvert_exporter": "python",
   "pygments_lexer": "ipython3",
   "version": "3.10.8"
  }
 },
 "nbformat": 4,
 "nbformat_minor": 5
}
