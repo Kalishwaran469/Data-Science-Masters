{
 "cells": [
  {
   "cell_type": "code",
   "execution_count": null,
   "id": "88631665-05d0-485e-a94e-a4206e5b13f4",
   "metadata": {},
   "outputs": [],
   "source": [
    "# question 1"
   ]
  },
  {
   "cell_type": "code",
   "execution_count": null,
   "id": "9bdf2499-5038-4126-b460-79cbc6ff611d",
   "metadata": {},
   "outputs": [],
   "source": [
    "# Bayes' Theorem states that the conditional probability of an event, based on the occurrence of another event, is equal to the likelihood of the second event given the first event multiplied by the probability of the first event."
   ]
  },
  {
   "cell_type": "code",
   "execution_count": null,
   "id": "b63f4909-16a9-4087-9ef9-06660912d565",
   "metadata": {},
   "outputs": [],
   "source": [
    "# question 2"
   ]
  },
  {
   "cell_type": "code",
   "execution_count": null,
   "id": "e8fe3bda-99d1-4e1c-bce1-001e3af97e43",
   "metadata": {},
   "outputs": [],
   "source": [
    "# P(A∣B)= P(A⋂B) / P(B) = P(A)⋅ P(B∣A) / P(B)\n"
   ]
  },
  {
   "cell_type": "code",
   "execution_count": null,
   "id": "938f9d29-0bb8-4465-a82a-5bedcbc6d476",
   "metadata": {},
   "outputs": [],
   "source": [
    "# question 3"
   ]
  },
  {
   "cell_type": "code",
   "execution_count": null,
   "id": "3a58eea0-8c8c-48fa-ba53-5943b9a0e096",
   "metadata": {},
   "outputs": [],
   "source": [
    "# For example, if a disease is related to age, then, using Bayes' theorem, a person's age can be used to more accurately assess the probability that they have the disease, compared to the assessment of the probability of disease made without knowledge of the person's age."
   ]
  },
  {
   "cell_type": "code",
   "execution_count": null,
   "id": "444dab00-1a04-4efd-8bb6-def22d90a00f",
   "metadata": {},
   "outputs": [],
   "source": [
    "# question 4"
   ]
  },
  {
   "cell_type": "code",
   "execution_count": null,
   "id": "be9cced3-bafc-41ce-865c-3a0444393bd9",
   "metadata": {},
   "outputs": [],
   "source": [
    "# Bayes Theorem provides a principled way for calculating a conditional probability. It is a deceptively simple calculation, although it can be used to easily calculate the conditional probability of events where intuition often fails."
   ]
  },
  {
   "cell_type": "code",
   "execution_count": null,
   "id": "16c3c9ab-75ce-494e-975d-741f65e0acc3",
   "metadata": {},
   "outputs": [],
   "source": [
    "# question 5"
   ]
  },
  {
   "cell_type": "code",
   "execution_count": null,
   "id": "66dead68-481c-4819-a5e6-27bb95f88de5",
   "metadata": {},
   "outputs": [],
   "source": [
    "# if output is binary type like 2 categories then we use bernauli naive bayes\n",
    "# if input is text type then we use multinomial naive bayes\n",
    "# if input is continuous value then we use gaussian naive bayes"
   ]
  },
  {
   "cell_type": "code",
   "execution_count": null,
   "id": "f36c7ac9-e867-4983-9db8-c15f04eb52e9",
   "metadata": {},
   "outputs": [],
   "source": []
  },
  {
   "cell_type": "code",
   "execution_count": null,
   "id": "8043fd3c-05c1-4003-a004-a7725649f22f",
   "metadata": {},
   "outputs": [],
   "source": []
  },
  {
   "cell_type": "code",
   "execution_count": null,
   "id": "6f8854c2-5450-414d-b4af-24f2c96aab3e",
   "metadata": {},
   "outputs": [],
   "source": []
  }
 ],
 "metadata": {
  "kernelspec": {
   "display_name": "Python 3 (ipykernel)",
   "language": "python",
   "name": "python3"
  },
  "language_info": {
   "codemirror_mode": {
    "name": "ipython",
    "version": 3
   },
   "file_extension": ".py",
   "mimetype": "text/x-python",
   "name": "python",
   "nbconvert_exporter": "python",
   "pygments_lexer": "ipython3",
   "version": "3.10.8"
  }
 },
 "nbformat": 4,
 "nbformat_minor": 5
}
