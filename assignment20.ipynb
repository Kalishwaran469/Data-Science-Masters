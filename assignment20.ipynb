{
 "cells": [
  {
   "cell_type": "code",
   "execution_count": null,
   "id": "b7b33732-c5f6-4977-a838-434578dd97ff",
   "metadata": {},
   "outputs": [],
   "source": [
    "# question1"
   ]
  },
  {
   "cell_type": "code",
   "execution_count": null,
   "id": "29ff60d0-3d24-44be-985d-541c536a9eee",
   "metadata": {},
   "outputs": [],
   "source": [
    "# Web scraping is used in a variety of digital businesses that rely on data harvesting.\n",
    "# Legitimate use cases include: Search engine bots crawling a site, analyzing its content and then ranking it. Price comparison sites deploying bots to auto-fetch prices and product descriptions for allied seller websites.\n",
    "# Monitoring e-commerce prices.\n",
    "# Finding opportunities for investment.\n",
    "# Analyzing social media web data."
   ]
  },
  {
   "cell_type": "code",
   "execution_count": null,
   "id": "0de03a12-7872-4a0a-adc1-5fa56e6ab0c6",
   "metadata": {},
   "outputs": [],
   "source": [
    "# question 2"
   ]
  },
  {
   "cell_type": "code",
   "execution_count": null,
   "id": "99028bd5-2105-4ee9-8a6a-f46301eac0d3",
   "metadata": {},
   "outputs": [],
   "source": [
    "# Human copy-and-paste. The simplest form of web scraping is manually copying and pasting data from a web page into a text file or spreadsheet. ...\n",
    "# Text pattern matching. ...\n",
    "# HTTP programming. ...\n",
    "# HTML parsing. ...\n",
    "# DOM parsing. ...\n",
    "# Vertical aggregation. ...\n",
    "# Semantic annotation recognizing. ...\n",
    "# Computer vision web-page analysi"
   ]
  },
  {
   "cell_type": "code",
   "execution_count": null,
   "id": "e53010d4-591f-4b63-bfad-337d1a497275",
   "metadata": {},
   "outputs": [],
   "source": [
    "# question3"
   ]
  },
  {
   "cell_type": "code",
   "execution_count": null,
   "id": "6ea2e153-67ae-41e6-9550-835c33a92de0",
   "metadata": {},
   "outputs": [],
   "source": [
    "# Beautiful Soup is a Python package for parsing HTML and XML documents (including having malformed markup, i.e. non-closed tags, so named after tag soup). It creates a parse tree for parsed pages that can be used to extract data from HTML, which is useful for web scraping."
   ]
  },
  {
   "cell_type": "code",
   "execution_count": null,
   "id": "dbf292a6-5d3b-46d6-8acd-f0cb64ac3df6",
   "metadata": {},
   "outputs": [],
   "source": [
    "# question4"
   ]
  },
  {
   "cell_type": "code",
   "execution_count": null,
   "id": "83a66a3e-561f-463d-8029-658800ac3ef2",
   "metadata": {},
   "outputs": [],
   "source": [
    "# Flask is a lightweight framework to build websites. We'll use this to parse our collected data and display it as HTML in a new HTML file. The requests module allows us to send http requests to the website we want to scrape. The first line imports the Flask class and the render_template method from the flask library."
   ]
  },
  {
   "cell_type": "code",
   "execution_count": null,
   "id": "13a23857-a013-44c5-bc73-00ead8229d85",
   "metadata": {},
   "outputs": [],
   "source": [
    "# question5"
   ]
  },
  {
   "cell_type": "code",
   "execution_count": null,
   "id": "66fa38fb-ba91-4877-a4ee-0e78c3ef5c68",
   "metadata": {},
   "outputs": [],
   "source": [
    "# elastic beanstack\n",
    "# pipeline"
   ]
  },
  {
   "cell_type": "code",
   "execution_count": null,
   "id": "a13bc0c3-691f-41c8-ab21-c84bc281d6f9",
   "metadata": {},
   "outputs": [],
   "source": []
  },
  {
   "cell_type": "code",
   "execution_count": null,
   "id": "cfc90169-0847-4a66-be85-20c02822e394",
   "metadata": {},
   "outputs": [],
   "source": []
  },
  {
   "cell_type": "code",
   "execution_count": null,
   "id": "136876c8-f847-4725-82e1-236b27644118",
   "metadata": {},
   "outputs": [],
   "source": []
  }
 ],
 "metadata": {
  "kernelspec": {
   "display_name": "Python 3 (ipykernel)",
   "language": "python",
   "name": "python3"
  },
  "language_info": {
   "codemirror_mode": {
    "name": "ipython",
    "version": 3
   },
   "file_extension": ".py",
   "mimetype": "text/x-python",
   "name": "python",
   "nbconvert_exporter": "python",
   "pygments_lexer": "ipython3",
   "version": "3.10.8"
  }
 },
 "nbformat": 4,
 "nbformat_minor": 5
}
