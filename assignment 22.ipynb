{
 "cells": [
  {
   "cell_type": "code",
   "execution_count": 11,
   "id": "5d95c302-df3b-4451-b884-df7882a17668",
   "metadata": {},
   "outputs": [],
   "source": [
    "# question1\n",
    "import pandas as pd\n"
   ]
  },
  {
   "cell_type": "code",
   "execution_count": 10,
   "id": "3f1dd73a-0464-4c49-a41c-2c2b60cf6e2b",
   "metadata": {},
   "outputs": [],
   "source": [
    "data=[4,8,15,16,23,42]"
   ]
  },
  {
   "cell_type": "code",
   "execution_count": 9,
   "id": "f5aeccf2-77ca-42a7-a252-89502128ffc1",
   "metadata": {},
   "outputs": [
    {
     "name": "stdout",
     "output_type": "stream",
     "text": [
      "0     4\n",
      "1     8\n",
      "2    15\n",
      "3    16\n",
      "4    23\n",
      "5    42\n",
      "dtype: int64\n"
     ]
    }
   ],
   "source": [
    "\n",
    " \n",
    "ser = pd.Series(data)\n",
    "print(ser)"
   ]
  },
  {
   "cell_type": "code",
   "execution_count": null,
   "id": "43cb9e28-45e5-4cee-9d76-b08d84545999",
   "metadata": {},
   "outputs": [],
   "source": [
    "# question2"
   ]
  },
  {
   "cell_type": "code",
   "execution_count": 12,
   "id": "d637acd6-1766-4523-8aeb-09aca60dc52e",
   "metadata": {},
   "outputs": [],
   "source": [
    "import pandas as pd"
   ]
  },
  {
   "cell_type": "code",
   "execution_count": 13,
   "id": "068ca450-c939-4e08-b7bd-99d19c5e5897",
   "metadata": {},
   "outputs": [],
   "source": [
    "lst=['csk','mi','rcb','kkr','rr','pbks','srh','dc','lsg','gt']"
   ]
  },
  {
   "cell_type": "code",
   "execution_count": 16,
   "id": "79fbaab5-123f-4389-8335-fbf072bfd5fb",
   "metadata": {},
   "outputs": [
    {
     "data": {
      "text/plain": [
       "0     csk\n",
       "1      mi\n",
       "2     rcb\n",
       "3     kkr\n",
       "4      rr\n",
       "5    pbks\n",
       "6     srh\n",
       "7      dc\n",
       "8     lsg\n",
       "9      gt\n",
       "dtype: object"
      ]
     },
     "execution_count": 16,
     "metadata": {},
     "output_type": "execute_result"
    }
   ],
   "source": [
    "pd.Series(lst)"
   ]
  },
  {
   "cell_type": "code",
   "execution_count": null,
   "id": "d056a59a-663f-4c36-89c5-952804a689fb",
   "metadata": {},
   "outputs": [],
   "source": [
    "# question3"
   ]
  },
  {
   "cell_type": "code",
   "execution_count": 17,
   "id": "f6fd2495-cfbc-4a61-96e7-a075b4ae1bc6",
   "metadata": {},
   "outputs": [],
   "source": [
    "import pandas as pd"
   ]
  },
  {
   "cell_type": "code",
   "execution_count": 18,
   "id": "6e58b078-1c64-493b-8667-142072b92c6c",
   "metadata": {},
   "outputs": [],
   "source": [
    "data1=[['Alice',25,'Female'],['Bob',30,'Male'],['Claire',27,'Female']]"
   ]
  },
  {
   "cell_type": "code",
   "execution_count": 20,
   "id": "70a4ddcc-ebbf-40d9-81e0-4164803bfd3a",
   "metadata": {},
   "outputs": [],
   "source": [
    "df=pd.DataFrame(data1,columns=['Name','Age','Gender'])"
   ]
  },
  {
   "cell_type": "code",
   "execution_count": 28,
   "id": "a26a14b1-64c3-410b-8f1f-080039f66fe4",
   "metadata": {},
   "outputs": [
    {
     "data": {
      "text/html": [
       "<div>\n",
       "<style scoped>\n",
       "    .dataframe tbody tr th:only-of-type {\n",
       "        vertical-align: middle;\n",
       "    }\n",
       "\n",
       "    .dataframe tbody tr th {\n",
       "        vertical-align: top;\n",
       "    }\n",
       "\n",
       "    .dataframe thead th {\n",
       "        text-align: right;\n",
       "    }\n",
       "</style>\n",
       "<table border=\"1\" class=\"dataframe\">\n",
       "  <thead>\n",
       "    <tr style=\"text-align: right;\">\n",
       "      <th></th>\n",
       "      <th>Name</th>\n",
       "      <th>Age</th>\n",
       "      <th>Gender</th>\n",
       "    </tr>\n",
       "  </thead>\n",
       "  <tbody>\n",
       "    <tr>\n",
       "      <th>0</th>\n",
       "      <td>Alice</td>\n",
       "      <td>25</td>\n",
       "      <td>Female</td>\n",
       "    </tr>\n",
       "    <tr>\n",
       "      <th>1</th>\n",
       "      <td>Bob</td>\n",
       "      <td>30</td>\n",
       "      <td>Male</td>\n",
       "    </tr>\n",
       "    <tr>\n",
       "      <th>2</th>\n",
       "      <td>Claire</td>\n",
       "      <td>27</td>\n",
       "      <td>Female</td>\n",
       "    </tr>\n",
       "  </tbody>\n",
       "</table>\n",
       "</div>"
      ],
      "text/plain": [
       "     Name  Age  Gender\n",
       "0   Alice   25  Female\n",
       "1     Bob   30    Male\n",
       "2  Claire   27  Female"
      ]
     },
     "execution_count": 28,
     "metadata": {},
     "output_type": "execute_result"
    }
   ],
   "source": [
    "df"
   ]
  },
  {
   "cell_type": "code",
   "execution_count": 22,
   "id": "cf8c4082-b325-4726-8fe5-a319886aec39",
   "metadata": {},
   "outputs": [
    {
     "data": {
      "text/plain": [
       "pandas.core.frame.DataFrame"
      ]
     },
     "execution_count": 22,
     "metadata": {},
     "output_type": "execute_result"
    }
   ],
   "source": [
    "type(df)"
   ]
  },
  {
   "cell_type": "code",
   "execution_count": null,
   "id": "cf373880-9dc3-4c76-9a9a-a387671df464",
   "metadata": {},
   "outputs": [],
   "source": [
    "# question4"
   ]
  },
  {
   "cell_type": "code",
   "execution_count": null,
   "id": "3e361f28-53bf-45db-8f46-86f87d0c61e3",
   "metadata": {},
   "outputs": [],
   "source": [
    "# Pandas DataFrame, on the other hand, is a two-dimensional structure with columns and rows whose size can be changed. You can also think of it as a dictionary of Series objects. The data parameter can take any of the following data types: Dictionary (dict) of – 1D ndarray, lists, or Series.\n",
    "#1)Series are 1-D, whereas Dataframe are 2-D. 2)Series consists of homogeneous data, whereas dataframe consists of heterogeneous data. 3)series are value mutable whereas dataframe are not.\n"
   ]
  },
  {
   "cell_type": "code",
   "execution_count": 3,
   "id": "6ef673e0-b880-4d5d-b22d-463ef17fdc8b",
   "metadata": {},
   "outputs": [],
   "source": [
    "import pandas as pd\n",
    "data1=(['Alice',25,'Female'],['Bob',30,'Male'],['Claire',27,'Female'])"
   ]
  },
  {
   "cell_type": "code",
   "execution_count": 14,
   "id": "2407c80e-3d0e-4b27-8aa5-99fb8c6fe261",
   "metadata": {},
   "outputs": [
    {
     "name": "stdout",
     "output_type": "stream",
     "text": [
      "0    g\n",
      "1    e\n",
      "2    e\n",
      "3    k\n",
      "4    s\n",
      "dtype: object\n"
     ]
    }
   ],
   "source": [
    "\n",
    "import pandas as pd\n",
    " \n",
    "\n",
    "data = (['g', 'e', 'e', 'k', 's'])\n",
    " \n",
    "ser = pd.Series(data)\n",
    "print(ser)"
   ]
  },
  {
   "cell_type": "code",
   "execution_count": 13,
   "id": "cba663f3-34ce-403e-956f-5db80caed904",
   "metadata": {},
   "outputs": [
    {
     "data": {
      "text/plain": [
       "pandas.core.series.Series"
      ]
     },
     "execution_count": 13,
     "metadata": {},
     "output_type": "execute_result"
    }
   ],
   "source": [
    "type(ser)"
   ]
  },
  {
   "cell_type": "code",
   "execution_count": 6,
   "id": "630b73fc-d015-4ba0-9dc1-78280b1f8baa",
   "metadata": {},
   "outputs": [
    {
     "name": "stdout",
     "output_type": "stream",
     "text": [
      "  ipl_teams  champions_list\n",
      "0       csk               4\n",
      "1        mi               5\n",
      "2       rcb               0\n",
      "3       kkr               2\n"
     ]
    }
   ],
   "source": [
    "\n",
    "import pandas as pd\n",
    "\n",
    "teams= pd.Series(['csk',\n",
    "              'mi', 'rcb', 'kkr'])\n",
    "champions= pd.Series([4, 5, 0, 2])\n",
    "ipl = {'ipl_teams': teams,\n",
    "         'champions_list':champions }\n",
    "history = pd.DataFrame(ipl)\n",
    "print(history)"
   ]
  },
  {
   "cell_type": "code",
   "execution_count": 7,
   "id": "c793032c-7b57-4a95-8de9-409b265bf444",
   "metadata": {},
   "outputs": [
    {
     "data": {
      "text/plain": [
       "pandas.core.frame.DataFrame"
      ]
     },
     "execution_count": 7,
     "metadata": {},
     "output_type": "execute_result"
    }
   ],
   "source": [
    "type(history)"
   ]
  },
  {
   "cell_type": "code",
   "execution_count": null,
   "id": "2baf1c36-980d-4e40-9148-d2d7af34a2a2",
   "metadata": {},
   "outputs": [],
   "source": [
    "# question5"
   ]
  },
  {
   "cell_type": "code",
   "execution_count": null,
   "id": "288078b7-6e93-4188-a76c-9103fbdf4705",
   "metadata": {},
   "outputs": [],
   "source": [
    "# Read Data\n",
    "# We can read data in pandas data frame as read_csv(). Two most used data read formats are csv and excel. If we are reading data in excel format, we can also give sheet names as follows. There are other less used options of other file types too.\n",
    "\n",
    "# Head and Tail\n",
    "\n",
    "# To see the data frame we can use df.head(). Head returns the first rows, if no input is given it will always show above 5 rows. In contrast to see below rows, we can use df.tail()."
   ]
  },
  {
   "cell_type": "code",
   "execution_count": null,
   "id": "4b443880-a67c-4fb1-9bc4-e83b91820a26",
   "metadata": {},
   "outputs": [],
   "source": [
    "# question6"
   ]
  },
  {
   "cell_type": "code",
   "execution_count": null,
   "id": "91990f60-041a-4fd2-843d-6947edc0a778",
   "metadata": {},
   "outputs": [],
   "source": [
    "# All Pandas data structures are value mutable (can be changed) and except Series all are size mutable. Series is size immutable. Note − DataFrame is widely used and one of the most important data structures. Panel is used much less."
   ]
  },
  {
   "cell_type": "code",
   "execution_count": null,
   "id": "dceb16f5-94b2-42e3-9dab-ad9b5c64cc09",
   "metadata": {},
   "outputs": [],
   "source": [
    "# question7"
   ]
  },
  {
   "cell_type": "code",
   "execution_count": 20,
   "id": "47a4b13a-56b6-468f-9b6a-0d7ac59afeda",
   "metadata": {},
   "outputs": [
    {
     "name": "stdout",
     "output_type": "stream",
     "text": [
      "         0      1     2\n",
      "0    Spark  22000  1000\n",
      "1  PySpark  25000  2300\n",
      "2   Hadoop  23000  1000\n"
     ]
    }
   ],
   "source": [
    "import pandas as pd\n",
    "\n",
    "courses = pd.Series([\"Spark\",\"PySpark\",\"Hadoop\"])\n",
    "fees = pd.Series([22000,25000,23000])\n",
    "discount  = pd.Series([1000,2300,1000])\n",
    "\n",
    "df=pd.concat([courses,fees,discount],axis=1)\n",
    "print(df)"
   ]
  },
  {
   "cell_type": "code",
   "execution_count": 21,
   "id": "fd0881b2-33d1-4b90-8598-3f2cd4334158",
   "metadata": {},
   "outputs": [
    {
     "data": {
      "text/plain": [
       "pandas.core.frame.DataFrame"
      ]
     },
     "execution_count": 21,
     "metadata": {},
     "output_type": "execute_result"
    }
   ],
   "source": [
    "type(df)"
   ]
  },
  {
   "cell_type": "code",
   "execution_count": null,
   "id": "78cbd0df-bd21-499a-8a8f-0a68c8472952",
   "metadata": {},
   "outputs": [],
   "source": []
  },
  {
   "cell_type": "code",
   "execution_count": null,
   "id": "36dac874-28fd-447f-991c-0cab9059a699",
   "metadata": {},
   "outputs": [],
   "source": []
  }
 ],
 "metadata": {
  "kernelspec": {
   "display_name": "Python 3 (ipykernel)",
   "language": "python",
   "name": "python3"
  },
  "language_info": {
   "codemirror_mode": {
    "name": "ipython",
    "version": 3
   },
   "file_extension": ".py",
   "mimetype": "text/x-python",
   "name": "python",
   "nbconvert_exporter": "python",
   "pygments_lexer": "ipython3",
   "version": "3.10.8"
  }
 },
 "nbformat": 4,
 "nbformat_minor": 5
}
