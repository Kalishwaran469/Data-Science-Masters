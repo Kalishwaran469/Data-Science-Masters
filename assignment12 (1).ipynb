{
 "cells": [
  {
   "cell_type": "code",
   "execution_count": null,
   "id": "87705e02-5465-48d7-b648-919a32055ca4",
   "metadata": {},
   "outputs": [],
   "source": [
    "# question3"
   ]
  },
  {
   "cell_type": "code",
   "execution_count": null,
   "id": "9ef51e78-c577-442c-9a0a-1e3c3bab91e1",
   "metadata": {},
   "outputs": [],
   "source": [
    "# ArithmeticError is simply an error that occurs during numeric calculations.\n",
    "\n",
    "# ArithmeticError types in Python include:\n",
    "\n",
    "# OverFlowError\n",
    "# ZeroDivisionError\n",
    "# FloatingPointError"
   ]
  },
  {
   "cell_type": "code",
   "execution_count": 5,
   "id": "ea501aba-1542-4e10-b270-20b5c46bbfc8",
   "metadata": {},
   "outputs": [
    {
     "ename": "ZeroDivisionError",
     "evalue": "division by zero",
     "output_type": "error",
     "traceback": [
      "\u001b[0;31m---------------------------------------------------------------------------\u001b[0m",
      "\u001b[0;31mZeroDivisionError\u001b[0m                         Traceback (most recent call last)",
      "Cell \u001b[0;32mIn[5], line 2\u001b[0m\n\u001b[1;32m      1\u001b[0m a\u001b[38;5;241m=\u001b[39m\u001b[38;5;241m10\u001b[39m\n\u001b[0;32m----> 2\u001b[0m \u001b[43ma\u001b[49m\u001b[38;5;241;43m/\u001b[39;49m\u001b[38;5;241;43m0\u001b[39;49m\n",
      "\u001b[0;31mZeroDivisionError\u001b[0m: division by zero"
     ]
    }
   ],
   "source": [
    "a=10\n",
    "a/0"
   ]
  },
  {
   "cell_type": "code",
   "execution_count": 7,
   "id": "4ccd85f8-ed2f-4ff4-b28e-6bb644a4b5de",
   "metadata": {},
   "outputs": [
    {
     "name": "stdout",
     "output_type": "stream",
     "text": [
      "division by zero\n"
     ]
    }
   ],
   "source": [
    "try:\n",
    "    a=10\n",
    "    a/0\n",
    "except ZeroDivisionError as e:\n",
    "    print(e)"
   ]
  },
  {
   "cell_type": "code",
   "execution_count": null,
   "id": "b07a97ca-6fa2-4ec0-a045-9ee3c8b078d6",
   "metadata": {},
   "outputs": [],
   "source": [
    "# question4\n"
   ]
  },
  {
   "cell_type": "code",
   "execution_count": null,
   "id": "fc3398e9-f099-4461-a776-ce5e475d609f",
   "metadata": {},
   "outputs": [],
   "source": [
    "# The LookupError exception in Python forms the base class for all exceptions that are raised when an index or a key is not \n",
    "# found for a sequence or dictionary respectively."
   ]
  },
  {
   "cell_type": "code",
   "execution_count": 13,
   "id": "f0d02753-8703-4fbf-933a-d61c00bc4fc7",
   "metadata": {},
   "outputs": [
    {
     "name": "stdout",
     "output_type": "stream",
     "text": [
      "'key1'\n"
     ]
    }
   ],
   "source": [
    "try:\n",
    "    d={123:'jack','key':'kjik'}\n",
    "    d['key1']\n",
    "except KeyError as e:\n",
    "    print(e)"
   ]
  },
  {
   "cell_type": "code",
   "execution_count": 17,
   "id": "1994c05a-6e00-40e3-b672-fed727932e2f",
   "metadata": {},
   "outputs": [
    {
     "name": "stdout",
     "output_type": "stream",
     "text": [
      "list index out of range\n"
     ]
    }
   ],
   "source": [
    "try:\n",
    "    l=[1,2,4,5]\n",
    "    l[8]\n",
    "except IndexError as e:\n",
    "    print(e)"
   ]
  },
  {
   "cell_type": "code",
   "execution_count": null,
   "id": "28da64c1-a400-4d4c-bc28-36c385fa58c1",
   "metadata": {},
   "outputs": [],
   "source": [
    "#question 5"
   ]
  },
  {
   "cell_type": "code",
   "execution_count": 19,
   "id": "67b55926-1c71-4c48-a0d6-4d98b40faed8",
   "metadata": {},
   "outputs": [
    {
     "name": "stdout",
     "output_type": "stream",
     "text": [
      "No module named 'jack'\n"
     ]
    }
   ],
   "source": [
    "#importerror\n",
    "try:\n",
    "    import jack\n",
    "except ImportError as e:\n",
    "    print(e)"
   ]
  },
  {
   "cell_type": "code",
   "execution_count": null,
   "id": "00d25842-e4dd-4ab5-aec9-b309213b8876",
   "metadata": {},
   "outputs": [],
   "source": [
    "# question6"
   ]
  },
  {
   "cell_type": "code",
   "execution_count": null,
   "id": "7642fc4f-3c3d-4e09-8153-a798ef97692a",
   "metadata": {},
   "outputs": [],
   "source": [
    "# instead of using superclass error exception we can use specific error exception\n",
    "# don't use unnecessary error exceptions only use specific error exception\n",
    "# "
   ]
  },
  {
   "cell_type": "code",
   "execution_count": null,
   "id": "72536659-7243-4597-b7fc-6812292055c3",
   "metadata": {},
   "outputs": [],
   "source": []
  },
  {
   "cell_type": "code",
   "execution_count": null,
   "id": "1a430eb6-f91f-4c04-bbf5-2a4b2017bdeb",
   "metadata": {},
   "outputs": [],
   "source": []
  }
 ],
 "metadata": {
  "kernelspec": {
   "display_name": "Python 3 (ipykernel)",
   "language": "python",
   "name": "python3"
  },
  "language_info": {
   "codemirror_mode": {
    "name": "ipython",
    "version": 3
   },
   "file_extension": ".py",
   "mimetype": "text/x-python",
   "name": "python",
   "nbconvert_exporter": "python",
   "pygments_lexer": "ipython3",
   "version": "3.10.8"
  }
 },
 "nbformat": 4,
 "nbformat_minor": 5
}
