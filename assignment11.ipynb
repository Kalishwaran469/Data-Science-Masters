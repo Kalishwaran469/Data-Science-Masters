{
 "cells": [
  {
   "cell_type": "code",
   "execution_count": null,
   "id": "f85ce09f-1be7-44ab-b6ae-53bc7f7310a8",
   "metadata": {},
   "outputs": [],
   "source": [
    "# question 1\n",
    "\n",
    "# an exception is a condition that interrupts the normal flow of the program.\n",
    "# Errors mostly happen at compile-time like syntax error; however it can happen at runtime as well. Whereas an Exception\n",
    "# occurs at runtime (checked exceptions can be detected at compile time).Both Error and Exception have the same parent\n",
    "# class as Throwable."
   ]
  },
  {
   "cell_type": "code",
   "execution_count": 4,
   "id": "9cb8c578-3627-4cb9-bb88-fbc076384be1",
   "metadata": {},
   "outputs": [
    {
     "name": "stdout",
     "output_type": "stream",
     "text": [
      "whatever happens in my mind or body ill never a shit to fall through i am a guy with ambition so i deserve a fucking rich life\n"
     ]
    }
   ],
   "source": [
    "# question 2\n",
    "\n",
    "# When an exception occurred, if you don't handle it, the program terminates abruptly \n",
    "# and the code past the line that caused the exception will not get executed.\n",
    "\n",
    "try:\n",
    "    f=open('test1.txt','w')\n",
    "    f.write('today is my day')\n",
    "\n",
    "except Exception as e:\n",
    "    print('every second is my second')\n",
    "    \n",
    "finally:\n",
    "    print('whatever happens in my mind or body ill never a shit to fall through i am a guy with ambition so i deserve a fucking rich life')"
   ]
  },
  {
   "cell_type": "code",
   "execution_count": 5,
   "id": "92b604d7-2bbe-42f4-adda-42871638a10e",
   "metadata": {},
   "outputs": [
    {
     "name": "stdout",
     "output_type": "stream",
     "text": [
      "every second is my second\n"
     ]
    }
   ],
   "source": [
    "# question 3\n",
    "\n",
    "# The try and except Block: Handling Exceptions. The try and except block in Python is used to catch and handle\n",
    "# exceptions. Python executes code following the try statement as a “normal” part of the program. The code that follows \n",
    "# the except statement is the program's response to any exception in the preceding try clause.\n",
    "\n",
    "try:\n",
    "    f=open('test1.txt','r')\n",
    "    f.write('today is my day')\n",
    "\n",
    "except Exception as e:\n",
    "    print('every second is my second')"
   ]
  },
  {
   "cell_type": "code",
   "execution_count": null,
   "id": "1bda0174-29e5-4b37-89e8-e14da379e7ce",
   "metadata": {},
   "outputs": [],
   "source": [
    "# question 4\n"
   ]
  },
  {
   "cell_type": "code",
   "execution_count": 8,
   "id": "9f31651b-e000-499a-b4bf-1da83c7abb54",
   "metadata": {},
   "outputs": [
    {
     "name": "stdout",
     "output_type": "stream",
     "text": [
      "everyone have a problem so dont worry about it\n"
     ]
    }
   ],
   "source": [
    "# try and else\n",
    "\n",
    "try:\n",
    "    f=open('test1.txt','w')\n",
    "    f.write('today is my day')\n",
    "\n",
    "except Exception as e:\n",
    "    print('every second is my second')\n",
    "    \n",
    "else:\n",
    "    print('everyone have a problem so dont worry about it')"
   ]
  },
  {
   "cell_type": "code",
   "execution_count": 9,
   "id": "9946dbd2-886d-4560-8ad1-eecba29d4cd5",
   "metadata": {},
   "outputs": [
    {
     "name": "stdout",
     "output_type": "stream",
     "text": [
      "everyone have a problem so dont worry about it\n",
      "if you want happy you happy\n"
     ]
    }
   ],
   "source": [
    "# finally\n",
    "\n",
    "try:\n",
    "    f=open('test1.txt','w')\n",
    "    f.write('today is my day')\n",
    "\n",
    "except Exception as e:\n",
    "    print('every second is my second')\n",
    "    \n",
    "else:\n",
    "    print('everyone have a problem so dont worry about it')\n",
    "    \n",
    "finally:\n",
    "    print(\"if you want happy you happy\")\n"
   ]
  },
  {
   "cell_type": "code",
   "execution_count": 10,
   "id": "b90ca059-806e-494c-b0b6-0f700f24d611",
   "metadata": {},
   "outputs": [
    {
     "ename": "CustomError",
     "evalue": "Example of Custom Exceptions in Python",
     "output_type": "error",
     "traceback": [
      "\u001b[0;31m---------------------------------------------------------------------------\u001b[0m",
      "\u001b[0;31mCustomError\u001b[0m                               Traceback (most recent call last)",
      "Cell \u001b[0;32mIn[10], line 6\u001b[0m\n\u001b[1;32m      3\u001b[0m \u001b[38;5;28;01mclass\u001b[39;00m \u001b[38;5;21;01mCustomError\u001b[39;00m(\u001b[38;5;167;01mException\u001b[39;00m):\n\u001b[1;32m      4\u001b[0m     \u001b[38;5;28;01mpass\u001b[39;00m\n\u001b[0;32m----> 6\u001b[0m \u001b[38;5;28;01mraise\u001b[39;00m CustomError(\u001b[38;5;124m\"\u001b[39m\u001b[38;5;124mExample of Custom Exceptions in Python\u001b[39m\u001b[38;5;124m\"\u001b[39m)\n",
      "\u001b[0;31mCustomError\u001b[0m: Example of Custom Exceptions in Python"
     ]
    }
   ],
   "source": [
    "# raise\n",
    "\n",
    "class CustomError(Exception):\n",
    "    pass\n",
    "\n",
    "raise CustomError(\"Example of Custom Exceptions in Python\")\n"
   ]
  },
  {
   "cell_type": "code",
   "execution_count": null,
   "id": "6fdce565-c85e-475d-b235-b7aadbacf2d3",
   "metadata": {},
   "outputs": [],
   "source": [
    "# question 5\n",
    "\n",
    "# custom exceptions are user defined exception.if use exception handling for some codes still the exception handling \n",
    "# is not provided a desired result that's why we use custom exceptions.\n",
    "\n"
   ]
  },
  {
   "cell_type": "code",
   "execution_count": null,
   "id": "f75dac7a-f364-48bd-9b2d-fd6fb57c3a82",
   "metadata": {},
   "outputs": [],
   "source": [
    "# question 6"
   ]
  },
  {
   "cell_type": "code",
   "execution_count": null,
   "id": "f92ccc07-9ab6-4eb0-9c95-54e2cf093991",
   "metadata": {},
   "outputs": [],
   "source": [
    "class InvalidAgeException(Exception):\n",
    "    \"Raised when the input value is less than 18\"\n",
    "    pass\n",
    "\n",
    "number = 18\n",
    "\n",
    "try:\n",
    "    input_num = int(input(\"Enter a number: \"))\n",
    "    if input_num < number:\n",
    "        raise InvalidAgeException\n",
    "    else:\n",
    "        print(\"Eligible to Vote\")\n",
    "        \n",
    "except InvalidAgeException:\n",
    "    print(\"Exception occurred: Invalid Age\")"
   ]
  },
  {
   "cell_type": "code",
   "execution_count": null,
   "id": "147b3387-7b50-4646-bf05-c1b109592149",
   "metadata": {},
   "outputs": [],
   "source": []
  },
  {
   "cell_type": "code",
   "execution_count": null,
   "id": "37ee6c4b-4bd3-4618-95b5-b3e03972c915",
   "metadata": {},
   "outputs": [],
   "source": []
  },
  {
   "cell_type": "code",
   "execution_count": null,
   "id": "ed176b75-f3cd-435d-9b3c-56af5cbd9ccf",
   "metadata": {},
   "outputs": [],
   "source": []
  },
  {
   "cell_type": "code",
   "execution_count": null,
   "id": "e3a42f31-bbd7-4f87-b936-c7a8abb1b77d",
   "metadata": {},
   "outputs": [],
   "source": []
  },
  {
   "cell_type": "code",
   "execution_count": null,
   "id": "560b9da3-585d-4e00-abd4-a9b501940515",
   "metadata": {},
   "outputs": [],
   "source": []
  },
  {
   "cell_type": "code",
   "execution_count": null,
   "id": "449ae43c-7377-40c2-b8db-9a719441f0b0",
   "metadata": {},
   "outputs": [],
   "source": []
  }
 ],
 "metadata": {
  "kernelspec": {
   "display_name": "Python 3 (ipykernel)",
   "language": "python",
   "name": "python3"
  },
  "language_info": {
   "codemirror_mode": {
    "name": "ipython",
    "version": 3
   },
   "file_extension": ".py",
   "mimetype": "text/x-python",
   "name": "python",
   "nbconvert_exporter": "python",
   "pygments_lexer": "ipython3",
   "version": "3.10.8"
  }
 },
 "nbformat": 4,
 "nbformat_minor": 5
}
