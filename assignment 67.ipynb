{
 "cells": [
  {
   "cell_type": "code",
   "execution_count": null,
   "id": "a5cd8d13-ed5c-440f-8ffa-2c950dded16a",
   "metadata": {},
   "outputs": [],
   "source": [
    "# question 1"
   ]
  },
  {
   "cell_type": "code",
   "execution_count": null,
   "id": "801610be-479a-49ba-9b11-0f74ced7dcf3",
   "metadata": {},
   "outputs": [],
   "source": [
    "# A random forest regressor. A random forest is a meta estimator that fits a number of classifying decision trees on various sub-samples of the dataset and uses averaging to improve the predictive accuracy and control over-fitting."
   ]
  },
  {
   "cell_type": "code",
   "execution_count": null,
   "id": "9b625caf-648a-46b1-b30d-d668c8844fd9",
   "metadata": {},
   "outputs": [],
   "source": [
    "# question 3"
   ]
  },
  {
   "cell_type": "code",
   "execution_count": null,
   "id": "82f1f172-d880-47b9-95a5-5ca730e9d5bb",
   "metadata": {},
   "outputs": [],
   "source": [
    "# random forest regressor aggregate the predictions of all the models and get the average of all the predictions to produce a better accuracy"
   ]
  },
  {
   "cell_type": "code",
   "execution_count": null,
   "id": "c8684ef9-888c-4fc1-bf9b-2f629f8b498e",
   "metadata": {},
   "outputs": [],
   "source": [
    "# question 4"
   ]
  },
  {
   "cell_type": "code",
   "execution_count": null,
   "id": "b71849f2-d4cf-49a4-9570-af7182c8ba2d",
   "metadata": {},
   "outputs": [],
   "source": [
    "# In the case of a random forest, hyperparameters include the number of decision trees in the forest and the number of features considered by each tree when splitting a node. "
   ]
  },
  {
   "cell_type": "code",
   "execution_count": null,
   "id": "a4271695-d8b0-4248-a085-4a10688ec9d5",
   "metadata": {},
   "outputs": [],
   "source": [
    "# question 5"
   ]
  },
  {
   "cell_type": "code",
   "execution_count": null,
   "id": "9f5216d5-e2af-4e6a-8a78-6f8a2f8bb802",
   "metadata": {},
   "outputs": [],
   "source": [
    "# A decision tree combines some decisions, whereas a random forest combines several decision trees. Thus, it is a long process, yet slow. Whereas, a decision tree is fast and operates easily on large data sets, especially the linear one. The random forest model needs rigorous training."
   ]
  },
  {
   "cell_type": "code",
   "execution_count": null,
   "id": "66ff23bb-b50f-4c15-a950-46eb5a0fc4ee",
   "metadata": {},
   "outputs": [],
   "source": [
    "# question 6"
   ]
  },
  {
   "cell_type": "code",
   "execution_count": null,
   "id": "c4223ad9-39e0-4982-8a71-d17b322a4c2d",
   "metadata": {},
   "outputs": [],
   "source": [
    "# advantages\n",
    "# A random forest produces good predictions that can be understood easily.\n",
    "# It can handle large datasets efficiently.\n",
    "# The random forest algorithm provides a higher level of accuracy in predicting outcomes over the decision tree algorithm.\n",
    "\n",
    "# disadvantages\n",
    "# a large number of trees can make the algorithm too slow and ineffective for real-time predictions. In general, these algorithms are fast to train, but quite slow to create predictions once they are trained."
   ]
  },
  {
   "cell_type": "code",
   "execution_count": null,
   "id": "3ba7945c-e395-441e-8ccc-b8317c5ee70b",
   "metadata": {},
   "outputs": [],
   "source": [
    "# question 7"
   ]
  },
  {
   "cell_type": "code",
   "execution_count": null,
   "id": "cc7b0c1b-9922-4afe-bf8f-53c67512f65b",
   "metadata": {},
   "outputs": [],
   "source": [
    "# For random forest regression tasks, the mean or average prediction of the individual trees is returned."
   ]
  },
  {
   "cell_type": "code",
   "execution_count": null,
   "id": "c73c31c9-a2fc-444f-a3fb-d9fab12160fa",
   "metadata": {},
   "outputs": [],
   "source": [
    "# question 8"
   ]
  },
  {
   "cell_type": "code",
   "execution_count": null,
   "id": "47849d28-0edb-441e-9242-b03540dacafd",
   "metadata": {},
   "outputs": [],
   "source": [
    "# random forest "
   ]
  },
  {
   "cell_type": "code",
   "execution_count": null,
   "id": "a6efcff5-2c92-4fa5-9be7-1f0fa7e041be",
   "metadata": {},
   "outputs": [],
   "source": []
  }
 ],
 "metadata": {
  "kernelspec": {
   "display_name": "Python 3 (ipykernel)",
   "language": "python",
   "name": "python3"
  },
  "language_info": {
   "codemirror_mode": {
    "name": "ipython",
    "version": 3
   },
   "file_extension": ".py",
   "mimetype": "text/x-python",
   "name": "python",
   "nbconvert_exporter": "python",
   "pygments_lexer": "ipython3",
   "version": "3.10.8"
  }
 },
 "nbformat": 4,
 "nbformat_minor": 5
}
