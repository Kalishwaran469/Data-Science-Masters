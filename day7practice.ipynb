{
 "cells": [
  {
   "cell_type": "markdown",
   "id": "ef5d9e75-2f8b-4dae-bfe2-2653f2b50cae",
   "metadata": {},
   "source": [
    "# lambda functions"
   ]
  },
  {
   "cell_type": "code",
   "execution_count": 1,
   "id": "d89a22f6-368c-4e1d-b856-ad63638fbe10",
   "metadata": {},
   "outputs": [],
   "source": [
    "c=lambda a,b:a+b"
   ]
  },
  {
   "cell_type": "code",
   "execution_count": 2,
   "id": "1f8df79b-f3a9-498e-8dfc-864a64d292d1",
   "metadata": {},
   "outputs": [
    {
     "data": {
      "text/plain": [
       "4"
      ]
     },
     "execution_count": 2,
     "metadata": {},
     "output_type": "execute_result"
    }
   ],
   "source": [
    "c(1,3)"
   ]
  },
  {
   "cell_type": "code",
   "execution_count": 3,
   "id": "5301f41b-e4ce-4ce8-86aa-a20f13c8c931",
   "metadata": {},
   "outputs": [
    {
     "data": {
      "text/plain": [
       "174"
      ]
     },
     "execution_count": 3,
     "metadata": {},
     "output_type": "execute_result"
    }
   ],
   "source": [
    "c(87,87)"
   ]
  },
  {
   "cell_type": "code",
   "execution_count": 4,
   "id": "583dabc6-9679-4f2b-b23d-5bb52fd07789",
   "metadata": {},
   "outputs": [],
   "source": [
    "add=lambda x,y : x+y"
   ]
  },
  {
   "cell_type": "code",
   "execution_count": 5,
   "id": "75549285-5453-4f48-b851-212ffa4e4afb",
   "metadata": {},
   "outputs": [
    {
     "data": {
      "text/plain": [
       "15"
      ]
     },
     "execution_count": 5,
     "metadata": {},
     "output_type": "execute_result"
    }
   ],
   "source": [
    "add(7,8)"
   ]
  },
  {
   "cell_type": "code",
   "execution_count": 6,
   "id": "b1b7f59f-a2c5-44a6-83b8-9db36d1a17b6",
   "metadata": {},
   "outputs": [],
   "source": [
    "c_to_f=lambda c:(9/5)*c+2"
   ]
  },
  {
   "cell_type": "code",
   "execution_count": 7,
   "id": "fa5ac8b5-fc32-41fc-910c-964da1217bba",
   "metadata": {},
   "outputs": [
    {
     "data": {
      "text/plain": [
       "63.2"
      ]
     },
     "execution_count": 7,
     "metadata": {},
     "output_type": "execute_result"
    }
   ],
   "source": [
    "c_to_f(34)"
   ]
  },
  {
   "cell_type": "code",
   "execution_count": 8,
   "id": "f40145a1-864a-47d9-bc6e-986a6274da50",
   "metadata": {},
   "outputs": [],
   "source": [
    "max_two=lambda x,y:x if x>y else y"
   ]
  },
  {
   "cell_type": "code",
   "execution_count": 9,
   "id": "505a9021-8c4b-434d-bc55-a09023327d4f",
   "metadata": {},
   "outputs": [
    {
     "data": {
      "text/plain": [
       "587"
      ]
     },
     "execution_count": 9,
     "metadata": {},
     "output_type": "execute_result"
    }
   ],
   "source": [
    "max_two(587,85)"
   ]
  },
  {
   "cell_type": "code",
   "execution_count": 10,
   "id": "aaed1170-79d1-4540-9697-b1a8af331190",
   "metadata": {},
   "outputs": [],
   "source": [
    "k='jackkallis'"
   ]
  },
  {
   "cell_type": "code",
   "execution_count": 11,
   "id": "e7ff9b61-f22f-4876-9f2b-57782803cb34",
   "metadata": {},
   "outputs": [],
   "source": [
    "j=lambda k : len(k)"
   ]
  },
  {
   "cell_type": "code",
   "execution_count": 12,
   "id": "4ac59691-8a73-45ef-855f-27fbcbea3901",
   "metadata": {},
   "outputs": [
    {
     "data": {
      "text/plain": [
       "10"
      ]
     },
     "execution_count": 12,
     "metadata": {},
     "output_type": "execute_result"
    }
   ],
   "source": [
    "j(k)"
   ]
  },
  {
   "cell_type": "markdown",
   "id": "f3ff2a35-a417-4be7-8539-f60c0c57a4cb",
   "metadata": {},
   "source": [
    "# map,reduce,filter"
   ]
  },
  {
   "cell_type": "code",
   "execution_count": 13,
   "id": "785318af-0497-4fcd-87cb-7794cb38cc7c",
   "metadata": {},
   "outputs": [],
   "source": [
    "def sq(x):\n",
    "    return x**2"
   ]
  },
  {
   "cell_type": "code",
   "execution_count": 14,
   "id": "73a98e24-3787-430a-843c-9a9a3f6a0079",
   "metadata": {},
   "outputs": [],
   "source": [
    "l=[1,2,3,4,5]"
   ]
  },
  {
   "cell_type": "code",
   "execution_count": 16,
   "id": "5a45253c-f1bc-40ed-8e67-eb171ef0b6b8",
   "metadata": {},
   "outputs": [
    {
     "data": {
      "text/plain": [
       "[1, 4, 9, 16, 25]"
      ]
     },
     "execution_count": 16,
     "metadata": {},
     "output_type": "execute_result"
    }
   ],
   "source": [
    "list(map( sq,l))"
   ]
  },
  {
   "cell_type": "code",
   "execution_count": 17,
   "id": "ab7f42b2-a306-43f9-89e2-e8096c756f75",
   "metadata": {},
   "outputs": [
    {
     "data": {
      "text/plain": [
       "[1, 4, 9, 16, 25]"
      ]
     },
     "execution_count": 17,
     "metadata": {},
     "output_type": "execute_result"
    }
   ],
   "source": [
    "list(map(lambda x : x**2,l))"
   ]
  },
  {
   "cell_type": "code",
   "execution_count": 21,
   "id": "81b7703d-6ee8-409c-abd1-5be2325ddf7a",
   "metadata": {},
   "outputs": [
    {
     "data": {
      "text/plain": [
       "['1', '2', '3', '4', '5']"
      ]
     },
     "execution_count": 21,
     "metadata": {},
     "output_type": "execute_result"
    }
   ],
   "source": [
    "list(map(lambda x:str(x),l))"
   ]
  },
  {
   "cell_type": "code",
   "execution_count": 22,
   "id": "faa8ccad-4c26-42dc-b952-8032863e9157",
   "metadata": {},
   "outputs": [],
   "source": [
    "l1=[5,6,7,9]\n",
    "l2=[4,5,8,9]"
   ]
  },
  {
   "cell_type": "code",
   "execution_count": 27,
   "id": "f93ef93e-d358-4a59-bbd5-85b87b7bde71",
   "metadata": {},
   "outputs": [
    {
     "data": {
      "text/plain": [
       "[9, 11, 15, 18]"
      ]
     },
     "execution_count": 27,
     "metadata": {},
     "output_type": "execute_result"
    }
   ],
   "source": [
    "list(map(lambda x,y : x+y,l1,l2))"
   ]
  },
  {
   "cell_type": "code",
   "execution_count": 28,
   "id": "3c82ae9d-0048-43db-b5d9-34410e215a0d",
   "metadata": {},
   "outputs": [],
   "source": [
    "f=lambda x,y : x+y"
   ]
  },
  {
   "cell_type": "code",
   "execution_count": 29,
   "id": "458f62ca-7fca-462f-908a-d828cd7eae16",
   "metadata": {},
   "outputs": [
    {
     "data": {
      "text/plain": [
       "[9, 11, 15, 18]"
      ]
     },
     "execution_count": 29,
     "metadata": {},
     "output_type": "execute_result"
    }
   ],
   "source": [
    "list(map(f,l1,l2))"
   ]
  },
  {
   "cell_type": "code",
   "execution_count": 30,
   "id": "96d90182-de8e-4f16-92b2-88e0b2e0db5a",
   "metadata": {},
   "outputs": [],
   "source": [
    "s='JACK'"
   ]
  },
  {
   "cell_type": "code",
   "execution_count": 33,
   "id": "e4e4634a-cae4-4ab3-b22b-870e3c044cd8",
   "metadata": {},
   "outputs": [
    {
     "data": {
      "text/plain": [
       "['J', 'A', 'C', 'K']"
      ]
     },
     "execution_count": 33,
     "metadata": {},
     "output_type": "execute_result"
    }
   ],
   "source": [
    "list(map(lambda x : x.upper(),s))"
   ]
  },
  {
   "cell_type": "code",
   "execution_count": 34,
   "id": "71d37563-30a7-4bf9-a205-a1cdb6553372",
   "metadata": {},
   "outputs": [],
   "source": [
    "from functools import reduce\n"
   ]
  },
  {
   "cell_type": "code",
   "execution_count": 35,
   "id": "0402f6ba-a719-4627-b788-33327e3f1b3b",
   "metadata": {},
   "outputs": [],
   "source": [
    "l=[6,7,89,9]"
   ]
  },
  {
   "cell_type": "code",
   "execution_count": 38,
   "id": "01de1692-9d87-4842-a74a-070f2bf5f0af",
   "metadata": {},
   "outputs": [
    {
     "data": {
      "text/plain": [
       "111"
      ]
     },
     "execution_count": 38,
     "metadata": {},
     "output_type": "execute_result"
    }
   ],
   "source": [
    "reduce(lambda x,y : x+y,l)"
   ]
  },
  {
   "cell_type": "code",
   "execution_count": 39,
   "id": "0dbcde96-df86-419c-a9ba-106d7db19b18",
   "metadata": {},
   "outputs": [],
   "source": [
    "def add(x,y):\n",
    "    return x+y"
   ]
  },
  {
   "cell_type": "code",
   "execution_count": 41,
   "id": "250e86b3-d70e-4c6a-becd-90ad304d33d4",
   "metadata": {},
   "outputs": [
    {
     "data": {
      "text/plain": [
       "111"
      ]
     },
     "execution_count": 41,
     "metadata": {},
     "output_type": "execute_result"
    }
   ],
   "source": [
    "reduce(add,l)"
   ]
  },
  {
   "cell_type": "code",
   "execution_count": 42,
   "id": "54916d9d-f337-449e-8295-62aa41bd7433",
   "metadata": {},
   "outputs": [
    {
     "ename": "TypeError",
     "evalue": "reduce() of empty iterable with no initial value",
     "output_type": "error",
     "traceback": [
      "\u001b[0;31m---------------------------------------------------------------------------\u001b[0m",
      "\u001b[0;31mTypeError\u001b[0m                                 Traceback (most recent call last)",
      "Cell \u001b[0;32mIn[42], line 1\u001b[0m\n\u001b[0;32m----> 1\u001b[0m \u001b[43mreduce\u001b[49m\u001b[43m(\u001b[49m\u001b[38;5;28;43;01mlambda\u001b[39;49;00m\u001b[43m \u001b[49m\u001b[43mx\u001b[49m\u001b[43m,\u001b[49m\u001b[43my\u001b[49m\u001b[43m \u001b[49m\u001b[43m:\u001b[49m\u001b[43m \u001b[49m\u001b[43mx\u001b[49m\u001b[38;5;241;43m+\u001b[39;49m\u001b[43my\u001b[49m\u001b[43m,\u001b[49m\u001b[43m[\u001b[49m\u001b[43m]\u001b[49m\u001b[43m)\u001b[49m\n",
      "\u001b[0;31mTypeError\u001b[0m: reduce() of empty iterable with no initial value"
     ]
    }
   ],
   "source": [
    "reduce(lambda x,y : x+y,[])"
   ]
  },
  {
   "cell_type": "code",
   "execution_count": 43,
   "id": "f84de9e9-186c-4903-9349-b1d0985491a2",
   "metadata": {},
   "outputs": [
    {
     "data": {
      "text/plain": [
       "2"
      ]
     },
     "execution_count": 43,
     "metadata": {},
     "output_type": "execute_result"
    }
   ],
   "source": [
    "reduce(lambda x,y : x+y,[2])"
   ]
  },
  {
   "cell_type": "code",
   "execution_count": 44,
   "id": "9c8f2b68-8380-4d3c-9dd1-60b1f6029202",
   "metadata": {},
   "outputs": [
    {
     "data": {
      "text/plain": [
       "89"
      ]
     },
     "execution_count": 44,
     "metadata": {},
     "output_type": "execute_result"
    }
   ],
   "source": [
    "reduce(lambda x,y : x if x>y else y,l)"
   ]
  },
  {
   "cell_type": "code",
   "execution_count": 47,
   "id": "dd14cbde-e1f0-4511-b885-8ef16b6ba87b",
   "metadata": {},
   "outputs": [
    {
     "data": {
      "text/plain": [
       "[6]"
      ]
     },
     "execution_count": 47,
     "metadata": {},
     "output_type": "execute_result"
    }
   ],
   "source": [
    "list(filter(lambda x: x%2==0,l))"
   ]
  },
  {
   "cell_type": "code",
   "execution_count": 49,
   "id": "5260f8b9-d023-4102-a93c-8411ad224dd5",
   "metadata": {},
   "outputs": [
    {
     "data": {
      "text/plain": [
       "[7, 89, 9]"
      ]
     },
     "execution_count": 49,
     "metadata": {},
     "output_type": "execute_result"
    }
   ],
   "source": [
    "list(filter(lambda x: x%2!=0,l))"
   ]
  },
  {
   "cell_type": "code",
   "execution_count": 50,
   "id": "24be9ac7-f82a-4971-ae0f-29749e54f396",
   "metadata": {},
   "outputs": [],
   "source": [
    "lst=[-3,-5,6,7]"
   ]
  },
  {
   "cell_type": "code",
   "execution_count": 52,
   "id": "a01c96f0-c70f-47b3-9887-aa9753559e8d",
   "metadata": {},
   "outputs": [
    {
     "data": {
      "text/plain": [
       "[-3, -5]"
      ]
     },
     "execution_count": 52,
     "metadata": {},
     "output_type": "execute_result"
    }
   ],
   "source": [
    "list(filter(lambda x: x<0,lst))"
   ]
  },
  {
   "cell_type": "code",
   "execution_count": 53,
   "id": "d6d138fb-bbea-4e9a-bb1b-2509389e2f2a",
   "metadata": {},
   "outputs": [
    {
     "data": {
      "text/plain": [
       "[6, 7]"
      ]
     },
     "execution_count": 53,
     "metadata": {},
     "output_type": "execute_result"
    }
   ],
   "source": [
    "list(filter(lambda x : x>0,lst))"
   ]
  },
  {
   "cell_type": "code",
   "execution_count": 54,
   "id": "ba6f9b9e-df89-4d0a-a4c3-d274af21a728",
   "metadata": {},
   "outputs": [],
   "source": [
    "l3=['msd','dhoni','csk','mahi','thala']"
   ]
  },
  {
   "cell_type": "code",
   "execution_count": null,
   "id": "dd5f960c-cd85-4ebc-9df4-c2679aa38422",
   "metadata": {},
   "outputs": [],
   "source": [
    "list(filter(lambda x"
   ]
  }
 ],
 "metadata": {
  "kernelspec": {
   "display_name": "Python 3 (ipykernel)",
   "language": "python",
   "name": "python3"
  },
  "language_info": {
   "codemirror_mode": {
    "name": "ipython",
    "version": 3
   },
   "file_extension": ".py",
   "mimetype": "text/x-python",
   "name": "python",
   "nbconvert_exporter": "python",
   "pygments_lexer": "ipython3",
   "version": "3.10.8"
  }
 },
 "nbformat": 4,
 "nbformat_minor": 5
}
