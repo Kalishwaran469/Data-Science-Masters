{
 "cells": [
  {
   "cell_type": "code",
   "execution_count": null,
   "id": "79186bef-ad29-4627-adf1-499885b7de17",
   "metadata": {},
   "outputs": [],
   "source": [
    "# question 1"
   ]
  },
  {
   "cell_type": "code",
   "execution_count": null,
   "id": "a9d2a948-8ec6-403f-b852-cbe17e378de9",
   "metadata": {},
   "outputs": [],
   "source": [
    "# Pre-requisites nd resources\n",
    "# Data Collection and Problem Statement\n",
    "# Exploratory Data Analysis with Pandas and NumPy\n",
    "# Data Preparation using Sklearn\n",
    "# Selecting and Training a few Machine Learning Models\n",
    "#Cross-Validation and Hyperparameter Tuning using Sklearn\n",
    "# Deploying the Final Trained Model on Heroku via a Flask App"
   ]
  },
  {
   "cell_type": "code",
   "execution_count": null,
   "id": "6722394c-af26-4d0d-baa2-551f3888ca3a",
   "metadata": {},
   "outputs": [],
   "source": [
    "# question 2"
   ]
  },
  {
   "cell_type": "code",
   "execution_count": null,
   "id": "fca34d74-fd0f-44e8-b928-042fdbfe7269",
   "metadata": {},
   "outputs": [],
   "source": [
    "# Web hosting allows individuals and businesses to make their websites accessible worldwide through the Internet (WWW). A business or individual must have their own computer or server for web hosting, however, under Cloud Hosting, websites are hosted on multiple interconnected web servers."
   ]
  },
  {
   "cell_type": "code",
   "execution_count": null,
   "id": "02167f69-8473-4aae-8837-27b3955ed0ff",
   "metadata": {},
   "outputs": [],
   "source": [
    "# question 3"
   ]
  },
  {
   "cell_type": "code",
   "execution_count": null,
   "id": "8507aae4-a826-47c7-bafd-afe1c4970fd2",
   "metadata": {},
   "outputs": [],
   "source": [
    "# Certifications & Standards\n",
    "# Technologies & Service Roadmap\n",
    "# Data Security, Data Governance and Business policies\n",
    "# Service Dependencies & Partnerships\n",
    "# Contracts, Commercials & SLAs\n",
    "# Reliability & Performance\n",
    "# Migration Support, Vendor Lock in & Exit Planning\n",
    "# Business health & Company profile"
   ]
  },
  {
   "cell_type": "code",
   "execution_count": null,
   "id": "3d0c6e34-92c6-492a-8f9c-0cccd97f8823",
   "metadata": {},
   "outputs": [],
   "source": [
    "# question 4"
   ]
  },
  {
   "cell_type": "code",
   "execution_count": null,
   "id": "3c238fa0-de23-453b-af6e-de39f8fbb8d4",
   "metadata": {},
   "outputs": [],
   "source": [
    "# Set Appropriate Responsive Breakpoints.\n",
    "# Start with a Fluid Grid.\n",
    "# Take touchscreens into consideration.\n",
    "# Define Typography.\n",
    "# Use a pre-designed theme or layout to save time.\n",
    "# Test Responsiveness on Real Devices"
   ]
  },
  {
   "cell_type": "code",
   "execution_count": null,
   "id": "6ebafa66-3600-41d6-8d57-1f6176b78cbe",
   "metadata": {},
   "outputs": [],
   "source": [
    "# question 5"
   ]
  },
  {
   "cell_type": "code",
   "execution_count": null,
   "id": "36cf9562-7c7e-4e7a-aa8a-83d7a4ce8ae2",
   "metadata": {},
   "outputs": [],
   "source": []
  },
  {
   "cell_type": "code",
   "execution_count": null,
   "id": "cc4c72af-da68-45aa-b4e2-09f95ff93bed",
   "metadata": {},
   "outputs": [],
   "source": []
  }
 ],
 "metadata": {
  "kernelspec": {
   "display_name": "Python 3 (ipykernel)",
   "language": "python",
   "name": "python3"
  },
  "language_info": {
   "codemirror_mode": {
    "name": "ipython",
    "version": 3
   },
   "file_extension": ".py",
   "mimetype": "text/x-python",
   "name": "python",
   "nbconvert_exporter": "python",
   "pygments_lexer": "ipython3",
   "version": "3.10.8"
  }
 },
 "nbformat": 4,
 "nbformat_minor": 5
}
